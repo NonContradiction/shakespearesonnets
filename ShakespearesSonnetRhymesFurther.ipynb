{
 "cells": [
  {
   "cell_type": "markdown",
   "metadata": {},
   "source": [
    "# Chapter 0\n",
    "Imports and preliminary work"
   ]
  },
  {
   "cell_type": "code",
   "execution_count": 1,
   "metadata": {},
   "outputs": [],
   "source": [
    "# for the urls for our text importing\n",
    "from bs4 import BeautifulSoup\n",
    "import urllib.request\n",
    "\n",
    "# we'll need this for the median function: \n",
    "import statistics\n",
    "\n",
    "# and for graphing: \n",
    "import seaborn as sns\n",
    "import matplotlib.pyplot as plt\n",
    "from matplotlib.pyplot import figure\n",
    "import numpy as np\n",
    "\n",
    "# for looking at amiss words: \n",
    "from collections import Counter "
   ]
  },
  {
   "cell_type": "code",
   "execution_count": 2,
   "metadata": {},
   "outputs": [
    {
     "name": "stderr",
     "output_type": "stream",
     "text": [
      "[nltk_data] Downloading package cmudict to\n",
      "[nltk_data]     C:\\Users\\NoahDiekemper\\AppData\\Roaming\\nltk_data...\n",
      "[nltk_data]   Package cmudict is already up-to-date!\n"
     ]
    }
   ],
   "source": [
    "# here's some nlp imports and prelim work: \n",
    "\n",
    "# for the nlp, of course\n",
    "import nltk\n",
    "nltk.download('cmudict')\n",
    "import re\n",
    "\n",
    "from nltk.tokenize import word_tokenize \n",
    "from string import punctuation\n",
    "\n",
    "# of course we'll make heavy use of this: \n",
    "mypunc = list(punctuation)\n",
    "# and a unique constraint for this dataset: \n",
    "mypunc.append('--')\n",
    "\n",
    "#print(mypunc)"
   ]
  },
  {
   "cell_type": "code",
   "execution_count": 3,
   "metadata": {},
   "outputs": [],
   "source": [
    "# some cred to this fellow for the initial get-go:\n",
    "# https://stackoverflow.com/questions/25714531/find-rhyme-using-nltk-in-python\n",
    "\n",
    "# preparatory: \n",
    "thedict = nltk.corpus.cmudict.dict()"
   ]
  },
  {
   "cell_type": "code",
   "execution_count": 4,
   "metadata": {},
   "outputs": [],
   "source": [
    "# what counts as a rhyme depends on vowels\n",
    "# we use this reference for cues: \n",
    "# https://www.nltk.org/_modules/nltk/corpus/reader/cmudict.html\n",
    "# and otherwise hardcode this manually: \n",
    "\n",
    "myvowels = ['AA', 'AH', 'AW', 'AE', 'AO', 'AY', \n",
    "         'EH', 'EY', 'ER', # the ER is perhaps controversial \n",
    "          # but I am convinced that the words here encoded with it as a final phoneme\n",
    "          # all rhyme\n",
    "          # e.g. occur and sir\n",
    "         'IH', 'IY', 'OW', 'OY', 'UH', 'UW']"
   ]
  },
  {
   "cell_type": "code",
   "execution_count": 5,
   "metadata": {},
   "outputs": [],
   "source": [
    "# here we define our rhyme-testing function: \n",
    "\n",
    "def test_rhyme(word_a = 'move', word_b = 'love'):\n",
    "    # let's return a playfully named bool \n",
    "    orange = 0\n",
    "\n",
    "    # and this dictionary is case-sensitive so . . .\n",
    "    word_a = word_a.lower()\n",
    "    word_b = word_b.lower()\n",
    "    \n",
    "    # we try the first word\n",
    "    try:\n",
    "        syll_a = thedict[word_a]\n",
    "    except KeyError:\n",
    "        fix_a = 'thedict[\\'%s\\'] = thedict[\\'%s\\']' % (word_a, word_a)\n",
    "        print(fix_a)\n",
    "        return word_a\n",
    "    # we try the second word\n",
    "    try:\n",
    "        syll_b = thedict[word_b]\n",
    "    except KeyError:\n",
    "        fix_b = 'thedict[\\'%s\\'] = thedict[\\'%s\\']' % (word_b, word_b)\n",
    "        print(fix_b)\n",
    "        return word_b\n",
    "    \n",
    "    # do they rhyme?\n",
    "    for pron_a in syll_a:\n",
    "        # english needs the final vowel sounds to match\n",
    "        # for a word to rhyme\n",
    "        # hence: \n",
    "        vowel = 0\n",
    "        jk = 1\n",
    "        # we search from the end of the word backwards\n",
    "        # looking for the final vowel sound\n",
    "        while (vowel == 0):\n",
    "            if \" \".join(re.findall(\"[a-zA-Z]+\", pron_a[-jk])) in myvowels:\n",
    "                vowel = 1\n",
    "            else:\n",
    "                jk += 1\n",
    "\n",
    "        # and now we carry on\n",
    "        # looking for any homophonic ending that a and b share: \n",
    "        for pron_b in syll_b:\n",
    "            presumptive = 1\n",
    "            # and here we test each phoneme separately \n",
    "            # and set our sub-bool to false and break it if any one fails: \n",
    "            for i in range(jk):\n",
    "                myindex = i + 1\n",
    "                if (\" \".join(re.findall(\"[a-zA-Z]+\", pron_a[-myindex]))  != \" \".join(re.findall(\"[a-zA-Z]+\", pron_b[-myindex])) ):\n",
    "                    presumptive = 0\n",
    "                    break\n",
    "            if presumptive == 1:\n",
    "                orange = 1\n",
    "                break\n",
    "            \n",
    "    # and we return our bool\n",
    "    return orange"
   ]
  },
  {
   "cell_type": "code",
   "execution_count": 6,
   "metadata": {},
   "outputs": [
    {
     "name": "stdout",
     "output_type": "stream",
     "text": [
      "0\n",
      "0\n",
      "0\n",
      "1\n",
      "1\n",
      "1\n",
      "0\n",
      "1\n",
      "1\n"
     ]
    }
   ],
   "source": [
    "# test cases: expecting results 000 111 0 11\n",
    "\n",
    "# don't rhyme these days: \n",
    "print(test_rhyme('love', 'move'))\n",
    "print(test_rhyme('loved', 'moved'))\n",
    "print(test_rhyme('loved', 'proved'))\n",
    "\n",
    "# can still rhyme with the animal\n",
    "print(test_rhyme('love', 'dove'))\n",
    "\n",
    "# rhyme bc of their last sound only\n",
    "print(test_rhyme('how', 'now'))\n",
    "print(test_rhyme('now', 'cow'))\n",
    "\n",
    "# don't\n",
    "print(test_rhyme('brown', 'cow'))\n",
    "\n",
    "# but do\n",
    "print(test_rhyme('brown', 'crown'))\n",
    "print(test_rhyme('free', 'legacy'))"
   ]
  },
  {
   "cell_type": "markdown",
   "metadata": {},
   "source": [
    "# Chapter 1: Anomalies\n",
    "In which we investigate how often sonnets' rhymes have broken due to changes in the English language, and what the distribution of intact/damaged sonnets is."
   ]
  },
  {
   "cell_type": "code",
   "execution_count": 7,
   "metadata": {},
   "outputs": [],
   "source": [
    "# we use a dict to tell our code\n",
    "# which lines of a sonnet are meant to rhyme with which\n",
    "sonnet_dict={}\n",
    "sonnet_dict[0] = 2\n",
    "sonnet_dict[1] = 3\n",
    "sonnet_dict[4] = 6\n",
    "sonnet_dict[5] = 7\n",
    "sonnet_dict[8] = 10\n",
    "sonnet_dict[9] = 11\n",
    "sonnet_dict[12] = 13"
   ]
  },
  {
   "cell_type": "code",
   "execution_count": 8,
   "metadata": {},
   "outputs": [],
   "source": [
    "# \"sonnet\" 126 is just a bunch (6) of rhyming couplets\n",
    "# so we account for that here\n",
    "dozen_dict = {}\n",
    "dozen_dict[0] = 1\n",
    "dozen_dict[2] = 3\n",
    "dozen_dict[4] = 5\n",
    "dozen_dict[6] = 7\n",
    "dozen_dict[8] = 9\n",
    "dozen_dict[10] = 11"
   ]
  },
  {
   "cell_type": "code",
   "execution_count": 9,
   "metadata": {},
   "outputs": [],
   "source": [
    "# sonnet 99 is irregular\n",
    "# so we take that into account here\n",
    "nena_dict = {}\n",
    "nena_dict[0] = 2\n",
    "nena_dict[1] = 3\n",
    "nena_dict[2] = 4\n",
    "nena_dict[5] = 7\n",
    "nena_dict[6] = 8\n",
    "nena_dict[9] = 11\n",
    "nena_dict[10] = 12\n",
    "nena_dict[13] = 14"
   ]
  },
  {
   "cell_type": "code",
   "execution_count": 10,
   "metadata": {},
   "outputs": [],
   "source": [
    "# here are the relics of obsolete entries \n",
    "# that weren't in NLTK's dictionary at all\n",
    "# that I pseudo-manually updated\n",
    "# with words that rhyme with them\n",
    "\n",
    "# broken into multiple cells merely for readability\n",
    "\n",
    "thedict['niggarding'] =      thedict['building']\n",
    "thedict['renewest'] =        thedict['newest']\n",
    "thedict['self-killed'] =     thedict['killed']\n",
    "thedict['unprovident'] =     thedict['provident']\n",
    "thedict['ruinate'] =         thedict['ate']\n",
    "thedict['bestowest'] =       thedict['west']"
   ]
  },
  {
   "cell_type": "code",
   "execution_count": 11,
   "metadata": {},
   "outputs": [],
   "source": [
    "thedict['convertest'] =      thedict['test']\n",
    "thedict['untrimmd'] =        thedict['trimmed']\n",
    "thedict['growest'] =         thedict['west']\n",
    "thedict['amazeth'] =         thedict['death']\n",
    "thedict['a-doting'] =        thedict['doting']\n",
    "thedict['stelled'] =         thedict['felled']\n",
    "thedict['toild'] =           thedict['toiled']\n",
    "thedict['embassage'] =       thedict['ridge']\n",
    "thedict['oer'] =             thedict['oar']\n",
    "thedict['re-survey'] =       thedict['survey']\n",
    "thedict['equipage'] =        thedict['page']\n",
    "thedict['staineth'] =        thedict['death']\n",
    "thedict['invocate'] =        thedict['mate']\n",
    "thedict['deceivest'] =       thedict['vest']\n",
    "thedict['refusest'] =        thedict['zest']\n",
    "thedict['forbear'] =         thedict['bear']"
   ]
  },
  {
   "cell_type": "code",
   "execution_count": 12,
   "metadata": {},
   "outputs": [],
   "source": [
    "thedict['unrespected'] =     thedict['respected']\n",
    "thedict['recured'] =         thedict['recurred']\n",
    "thedict['impanneled'] =      thedict['paneled']\n",
    "thedict['uprear'] =          thedict['rear']\n",
    "thedict['offence'] =         thedict['offense']\n",
    "thedict['wilful-slow'] =     thedict['slow']\n",
    "thedict['carcanet'] =        thedict['net']\n",
    "thedict['allayd'] =          thedict['allayed']\n",
    "thedict['nought'] =          thedict['ought']\n",
    "thedict['cheque'] =          thedict['check']\n",
    "thedict['crownd'] =          thedict['crowned']\n",
    "thedict['oer-worn'] =        thedict['worn']\n",
    "thedict['down-razed'] =      thedict['razed']\n",
    "thedict['alack'] =           thedict['lack']\n",
    "thedict['jollity'] =         thedict['quality']"
   ]
  },
  {
   "cell_type": "code",
   "execution_count": 13,
   "metadata": {},
   "outputs": [],
   "source": [
    "thedict['strumpeted'] =      thedict['trumpeted']\n",
    "thedict['impiety'] =         thedict['piety']\n",
    "thedict['outworn'] =         thedict['worn']\n",
    "thedict['crownd'] =          thedict['crowned']\n",
    "thedict['anon'] =            thedict['on']\n",
    "thedict['decayd'] =          thedict['decayed']\n",
    "thedict['oer-read'] =        thedict['read']\n",
    "thedict['oerlook'] =         thedict['look']\n",
    "thedict['inhearse'] =        thedict['rehearse']\n",
    "thedict['swerving'] =        thedict['serving']\n",
    "thedict['attainted'] =       thedict['tainted']"
   ]
  },
  {
   "cell_type": "code",
   "execution_count": 14,
   "metadata": {},
   "outputs": [],
   "source": [
    "thedict['offence'] =         thedict['offense']\n",
    "thedict['after-loss'] =      thedict['loss']\n",
    "thedict['wantonness'] =      thedict['dress']\n",
    "thedict['deemd'] =           thedict['deemed']\n",
    "thedict['intermixd'] =       thedict['intermixed']\n",
    "thedict['esteeming'] =       thedict['teaming']\n",
    "thedict['burnd'] =           thedict['burned']\n",
    "thedict['dial-hand'] =       thedict['hand']\n",
    "thedict['unbred'] =          thedict['bred']\n",
    "thedict['wights'] =          thedict['nights']\n",
    "thedict['prefiguring'] =     thedict['figuring']\n",
    "thedict['staind'] =          thedict['stained']\n",
    "thedict['renewd'] =          thedict['renewed']\n",
    "thedict['greeing'] =         thedict['agreeing']"
   ]
  },
  {
   "cell_type": "code",
   "execution_count": 15,
   "metadata": {},
   "outputs": [],
   "source": [
    "thedict['incertainty'] =     thedict['certainty']\n",
    "thedict['meetness'] =        thedict['happiness']\n",
    "thedict['tenderd'] =         thedict['tendered']\n",
    "thedict['deemd'] =           thedict['deemed']\n",
    "thedict['gatherd'] =         thedict['gathered']\n",
    "thedict['honouring'] =       thedict['honoring']\n",
    "thedict['savour'] =          thedict['savor']\n",
    "thedict['growst'] =          thedict['most']\n",
    "thedict['swayst'] =          thedict['waist']\n",
    "thedict['gaol'] =            thedict['jail']\n",
    "thedict['overplus'] =        thedict['plus']\n",
    "thedict['fulfil'] =          thedict['fulfill']\n",
    "thedict['reproving'] =       thedict['proving']\n",
    "thedict['aright'] =          thedict['right']\n",
    "thedict['new-fired'] =       thedict['fired']"
   ]
  },
  {
   "cell_type": "code",
   "execution_count": 16,
   "metadata": {},
   "outputs": [],
   "source": [
    "thedict['viewest'] = thedict['west']\n",
    "thedict['departest'] = thedict['test']\n",
    "thedict['dimmd'] = thedict['dimmed']\n",
    "thedict['owest'] = thedict['west']\n",
    "thedict['gazeth'] = thedict['death']\n",
    "thedict['foild'] = thedict['foiled']\n",
    "thedict['vassalage'] = thedict['ledge']\n",
    "thedict['disdaineth'] = thedict['death']\n",
    "thedict['receivest'] = thedict['vest']\n",
    "thedict['usest'] = thedict['zest']"
   ]
  },
  {
   "cell_type": "code",
   "execution_count": 17,
   "metadata": {},
   "outputs": [],
   "source": [
    "thedict['esteemd'] = thedict['esteemed']\n",
    "thedict['fixd'] = thedict['fixed']\n",
    "thedict['turnd'] = thedict['turned']\n",
    "thedict['reignd'] = thedict['reigned']\n",
    "thedict['rememberd'] = thedict['remembered']\n",
    "thedict['esteemd'] = thedict['esteemed']\n",
    "thedict['unfatherd'] = thedict['bothered']\n",
    "thedict['favour'] = thedict['favor']\n",
    "thedict['showst'] = thedict['most']\n",
    "thedict['playst'] = thedict['waist']"
   ]
  },
  {
   "cell_type": "markdown",
   "metadata": {},
   "source": [
    "### Webscraping"
   ]
  },
  {
   "cell_type": "code",
   "execution_count": 18,
   "metadata": {},
   "outputs": [],
   "source": [
    "# and here's the hard-coded part\n",
    "# where we gather our sonnets\n",
    "\n",
    "# first we collect all the links from a web reference page: \n",
    "\n",
    "sonnetlinks=[]\n",
    "html_page = urllib.request.urlopen(\"http://shakespeare.mit.edu/Poetry/sonnets.html\")\n",
    "soup = BeautifulSoup(html_page, \"html.parser\")\n",
    "for link in soup.findAll('a'):\n",
    "    # and some particular scrubbing: \n",
    "    if 'amazon' not in link.get('href'):\n",
    "        sonnetlinks.append('http://shakespeare.mit.edu/Poetry/' + link.get('href'))"
   ]
  },
  {
   "cell_type": "code",
   "execution_count": 19,
   "metadata": {},
   "outputs": [],
   "source": [
    "# and here we actually grab the text of them: \n",
    "\n",
    "def get_sonnet_text(mylink):\n",
    "    html_page = urllib.request.urlopen(mylink)\n",
    "    soup = BeautifulSoup(html_page, \"html.parser\")\n",
    "    foundit = soup.text\n",
    "    #print(foundit)\n",
    "    return foundit\n",
    "\n",
    "sonnettexts = []\n",
    "for x in sonnetlinks:\n",
    "    sonnettexts.append(get_sonnet_text(x))"
   ]
  },
  {
   "cell_type": "code",
   "execution_count": 20,
   "metadata": {},
   "outputs": [],
   "source": [
    "# we strike the empty lines \n",
    "# and also the 'Sonnet x' title headings\n",
    "sonnets = []\n",
    "for each_sonnet in sonnettexts:\n",
    "    working_sonnet = each_sonnet.split('\\n')\n",
    "    ourlines = [x for x in working_sonnet if x != '']\n",
    "    ourlines = [x for x in ourlines if 'sonnet' not in x.lower()]\n",
    "    sonnets.append(ourlines)"
   ]
  },
  {
   "cell_type": "code",
   "execution_count": 21,
   "metadata": {},
   "outputs": [],
   "source": [
    "# and here's the part where we turn our sonnets\n",
    "# into lists of lines of separate words\n",
    "sonnets_tokenized=[]\n",
    "for sonnet in sonnets:\n",
    "    sonnet_tokens = []\n",
    "    for line in sonnet: \n",
    "        thisline = line.replace(\"'\", \"\")\n",
    "        tokens = [x for x in word_tokenize(thisline) if x not in mypunc]\n",
    "        # this is only a band-aid\n",
    "            # fixed more minutely above, \n",
    "            # with the new dictionary entries\n",
    "        # but it addresses the most common issue with axing all single quotes in this text\n",
    "        tokens = [x.replace(\"lld\", \"lled\") for x in tokens]\n",
    "        tokens = [x.replace(\"rrd\", \"rred\") for x in tokens]\n",
    "        tokens = [x.replace(\"ssd\", \"ssed\") for x in tokens]\n",
    "        tokens = [x.replace(\"rmd\", \"rmed\") for x in tokens]\n",
    "        #print(tokens)\n",
    "        sonnet_tokens.append(tokens)\n",
    "    sonnets_tokenized.append(sonnet_tokens)"
   ]
  },
  {
   "cell_type": "code",
   "execution_count": 22,
   "metadata": {},
   "outputs": [],
   "source": [
    "# and we look for the pairs of lines\n",
    "# that don't rhyme\n",
    "\n",
    "anomalies=[]\n",
    "sonnet_tallies = []\n",
    "for i, sonnet in enumerate(sonnets_tokenized):\n",
    "    \n",
    "    sonnet_rhymes=[]\n",
    "\n",
    "    # so we have 3 different cases \n",
    "    # literally bc of the 2 irregular poems here\n",
    "    \n",
    "    if len(sonnet) == 14:\n",
    "        for index in list(sonnet_dict.keys()):\n",
    "            word_a = sonnet[sonnet_dict[index]][-1]\n",
    "            word_b = sonnet[index][-1]\n",
    "            dothey = test_rhyme(word_a, word_b)\n",
    "            # we note whether a pair rhymes or not\n",
    "            sonnet_rhymes.append(dothey)\n",
    "            if dothey == 0:\n",
    "                # and if not, append the info to the anomalies\n",
    "                anomalies.append([i, index, sonnet_dict[index], word_a, word_b])\n",
    "        sonnet_tallies.append(sonnet_rhymes)\n",
    "    elif len(sonnet) == 12:\n",
    "        for index in list(dozen_dict.keys()):\n",
    "            word_a = sonnet[dozen_dict[index]][-1]\n",
    "            word_b = sonnet[index][-1]\n",
    "            dothey = test_rhyme(word_a, word_b)\n",
    "            sonnet_rhymes.append(dothey)\n",
    "            if dothey == 0:\n",
    "                anomalies.append([i, index, dozen_dict[index], word_a, word_b])\n",
    "        sonnet_tallies.append(sonnet_rhymes)\n",
    "    elif len(sonnet) == 15:\n",
    "        for index in list(nena_dict.keys()):\n",
    "            word_a = sonnet[nena_dict[index]][-1]\n",
    "            word_b = sonnet[index][-1]\n",
    "            dothey = test_rhyme(word_a, word_b)\n",
    "            sonnet_rhymes.append(dothey)\n",
    "            if dothey == 0:\n",
    "                anomalies.append([i, index, nena_dict[index], word_a, word_b])\n",
    "        sonnet_tallies.append(sonnet_rhymes)\n",
    "    else:\n",
    "        print(\"Huh!!\", i, sonnet)\n",
    "#print(anomalies)\n",
    "#print(sonnet_tallies)"
   ]
  },
  {
   "cell_type": "code",
   "execution_count": 23,
   "metadata": {},
   "outputs": [],
   "source": [
    "# so we tally up the rhymes that still work . . .\n",
    "\n",
    "accuracies = [sum(x)/len(x) for x in sonnet_tallies]\n",
    "#print(accuracies)"
   ]
  },
  {
   "cell_type": "code",
   "execution_count": 25,
   "metadata": {},
   "outputs": [
    {
     "data": {
      "image/png": "[encoded data removed]",
      "text/plain": [
       "<Figure size 432x288 with 1 Axes>"
      ]
     },
     "metadata": {
      "needs_background": "light"
     },
     "output_type": "display_data"
    }
   ],
   "source": [
    "# and we graph them\n",
    "\n",
    "ax = sns.histplot(accuracies)\n",
    "ax.set_xlim(0.05, 1.05)\n",
    "ax.set_title(\"Histogram of Sonnets by Percent of Rhymes that Still Work \\n\",\n",
    "            fontsize=18)\n",
    "\n",
    "ax.set_xlabel(\"Percent of Rhymes that Still Work\")\n",
    "ax.set_ylabel(\"Number of Sonnets with that % of Rhymes\")\n",
    "myxlabels=[str(round(x*100, 1))+'%' for x in list(set(accuracies))]\n",
    "plt.xticks(ticks=list(set(accuracies)), labels=myxlabels, rotation=45)\n",
    "plt.show()"
   ]
  },
  {
   "cell_type": "code",
   "execution_count": 26,
   "metadata": {},
   "outputs": [
    {
     "name": "stdout",
     "output_type": "stream",
     "text": [
      "[('love', 12), ('alone', 9), ('prove', 9), ('gone', 6), ('are', 6), ('one', 5), ('eye', 5), ('tongue', 5), ('come', 4), ('wrong', 4), ('moan', 4), ('spent', 4), ('argument', 4), ('memory', 3), ('bear', 3), ('tomb', 3), ('blood', 3), ('dead', 3), ('forth', 3), ('worth', 3), ('care', 3), ('is', 3), ('near', 3), ('where', 3), ('doom', 3), ('die', 2), ('was', 2), ('majesty', 2), ('age', 2), ('were', 2), ('counterfeit', 2), ('song', 2), ('buried', 2), ('night', 2), ('even', 2), ('heaven', 2), ('past', 2), ('invent', 2), ('desert', 2), ('amiss', 2), ('remedy', 2), ('approve', 2), ('appear', 2), ('dumb', 2), ('affords', 2), ('words', 2), ('good', 2), ('there', 2), ('fiend', 2)]\n",
      "Wall time: 998 µs\n"
     ]
    }
   ],
   "source": [
    "%%time\n",
    "\n",
    "# and which words in particular are giving us so much trouble?\n",
    "\n",
    "justthewordsmaam = [x[-2:] for x in anomalies]\n",
    "#print(justthewordsmaam)\n",
    "\n",
    "words = [item for sublist in justthewordsmaam for item in sublist]\n",
    "#print(words)\n",
    "\n",
    "d = Counter(words)\n",
    "#print(d)\n",
    "\n",
    "sordidwords = sorted(d.items(), key=lambda pair: pair[1], reverse=True)\n",
    "commonsordid = [x for x in sordidwords if x[1] > 1]\n",
    "print(commonsordid)"
   ]
  },
  {
   "cell_type": "code",
   "execution_count": 27,
   "metadata": {},
   "outputs": [
    {
     "name": "stdout",
     "output_type": "stream",
     "text": [
      "This many are still intact:  46\n",
      "Their indices are:  [9, 11, 20, 21, 22, 24, 40, 41, 43, 51, 57, 58, 65, 68, 69, 73, 77, 82, 87, 88, 92, 96, 98, 99, 104, 108, 111, 113, 114, 118, 119, 120, 122, 125, 126, 127, 128, 129, 130, 131, 134, 135, 141, 143, 148, 150]\n"
     ]
    }
   ],
   "source": [
    "# and here we ask for the normal sonnet indices \n",
    "# of the ones which are still intact\n",
    "good_indices = [i+1 for i, x in enumerate(sonnet_tallies) if 0 not in x]\n",
    "print(\"This many are still intact: \", len(good_indices))\n",
    "print(\"Their indices are: \", good_indices)\n",
    "# oh look, number 130."
   ]
  },
  {
   "cell_type": "markdown",
   "metadata": {},
   "source": [
    "# Chapter II: The Rhymes"
   ]
  },
  {
   "cell_type": "code",
   "execution_count": 28,
   "metadata": {},
   "outputs": [],
   "source": [
    "# here we define a rhyme-sound-returning function: \n",
    "# it's possible we won't actually need this\n",
    "# unless we want to streamline code for a different corollary\n",
    "\n",
    "def rhyme_sound(word_a = 'move'):\n",
    "\n",
    "    # and this dictionary is case-sensitive so . . .\n",
    "    word_a = word_a.lower()\n",
    "    \n",
    "    # we try the first word\n",
    "    try:\n",
    "        syll_a = thedict[word_a]\n",
    "    except KeyError:\n",
    "        fix_a = 'thedict[\\'%s\\'] = thedict[\\'%s\\']' % (word_a, word_a)\n",
    "        print(fix_a)\n",
    "        return word_a\n",
    "    \n",
    "    # and what sound is it?\n",
    "    for pron_a in syll_a:\n",
    "        # english needs the final vowel sounds to match\n",
    "        # for a word to rhyme\n",
    "        # hence: \n",
    "        vowel = 0\n",
    "        jk = 1\n",
    "        # we search from the end of the word backwards\n",
    "        # looking for the final vowel sound\n",
    "        finalsound = \"\"\n",
    "        \n",
    "        while (vowel == 0):\n",
    "            finalsound = \" \".join(re.findall(\"[a-zA-Z]+\", pron_a[-jk])) + finalsound\n",
    "            if \" \".join(re.findall(\"[a-zA-Z]+\", pron_a[-jk])) in myvowels:\n",
    "                vowel = 1\n",
    "            else:\n",
    "                jk += 1\n",
    "                \n",
    "        \n",
    "        return finalsound"
   ]
  },
  {
   "cell_type": "code",
   "execution_count": 29,
   "metadata": {},
   "outputs": [
    {
     "name": "stdout",
     "output_type": "stream",
     "text": [
      "UWV\n",
      "AHV\n",
      "AHV\n",
      "AHV\n",
      "UWDH\n",
      "UWV\n",
      "EHD\n",
      "EHD\n",
      "EHD\n",
      "IYD\n",
      "EHD\n",
      "IYD\n"
     ]
    }
   ],
   "source": [
    "print(rhyme_sound('move'))\n",
    "print(rhyme_sound('love'))\n",
    "print(rhyme_sound('dove'))\n",
    "print(rhyme_sound('of'))\n",
    "print(rhyme_sound('smooth'))\n",
    "print(rhyme_sound('behoove'))\n",
    "print(rhyme_sound('read'))\n",
    "print(rhyme_sound('lead'))\n",
    "print(rhyme_sound('led'))\n",
    "print(rhyme_sound('mead'))\n",
    "print(rhyme_sound('said'))\n",
    "print(rhyme_sound('seed'))"
   ]
  },
  {
   "cell_type": "code",
   "execution_count": 30,
   "metadata": {},
   "outputs": [],
   "source": [
    "# here we define our rhyme-testing function: \n",
    "\n",
    "def test_rhyme_sound(word_a = 'move', word_b = 'love'):\n",
    "    # let's return a playfully named bool \n",
    "    orange = 0\n",
    "\n",
    "    # and this dictionary is case-sensitive so . . .\n",
    "    word_a = word_a.lower()\n",
    "    word_b = word_b.lower()\n",
    "    \n",
    "    # we try the first word\n",
    "    try:\n",
    "        syll_a = thedict[word_a]\n",
    "    except KeyError:\n",
    "        fix_a = 'thedict[\\'%s\\'] = thedict[\\'%s\\']' % (word_a, word_a)\n",
    "        print(fix_a)\n",
    "        return word_a\n",
    "    # we try the second word\n",
    "    try:\n",
    "        syll_b = thedict[word_b]\n",
    "    except KeyError:\n",
    "        fix_b = 'thedict[\\'%s\\'] = thedict[\\'%s\\']' % (word_b, word_b)\n",
    "        print(fix_b)\n",
    "        return word_b\n",
    "    \n",
    "    # do they rhyme?\n",
    "    for pron_a in syll_a:\n",
    "        # english needs the final vowel sounds to match\n",
    "        # for a word to rhyme\n",
    "        # hence: \n",
    "        vowel = 0\n",
    "        jk = 1\n",
    "        # we search from the end of the word backwards\n",
    "        # looking for the final vowel sound\n",
    "        while (vowel == 0):\n",
    "            if \" \".join(re.findall(\"[a-zA-Z]+\", pron_a[-jk])) in myvowels:\n",
    "                vowel = 1\n",
    "            else:\n",
    "                jk += 1\n",
    "        # and now we carry on\n",
    "        # looking for any homophonic ending that a and b share: \n",
    "        for pron_b in syll_b:\n",
    "            presumptive = 1\n",
    "            # and here we test each phoneme separately \n",
    "            # and set our sub-bool to false and break it if any one fails: \n",
    "            for i in range(jk):\n",
    "                myindex = i + 1\n",
    "                if (\" \".join(re.findall(\"[a-zA-Z]+\", pron_a[-myindex]))  != \" \".join(re.findall(\"[a-zA-Z]+\", pron_b[-myindex])) ):\n",
    "                    presumptive = 0\n",
    "                    break                   \n",
    "            if presumptive == 1:\n",
    "                orange = 1\n",
    "                finalsound = \"\"\n",
    "                vowel = 0\n",
    "                mn = 1\n",
    "                while (vowel == 0):\n",
    "                    finalsound = \" \".join(re.findall(\"[a-zA-Z]+\", pron_a[-mn])) + finalsound\n",
    "                    if \" \".join(re.findall(\"[a-zA-Z]+\", pron_a[-mn])) in myvowels:\n",
    "                        vowel = 1\n",
    "                    else:\n",
    "                        mn += 1\n",
    "                break\n",
    "    if orange == 0:\n",
    "        finalsound = \"\"\n",
    "        vowel = 0\n",
    "        mn = 1\n",
    "        while (vowel == 0):\n",
    "            finalsound = \" \".join(re.findall(\"[a-zA-Z]+\", pron_a[-mn])) + finalsound\n",
    "            if \" \".join(re.findall(\"[a-zA-Z]+\", pron_a[-mn])) in myvowels:\n",
    "                vowel = 1\n",
    "            else:\n",
    "                mn += 1\n",
    "    # and we return our bool and our sound\n",
    "    return orange, finalsound"
   ]
  },
  {
   "cell_type": "code",
   "execution_count": 31,
   "metadata": {},
   "outputs": [
    {
     "name": "stdout",
     "output_type": "stream",
     "text": [
      "(1, 'IYD')\n",
      "(1, 'EHD')\n",
      "(1, 'IYD')\n"
     ]
    }
   ],
   "source": [
    "# some test cases\n",
    "\n",
    "print(test_rhyme_sound('lead', 'read'))\n",
    "print(test_rhyme_sound('lead', 'bed'))\n",
    "print(test_rhyme_sound('mead', 'read'))"
   ]
  },
  {
   "cell_type": "code",
   "execution_count": 32,
   "metadata": {},
   "outputs": [
    {
     "name": "stdout",
     "output_type": "stream",
     "text": [
      "1\n",
      "IYD\n"
     ]
    }
   ],
   "source": [
    "# some more test cases \n",
    "\n",
    "dothey, thesound = test_rhyme_sound('lead', 'read')\n",
    "print(dothey)\n",
    "print(thesound)"
   ]
  },
  {
   "cell_type": "code",
   "execution_count": 33,
   "metadata": {},
   "outputs": [],
   "source": [
    "rhymingtuples=[]\n",
    "\n",
    "for i, sonnet in enumerate(sonnets_tokenized):\n",
    "    \n",
    "    #sonnet_rhymes=[]\n",
    "    \n",
    "    if len(sonnet) == 14:\n",
    "        for index in list(sonnet_dict.keys()):\n",
    "            word_a = sonnet[sonnet_dict[index]][-1]\n",
    "            word_b = sonnet[index][-1]\n",
    "            \n",
    "            dothey, thesound = test_rhyme_sound(word_a, word_b)\n",
    "            rhymingtuples.append([dothey, thesound, word_a, word_b])\n",
    "    elif len(sonnet) == 12:\n",
    "        for index in list(dozen_dict.keys()):\n",
    "\n",
    "            word_a = sonnet[dozen_dict[index]][-1]\n",
    "            word_b = sonnet[index][-1]\n",
    "            dothey, thesound = test_rhyme_sound(word_a, word_b)\n",
    "            rhymingtuples.append([dothey, thesound, word_a, word_b])\n",
    "\n",
    "    elif len(sonnet) == 15:\n",
    "        for index in list(nena_dict.keys()):\n",
    "\n",
    "            word_a = sonnet[nena_dict[index]][-1]\n",
    "            word_b = sonnet[index][-1]\n",
    "            dothey, thesound = test_rhyme_sound(word_a, word_b)\n",
    "            rhymingtuples.append([dothey, thesound, word_a, word_b])\n",
    "    else:\n",
    "        print(\"Huh!!\", i, sonnet)\n",
    "        "
   ]
  },
  {
   "cell_type": "code",
   "execution_count": 34,
   "metadata": {},
   "outputs": [
    {
     "data": {
      "text/plain": [
       "[[1, 'IYS', 'decease', 'increase'],\n",
       " [0, 'IY', 'memory', 'die'],\n",
       " [1, 'AYZ', 'lies', 'eyes'],\n",
       " [1, 'UWL', 'cruel', 'fuel'],\n",
       " [0, 'EHNT', 'content', 'ornament']]"
      ]
     },
     "execution_count": 34,
     "metadata": {},
     "output_type": "execute_result"
    }
   ],
   "source": [
    "rhymingtuples[:5]"
   ]
  },
  {
   "cell_type": "code",
   "execution_count": 35,
   "metadata": {},
   "outputs": [
    {
     "data": {
      "text/plain": [
       "['IYS', 'IY', 'AYZ', 'UWL', 'EHNT']"
      ]
     },
     "execution_count": 35,
     "metadata": {},
     "output_type": "execute_result"
    }
   ],
   "source": [
    "rhymingsounds = [x[1] for x in rhymingtuples]\n",
    "rhymingsounds[:5]"
   ]
  },
  {
   "cell_type": "code",
   "execution_count": 37,
   "metadata": {},
   "outputs": [
    {
     "data": {
      "text/plain": [
       "Counter({'IYS': 5,\n",
       "         'IY': 98,\n",
       "         'AYZ': 14,\n",
       "         'UWL': 2,\n",
       "         'EHNT': 10,\n",
       "         'IHNG': 24,\n",
       "         'AW': 11,\n",
       "         'EHLD': 2,\n",
       "         'EYZ': 10,\n",
       "         'UWZ': 7,\n",
       "         'AYN': 10,\n",
       "         'OWLD': 11,\n",
       "         'AHST': 4,\n",
       "         'ER': 32,\n",
       "         'UWM': 8,\n",
       "         'AYM': 14,\n",
       "         'EHND': 15,\n",
       "         'IHV': 7,\n",
       "         'AON': 3,\n",
       "         'IYV': 3,\n",
       "         'EYM': 9,\n",
       "         'EHL': 12,\n",
       "         'EHR': 23,\n",
       "         'EHFT': 1,\n",
       "         'AOZ': 4,\n",
       "         'IYT': 4,\n",
       "         'EYS': 13,\n",
       "         'IHLD': 1,\n",
       "         'AHN': 18,\n",
       "         'AART': 21,\n",
       "         'AYT': 39,\n",
       "         'IHL': 22,\n",
       "         'IHJH': 2,\n",
       "         'AAR': 2,\n",
       "         'EY': 34,\n",
       "         'OY': 1,\n",
       "         'AWNDZ': 2,\n",
       "         'AY': 13,\n",
       "         'AYF': 5,\n",
       "         'IYP': 4,\n",
       "         'AYND': 16,\n",
       "         'IHT': 8,\n",
       "         'IHTS': 3,\n",
       "         'AHNT': 3,\n",
       "         'EYT': 20,\n",
       "         'UWV': 8,\n",
       "         'EHST': 20,\n",
       "         'AOR': 13,\n",
       "         'IHSH': 1,\n",
       "         'IYVZ': 1,\n",
       "         'IHRD': 1,\n",
       "         'EYK': 7,\n",
       "         'OW': 28,\n",
       "         'EHNS': 7,\n",
       "         'AHK': 1,\n",
       "         'AYV': 2,\n",
       "         'ERT': 1,\n",
       "         'OWZ': 7,\n",
       "         'UW': 25,\n",
       "         'ERZ': 2,\n",
       "         'EHN': 7,\n",
       "         'AARTS': 2,\n",
       "         'IHZ': 6,\n",
       "         'EYJH': 6,\n",
       "         'AONG': 8,\n",
       "         'AYNZ': 1,\n",
       "         'IHMD': 1,\n",
       "         'EYD': 7,\n",
       "         'AHD': 3,\n",
       "         'IYTS': 1,\n",
       "         'AHNG': 3,\n",
       "         'IHD': 8,\n",
       "         'EHTH': 3,\n",
       "         'ERS': 7,\n",
       "         'EHMZ': 1,\n",
       "         'EYN': 14,\n",
       "         'AARZ': 1,\n",
       "         'OWST': 3,\n",
       "         'IYD': 6,\n",
       "         'OYLD': 1,\n",
       "         'UWVD': 1,\n",
       "         'EHKT': 5,\n",
       "         'EHD': 9,\n",
       "         'AYRD': 1,\n",
       "         'AYD': 19,\n",
       "         'IHN': 4,\n",
       "         'OWP': 2,\n",
       "         'IYST': 1,\n",
       "         'IHNGZ': 2,\n",
       "         'AOT': 5,\n",
       "         'EYST': 6,\n",
       "         'OWN': 17,\n",
       "         'IHR': 9,\n",
       "         'AHV': 6,\n",
       "         'IYN': 7,\n",
       "         'OWK': 1,\n",
       "         'IYK': 2,\n",
       "         'IYF': 4,\n",
       "         'AOS': 4,\n",
       "         'IYDZ': 6,\n",
       "         'IHS': 4,\n",
       "         'AORT': 5,\n",
       "         'UWTH': 6,\n",
       "         'AYST': 1,\n",
       "         'AORTH': 1,\n",
       "         'AOL': 5,\n",
       "         'EYLD': 1,\n",
       "         'AEND': 7,\n",
       "         'UHRD': 3,\n",
       "         'AED': 4,\n",
       "         'AHND': 1,\n",
       "         'UHK': 5,\n",
       "         'AHM': 1,\n",
       "         'EHKTS': 1,\n",
       "         'EHT': 3,\n",
       "         'IYM': 4,\n",
       "         'EHNTS': 3,\n",
       "         'ERN': 1,\n",
       "         'AHS': 5,\n",
       "         'AWR': 1,\n",
       "         'EYV': 2,\n",
       "         'EHK': 1,\n",
       "         'AYLD': 2,\n",
       "         'AWND': 5,\n",
       "         'AWNT': 1,\n",
       "         'AORN': 5,\n",
       "         'EYZD': 1,\n",
       "         'AWT': 3,\n",
       "         'AEK': 4,\n",
       "         'AHLD': 1,\n",
       "         'EYNZ': 2,\n",
       "         'AARJHD': 1,\n",
       "         'AAT': 5,\n",
       "         'ERTH': 3,\n",
       "         'AENG': 1,\n",
       "         'AYR': 1,\n",
       "         'IHST': 2,\n",
       "         'ERD': 5,\n",
       "         'EYNJH': 4,\n",
       "         'AYL': 1,\n",
       "         'AHNS': 3,\n",
       "         'AORD': 1,\n",
       "         'OWT': 3,\n",
       "         'AYZD': 1,\n",
       "         'UWZD': 1,\n",
       "         'UWT': 2,\n",
       "         'AORDZ': 2,\n",
       "         'IHSHT': 1,\n",
       "         'AOLT': 1,\n",
       "         'AORS': 1,\n",
       "         'AONGZ': 1,\n",
       "         'EHJH': 1,\n",
       "         'EHS': 3,\n",
       "         'IYMD': 2,\n",
       "         'IHM': 1,\n",
       "         'EHLZ': 1,\n",
       "         'OWTH': 1,\n",
       "         'EHNDZ': 1,\n",
       "         'IHKST': 1,\n",
       "         'ERND': 1,\n",
       "         'IYVD': 1,\n",
       "         'AYTS': 1,\n",
       "         'OWL': 2,\n",
       "         'AYBZ': 1,\n",
       "         'AHT': 1,\n",
       "         'EYNJHD': 1,\n",
       "         'EYND': 1,\n",
       "         'UWD': 1,\n",
       "         'IHNGK': 1,\n",
       "         'AECH': 2,\n",
       "         'AHL': 3,\n",
       "         'AHP': 1,\n",
       "         'AYNDZ': 2,\n",
       "         'AARK': 1,\n",
       "         'IYKS': 2,\n",
       "         'AHVD': 1,\n",
       "         'AWN': 1,\n",
       "         'ERJH': 1,\n",
       "         'IHRZ': 2,\n",
       "         'IYL': 1,\n",
       "         'AOLZ': 1,\n",
       "         'IHK': 1,\n",
       "         'OWS': 1,\n",
       "         'IHPS': 1,\n",
       "         'AOST': 2,\n",
       "         'AARD': 1,\n",
       "         'EYL': 1,\n",
       "         'UHKS': 1,\n",
       "         'IYZ': 3,\n",
       "         'AEN': 1,\n",
       "         'IYND': 1,\n",
       "         'EHPT': 1,\n",
       "         'UHR': 1,\n",
       "         'AARMD': 1})"
      ]
     },
     "execution_count": 37,
     "metadata": {},
     "output_type": "execute_result"
    }
   ],
   "source": [
    "rhymesoundsfreq = Counter(rhymingsounds)\n",
    "rhymesoundsfreq"
   ]
  },
  {
   "cell_type": "code",
   "execution_count": 38,
   "metadata": {},
   "outputs": [
    {
     "data": {
      "text/plain": [
       "[('IY', 98),\n",
       " ('AYT', 39),\n",
       " ('EY', 34),\n",
       " ('ER', 32),\n",
       " ('OW', 28),\n",
       " ('UW', 25),\n",
       " ('IHNG', 24),\n",
       " ('EHR', 23),\n",
       " ('IHL', 22),\n",
       " ('AART', 21),\n",
       " ('EYT', 20),\n",
       " ('EHST', 20),\n",
       " ('AYD', 19),\n",
       " ('AHN', 18),\n",
       " ('OWN', 17),\n",
       " ('AYND', 16),\n",
       " ('EHND', 15),\n",
       " ('AYZ', 14),\n",
       " ('AYM', 14),\n",
       " ('EYN', 14),\n",
       " ('EYS', 13),\n",
       " ('AY', 13),\n",
       " ('AOR', 13),\n",
       " ('EHL', 12),\n",
       " ('AW', 11),\n",
       " ('OWLD', 11),\n",
       " ('EHNT', 10),\n",
       " ('EYZ', 10),\n",
       " ('AYN', 10),\n",
       " ('EYM', 9),\n",
       " ('EHD', 9),\n",
       " ('IHR', 9),\n",
       " ('UWM', 8),\n",
       " ('IHT', 8),\n",
       " ('UWV', 8),\n",
       " ('AONG', 8),\n",
       " ('IHD', 8),\n",
       " ('UWZ', 7),\n",
       " ('IHV', 7),\n",
       " ('EYK', 7),\n",
       " ('EHNS', 7),\n",
       " ('OWZ', 7),\n",
       " ('EHN', 7),\n",
       " ('EYD', 7),\n",
       " ('ERS', 7),\n",
       " ('IYN', 7),\n",
       " ('AEND', 7),\n",
       " ('IHZ', 6),\n",
       " ('EYJH', 6),\n",
       " ('IYD', 6),\n",
       " ('EYST', 6),\n",
       " ('AHV', 6),\n",
       " ('IYDZ', 6),\n",
       " ('UWTH', 6),\n",
       " ('IYS', 5),\n",
       " ('AYF', 5),\n",
       " ('EHKT', 5),\n",
       " ('AOT', 5),\n",
       " ('AORT', 5),\n",
       " ('AOL', 5),\n",
       " ('UHK', 5),\n",
       " ('AHS', 5),\n",
       " ('AWND', 5),\n",
       " ('AORN', 5),\n",
       " ('AAT', 5),\n",
       " ('ERD', 5),\n",
       " ('AHST', 4),\n",
       " ('AOZ', 4),\n",
       " ('IYT', 4),\n",
       " ('IYP', 4),\n",
       " ('IHN', 4),\n",
       " ('IYF', 4),\n",
       " ('AOS', 4),\n",
       " ('IHS', 4),\n",
       " ('AED', 4),\n",
       " ('IYM', 4),\n",
       " ('AEK', 4),\n",
       " ('EYNJH', 4),\n",
       " ('AON', 3),\n",
       " ('IYV', 3),\n",
       " ('IHTS', 3),\n",
       " ('AHNT', 3),\n",
       " ('AHD', 3),\n",
       " ('AHNG', 3),\n",
       " ('EHTH', 3),\n",
       " ('OWST', 3),\n",
       " ('UHRD', 3),\n",
       " ('EHT', 3),\n",
       " ('EHNTS', 3),\n",
       " ('AWT', 3),\n",
       " ('ERTH', 3),\n",
       " ('AHNS', 3),\n",
       " ('OWT', 3),\n",
       " ('EHS', 3),\n",
       " ('AHL', 3),\n",
       " ('IYZ', 3),\n",
       " ('UWL', 2),\n",
       " ('EHLD', 2),\n",
       " ('IHJH', 2),\n",
       " ('AAR', 2),\n",
       " ('AWNDZ', 2),\n",
       " ('AYV', 2),\n",
       " ('ERZ', 2),\n",
       " ('AARTS', 2),\n",
       " ('OWP', 2),\n",
       " ('IHNGZ', 2),\n",
       " ('IYK', 2),\n",
       " ('EYV', 2),\n",
       " ('AYLD', 2),\n",
       " ('EYNZ', 2),\n",
       " ('IHST', 2),\n",
       " ('UWT', 2),\n",
       " ('AORDZ', 2),\n",
       " ('IYMD', 2),\n",
       " ('OWL', 2),\n",
       " ('AECH', 2),\n",
       " ('AYNDZ', 2),\n",
       " ('IYKS', 2),\n",
       " ('IHRZ', 2),\n",
       " ('AOST', 2),\n",
       " ('EHFT', 1),\n",
       " ('IHLD', 1),\n",
       " ('OY', 1),\n",
       " ('IHSH', 1),\n",
       " ('IYVZ', 1),\n",
       " ('IHRD', 1),\n",
       " ('AHK', 1),\n",
       " ('ERT', 1),\n",
       " ('AYNZ', 1),\n",
       " ('IHMD', 1),\n",
       " ('IYTS', 1),\n",
       " ('EHMZ', 1),\n",
       " ('AARZ', 1),\n",
       " ('OYLD', 1),\n",
       " ('UWVD', 1),\n",
       " ('AYRD', 1),\n",
       " ('IYST', 1),\n",
       " ('OWK', 1),\n",
       " ('AYST', 1),\n",
       " ('AORTH', 1),\n",
       " ('EYLD', 1),\n",
       " ('AHND', 1),\n",
       " ('AHM', 1),\n",
       " ('EHKTS', 1),\n",
       " ('ERN', 1),\n",
       " ('AWR', 1),\n",
       " ('EHK', 1),\n",
       " ('AWNT', 1),\n",
       " ('EYZD', 1),\n",
       " ('AHLD', 1),\n",
       " ('AARJHD', 1),\n",
       " ('AENG', 1),\n",
       " ('AYR', 1),\n",
       " ('AYL', 1),\n",
       " ('AORD', 1),\n",
       " ('AYZD', 1),\n",
       " ('UWZD', 1),\n",
       " ('IHSHT', 1),\n",
       " ('AOLT', 1),\n",
       " ('AORS', 1),\n",
       " ('AONGZ', 1),\n",
       " ('EHJH', 1),\n",
       " ('IHM', 1),\n",
       " ('EHLZ', 1),\n",
       " ('OWTH', 1),\n",
       " ('EHNDZ', 1),\n",
       " ('IHKST', 1),\n",
       " ('ERND', 1),\n",
       " ('IYVD', 1),\n",
       " ('AYTS', 1),\n",
       " ('AYBZ', 1),\n",
       " ('AHT', 1),\n",
       " ('EYNJHD', 1),\n",
       " ('EYND', 1),\n",
       " ('UWD', 1),\n",
       " ('IHNGK', 1),\n",
       " ('AHP', 1),\n",
       " ('AARK', 1),\n",
       " ('AHVD', 1),\n",
       " ('AWN', 1),\n",
       " ('ERJH', 1),\n",
       " ('IYL', 1),\n",
       " ('AOLZ', 1),\n",
       " ('IHK', 1),\n",
       " ('OWS', 1),\n",
       " ('IHPS', 1),\n",
       " ('AARD', 1),\n",
       " ('EYL', 1),\n",
       " ('UHKS', 1),\n",
       " ('AEN', 1),\n",
       " ('IYND', 1),\n",
       " ('EHPT', 1),\n",
       " ('UHR', 1),\n",
       " ('AARMD', 1)]"
      ]
     },
     "execution_count": 38,
     "metadata": {},
     "output_type": "execute_result"
    }
   ],
   "source": [
    "sorted(rhymesoundsfreq.items(), key=lambda pair: pair[1], reverse=True)"
   ]
  },
  {
   "cell_type": "code",
   "execution_count": 39,
   "metadata": {},
   "outputs": [
    {
     "data": {
      "text/plain": [
       "194"
      ]
     },
     "execution_count": 39,
     "metadata": {},
     "output_type": "execute_result"
    }
   ],
   "source": [
    "# how many different/unique rhyming sounds appear?\n",
    "\n",
    "len(rhymesoundsfreq.items())"
   ]
  },
  {
   "cell_type": "code",
   "execution_count": 40,
   "metadata": {},
   "outputs": [
    {
     "data": {
      "text/plain": [
       "2.0"
      ]
     },
     "execution_count": 40,
     "metadata": {},
     "output_type": "execute_result"
    }
   ],
   "source": [
    "# what is the median number of times\n",
    "# that a rhyming sound gets used?\n",
    "\n",
    "all_tallies = [x[1] for x in rhymesoundsfreq.items()]\n",
    "statistics.median(all_tallies)"
   ]
  },
  {
   "cell_type": "code",
   "execution_count": 43,
   "metadata": {},
   "outputs": [
    {
     "data": {
      "text/plain": [
       "[('IY', 98),\n",
       " ('AYT', 39),\n",
       " ('EY', 34),\n",
       " ('ER', 32),\n",
       " ('OW', 28),\n",
       " ('UW', 25),\n",
       " ('IHNG', 24),\n",
       " ('EHR', 23),\n",
       " ('IHL', 22),\n",
       " ('AART', 21)]"
      ]
     },
     "execution_count": 43,
     "metadata": {},
     "output_type": "execute_result"
    }
   ],
   "source": [
    "# so which sounds are the most common? \n",
    "\n",
    "common_sounds = rhymesoundsfreq.most_common(20)\n",
    "common_sounds[:10]"
   ]
  },
  {
   "cell_type": "code",
   "execution_count": 44,
   "metadata": {},
   "outputs": [
    {
     "name": "stdout",
     "output_type": "stream",
     "text": [
      "['IY', 'AYT', 'EY', 'ER', 'OW', 'UW', 'IHNG', 'EHR', 'IHL', 'AART', 'EYT', 'EHST', 'AYD', 'AHN', 'OWN', 'AYND', 'EHND', 'AYZ', 'AYM', 'EYN']\n",
      "[98, 39, 34, 32, 28, 25, 24, 23, 22, 21, 20, 20, 19, 18, 17, 16, 15, 14, 14, 14]\n"
     ]
    }
   ],
   "source": [
    "# we separate the halves of our list of tuples\n",
    "# for easy use in a plot\n",
    "\n",
    "cs_labels = [x[0] for x in common_sounds]\n",
    "cs_tallies = [x[1] for x in common_sounds]\n",
    "print(cs_labels)\n",
    "print(cs_tallies)"
   ]
  },
  {
   "cell_type": "code",
   "execution_count": 45,
   "metadata": {},
   "outputs": [
    {
     "name": "stdout",
     "output_type": "stream",
     "text": [
      "1079\n",
      "And we expect approximately  1078\n"
     ]
    }
   ],
   "source": [
    "print(sum([x[1] for x in rhymesoundsfreq.items()]))\n",
    "print(\"And we expect approximately \", 7*154)"
   ]
  },
  {
   "cell_type": "code",
   "execution_count": 46,
   "metadata": {},
   "outputs": [
    {
     "data": {
      "image/png": "[encoded data removed]",
      "text/plain": [
       "<Figure size 432x288 with 1 Axes>"
      ]
     },
     "metadata": {
      "needs_background": "light"
     },
     "output_type": "display_data"
    },
    {
     "data": {
      "text/plain": [
       "<Figure size 1200x1000 with 0 Axes>"
      ]
     },
     "metadata": {},
     "output_type": "display_data"
    }
   ],
   "source": [
    "fig = plt.figure()\n",
    "ax = fig.add_axes([0,0,1,1])\n",
    "\n",
    "ax.bar(cs_labels,cs_tallies)\n",
    "plt.xticks(rotation=45)\n",
    "\n",
    "ax = sns.barplot(y= cs_tallies, x = cs_labels, palette=(\"Blues_d\"))\n",
    "\n",
    "# set the labels\n",
    "ax.set_title('Prevalence of Top 20 Sounds in Sonnet Rhymes')\n",
    "ax.set_ylabel('Number of Appearances')\n",
    "ax.set_xlabel('Phonics')\n",
    "\n",
    "figure(num=None, figsize=(12, 10), dpi=100, facecolor='w', edgecolor='k')\n",
    "\n",
    "plt.show()"
   ]
  },
  {
   "cell_type": "code",
   "execution_count": 47,
   "metadata": {},
   "outputs": [
    {
     "data": {
      "image/png": "[encoded data removed]",
      "text/plain": [
       "<Figure size 432x288 with 1 Axes>"
      ]
     },
     "metadata": {
      "needs_background": "light"
     },
     "output_type": "display_data"
    },
    {
     "data": {
      "text/plain": [
       "<Figure size 1200x1000 with 0 Axes>"
      ]
     },
     "metadata": {},
     "output_type": "display_data"
    }
   ],
   "source": [
    "fig = plt.figure()\n",
    "#ax = fig.add_axes([0,0,1,1])\n",
    "\n",
    "ax.bar(cs_labels,cs_tallies)\n",
    "plt.xticks(rotation=45)\n",
    "cs_percentz = [100*x/len(rhymingtuples) for x in cs_tallies]\n",
    "ax = sns.barplot(y = cs_percentz, x = cs_labels, palette=(\"Blues_d\"))\n",
    "\n",
    "# set the labels\n",
    "ax.set_title('Prevalence of Top 20 Sounds in Sonnet Rhymes')\n",
    "ax.set_ylabel('Percent of Appearances')\n",
    "ax.set_xlabel('Phonics')\n",
    "\n",
    "figure(num=None, figsize=(12, 10), dpi=100, facecolor='w', edgecolor='k')\n",
    "\n",
    "plt.show()"
   ]
  },
  {
   "cell_type": "markdown",
   "metadata": {},
   "source": [
    "# Chapter III: Word Frequencies"
   ]
  },
  {
   "cell_type": "code",
   "execution_count": 49,
   "metadata": {},
   "outputs": [
    {
     "data": {
      "text/plain": [
       "['IYS', 'IY', 'AYZ', 'UWL', 'EHNT']"
      ]
     },
     "execution_count": 49,
     "metadata": {},
     "output_type": "execute_result"
    }
   ],
   "source": [
    "all_sounds = [x[0] for x in rhymesoundsfreq.items()]\n",
    "all_sounds[:5]"
   ]
  },
  {
   "cell_type": "code",
   "execution_count": 50,
   "metadata": {},
   "outputs": [
    {
     "data": {
      "text/plain": [
       "[['FROM', 'fairest', 'creatures', 'we', 'desire', 'increase'],\n",
       " ['That', 'thereby', 'beautys', 'rose', 'might', 'never', 'die'],\n",
       " ['But', 'as', 'the', 'riper', 'should', 'by', 'time', 'decease'],\n",
       " ['His', 'tender', 'heir', 'might', 'bear', 'his', 'memory'],\n",
       " ['But', 'thou', 'contracted', 'to', 'thine', 'own', 'bright', 'eyes']]"
      ]
     },
     "execution_count": 50,
     "metadata": {},
     "output_type": "execute_result"
    }
   ],
   "source": [
    "the_lines = [line for sonnet in sonnets_tokenized for line in sonnet]\n",
    "the_lines[:5]"
   ]
  },
  {
   "cell_type": "code",
   "execution_count": 51,
   "metadata": {},
   "outputs": [
    {
     "data": {
      "text/plain": [
       "['increase', 'die', 'decease', 'memory', 'eyes']"
      ]
     },
     "execution_count": 51,
     "metadata": {},
     "output_type": "execute_result"
    }
   ],
   "source": [
    "rhymed_words = [x[-1] for x in the_lines]\n",
    "rhymed_words[:5]"
   ]
  },
  {
   "cell_type": "code",
   "execution_count": 52,
   "metadata": {},
   "outputs": [
    {
     "data": {
      "text/plain": [
       "['FROM', 'fairest', 'creatures', 'we', 'desire']"
      ]
     },
     "execution_count": 52,
     "metadata": {},
     "output_type": "execute_result"
    }
   ],
   "source": [
    "all_words = [word for line in the_lines for word in line]\n",
    "all_words[:5]"
   ]
  },
  {
   "cell_type": "code",
   "execution_count": 53,
   "metadata": {},
   "outputs": [
    {
     "data": {
      "text/plain": [
       "['FROM', 'fairest', 'creatures', 'we', 'desire']"
      ]
     },
     "execution_count": 53,
     "metadata": {},
     "output_type": "execute_result"
    }
   ],
   "source": [
    "unrhymed_words = [x[:-1] for x in the_lines]\n",
    "unrhymed_words = [word for line in unrhymed_words for word in line]\n",
    "unrhymed_words[:5]"
   ]
  },
  {
   "cell_type": "code",
   "execution_count": 55,
   "metadata": {},
   "outputs": [],
   "source": [
    "# we lower-case everything\n",
    "rhymed_words = [x.lower() for x in rhymed_words]\n",
    "unrhymed_words = [x.lower() for x in unrhymed_words]\n",
    "all_words = [x.lower() for x in all_words]"
   ]
  },
  {
   "cell_type": "code",
   "execution_count": 103,
   "metadata": {},
   "outputs": [],
   "source": [
    "# stop words, of course\n",
    "from nltk.corpus import stopwords\n",
    "stop_words = list(set(stopwords.words('english')) )\n",
    "stop_words += ['thee', 'thou', 'thine', 'mine', 'shall', 'doth']"
   ]
  },
  {
   "cell_type": "code",
   "execution_count": 104,
   "metadata": {},
   "outputs": [
    {
     "name": "stdout",
     "output_type": "stream",
     "text": [
      "17525\n",
      "8894\n"
     ]
    }
   ],
   "source": [
    "clean_tokens = [tok for tok in all_words if len(tok.lower())>1 and (tok.lower() not in stop_words)]\n",
    "print(len(all_words))\n",
    "print(len(clean_tokens))"
   ]
  },
  {
   "cell_type": "code",
   "execution_count": 105,
   "metadata": {},
   "outputs": [
    {
     "name": "stdout",
     "output_type": "stream",
     "text": [
      "2156\n",
      "1892\n"
     ]
    }
   ],
   "source": [
    "clean_rhymes = [tok for tok in rhymed_words if len(tok.lower())>1 and (tok.lower() not in stop_words)]\n",
    "print(len(rhymed_words))\n",
    "print(len(clean_rhymes))"
   ]
  },
  {
   "cell_type": "code",
   "execution_count": 106,
   "metadata": {},
   "outputs": [
    {
     "name": "stdout",
     "output_type": "stream",
     "text": [
      "15369\n",
      "7002\n"
     ]
    }
   ],
   "source": [
    "clean_unrhymes = [tok for tok in unrhymed_words if len(tok.lower())>1 and (tok.lower() not in stop_words)]\n",
    "print(len(unrhymed_words))\n",
    "print(len(clean_unrhymes))"
   ]
  },
  {
   "cell_type": "code",
   "execution_count": 107,
   "metadata": {},
   "outputs": [
    {
     "data": {
      "image/png": "[encoded data removed]",
      "text/plain": [
       "<Figure size 1080x360 with 3 Axes>"
      ]
     },
     "metadata": {},
     "output_type": "display_data"
    }
   ],
   "source": [
    "import matplotlib.pyplot as plt\n",
    "alla = len(all_words)\n",
    "allb = len(clean_tokens)\n",
    "allc = alla-allb\n",
    "rhma = len(rhymed_words)\n",
    "rhmb = len(clean_rhymes)\n",
    "rhmc = rhma - rhmb\n",
    "nona = len(unrhymed_words)\n",
    "nonb = len(clean_unrhymes)\n",
    "nonc = nona-nonb\n",
    "\n",
    "# Pie chart, where the slices will be ordered and plotted counter-clockwise:\n",
    "labels = 'Stop Words', 'Not'\n",
    "sizes = [allc, allb]\n",
    "#explode = (0, 0.1, 0, 0)  # only \"explode\" the 2nd slice (i.e. 'Hogs')\n",
    "\n",
    "#fig, (ax1, ax2, ax3) = plt.subplot(1, 2, 3)\n",
    "\n",
    "fig, axs = plt.subplots(1, 3,figsize=(15,5))\n",
    "fig.suptitle('Proportions of Stop Words in the Sonnets', size = 26, y=1.08)\n",
    "#fig.suptitle('Horizontally stacked subplots')\n",
    "\n",
    "#fig1, ax1 = plt.subplots()\n",
    "axs[0].pie(sizes, \n",
    "        #explode=explode, \n",
    "        labels=labels, autopct='%1.1f%%',\n",
    "        shadow=True, startangle=90)\n",
    "axs[0].axis('equal')  # Equal aspect ratio ensures that pie is drawn as a circle.\n",
    "\n",
    "labels = 'Stop Words', 'Not'\n",
    "sizes = [rhmc, rhmb]\n",
    "axs[1].pie(sizes, \n",
    "        #explode=explode, \n",
    "        labels=labels, autopct='%1.1f%%',\n",
    "        shadow=True, startangle=90)\n",
    "axs[1].axis('equal')  # Equal aspect ratio ensures that pie is drawn as a circle.\n",
    "\n",
    "labels = 'Stop Words', 'Not'\n",
    "sizes = [nonc, nonb]\n",
    "axs[2].pie(sizes, \n",
    "        #explode=explode, \n",
    "        labels=labels, autopct='%1.1f%%',\n",
    "        shadow=True, startangle=90)\n",
    "axs[2].axis('equal')  # Equal aspect ratio ensures that pie is drawn as a circle.\n",
    "\n",
    "axs[0].set_title('All Words in the Sonnets',size=20)\n",
    "axs[1].set_title('Rhyming/End-of-Line Words',size=20)\n",
    "axs[2].set_title('Non-rhyming Words',size=20)\n",
    "\n",
    "#axs[0].title.set_text('All Words in the Sonnets')\n",
    "#axs[1].title.set_text('Rhyming/End-of-Line Words')\n",
    "#axs[2].title.set_text('Non-rhyming Words')\n",
    "\n",
    "plt.show()"
   ]
  },
  {
   "cell_type": "code",
   "execution_count": 115,
   "metadata": {},
   "outputs": [
    {
     "data": {
      "text/plain": [
       "[['FROM', 'fairest', 'creatures', 'we', 'desire', 'increase'],\n",
       " ['That', 'thereby', 'beautys', 'rose', 'might', 'never', 'die'],\n",
       " ['But', 'as', 'the', 'riper', 'should', 'by', 'time', 'decease'],\n",
       " ['His', 'tender', 'heir', 'might', 'bear', 'his', 'memory'],\n",
       " ['But', 'thou', 'contracted', 'to', 'thine', 'own', 'bright', 'eyes']]"
      ]
     },
     "execution_count": 115,
     "metadata": {},
     "output_type": "execute_result"
    }
   ],
   "source": [
    "# OOH let's do a box and whiskers plot\n",
    "sonnets_tokenized[:5]\n",
    "words_by_sonnet = [line for poem in sonnets_tokenized for line in poem]\n",
    "words_by_sonnet[:5]"
   ]
  },
  {
   "cell_type": "code",
   "execution_count": 119,
   "metadata": {
    "collapsed": true
   },
   "outputs": [
    {
     "data": {
      "text/plain": [
       "[['FROM',\n",
       "  'fairest',\n",
       "  'creatures',\n",
       "  'we',\n",
       "  'desire',\n",
       "  'increase',\n",
       "  'That',\n",
       "  'thereby',\n",
       "  'beautys',\n",
       "  'rose',\n",
       "  'might',\n",
       "  'never',\n",
       "  'die',\n",
       "  'But',\n",
       "  'as',\n",
       "  'the',\n",
       "  'riper',\n",
       "  'should',\n",
       "  'by',\n",
       "  'time',\n",
       "  'decease',\n",
       "  'His',\n",
       "  'tender',\n",
       "  'heir',\n",
       "  'might',\n",
       "  'bear',\n",
       "  'his',\n",
       "  'memory',\n",
       "  'But',\n",
       "  'thou',\n",
       "  'contracted',\n",
       "  'to',\n",
       "  'thine',\n",
       "  'own',\n",
       "  'bright',\n",
       "  'eyes',\n",
       "  'Feedst',\n",
       "  'thy',\n",
       "  'lightst',\n",
       "  'flame',\n",
       "  'with',\n",
       "  'self-substantial',\n",
       "  'fuel',\n",
       "  'Making',\n",
       "  'a',\n",
       "  'famine',\n",
       "  'where',\n",
       "  'abundance',\n",
       "  'lies',\n",
       "  'Thyself',\n",
       "  'thy',\n",
       "  'foe',\n",
       "  'to',\n",
       "  'thy',\n",
       "  'sweet',\n",
       "  'self',\n",
       "  'too',\n",
       "  'cruel',\n",
       "  'Thou',\n",
       "  'that',\n",
       "  'art',\n",
       "  'now',\n",
       "  'the',\n",
       "  'worlds',\n",
       "  'fresh',\n",
       "  'ornament',\n",
       "  'And',\n",
       "  'only',\n",
       "  'herald',\n",
       "  'to',\n",
       "  'the',\n",
       "  'gaudy',\n",
       "  'spring',\n",
       "  'Within',\n",
       "  'thine',\n",
       "  'own',\n",
       "  'bud',\n",
       "  'buriest',\n",
       "  'thy',\n",
       "  'content',\n",
       "  'And',\n",
       "  'tender',\n",
       "  'churl',\n",
       "  'makest',\n",
       "  'waste',\n",
       "  'in',\n",
       "  'niggarding',\n",
       "  'Pity',\n",
       "  'the',\n",
       "  'world',\n",
       "  'or',\n",
       "  'else',\n",
       "  'this',\n",
       "  'glutton',\n",
       "  'be',\n",
       "  'To',\n",
       "  'eat',\n",
       "  'the',\n",
       "  'worlds',\n",
       "  'due',\n",
       "  'by',\n",
       "  'the',\n",
       "  'grave',\n",
       "  'and',\n",
       "  'thee'],\n",
       " ['When',\n",
       "  'forty',\n",
       "  'winters',\n",
       "  'shall',\n",
       "  'beseige',\n",
       "  'thy',\n",
       "  'brow',\n",
       "  'And',\n",
       "  'dig',\n",
       "  'deep',\n",
       "  'trenches',\n",
       "  'in',\n",
       "  'thy',\n",
       "  'beautys',\n",
       "  'field',\n",
       "  'Thy',\n",
       "  'youths',\n",
       "  'proud',\n",
       "  'livery',\n",
       "  'so',\n",
       "  'gazed',\n",
       "  'on',\n",
       "  'now',\n",
       "  'Will',\n",
       "  'be',\n",
       "  'a',\n",
       "  'tatterd',\n",
       "  'weed',\n",
       "  'of',\n",
       "  'small',\n",
       "  'worth',\n",
       "  'held',\n",
       "  'Then',\n",
       "  'being',\n",
       "  'askd',\n",
       "  'where',\n",
       "  'all',\n",
       "  'thy',\n",
       "  'beauty',\n",
       "  'lies',\n",
       "  'Where',\n",
       "  'all',\n",
       "  'the',\n",
       "  'treasure',\n",
       "  'of',\n",
       "  'thy',\n",
       "  'lusty',\n",
       "  'days',\n",
       "  'To',\n",
       "  'say',\n",
       "  'within',\n",
       "  'thine',\n",
       "  'own',\n",
       "  'deep-sunken',\n",
       "  'eyes',\n",
       "  'Were',\n",
       "  'an',\n",
       "  'all-eating',\n",
       "  'shame',\n",
       "  'and',\n",
       "  'thriftless',\n",
       "  'praise',\n",
       "  'How',\n",
       "  'much',\n",
       "  'more',\n",
       "  'praise',\n",
       "  'deserved',\n",
       "  'thy',\n",
       "  'beautys',\n",
       "  'use',\n",
       "  'If',\n",
       "  'thou',\n",
       "  'couldst',\n",
       "  'answer',\n",
       "  'This',\n",
       "  'fair',\n",
       "  'child',\n",
       "  'of',\n",
       "  'mine',\n",
       "  'Shall',\n",
       "  'sum',\n",
       "  'my',\n",
       "  'count',\n",
       "  'and',\n",
       "  'make',\n",
       "  'my',\n",
       "  'old',\n",
       "  'excuse',\n",
       "  'Proving',\n",
       "  'his',\n",
       "  'beauty',\n",
       "  'by',\n",
       "  'succession',\n",
       "  'thine',\n",
       "  'This',\n",
       "  'were',\n",
       "  'to',\n",
       "  'be',\n",
       "  'new',\n",
       "  'made',\n",
       "  'when',\n",
       "  'thou',\n",
       "  'art',\n",
       "  'old',\n",
       "  'And',\n",
       "  'see',\n",
       "  'thy',\n",
       "  'blood',\n",
       "  'warm',\n",
       "  'when',\n",
       "  'thou',\n",
       "  'feelst',\n",
       "  'it',\n",
       "  'cold']]"
      ]
     },
     "execution_count": 119,
     "metadata": {},
     "output_type": "execute_result"
    }
   ],
   "source": [
    "sonnet_words = []\n",
    "for each in sonnets_tokenized:\n",
    "    poem = []\n",
    "    for line in each:\n",
    "        poem.extend([x for x in line])\n",
    "    sonnet_words.append(poem)\n",
    "sonnet_words[:2]"
   ]
  },
  {
   "cell_type": "code",
   "execution_count": 120,
   "metadata": {
    "collapsed": true
   },
   "outputs": [
    {
     "data": {
      "text/plain": [
       "[105,\n",
       " 114,\n",
       " 115,\n",
       " 101,\n",
       " 104,\n",
       " 108,\n",
       " 100,\n",
       " 110,\n",
       " 117,\n",
       " 112,\n",
       " 116,\n",
       " 118,\n",
       " 108,\n",
       " 112,\n",
       " 111,\n",
       " 108,\n",
       " 124,\n",
       " 114,\n",
       " 115,\n",
       " 113]"
      ]
     },
     "execution_count": 120,
     "metadata": {},
     "output_type": "execute_result"
    }
   ],
   "source": [
    "sonnet_counts = [len(x) for x in sonnet_words]\n",
    "sonnet_counts[:20]"
   ]
  },
  {
   "cell_type": "code",
   "execution_count": 121,
   "metadata": {
    "collapsed": true
   },
   "outputs": [
    {
     "data": {
      "text/plain": [
       "[0.6,\n",
       " 0.5701754385964912,\n",
       " 0.4782608695652174,\n",
       " 0.594059405940594,\n",
       " 0.5384615384615384,\n",
       " 0.5462962962962963,\n",
       " 0.6,\n",
       " 0.5727272727272728,\n",
       " 0.5470085470085471,\n",
       " 0.5178571428571429,\n",
       " 0.5344827586206896,\n",
       " 0.559322033898305,\n",
       " 0.4444444444444444,\n",
       " 0.4732142857142857,\n",
       " 0.5225225225225225,\n",
       " 0.5555555555555556,\n",
       " 0.5,\n",
       " 0.5350877192982456,\n",
       " 0.591304347826087,\n",
       " 0.5575221238938053]"
      ]
     },
     "execution_count": 121,
     "metadata": {},
     "output_type": "execute_result"
    }
   ],
   "source": [
    "nonstop_counts = []\n",
    "for i, poem in enumerate(sonnet_words):\n",
    "    nonstop_tokens = [tok for tok in poem if len(tok.lower())>1 and (tok.lower() not in stop_words)]\n",
    "    thiscount = len(nonstop_tokens) / sonnet_counts[i]\n",
    "    nonstop_counts.append(thiscount)\n",
    "nonstop_counts[:20]"
   ]
  },
  {
   "cell_type": "code",
   "execution_count": 131,
   "metadata": {},
   "outputs": [
    {
     "data": {
      "text/plain": [
       "(0.0, 1.0)"
      ]
     },
     "execution_count": 131,
     "metadata": {},
     "output_type": "execute_result"
    },
    {
     "data": {
      "image/png": "[encoded data removed]",
      "text/plain": [
       "<Figure size 432x288 with 1 Axes>"
      ]
     },
     "metadata": {
      "needs_background": "light"
     },
     "output_type": "display_data"
    }
   ],
   "source": [
    "import numpy as np\n",
    "import matplotlib.pyplot as plt\n",
    "\n",
    "fig1, ax1 = plt.subplots()\n",
    "ax1.set_title('Box Plot of Proportions of Non-Stop-Words \\nusing all words in all sonnets', size = 22)\n",
    "ax1.boxplot(nonstop_counts)\n",
    "plt.ylim([0,1])"
   ]
  },
  {
   "cell_type": "code",
   "execution_count": 137,
   "metadata": {},
   "outputs": [
    {
     "data": {
      "text/plain": [
       "(0.0, 40.0)"
      ]
     },
     "execution_count": 137,
     "metadata": {},
     "output_type": "execute_result"
    },
    {
     "data": {
      "image/png": "[encoded data removed]",
      "text/plain": [
       "<Figure size 432x288 with 1 Axes>"
      ]
     },
     "metadata": {
      "needs_background": "light"
     },
     "output_type": "display_data"
    }
   ],
   "source": [
    "import matplotlib.pyplot as plt\n",
    "\n",
    "# An \"interface\" to matplotlib.axes.Axes.hist() method\n",
    "n, bins, patches = plt.hist(x=nonstop_counts, bins='auto', color='blue')\n",
    "plt.grid(axis='y', alpha=0.75)\n",
    "plt.xlabel('% of Non-stop-words')\n",
    "plt.ylabel('Counts of such Sonnets')\n",
    "plt.title('Histogram of Non-Stop-Words Proportions', size = 22)\n",
    "maxfreq = n.max()\n",
    "# Set a clean upper y-axis limit.\n",
    "plt.ylim(ymax=np.ceil(maxfreq / 10) * 10 if maxfreq % 10 else maxfreq + 10)"
   ]
  },
  {
   "cell_type": "code",
   "execution_count": 142,
   "metadata": {},
   "outputs": [
    {
     "data": {
      "text/plain": [
       "[['increase',\n",
       "  'die',\n",
       "  'decease',\n",
       "  'memory',\n",
       "  'eyes',\n",
       "  'fuel',\n",
       "  'lies',\n",
       "  'cruel',\n",
       "  'ornament',\n",
       "  'spring',\n",
       "  'content',\n",
       "  'niggarding',\n",
       "  'be',\n",
       "  'thee'],\n",
       " ['brow',\n",
       "  'field',\n",
       "  'now',\n",
       "  'held',\n",
       "  'lies',\n",
       "  'days',\n",
       "  'eyes',\n",
       "  'praise',\n",
       "  'use',\n",
       "  'mine',\n",
       "  'excuse',\n",
       "  'thine',\n",
       "  'old',\n",
       "  'cold'],\n",
       " ['viewest',\n",
       "  'another',\n",
       "  'renewest',\n",
       "  'mother',\n",
       "  'womb',\n",
       "  'husbandry',\n",
       "  'tomb',\n",
       "  'posterity',\n",
       "  'thee',\n",
       "  'prime',\n",
       "  'see',\n",
       "  'time',\n",
       "  'be',\n",
       "  'thee'],\n",
       " ['spend',\n",
       "  'legacy',\n",
       "  'lend',\n",
       "  'free',\n",
       "  'abuse',\n",
       "  'give',\n",
       "  'use',\n",
       "  'live',\n",
       "  'alone',\n",
       "  'deceive',\n",
       "  'gone',\n",
       "  'leave',\n",
       "  'thee',\n",
       "  'be'],\n",
       " ['frame',\n",
       "  'dwell',\n",
       "  'same',\n",
       "  'excel',\n",
       "  'on',\n",
       "  'there',\n",
       "  'gone',\n",
       "  'where',\n",
       "  'left',\n",
       "  'glass',\n",
       "  'bereft',\n",
       "  'was',\n",
       "  'meet',\n",
       "  'sweet'],\n",
       " ['deface',\n",
       "  'distilled',\n",
       "  'place',\n",
       "  'self-killed',\n",
       "  'usury',\n",
       "  'loan',\n",
       "  'thee',\n",
       "  'one',\n",
       "  'art',\n",
       "  'thee',\n",
       "  'depart',\n",
       "  'posterity',\n",
       "  'fair',\n",
       "  'heir'],\n",
       " ['light',\n",
       "  'eye',\n",
       "  'sight',\n",
       "  'majesty',\n",
       "  'hill',\n",
       "  'age',\n",
       "  'still',\n",
       "  'pilgrimage',\n",
       "  'car',\n",
       "  'day',\n",
       "  'are',\n",
       "  'way',\n",
       "  'noon',\n",
       "  'son'],\n",
       " ['sadly',\n",
       "  'joy',\n",
       "  'gladly',\n",
       "  'annoy',\n",
       "  'sounds',\n",
       "  'ear',\n",
       "  'confounds',\n",
       "  'bear',\n",
       "  'another',\n",
       "  'ordering',\n",
       "  'mother',\n",
       "  'sing',\n",
       "  'one',\n",
       "  'none'],\n",
       " ['eye',\n",
       "  'life',\n",
       "  'die',\n",
       "  'wife',\n",
       "  'weep',\n",
       "  'behind',\n",
       "  'keep',\n",
       "  'mind',\n",
       "  'spend',\n",
       "  'it',\n",
       "  'end',\n",
       "  'it',\n",
       "  'sits',\n",
       "  'commits'],\n",
       " ['any',\n",
       "  'unprovident',\n",
       "  'many',\n",
       "  'evident',\n",
       "  'hate',\n",
       "  'conspire',\n",
       "  'ruinate',\n",
       "  'desire',\n",
       "  'mind',\n",
       "  'love',\n",
       "  'kind',\n",
       "  'prove',\n",
       "  'me',\n",
       "  'thee']]"
      ]
     },
     "execution_count": 142,
     "metadata": {},
     "output_type": "execute_result"
    }
   ],
   "source": [
    "separated_rhyme_words = []\n",
    "for each in sonnets_tokenized:\n",
    "    poem = []\n",
    "    for line in each:\n",
    "        poem.append(line[-1])\n",
    "    separated_rhyme_words.append(poem)\n",
    "separated_rhyme_words[:10]"
   ]
  },
  {
   "cell_type": "code",
   "execution_count": 143,
   "metadata": {
    "collapsed": true
   },
   "outputs": [
    {
     "data": {
      "text/plain": [
       "[14,\n",
       " 14,\n",
       " 14,\n",
       " 14,\n",
       " 14,\n",
       " 14,\n",
       " 14,\n",
       " 14,\n",
       " 14,\n",
       " 14,\n",
       " 14,\n",
       " 14,\n",
       " 14,\n",
       " 14,\n",
       " 14,\n",
       " 14,\n",
       " 14,\n",
       " 14,\n",
       " 14,\n",
       " 14]"
      ]
     },
     "execution_count": 143,
     "metadata": {},
     "output_type": "execute_result"
    }
   ],
   "source": [
    "rhyme_counts = [len(x) for x in separated_rhyme_words]\n",
    "# and this is predictably boring: \n",
    "rhyme_counts[:20]"
   ]
  },
  {
   "cell_type": "code",
   "execution_count": 161,
   "metadata": {
    "collapsed": true
   },
   "outputs": [
    {
     "name": "stdout",
     "output_type": "stream",
     "text": [
      "[0.8571428571428571]\n",
      "[0.8571428571428571, 0.7857142857142857]\n",
      "[0.8571428571428571, 0.7857142857142857, 0.7857142857142857]\n",
      "[0.8571428571428571, 0.7857142857142857, 0.7857142857142857, 0.8571428571428571]\n",
      "[0.8571428571428571, 0.7857142857142857, 0.7857142857142857, 0.8571428571428571, 0.6428571428571429]\n",
      "[0.8571428571428571, 0.7857142857142857, 0.7857142857142857, 0.8571428571428571, 0.6428571428571429, 0.8571428571428571]\n",
      "[0.8571428571428571, 0.7857142857142857, 0.7857142857142857, 0.8571428571428571, 0.6428571428571429, 0.8571428571428571, 0.9285714285714286]\n",
      "[0.8571428571428571, 0.7857142857142857, 0.7857142857142857, 0.8571428571428571, 0.6428571428571429, 0.8571428571428571, 0.9285714285714286, 1.0]\n",
      "[0.8571428571428571, 0.7857142857142857, 0.7857142857142857, 0.8571428571428571, 0.6428571428571429, 0.8571428571428571, 0.9285714285714286, 1.0, 0.8571428571428571]\n",
      "[0.8571428571428571, 0.7857142857142857, 0.7857142857142857, 0.8571428571428571, 0.6428571428571429, 0.8571428571428571, 0.9285714285714286, 1.0, 0.8571428571428571, 0.7857142857142857]\n",
      "[0.8571428571428571, 0.7857142857142857, 0.7857142857142857, 0.8571428571428571, 0.6428571428571429, 0.8571428571428571, 0.9285714285714286, 1.0, 0.8571428571428571, 0.7857142857142857, 0.9285714285714286]\n",
      "[0.8571428571428571, 0.7857142857142857, 0.7857142857142857, 0.8571428571428571, 0.6428571428571429, 0.8571428571428571, 0.9285714285714286, 1.0, 0.8571428571428571, 0.7857142857142857, 0.9285714285714286, 1.0]\n",
      "[0.8571428571428571, 0.7857142857142857, 0.7857142857142857, 0.8571428571428571, 0.6428571428571429, 0.8571428571428571, 0.9285714285714286, 1.0, 0.8571428571428571, 0.7857142857142857, 0.9285714285714286, 1.0, 0.7857142857142857]\n",
      "[0.8571428571428571, 0.7857142857142857, 0.7857142857142857, 0.8571428571428571, 0.6428571428571429, 0.8571428571428571, 0.9285714285714286, 1.0, 0.8571428571428571, 0.7857142857142857, 0.9285714285714286, 1.0, 0.7857142857142857, 1.0]\n",
      "[0.8571428571428571, 0.7857142857142857, 0.7857142857142857, 0.8571428571428571, 0.6428571428571429, 0.8571428571428571, 0.9285714285714286, 1.0, 0.8571428571428571, 0.7857142857142857, 0.9285714285714286, 1.0, 0.7857142857142857, 1.0, 0.9285714285714286]\n",
      "[0.8571428571428571, 0.7857142857142857, 0.7857142857142857, 0.8571428571428571, 0.6428571428571429, 0.8571428571428571, 0.9285714285714286, 1.0, 0.8571428571428571, 0.7857142857142857, 0.9285714285714286, 1.0, 0.7857142857142857, 1.0, 0.9285714285714286, 1.0]\n",
      "[0.8571428571428571, 0.7857142857142857, 0.7857142857142857, 0.8571428571428571, 0.6428571428571429, 0.8571428571428571, 0.9285714285714286, 1.0, 0.8571428571428571, 0.7857142857142857, 0.9285714285714286, 1.0, 0.7857142857142857, 1.0, 0.9285714285714286, 1.0, 1.0]\n",
      "[0.8571428571428571, 0.7857142857142857, 0.7857142857142857, 0.8571428571428571, 0.6428571428571429, 0.8571428571428571, 0.9285714285714286, 1.0, 0.8571428571428571, 0.7857142857142857, 0.9285714285714286, 1.0, 0.7857142857142857, 1.0, 0.9285714285714286, 1.0, 1.0, 0.9285714285714286]\n",
      "[0.8571428571428571, 0.7857142857142857, 0.7857142857142857, 0.8571428571428571, 0.6428571428571429, 0.8571428571428571, 0.9285714285714286, 1.0, 0.8571428571428571, 0.7857142857142857, 0.9285714285714286, 1.0, 0.7857142857142857, 1.0, 0.9285714285714286, 1.0, 1.0, 0.9285714285714286, 1.0]\n",
      "[0.8571428571428571, 0.7857142857142857, 0.7857142857142857, 0.8571428571428571, 0.6428571428571429, 0.8571428571428571, 0.9285714285714286, 1.0, 0.8571428571428571, 0.7857142857142857, 0.9285714285714286, 1.0, 0.7857142857142857, 1.0, 0.9285714285714286, 1.0, 1.0, 0.9285714285714286, 1.0, 1.0]\n",
      "[0.8571428571428571, 0.7857142857142857, 0.7857142857142857, 0.8571428571428571, 0.6428571428571429, 0.8571428571428571, 0.9285714285714286, 1.0, 0.8571428571428571, 0.7857142857142857, 0.9285714285714286, 1.0, 0.7857142857142857, 1.0, 0.9285714285714286, 1.0, 1.0, 0.9285714285714286, 1.0, 1.0, 1.0]\n",
      "[0.8571428571428571, 0.7857142857142857, 0.7857142857142857, 0.8571428571428571, 0.6428571428571429, 0.8571428571428571, 0.9285714285714286, 1.0, 0.8571428571428571, 0.7857142857142857, 0.9285714285714286, 1.0, 0.7857142857142857, 1.0, 0.9285714285714286, 1.0, 1.0, 0.9285714285714286, 1.0, 1.0, 1.0, 0.7142857142857143]\n",
      "[0.8571428571428571, 0.7857142857142857, 0.7857142857142857, 0.8571428571428571, 0.6428571428571429, 0.8571428571428571, 0.9285714285714286, 1.0, 0.8571428571428571, 0.7857142857142857, 0.9285714285714286, 1.0, 0.7857142857142857, 1.0, 0.9285714285714286, 1.0, 1.0, 0.9285714285714286, 1.0, 1.0, 1.0, 0.7142857142857143, 1.0]\n",
      "[0.8571428571428571, 0.7857142857142857, 0.7857142857142857, 0.8571428571428571, 0.6428571428571429, 0.8571428571428571, 0.9285714285714286, 1.0, 0.8571428571428571, 0.7857142857142857, 0.9285714285714286, 1.0, 0.7857142857142857, 1.0, 0.9285714285714286, 1.0, 1.0, 0.9285714285714286, 1.0, 1.0, 1.0, 0.7142857142857143, 1.0, 0.8571428571428571]\n",
      "[0.8571428571428571, 0.7857142857142857, 0.7857142857142857, 0.8571428571428571, 0.6428571428571429, 0.8571428571428571, 0.9285714285714286, 1.0, 0.8571428571428571, 0.7857142857142857, 0.9285714285714286, 1.0, 0.7857142857142857, 1.0, 0.9285714285714286, 1.0, 1.0, 0.9285714285714286, 1.0, 1.0, 1.0, 0.7142857142857143, 1.0, 0.8571428571428571, 0.9285714285714286]\n",
      "[0.8571428571428571, 0.7857142857142857, 0.7857142857142857, 0.8571428571428571, 0.6428571428571429, 0.8571428571428571, 0.9285714285714286, 1.0, 0.8571428571428571, 0.7857142857142857, 0.9285714285714286, 1.0, 0.7857142857142857, 1.0, 0.9285714285714286, 1.0, 1.0, 0.9285714285714286, 1.0, 1.0, 1.0, 0.7142857142857143, 1.0, 0.8571428571428571, 0.9285714285714286, 0.5714285714285714]\n",
      "[0.8571428571428571, 0.7857142857142857, 0.7857142857142857, 0.8571428571428571, 0.6428571428571429, 0.8571428571428571, 0.9285714285714286, 1.0, 0.8571428571428571, 0.7857142857142857, 0.9285714285714286, 1.0, 0.7857142857142857, 1.0, 0.9285714285714286, 1.0, 1.0, 0.9285714285714286, 1.0, 1.0, 1.0, 0.7142857142857143, 1.0, 0.8571428571428571, 0.9285714285714286, 0.5714285714285714, 0.9285714285714286]\n",
      "[0.8571428571428571, 0.7857142857142857, 0.7857142857142857, 0.8571428571428571, 0.6428571428571429, 0.8571428571428571, 0.9285714285714286, 1.0, 0.8571428571428571, 0.7857142857142857, 0.9285714285714286, 1.0, 0.7857142857142857, 1.0, 0.9285714285714286, 1.0, 1.0, 0.9285714285714286, 1.0, 1.0, 1.0, 0.7142857142857143, 1.0, 0.8571428571428571, 0.9285714285714286, 0.5714285714285714, 0.9285714285714286, 0.8666666666666667]\n",
      "[0.8571428571428571, 0.7857142857142857, 0.7857142857142857, 0.8571428571428571, 0.6428571428571429, 0.8571428571428571, 0.9285714285714286, 1.0, 0.8571428571428571, 0.7857142857142857, 0.9285714285714286, 1.0, 0.7857142857142857, 1.0, 0.9285714285714286, 1.0, 1.0, 0.9285714285714286, 1.0, 1.0, 1.0, 0.7142857142857143, 1.0, 0.8571428571428571, 0.9285714285714286, 0.5714285714285714, 0.9285714285714286, 0.8666666666666667, 1.0]\n",
      "[0.8571428571428571, 0.7857142857142857, 0.7857142857142857, 0.8571428571428571, 0.6428571428571429, 0.8571428571428571, 0.9285714285714286, 1.0, 0.8571428571428571, 0.7857142857142857, 0.9285714285714286, 1.0, 0.7857142857142857, 1.0, 0.9285714285714286, 1.0, 1.0, 0.9285714285714286, 1.0, 1.0, 1.0, 0.7142857142857143, 1.0, 0.8571428571428571, 0.9285714285714286, 0.5714285714285714, 0.9285714285714286, 0.8666666666666667, 1.0, 0.9285714285714286]\n",
      "[0.8571428571428571, 0.7857142857142857, 0.7857142857142857, 0.8571428571428571, 0.6428571428571429, 0.8571428571428571, 0.9285714285714286, 1.0, 0.8571428571428571, 0.7857142857142857, 0.9285714285714286, 1.0, 0.7857142857142857, 1.0, 0.9285714285714286, 1.0, 1.0, 0.9285714285714286, 1.0, 1.0, 1.0, 0.7142857142857143, 1.0, 0.8571428571428571, 0.9285714285714286, 0.5714285714285714, 0.9285714285714286, 0.8666666666666667, 1.0, 0.9285714285714286, 0.8571428571428571]\n",
      "[0.8571428571428571, 0.7857142857142857, 0.7857142857142857, 0.8571428571428571, 0.6428571428571429, 0.8571428571428571, 0.9285714285714286, 1.0, 0.8571428571428571, 0.7857142857142857, 0.9285714285714286, 1.0, 0.7857142857142857, 1.0, 0.9285714285714286, 1.0, 1.0, 0.9285714285714286, 1.0, 1.0, 1.0, 0.7142857142857143, 1.0, 0.8571428571428571, 0.9285714285714286, 0.5714285714285714, 0.9285714285714286, 0.8666666666666667, 1.0, 0.9285714285714286, 0.8571428571428571, 1.0]\n",
      "[0.8571428571428571, 0.7857142857142857, 0.7857142857142857, 0.8571428571428571, 0.6428571428571429, 0.8571428571428571, 0.9285714285714286, 1.0, 0.8571428571428571, 0.7857142857142857, 0.9285714285714286, 1.0, 0.7857142857142857, 1.0, 0.9285714285714286, 1.0, 1.0, 0.9285714285714286, 1.0, 1.0, 1.0, 0.7142857142857143, 1.0, 0.8571428571428571, 0.9285714285714286, 0.5714285714285714, 0.9285714285714286, 0.8666666666666667, 1.0, 0.9285714285714286, 0.8571428571428571, 1.0, 0.8571428571428571]\n",
      "[0.8571428571428571, 0.7857142857142857, 0.7857142857142857, 0.8571428571428571, 0.6428571428571429, 0.8571428571428571, 0.9285714285714286, 1.0, 0.8571428571428571, 0.7857142857142857, 0.9285714285714286, 1.0, 0.7857142857142857, 1.0, 0.9285714285714286, 1.0, 1.0, 0.9285714285714286, 1.0, 1.0, 1.0, 0.7142857142857143, 1.0, 0.8571428571428571, 0.9285714285714286, 0.5714285714285714, 0.9285714285714286, 0.8666666666666667, 1.0, 0.9285714285714286, 0.8571428571428571, 1.0, 0.8571428571428571, 1.0]\n",
      "[0.8571428571428571, 0.7857142857142857, 0.7857142857142857, 0.8571428571428571, 0.6428571428571429, 0.8571428571428571, 0.9285714285714286, 1.0, 0.8571428571428571, 0.7857142857142857, 0.9285714285714286, 1.0, 0.7857142857142857, 1.0, 0.9285714285714286, 1.0, 1.0, 0.9285714285714286, 1.0, 1.0, 1.0, 0.7142857142857143, 1.0, 0.8571428571428571, 0.9285714285714286, 0.5714285714285714, 0.9285714285714286, 0.8666666666666667, 1.0, 0.9285714285714286, 0.8571428571428571, 1.0, 0.8571428571428571, 1.0, 0.7142857142857143]\n",
      "[0.8571428571428571, 0.7857142857142857, 0.7857142857142857, 0.8571428571428571, 0.6428571428571429, 0.8571428571428571, 0.9285714285714286, 1.0, 0.8571428571428571, 0.7857142857142857, 0.9285714285714286, 1.0, 0.7857142857142857, 1.0, 0.9285714285714286, 1.0, 1.0, 0.9285714285714286, 1.0, 1.0, 1.0, 0.7142857142857143, 1.0, 0.8571428571428571, 0.9285714285714286, 0.5714285714285714, 0.9285714285714286, 0.8666666666666667, 1.0, 0.9285714285714286, 0.8571428571428571, 1.0, 0.8571428571428571, 1.0, 0.7142857142857143, 0.8571428571428571]\n",
      "[0.8571428571428571, 0.7857142857142857, 0.7857142857142857, 0.8571428571428571, 0.6428571428571429, 0.8571428571428571, 0.9285714285714286, 1.0, 0.8571428571428571, 0.7857142857142857, 0.9285714285714286, 1.0, 0.7857142857142857, 1.0, 0.9285714285714286, 1.0, 1.0, 0.9285714285714286, 1.0, 1.0, 1.0, 0.7142857142857143, 1.0, 0.8571428571428571, 0.9285714285714286, 0.5714285714285714, 0.9285714285714286, 0.8666666666666667, 1.0, 0.9285714285714286, 0.8571428571428571, 1.0, 0.8571428571428571, 1.0, 0.7142857142857143, 0.8571428571428571, 0.7857142857142857]\n",
      "[0.8571428571428571, 0.7857142857142857, 0.7857142857142857, 0.8571428571428571, 0.6428571428571429, 0.8571428571428571, 0.9285714285714286, 1.0, 0.8571428571428571, 0.7857142857142857, 0.9285714285714286, 1.0, 0.7857142857142857, 1.0, 0.9285714285714286, 1.0, 1.0, 0.9285714285714286, 1.0, 1.0, 1.0, 0.7142857142857143, 1.0, 0.8571428571428571, 0.9285714285714286, 0.5714285714285714, 0.9285714285714286, 0.8666666666666667, 1.0, 0.9285714285714286, 0.8571428571428571, 1.0, 0.8571428571428571, 1.0, 0.7142857142857143, 0.8571428571428571, 0.7857142857142857, 0.8571428571428571]\n",
      "[0.8571428571428571, 0.7857142857142857, 0.7857142857142857, 0.8571428571428571, 0.6428571428571429, 0.8571428571428571, 0.9285714285714286, 1.0, 0.8571428571428571, 0.7857142857142857, 0.9285714285714286, 1.0, 0.7857142857142857, 1.0, 0.9285714285714286, 1.0, 1.0, 0.9285714285714286, 1.0, 1.0, 1.0, 0.7142857142857143, 1.0, 0.8571428571428571, 0.9285714285714286, 0.5714285714285714, 0.9285714285714286, 0.8666666666666667, 1.0, 0.9285714285714286, 0.8571428571428571, 1.0, 0.8571428571428571, 1.0, 0.7142857142857143, 0.8571428571428571, 0.7857142857142857, 0.8571428571428571, 0.8571428571428571]\n",
      "[0.8571428571428571, 0.7857142857142857, 0.7857142857142857, 0.8571428571428571, 0.6428571428571429, 0.8571428571428571, 0.9285714285714286, 1.0, 0.8571428571428571, 0.7857142857142857, 0.9285714285714286, 1.0, 0.7857142857142857, 1.0, 0.9285714285714286, 1.0, 1.0, 0.9285714285714286, 1.0, 1.0, 1.0, 0.7142857142857143, 1.0, 0.8571428571428571, 0.9285714285714286, 0.5714285714285714, 0.9285714285714286, 0.8666666666666667, 1.0, 0.9285714285714286, 0.8571428571428571, 1.0, 0.8571428571428571, 1.0, 0.7142857142857143, 0.8571428571428571, 0.7857142857142857, 0.8571428571428571, 0.8571428571428571, 0.7857142857142857]\n",
      "[0.8571428571428571, 0.7857142857142857, 0.7857142857142857, 0.8571428571428571, 0.6428571428571429, 0.8571428571428571, 0.9285714285714286, 1.0, 0.8571428571428571, 0.7857142857142857, 0.9285714285714286, 1.0, 0.7857142857142857, 1.0, 0.9285714285714286, 1.0, 1.0, 0.9285714285714286, 1.0, 1.0, 1.0, 0.7142857142857143, 1.0, 0.8571428571428571, 0.9285714285714286, 0.5714285714285714, 0.9285714285714286, 0.8666666666666667, 1.0, 0.9285714285714286, 0.8571428571428571, 1.0, 0.8571428571428571, 1.0, 0.7142857142857143, 0.8571428571428571, 0.7857142857142857, 0.8571428571428571, 0.8571428571428571, 0.7857142857142857, 0.7142857142857143]\n",
      "[0.8571428571428571, 0.7857142857142857, 0.7857142857142857, 0.8571428571428571, 0.6428571428571429, 0.8571428571428571, 0.9285714285714286, 1.0, 0.8571428571428571, 0.7857142857142857, 0.9285714285714286, 1.0, 0.7857142857142857, 1.0, 0.9285714285714286, 1.0, 1.0, 0.9285714285714286, 1.0, 1.0, 1.0, 0.7142857142857143, 1.0, 0.8571428571428571, 0.9285714285714286, 0.5714285714285714, 0.9285714285714286, 0.8666666666666667, 1.0, 0.9285714285714286, 0.8571428571428571, 1.0, 0.8571428571428571, 1.0, 0.7142857142857143, 0.8571428571428571, 0.7857142857142857, 0.8571428571428571, 0.8571428571428571, 0.7857142857142857, 0.7142857142857143, 0.7857142857142857]\n",
      "[0.8571428571428571, 0.7857142857142857, 0.7857142857142857, 0.8571428571428571, 0.6428571428571429, 0.8571428571428571, 0.9285714285714286, 1.0, 0.8571428571428571, 0.7857142857142857, 0.9285714285714286, 1.0, 0.7857142857142857, 1.0, 0.9285714285714286, 1.0, 1.0, 0.9285714285714286, 1.0, 1.0, 1.0, 0.7142857142857143, 1.0, 0.8571428571428571, 0.9285714285714286, 0.5714285714285714, 0.9285714285714286, 0.8666666666666667, 1.0, 0.9285714285714286, 0.8571428571428571, 1.0, 0.8571428571428571, 1.0, 0.7142857142857143, 0.8571428571428571, 0.7857142857142857, 0.8571428571428571, 0.8571428571428571, 0.7857142857142857, 0.7142857142857143, 0.7857142857142857, 0.7142857142857143]\n",
      "[0.8571428571428571, 0.7857142857142857, 0.7857142857142857, 0.8571428571428571, 0.6428571428571429, 0.8571428571428571, 0.9285714285714286, 1.0, 0.8571428571428571, 0.7857142857142857, 0.9285714285714286, 1.0, 0.7857142857142857, 1.0, 0.9285714285714286, 1.0, 1.0, 0.9285714285714286, 1.0, 1.0, 1.0, 0.7142857142857143, 1.0, 0.8571428571428571, 0.9285714285714286, 0.5714285714285714, 0.9285714285714286, 0.8666666666666667, 1.0, 0.9285714285714286, 0.8571428571428571, 1.0, 0.8571428571428571, 1.0, 0.7142857142857143, 0.8571428571428571, 0.7857142857142857, 0.8571428571428571, 0.8571428571428571, 0.7857142857142857, 0.7142857142857143, 0.7857142857142857, 0.7142857142857143, 0.8571428571428571]\n",
      "[0.8571428571428571, 0.7857142857142857, 0.7857142857142857, 0.8571428571428571, 0.6428571428571429, 0.8571428571428571, 0.9285714285714286, 1.0, 0.8571428571428571, 0.7857142857142857, 0.9285714285714286, 1.0, 0.7857142857142857, 1.0, 0.9285714285714286, 1.0, 1.0, 0.9285714285714286, 1.0, 1.0, 1.0, 0.7142857142857143, 1.0, 0.8571428571428571, 0.9285714285714286, 0.5714285714285714, 0.9285714285714286, 0.8666666666666667, 1.0, 0.9285714285714286, 0.8571428571428571, 1.0, 0.8571428571428571, 1.0, 0.7142857142857143, 0.8571428571428571, 0.7857142857142857, 0.8571428571428571, 0.8571428571428571, 0.7857142857142857, 0.7142857142857143, 0.7857142857142857, 0.7142857142857143, 0.8571428571428571, 0.7857142857142857]\n",
      "[0.8571428571428571, 0.7857142857142857, 0.7857142857142857, 0.8571428571428571, 0.6428571428571429, 0.8571428571428571, 0.9285714285714286, 1.0, 0.8571428571428571, 0.7857142857142857, 0.9285714285714286, 1.0, 0.7857142857142857, 1.0, 0.9285714285714286, 1.0, 1.0, 0.9285714285714286, 1.0, 1.0, 1.0, 0.7142857142857143, 1.0, 0.8571428571428571, 0.9285714285714286, 0.5714285714285714, 0.9285714285714286, 0.8666666666666667, 1.0, 0.9285714285714286, 0.8571428571428571, 1.0, 0.8571428571428571, 1.0, 0.7142857142857143, 0.8571428571428571, 0.7857142857142857, 0.8571428571428571, 0.8571428571428571, 0.7857142857142857, 0.7142857142857143, 0.7857142857142857, 0.7142857142857143, 0.8571428571428571, 0.7857142857142857, 1.0]\n",
      "[0.8571428571428571, 0.7857142857142857, 0.7857142857142857, 0.8571428571428571, 0.6428571428571429, 0.8571428571428571, 0.9285714285714286, 1.0, 0.8571428571428571, 0.7857142857142857, 0.9285714285714286, 1.0, 0.7857142857142857, 1.0, 0.9285714285714286, 1.0, 1.0, 0.9285714285714286, 1.0, 1.0, 1.0, 0.7142857142857143, 1.0, 0.8571428571428571, 0.9285714285714286, 0.5714285714285714, 0.9285714285714286, 0.8666666666666667, 1.0, 0.9285714285714286, 0.8571428571428571, 1.0, 0.8571428571428571, 1.0, 0.7142857142857143, 0.8571428571428571, 0.7857142857142857, 0.8571428571428571, 0.8571428571428571, 0.7857142857142857, 0.7142857142857143, 0.7857142857142857, 0.7142857142857143, 0.8571428571428571, 0.7857142857142857, 1.0, 0.7857142857142857]\n",
      "[0.8571428571428571, 0.7857142857142857, 0.7857142857142857, 0.8571428571428571, 0.6428571428571429, 0.8571428571428571, 0.9285714285714286, 1.0, 0.8571428571428571, 0.7857142857142857, 0.9285714285714286, 1.0, 0.7857142857142857, 1.0, 0.9285714285714286, 1.0, 1.0, 0.9285714285714286, 1.0, 1.0, 1.0, 0.7142857142857143, 1.0, 0.8571428571428571, 0.9285714285714286, 0.5714285714285714, 0.9285714285714286, 0.8666666666666667, 1.0, 0.9285714285714286, 0.8571428571428571, 1.0, 0.8571428571428571, 1.0, 0.7142857142857143, 0.8571428571428571, 0.7857142857142857, 0.8571428571428571, 0.8571428571428571, 0.7857142857142857, 0.7142857142857143, 0.7857142857142857, 0.7142857142857143, 0.8571428571428571, 0.7857142857142857, 1.0, 0.7857142857142857, 0.9285714285714286]\n",
      "[0.8571428571428571, 0.7857142857142857, 0.7857142857142857, 0.8571428571428571, 0.6428571428571429, 0.8571428571428571, 0.9285714285714286, 1.0, 0.8571428571428571, 0.7857142857142857, 0.9285714285714286, 1.0, 0.7857142857142857, 1.0, 0.9285714285714286, 1.0, 1.0, 0.9285714285714286, 1.0, 1.0, 1.0, 0.7142857142857143, 1.0, 0.8571428571428571, 0.9285714285714286, 0.5714285714285714, 0.9285714285714286, 0.8666666666666667, 1.0, 0.9285714285714286, 0.8571428571428571, 1.0, 0.8571428571428571, 1.0, 0.7142857142857143, 0.8571428571428571, 0.7857142857142857, 0.8571428571428571, 0.8571428571428571, 0.7857142857142857, 0.7142857142857143, 0.7857142857142857, 0.7142857142857143, 0.8571428571428571, 0.7857142857142857, 1.0, 0.7857142857142857, 0.9285714285714286, 0.8571428571428571]\n",
      "[0.8571428571428571, 0.7857142857142857, 0.7857142857142857, 0.8571428571428571, 0.6428571428571429, 0.8571428571428571, 0.9285714285714286, 1.0, 0.8571428571428571, 0.7857142857142857, 0.9285714285714286, 1.0, 0.7857142857142857, 1.0, 0.9285714285714286, 1.0, 1.0, 0.9285714285714286, 1.0, 1.0, 1.0, 0.7142857142857143, 1.0, 0.8571428571428571, 0.9285714285714286, 0.5714285714285714, 0.9285714285714286, 0.8666666666666667, 1.0, 0.9285714285714286, 0.8571428571428571, 1.0, 0.8571428571428571, 1.0, 0.7142857142857143, 0.8571428571428571, 0.7857142857142857, 0.8571428571428571, 0.8571428571428571, 0.7857142857142857, 0.7142857142857143, 0.7857142857142857, 0.7142857142857143, 0.8571428571428571, 0.7857142857142857, 1.0, 0.7857142857142857, 0.9285714285714286, 0.8571428571428571, 0.7857142857142857]\n",
      "[0.8571428571428571, 0.7857142857142857, 0.7857142857142857, 0.8571428571428571, 0.6428571428571429, 0.8571428571428571, 0.9285714285714286, 1.0, 0.8571428571428571, 0.7857142857142857, 0.9285714285714286, 1.0, 0.7857142857142857, 1.0, 0.9285714285714286, 1.0, 1.0, 0.9285714285714286, 1.0, 1.0, 1.0, 0.7142857142857143, 1.0, 0.8571428571428571, 0.9285714285714286, 0.5714285714285714, 0.9285714285714286, 0.8666666666666667, 1.0, 0.9285714285714286, 0.8571428571428571, 1.0, 0.8571428571428571, 1.0, 0.7142857142857143, 0.8571428571428571, 0.7857142857142857, 0.8571428571428571, 0.8571428571428571, 0.7857142857142857, 0.7142857142857143, 0.7857142857142857, 0.7142857142857143, 0.8571428571428571, 0.7857142857142857, 1.0, 0.7857142857142857, 0.9285714285714286, 0.8571428571428571, 0.7857142857142857, 1.0]\n",
      "[0.8571428571428571, 0.7857142857142857, 0.7857142857142857, 0.8571428571428571, 0.6428571428571429, 0.8571428571428571, 0.9285714285714286, 1.0, 0.8571428571428571, 0.7857142857142857, 0.9285714285714286, 1.0, 0.7857142857142857, 1.0, 0.9285714285714286, 1.0, 1.0, 0.9285714285714286, 1.0, 1.0, 1.0, 0.7142857142857143, 1.0, 0.8571428571428571, 0.9285714285714286, 0.5714285714285714, 0.9285714285714286, 0.8666666666666667, 1.0, 0.9285714285714286, 0.8571428571428571, 1.0, 0.8571428571428571, 1.0, 0.7142857142857143, 0.8571428571428571, 0.7857142857142857, 0.8571428571428571, 0.8571428571428571, 0.7857142857142857, 0.7142857142857143, 0.7857142857142857, 0.7142857142857143, 0.8571428571428571, 0.7857142857142857, 1.0, 0.7857142857142857, 0.9285714285714286, 0.8571428571428571, 0.7857142857142857, 1.0, 0.9285714285714286]\n",
      "[0.8571428571428571, 0.7857142857142857, 0.7857142857142857, 0.8571428571428571, 0.6428571428571429, 0.8571428571428571, 0.9285714285714286, 1.0, 0.8571428571428571, 0.7857142857142857, 0.9285714285714286, 1.0, 0.7857142857142857, 1.0, 0.9285714285714286, 1.0, 1.0, 0.9285714285714286, 1.0, 1.0, 1.0, 0.7142857142857143, 1.0, 0.8571428571428571, 0.9285714285714286, 0.5714285714285714, 0.9285714285714286, 0.8666666666666667, 1.0, 0.9285714285714286, 0.8571428571428571, 1.0, 0.8571428571428571, 1.0, 0.7142857142857143, 0.8571428571428571, 0.7857142857142857, 0.8571428571428571, 0.8571428571428571, 0.7857142857142857, 0.7142857142857143, 0.7857142857142857, 0.7142857142857143, 0.8571428571428571, 0.7857142857142857, 1.0, 0.7857142857142857, 0.9285714285714286, 0.8571428571428571, 0.7857142857142857, 1.0, 0.9285714285714286, 0.9285714285714286]\n",
      "[0.8571428571428571, 0.7857142857142857, 0.7857142857142857, 0.8571428571428571, 0.6428571428571429, 0.8571428571428571, 0.9285714285714286, 1.0, 0.8571428571428571, 0.7857142857142857, 0.9285714285714286, 1.0, 0.7857142857142857, 1.0, 0.9285714285714286, 1.0, 1.0, 0.9285714285714286, 1.0, 1.0, 1.0, 0.7142857142857143, 1.0, 0.8571428571428571, 0.9285714285714286, 0.5714285714285714, 0.9285714285714286, 0.8666666666666667, 1.0, 0.9285714285714286, 0.8571428571428571, 1.0, 0.8571428571428571, 1.0, 0.7142857142857143, 0.8571428571428571, 0.7857142857142857, 0.8571428571428571, 0.8571428571428571, 0.7857142857142857, 0.7142857142857143, 0.7857142857142857, 0.7142857142857143, 0.8571428571428571, 0.7857142857142857, 1.0, 0.7857142857142857, 0.9285714285714286, 0.8571428571428571, 0.7857142857142857, 1.0, 0.9285714285714286, 0.9285714285714286, 0.9285714285714286]\n",
      "[0.8571428571428571, 0.7857142857142857, 0.7857142857142857, 0.8571428571428571, 0.6428571428571429, 0.8571428571428571, 0.9285714285714286, 1.0, 0.8571428571428571, 0.7857142857142857, 0.9285714285714286, 1.0, 0.7857142857142857, 1.0, 0.9285714285714286, 1.0, 1.0, 0.9285714285714286, 1.0, 1.0, 1.0, 0.7142857142857143, 1.0, 0.8571428571428571, 0.9285714285714286, 0.5714285714285714, 0.9285714285714286, 0.8666666666666667, 1.0, 0.9285714285714286, 0.8571428571428571, 1.0, 0.8571428571428571, 1.0, 0.7142857142857143, 0.8571428571428571, 0.7857142857142857, 0.8571428571428571, 0.8571428571428571, 0.7857142857142857, 0.7142857142857143, 0.7857142857142857, 0.7142857142857143, 0.8571428571428571, 0.7857142857142857, 1.0, 0.7857142857142857, 0.9285714285714286, 0.8571428571428571, 0.7857142857142857, 1.0, 0.9285714285714286, 0.9285714285714286, 0.9285714285714286, 1.0]\n",
      "[0.8571428571428571, 0.7857142857142857, 0.7857142857142857, 0.8571428571428571, 0.6428571428571429, 0.8571428571428571, 0.9285714285714286, 1.0, 0.8571428571428571, 0.7857142857142857, 0.9285714285714286, 1.0, 0.7857142857142857, 1.0, 0.9285714285714286, 1.0, 1.0, 0.9285714285714286, 1.0, 1.0, 1.0, 0.7142857142857143, 1.0, 0.8571428571428571, 0.9285714285714286, 0.5714285714285714, 0.9285714285714286, 0.8666666666666667, 1.0, 0.9285714285714286, 0.8571428571428571, 1.0, 0.8571428571428571, 1.0, 0.7142857142857143, 0.8571428571428571, 0.7857142857142857, 0.8571428571428571, 0.8571428571428571, 0.7857142857142857, 0.7142857142857143, 0.7857142857142857, 0.7142857142857143, 0.8571428571428571, 0.7857142857142857, 1.0, 0.7857142857142857, 0.9285714285714286, 0.8571428571428571, 0.7857142857142857, 1.0, 0.9285714285714286, 0.9285714285714286, 0.9285714285714286, 1.0, 0.9285714285714286]\n",
      "[0.8571428571428571, 0.7857142857142857, 0.7857142857142857, 0.8571428571428571, 0.6428571428571429, 0.8571428571428571, 0.9285714285714286, 1.0, 0.8571428571428571, 0.7857142857142857, 0.9285714285714286, 1.0, 0.7857142857142857, 1.0, 0.9285714285714286, 1.0, 1.0, 0.9285714285714286, 1.0, 1.0, 1.0, 0.7142857142857143, 1.0, 0.8571428571428571, 0.9285714285714286, 0.5714285714285714, 0.9285714285714286, 0.8666666666666667, 1.0, 0.9285714285714286, 0.8571428571428571, 1.0, 0.8571428571428571, 1.0, 0.7142857142857143, 0.8571428571428571, 0.7857142857142857, 0.8571428571428571, 0.8571428571428571, 0.7857142857142857, 0.7142857142857143, 0.7857142857142857, 0.7142857142857143, 0.8571428571428571, 0.7857142857142857, 1.0, 0.7857142857142857, 0.9285714285714286, 0.8571428571428571, 0.7857142857142857, 1.0, 0.9285714285714286, 0.9285714285714286, 0.9285714285714286, 1.0, 0.9285714285714286, 0.7857142857142857]\n",
      "[0.8571428571428571, 0.7857142857142857, 0.7857142857142857, 0.8571428571428571, 0.6428571428571429, 0.8571428571428571, 0.9285714285714286, 1.0, 0.8571428571428571, 0.7857142857142857, 0.9285714285714286, 1.0, 0.7857142857142857, 1.0, 0.9285714285714286, 1.0, 1.0, 0.9285714285714286, 1.0, 1.0, 1.0, 0.7142857142857143, 1.0, 0.8571428571428571, 0.9285714285714286, 0.5714285714285714, 0.9285714285714286, 0.8666666666666667, 1.0, 0.9285714285714286, 0.8571428571428571, 1.0, 0.8571428571428571, 1.0, 0.7142857142857143, 0.8571428571428571, 0.7857142857142857, 0.8571428571428571, 0.8571428571428571, 0.7857142857142857, 0.7142857142857143, 0.7857142857142857, 0.7142857142857143, 0.8571428571428571, 0.7857142857142857, 1.0, 0.7857142857142857, 0.9285714285714286, 0.8571428571428571, 0.7857142857142857, 1.0, 0.9285714285714286, 0.9285714285714286, 0.9285714285714286, 1.0, 0.9285714285714286, 0.7857142857142857, 1.0]\n",
      "[0.8571428571428571, 0.7857142857142857, 0.7857142857142857, 0.8571428571428571, 0.6428571428571429, 0.8571428571428571, 0.9285714285714286, 1.0, 0.8571428571428571, 0.7857142857142857, 0.9285714285714286, 1.0, 0.7857142857142857, 1.0, 0.9285714285714286, 1.0, 1.0, 0.9285714285714286, 1.0, 1.0, 1.0, 0.7142857142857143, 1.0, 0.8571428571428571, 0.9285714285714286, 0.5714285714285714, 0.9285714285714286, 0.8666666666666667, 1.0, 0.9285714285714286, 0.8571428571428571, 1.0, 0.8571428571428571, 1.0, 0.7142857142857143, 0.8571428571428571, 0.7857142857142857, 0.8571428571428571, 0.8571428571428571, 0.7857142857142857, 0.7142857142857143, 0.7857142857142857, 0.7142857142857143, 0.8571428571428571, 0.7857142857142857, 1.0, 0.7857142857142857, 0.9285714285714286, 0.8571428571428571, 0.7857142857142857, 1.0, 0.9285714285714286, 0.9285714285714286, 0.9285714285714286, 1.0, 0.9285714285714286, 0.7857142857142857, 1.0, 0.7857142857142857]\n",
      "[0.8571428571428571, 0.7857142857142857, 0.7857142857142857, 0.8571428571428571, 0.6428571428571429, 0.8571428571428571, 0.9285714285714286, 1.0, 0.8571428571428571, 0.7857142857142857, 0.9285714285714286, 1.0, 0.7857142857142857, 1.0, 0.9285714285714286, 1.0, 1.0, 0.9285714285714286, 1.0, 1.0, 1.0, 0.7142857142857143, 1.0, 0.8571428571428571, 0.9285714285714286, 0.5714285714285714, 0.9285714285714286, 0.8666666666666667, 1.0, 0.9285714285714286, 0.8571428571428571, 1.0, 0.8571428571428571, 1.0, 0.7142857142857143, 0.8571428571428571, 0.7857142857142857, 0.8571428571428571, 0.8571428571428571, 0.7857142857142857, 0.7142857142857143, 0.7857142857142857, 0.7142857142857143, 0.8571428571428571, 0.7857142857142857, 1.0, 0.7857142857142857, 0.9285714285714286, 0.8571428571428571, 0.7857142857142857, 1.0, 0.9285714285714286, 0.9285714285714286, 0.9285714285714286, 1.0, 0.9285714285714286, 0.7857142857142857, 1.0, 0.7857142857142857, 0.9285714285714286]\n",
      "[0.8571428571428571, 0.7857142857142857, 0.7857142857142857, 0.8571428571428571, 0.6428571428571429, 0.8571428571428571, 0.9285714285714286, 1.0, 0.8571428571428571, 0.7857142857142857, 0.9285714285714286, 1.0, 0.7857142857142857, 1.0, 0.9285714285714286, 1.0, 1.0, 0.9285714285714286, 1.0, 1.0, 1.0, 0.7142857142857143, 1.0, 0.8571428571428571, 0.9285714285714286, 0.5714285714285714, 0.9285714285714286, 0.8666666666666667, 1.0, 0.9285714285714286, 0.8571428571428571, 1.0, 0.8571428571428571, 1.0, 0.7142857142857143, 0.8571428571428571, 0.7857142857142857, 0.8571428571428571, 0.8571428571428571, 0.7857142857142857, 0.7142857142857143, 0.7857142857142857, 0.7142857142857143, 0.8571428571428571, 0.7857142857142857, 1.0, 0.7857142857142857, 0.9285714285714286, 0.8571428571428571, 0.7857142857142857, 1.0, 0.9285714285714286, 0.9285714285714286, 0.9285714285714286, 1.0, 0.9285714285714286, 0.7857142857142857, 1.0, 0.7857142857142857, 0.9285714285714286, 0.8571428571428571]\n",
      "[0.8571428571428571, 0.7857142857142857, 0.7857142857142857, 0.8571428571428571, 0.6428571428571429, 0.8571428571428571, 0.9285714285714286, 1.0, 0.8571428571428571, 0.7857142857142857, 0.9285714285714286, 1.0, 0.7857142857142857, 1.0, 0.9285714285714286, 1.0, 1.0, 0.9285714285714286, 1.0, 1.0, 1.0, 0.7142857142857143, 1.0, 0.8571428571428571, 0.9285714285714286, 0.5714285714285714, 0.9285714285714286, 0.8666666666666667, 1.0, 0.9285714285714286, 0.8571428571428571, 1.0, 0.8571428571428571, 1.0, 0.7142857142857143, 0.8571428571428571, 0.7857142857142857, 0.8571428571428571, 0.8571428571428571, 0.7857142857142857, 0.7142857142857143, 0.7857142857142857, 0.7142857142857143, 0.8571428571428571, 0.7857142857142857, 1.0, 0.7857142857142857, 0.9285714285714286, 0.8571428571428571, 0.7857142857142857, 1.0, 0.9285714285714286, 0.9285714285714286, 0.9285714285714286, 1.0, 0.9285714285714286, 0.7857142857142857, 1.0, 0.7857142857142857, 0.9285714285714286, 0.8571428571428571, 0.9285714285714286]\n",
      "[0.8571428571428571, 0.7857142857142857, 0.7857142857142857, 0.8571428571428571, 0.6428571428571429, 0.8571428571428571, 0.9285714285714286, 1.0, 0.8571428571428571, 0.7857142857142857, 0.9285714285714286, 1.0, 0.7857142857142857, 1.0, 0.9285714285714286, 1.0, 1.0, 0.9285714285714286, 1.0, 1.0, 1.0, 0.7142857142857143, 1.0, 0.8571428571428571, 0.9285714285714286, 0.5714285714285714, 0.9285714285714286, 0.8666666666666667, 1.0, 0.9285714285714286, 0.8571428571428571, 1.0, 0.8571428571428571, 1.0, 0.7142857142857143, 0.8571428571428571, 0.7857142857142857, 0.8571428571428571, 0.8571428571428571, 0.7857142857142857, 0.7142857142857143, 0.7857142857142857, 0.7142857142857143, 0.8571428571428571, 0.7857142857142857, 1.0, 0.7857142857142857, 0.9285714285714286, 0.8571428571428571, 0.7857142857142857, 1.0, 0.9285714285714286, 0.9285714285714286, 0.9285714285714286, 1.0, 0.9285714285714286, 0.7857142857142857, 1.0, 0.7857142857142857, 0.9285714285714286, 0.8571428571428571, 0.9285714285714286, 0.9285714285714286]\n",
      "[0.8571428571428571, 0.7857142857142857, 0.7857142857142857, 0.8571428571428571, 0.6428571428571429, 0.8571428571428571, 0.9285714285714286, 1.0, 0.8571428571428571, 0.7857142857142857, 0.9285714285714286, 1.0, 0.7857142857142857, 1.0, 0.9285714285714286, 1.0, 1.0, 0.9285714285714286, 1.0, 1.0, 1.0, 0.7142857142857143, 1.0, 0.8571428571428571, 0.9285714285714286, 0.5714285714285714, 0.9285714285714286, 0.8666666666666667, 1.0, 0.9285714285714286, 0.8571428571428571, 1.0, 0.8571428571428571, 1.0, 0.7142857142857143, 0.8571428571428571, 0.7857142857142857, 0.8571428571428571, 0.8571428571428571, 0.7857142857142857, 0.7142857142857143, 0.7857142857142857, 0.7142857142857143, 0.8571428571428571, 0.7857142857142857, 1.0, 0.7857142857142857, 0.9285714285714286, 0.8571428571428571, 0.7857142857142857, 1.0, 0.9285714285714286, 0.9285714285714286, 0.9285714285714286, 1.0, 0.9285714285714286, 0.7857142857142857, 1.0, 0.7857142857142857, 0.9285714285714286, 0.8571428571428571, 0.9285714285714286, 0.9285714285714286, 1.0]\n",
      "[0.8571428571428571, 0.7857142857142857, 0.7857142857142857, 0.8571428571428571, 0.6428571428571429, 0.8571428571428571, 0.9285714285714286, 1.0, 0.8571428571428571, 0.7857142857142857, 0.9285714285714286, 1.0, 0.7857142857142857, 1.0, 0.9285714285714286, 1.0, 1.0, 0.9285714285714286, 1.0, 1.0, 1.0, 0.7142857142857143, 1.0, 0.8571428571428571, 0.9285714285714286, 0.5714285714285714, 0.9285714285714286, 0.8666666666666667, 1.0, 0.9285714285714286, 0.8571428571428571, 1.0, 0.8571428571428571, 1.0, 0.7142857142857143, 0.8571428571428571, 0.7857142857142857, 0.8571428571428571, 0.8571428571428571, 0.7857142857142857, 0.7142857142857143, 0.7857142857142857, 0.7142857142857143, 0.8571428571428571, 0.7857142857142857, 1.0, 0.7857142857142857, 0.9285714285714286, 0.8571428571428571, 0.7857142857142857, 1.0, 0.9285714285714286, 0.9285714285714286, 0.9285714285714286, 1.0, 0.9285714285714286, 0.7857142857142857, 1.0, 0.7857142857142857, 0.9285714285714286, 0.8571428571428571, 0.9285714285714286, 0.9285714285714286, 1.0, 0.9285714285714286]\n",
      "[0.8571428571428571, 0.7857142857142857, 0.7857142857142857, 0.8571428571428571, 0.6428571428571429, 0.8571428571428571, 0.9285714285714286, 1.0, 0.8571428571428571, 0.7857142857142857, 0.9285714285714286, 1.0, 0.7857142857142857, 1.0, 0.9285714285714286, 1.0, 1.0, 0.9285714285714286, 1.0, 1.0, 1.0, 0.7142857142857143, 1.0, 0.8571428571428571, 0.9285714285714286, 0.5714285714285714, 0.9285714285714286, 0.8666666666666667, 1.0, 0.9285714285714286, 0.8571428571428571, 1.0, 0.8571428571428571, 1.0, 0.7142857142857143, 0.8571428571428571, 0.7857142857142857, 0.8571428571428571, 0.8571428571428571, 0.7857142857142857, 0.7142857142857143, 0.7857142857142857, 0.7142857142857143, 0.8571428571428571, 0.7857142857142857, 1.0, 0.7857142857142857, 0.9285714285714286, 0.8571428571428571, 0.7857142857142857, 1.0, 0.9285714285714286, 0.9285714285714286, 0.9285714285714286, 1.0, 0.9285714285714286, 0.7857142857142857, 1.0, 0.7857142857142857, 0.9285714285714286, 0.8571428571428571, 0.9285714285714286, 0.9285714285714286, 1.0, 0.9285714285714286, 1.0]\n",
      "[0.8571428571428571, 0.7857142857142857, 0.7857142857142857, 0.8571428571428571, 0.6428571428571429, 0.8571428571428571, 0.9285714285714286, 1.0, 0.8571428571428571, 0.7857142857142857, 0.9285714285714286, 1.0, 0.7857142857142857, 1.0, 0.9285714285714286, 1.0, 1.0, 0.9285714285714286, 1.0, 1.0, 1.0, 0.7142857142857143, 1.0, 0.8571428571428571, 0.9285714285714286, 0.5714285714285714, 0.9285714285714286, 0.8666666666666667, 1.0, 0.9285714285714286, 0.8571428571428571, 1.0, 0.8571428571428571, 1.0, 0.7142857142857143, 0.8571428571428571, 0.7857142857142857, 0.8571428571428571, 0.8571428571428571, 0.7857142857142857, 0.7142857142857143, 0.7857142857142857, 0.7142857142857143, 0.8571428571428571, 0.7857142857142857, 1.0, 0.7857142857142857, 0.9285714285714286, 0.8571428571428571, 0.7857142857142857, 1.0, 0.9285714285714286, 0.9285714285714286, 0.9285714285714286, 1.0, 0.9285714285714286, 0.7857142857142857, 1.0, 0.7857142857142857, 0.9285714285714286, 0.8571428571428571, 0.9285714285714286, 0.9285714285714286, 1.0, 0.9285714285714286, 1.0, 0.7857142857142857]\n",
      "[0.8571428571428571, 0.7857142857142857, 0.7857142857142857, 0.8571428571428571, 0.6428571428571429, 0.8571428571428571, 0.9285714285714286, 1.0, 0.8571428571428571, 0.7857142857142857, 0.9285714285714286, 1.0, 0.7857142857142857, 1.0, 0.9285714285714286, 1.0, 1.0, 0.9285714285714286, 1.0, 1.0, 1.0, 0.7142857142857143, 1.0, 0.8571428571428571, 0.9285714285714286, 0.5714285714285714, 0.9285714285714286, 0.8666666666666667, 1.0, 0.9285714285714286, 0.8571428571428571, 1.0, 0.8571428571428571, 1.0, 0.7142857142857143, 0.8571428571428571, 0.7857142857142857, 0.8571428571428571, 0.8571428571428571, 0.7857142857142857, 0.7142857142857143, 0.7857142857142857, 0.7142857142857143, 0.8571428571428571, 0.7857142857142857, 1.0, 0.7857142857142857, 0.9285714285714286, 0.8571428571428571, 0.7857142857142857, 1.0, 0.9285714285714286, 0.9285714285714286, 0.9285714285714286, 1.0, 0.9285714285714286, 0.7857142857142857, 1.0, 0.7857142857142857, 0.9285714285714286, 0.8571428571428571, 0.9285714285714286, 0.9285714285714286, 1.0, 0.9285714285714286, 1.0, 0.7857142857142857, 0.9285714285714286]\n",
      "[0.8571428571428571, 0.7857142857142857, 0.7857142857142857, 0.8571428571428571, 0.6428571428571429, 0.8571428571428571, 0.9285714285714286, 1.0, 0.8571428571428571, 0.7857142857142857, 0.9285714285714286, 1.0, 0.7857142857142857, 1.0, 0.9285714285714286, 1.0, 1.0, 0.9285714285714286, 1.0, 1.0, 1.0, 0.7142857142857143, 1.0, 0.8571428571428571, 0.9285714285714286, 0.5714285714285714, 0.9285714285714286, 0.8666666666666667, 1.0, 0.9285714285714286, 0.8571428571428571, 1.0, 0.8571428571428571, 1.0, 0.7142857142857143, 0.8571428571428571, 0.7857142857142857, 0.8571428571428571, 0.8571428571428571, 0.7857142857142857, 0.7142857142857143, 0.7857142857142857, 0.7142857142857143, 0.8571428571428571, 0.7857142857142857, 1.0, 0.7857142857142857, 0.9285714285714286, 0.8571428571428571, 0.7857142857142857, 1.0, 0.9285714285714286, 0.9285714285714286, 0.9285714285714286, 1.0, 0.9285714285714286, 0.7857142857142857, 1.0, 0.7857142857142857, 0.9285714285714286, 0.8571428571428571, 0.9285714285714286, 0.9285714285714286, 1.0, 0.9285714285714286, 1.0, 0.7857142857142857, 0.9285714285714286, 0.9285714285714286]\n",
      "[0.8571428571428571, 0.7857142857142857, 0.7857142857142857, 0.8571428571428571, 0.6428571428571429, 0.8571428571428571, 0.9285714285714286, 1.0, 0.8571428571428571, 0.7857142857142857, 0.9285714285714286, 1.0, 0.7857142857142857, 1.0, 0.9285714285714286, 1.0, 1.0, 0.9285714285714286, 1.0, 1.0, 1.0, 0.7142857142857143, 1.0, 0.8571428571428571, 0.9285714285714286, 0.5714285714285714, 0.9285714285714286, 0.8666666666666667, 1.0, 0.9285714285714286, 0.8571428571428571, 1.0, 0.8571428571428571, 1.0, 0.7142857142857143, 0.8571428571428571, 0.7857142857142857, 0.8571428571428571, 0.8571428571428571, 0.7857142857142857, 0.7142857142857143, 0.7857142857142857, 0.7142857142857143, 0.8571428571428571, 0.7857142857142857, 1.0, 0.7857142857142857, 0.9285714285714286, 0.8571428571428571, 0.7857142857142857, 1.0, 0.9285714285714286, 0.9285714285714286, 0.9285714285714286, 1.0, 0.9285714285714286, 0.7857142857142857, 1.0, 0.7857142857142857, 0.9285714285714286, 0.8571428571428571, 0.9285714285714286, 0.9285714285714286, 1.0, 0.9285714285714286, 1.0, 0.7857142857142857, 0.9285714285714286, 0.9285714285714286, 1.0]\n",
      "[0.8571428571428571, 0.7857142857142857, 0.7857142857142857, 0.8571428571428571, 0.6428571428571429, 0.8571428571428571, 0.9285714285714286, 1.0, 0.8571428571428571, 0.7857142857142857, 0.9285714285714286, 1.0, 0.7857142857142857, 1.0, 0.9285714285714286, 1.0, 1.0, 0.9285714285714286, 1.0, 1.0, 1.0, 0.7142857142857143, 1.0, 0.8571428571428571, 0.9285714285714286, 0.5714285714285714, 0.9285714285714286, 0.8666666666666667, 1.0, 0.9285714285714286, 0.8571428571428571, 1.0, 0.8571428571428571, 1.0, 0.7142857142857143, 0.8571428571428571, 0.7857142857142857, 0.8571428571428571, 0.8571428571428571, 0.7857142857142857, 0.7142857142857143, 0.7857142857142857, 0.7142857142857143, 0.8571428571428571, 0.7857142857142857, 1.0, 0.7857142857142857, 0.9285714285714286, 0.8571428571428571, 0.7857142857142857, 1.0, 0.9285714285714286, 0.9285714285714286, 0.9285714285714286, 1.0, 0.9285714285714286, 0.7857142857142857, 1.0, 0.7857142857142857, 0.9285714285714286, 0.8571428571428571, 0.9285714285714286, 0.9285714285714286, 1.0, 0.9285714285714286, 1.0, 0.7857142857142857, 0.9285714285714286, 0.9285714285714286, 1.0, 0.8571428571428571]\n",
      "[0.8571428571428571, 0.7857142857142857, 0.7857142857142857, 0.8571428571428571, 0.6428571428571429, 0.8571428571428571, 0.9285714285714286, 1.0, 0.8571428571428571, 0.7857142857142857, 0.9285714285714286, 1.0, 0.7857142857142857, 1.0, 0.9285714285714286, 1.0, 1.0, 0.9285714285714286, 1.0, 1.0, 1.0, 0.7142857142857143, 1.0, 0.8571428571428571, 0.9285714285714286, 0.5714285714285714, 0.9285714285714286, 0.8666666666666667, 1.0, 0.9285714285714286, 0.8571428571428571, 1.0, 0.8571428571428571, 1.0, 0.7142857142857143, 0.8571428571428571, 0.7857142857142857, 0.8571428571428571, 0.8571428571428571, 0.7857142857142857, 0.7142857142857143, 0.7857142857142857, 0.7142857142857143, 0.8571428571428571, 0.7857142857142857, 1.0, 0.7857142857142857, 0.9285714285714286, 0.8571428571428571, 0.7857142857142857, 1.0, 0.9285714285714286, 0.9285714285714286, 0.9285714285714286, 1.0, 0.9285714285714286, 0.7857142857142857, 1.0, 0.7857142857142857, 0.9285714285714286, 0.8571428571428571, 0.9285714285714286, 0.9285714285714286, 1.0, 0.9285714285714286, 1.0, 0.7857142857142857, 0.9285714285714286, 0.9285714285714286, 1.0, 0.8571428571428571, 0.7142857142857143]\n",
      "[0.8571428571428571, 0.7857142857142857, 0.7857142857142857, 0.8571428571428571, 0.6428571428571429, 0.8571428571428571, 0.9285714285714286, 1.0, 0.8571428571428571, 0.7857142857142857, 0.9285714285714286, 1.0, 0.7857142857142857, 1.0, 0.9285714285714286, 1.0, 1.0, 0.9285714285714286, 1.0, 1.0, 1.0, 0.7142857142857143, 1.0, 0.8571428571428571, 0.9285714285714286, 0.5714285714285714, 0.9285714285714286, 0.8666666666666667, 1.0, 0.9285714285714286, 0.8571428571428571, 1.0, 0.8571428571428571, 1.0, 0.7142857142857143, 0.8571428571428571, 0.7857142857142857, 0.8571428571428571, 0.8571428571428571, 0.7857142857142857, 0.7142857142857143, 0.7857142857142857, 0.7142857142857143, 0.8571428571428571, 0.7857142857142857, 1.0, 0.7857142857142857, 0.9285714285714286, 0.8571428571428571, 0.7857142857142857, 1.0, 0.9285714285714286, 0.9285714285714286, 0.9285714285714286, 1.0, 0.9285714285714286, 0.7857142857142857, 1.0, 0.7857142857142857, 0.9285714285714286, 0.8571428571428571, 0.9285714285714286, 0.9285714285714286, 1.0, 0.9285714285714286, 1.0, 0.7857142857142857, 0.9285714285714286, 0.9285714285714286, 1.0, 0.8571428571428571, 0.7142857142857143, 0.9285714285714286]\n",
      "[0.8571428571428571, 0.7857142857142857, 0.7857142857142857, 0.8571428571428571, 0.6428571428571429, 0.8571428571428571, 0.9285714285714286, 1.0, 0.8571428571428571, 0.7857142857142857, 0.9285714285714286, 1.0, 0.7857142857142857, 1.0, 0.9285714285714286, 1.0, 1.0, 0.9285714285714286, 1.0, 1.0, 1.0, 0.7142857142857143, 1.0, 0.8571428571428571, 0.9285714285714286, 0.5714285714285714, 0.9285714285714286, 0.8666666666666667, 1.0, 0.9285714285714286, 0.8571428571428571, 1.0, 0.8571428571428571, 1.0, 0.7142857142857143, 0.8571428571428571, 0.7857142857142857, 0.8571428571428571, 0.8571428571428571, 0.7857142857142857, 0.7142857142857143, 0.7857142857142857, 0.7142857142857143, 0.8571428571428571, 0.7857142857142857, 1.0, 0.7857142857142857, 0.9285714285714286, 0.8571428571428571, 0.7857142857142857, 1.0, 0.9285714285714286, 0.9285714285714286, 0.9285714285714286, 1.0, 0.9285714285714286, 0.7857142857142857, 1.0, 0.7857142857142857, 0.9285714285714286, 0.8571428571428571, 0.9285714285714286, 0.9285714285714286, 1.0, 0.9285714285714286, 1.0, 0.7857142857142857, 0.9285714285714286, 0.9285714285714286, 1.0, 0.8571428571428571, 0.7142857142857143, 0.9285714285714286, 0.8571428571428571]\n",
      "[0.8571428571428571, 0.7857142857142857, 0.7857142857142857, 0.8571428571428571, 0.6428571428571429, 0.8571428571428571, 0.9285714285714286, 1.0, 0.8571428571428571, 0.7857142857142857, 0.9285714285714286, 1.0, 0.7857142857142857, 1.0, 0.9285714285714286, 1.0, 1.0, 0.9285714285714286, 1.0, 1.0, 1.0, 0.7142857142857143, 1.0, 0.8571428571428571, 0.9285714285714286, 0.5714285714285714, 0.9285714285714286, 0.8666666666666667, 1.0, 0.9285714285714286, 0.8571428571428571, 1.0, 0.8571428571428571, 1.0, 0.7142857142857143, 0.8571428571428571, 0.7857142857142857, 0.8571428571428571, 0.8571428571428571, 0.7857142857142857, 0.7142857142857143, 0.7857142857142857, 0.7142857142857143, 0.8571428571428571, 0.7857142857142857, 1.0, 0.7857142857142857, 0.9285714285714286, 0.8571428571428571, 0.7857142857142857, 1.0, 0.9285714285714286, 0.9285714285714286, 0.9285714285714286, 1.0, 0.9285714285714286, 0.7857142857142857, 1.0, 0.7857142857142857, 0.9285714285714286, 0.8571428571428571, 0.9285714285714286, 0.9285714285714286, 1.0, 0.9285714285714286, 1.0, 0.7857142857142857, 0.9285714285714286, 0.9285714285714286, 1.0, 0.8571428571428571, 0.7142857142857143, 0.9285714285714286, 0.8571428571428571, 1.0]\n",
      "[0.8571428571428571, 0.7857142857142857, 0.7857142857142857, 0.8571428571428571, 0.6428571428571429, 0.8571428571428571, 0.9285714285714286, 1.0, 0.8571428571428571, 0.7857142857142857, 0.9285714285714286, 1.0, 0.7857142857142857, 1.0, 0.9285714285714286, 1.0, 1.0, 0.9285714285714286, 1.0, 1.0, 1.0, 0.7142857142857143, 1.0, 0.8571428571428571, 0.9285714285714286, 0.5714285714285714, 0.9285714285714286, 0.8666666666666667, 1.0, 0.9285714285714286, 0.8571428571428571, 1.0, 0.8571428571428571, 1.0, 0.7142857142857143, 0.8571428571428571, 0.7857142857142857, 0.8571428571428571, 0.8571428571428571, 0.7857142857142857, 0.7142857142857143, 0.7857142857142857, 0.7142857142857143, 0.8571428571428571, 0.7857142857142857, 1.0, 0.7857142857142857, 0.9285714285714286, 0.8571428571428571, 0.7857142857142857, 1.0, 0.9285714285714286, 0.9285714285714286, 0.9285714285714286, 1.0, 0.9285714285714286, 0.7857142857142857, 1.0, 0.7857142857142857, 0.9285714285714286, 0.8571428571428571, 0.9285714285714286, 0.9285714285714286, 1.0, 0.9285714285714286, 1.0, 0.7857142857142857, 0.9285714285714286, 0.9285714285714286, 1.0, 0.8571428571428571, 0.7142857142857143, 0.9285714285714286, 0.8571428571428571, 1.0, 0.8571428571428571]\n",
      "[0.8571428571428571, 0.7857142857142857, 0.7857142857142857, 0.8571428571428571, 0.6428571428571429, 0.8571428571428571, 0.9285714285714286, 1.0, 0.8571428571428571, 0.7857142857142857, 0.9285714285714286, 1.0, 0.7857142857142857, 1.0, 0.9285714285714286, 1.0, 1.0, 0.9285714285714286, 1.0, 1.0, 1.0, 0.7142857142857143, 1.0, 0.8571428571428571, 0.9285714285714286, 0.5714285714285714, 0.9285714285714286, 0.8666666666666667, 1.0, 0.9285714285714286, 0.8571428571428571, 1.0, 0.8571428571428571, 1.0, 0.7142857142857143, 0.8571428571428571, 0.7857142857142857, 0.8571428571428571, 0.8571428571428571, 0.7857142857142857, 0.7142857142857143, 0.7857142857142857, 0.7142857142857143, 0.8571428571428571, 0.7857142857142857, 1.0, 0.7857142857142857, 0.9285714285714286, 0.8571428571428571, 0.7857142857142857, 1.0, 0.9285714285714286, 0.9285714285714286, 0.9285714285714286, 1.0, 0.9285714285714286, 0.7857142857142857, 1.0, 0.7857142857142857, 0.9285714285714286, 0.8571428571428571, 0.9285714285714286, 0.9285714285714286, 1.0, 0.9285714285714286, 1.0, 0.7857142857142857, 0.9285714285714286, 0.9285714285714286, 1.0, 0.8571428571428571, 0.7142857142857143, 0.9285714285714286, 0.8571428571428571, 1.0, 0.8571428571428571, 1.0]\n",
      "[0.8571428571428571, 0.7857142857142857, 0.7857142857142857, 0.8571428571428571, 0.6428571428571429, 0.8571428571428571, 0.9285714285714286, 1.0, 0.8571428571428571, 0.7857142857142857, 0.9285714285714286, 1.0, 0.7857142857142857, 1.0, 0.9285714285714286, 1.0, 1.0, 0.9285714285714286, 1.0, 1.0, 1.0, 0.7142857142857143, 1.0, 0.8571428571428571, 0.9285714285714286, 0.5714285714285714, 0.9285714285714286, 0.8666666666666667, 1.0, 0.9285714285714286, 0.8571428571428571, 1.0, 0.8571428571428571, 1.0, 0.7142857142857143, 0.8571428571428571, 0.7857142857142857, 0.8571428571428571, 0.8571428571428571, 0.7857142857142857, 0.7142857142857143, 0.7857142857142857, 0.7142857142857143, 0.8571428571428571, 0.7857142857142857, 1.0, 0.7857142857142857, 0.9285714285714286, 0.8571428571428571, 0.7857142857142857, 1.0, 0.9285714285714286, 0.9285714285714286, 0.9285714285714286, 1.0, 0.9285714285714286, 0.7857142857142857, 1.0, 0.7857142857142857, 0.9285714285714286, 0.8571428571428571, 0.9285714285714286, 0.9285714285714286, 1.0, 0.9285714285714286, 1.0, 0.7857142857142857, 0.9285714285714286, 0.9285714285714286, 1.0, 0.8571428571428571, 0.7142857142857143, 0.9285714285714286, 0.8571428571428571, 1.0, 0.8571428571428571, 1.0, 0.8571428571428571]\n",
      "[0.8571428571428571, 0.7857142857142857, 0.7857142857142857, 0.8571428571428571, 0.6428571428571429, 0.8571428571428571, 0.9285714285714286, 1.0, 0.8571428571428571, 0.7857142857142857, 0.9285714285714286, 1.0, 0.7857142857142857, 1.0, 0.9285714285714286, 1.0, 1.0, 0.9285714285714286, 1.0, 1.0, 1.0, 0.7142857142857143, 1.0, 0.8571428571428571, 0.9285714285714286, 0.5714285714285714, 0.9285714285714286, 0.8666666666666667, 1.0, 0.9285714285714286, 0.8571428571428571, 1.0, 0.8571428571428571, 1.0, 0.7142857142857143, 0.8571428571428571, 0.7857142857142857, 0.8571428571428571, 0.8571428571428571, 0.7857142857142857, 0.7142857142857143, 0.7857142857142857, 0.7142857142857143, 0.8571428571428571, 0.7857142857142857, 1.0, 0.7857142857142857, 0.9285714285714286, 0.8571428571428571, 0.7857142857142857, 1.0, 0.9285714285714286, 0.9285714285714286, 0.9285714285714286, 1.0, 0.9285714285714286, 0.7857142857142857, 1.0, 0.7857142857142857, 0.9285714285714286, 0.8571428571428571, 0.9285714285714286, 0.9285714285714286, 1.0, 0.9285714285714286, 1.0, 0.7857142857142857, 0.9285714285714286, 0.9285714285714286, 1.0, 0.8571428571428571, 0.7142857142857143, 0.9285714285714286, 0.8571428571428571, 1.0, 0.8571428571428571, 1.0, 0.8571428571428571, 0.9285714285714286]\n",
      "[0.8571428571428571, 0.7857142857142857, 0.7857142857142857, 0.8571428571428571, 0.6428571428571429, 0.8571428571428571, 0.9285714285714286, 1.0, 0.8571428571428571, 0.7857142857142857, 0.9285714285714286, 1.0, 0.7857142857142857, 1.0, 0.9285714285714286, 1.0, 1.0, 0.9285714285714286, 1.0, 1.0, 1.0, 0.7142857142857143, 1.0, 0.8571428571428571, 0.9285714285714286, 0.5714285714285714, 0.9285714285714286, 0.8666666666666667, 1.0, 0.9285714285714286, 0.8571428571428571, 1.0, 0.8571428571428571, 1.0, 0.7142857142857143, 0.8571428571428571, 0.7857142857142857, 0.8571428571428571, 0.8571428571428571, 0.7857142857142857, 0.7142857142857143, 0.7857142857142857, 0.7142857142857143, 0.8571428571428571, 0.7857142857142857, 1.0, 0.7857142857142857, 0.9285714285714286, 0.8571428571428571, 0.7857142857142857, 1.0, 0.9285714285714286, 0.9285714285714286, 0.9285714285714286, 1.0, 0.9285714285714286, 0.7857142857142857, 1.0, 0.7857142857142857, 0.9285714285714286, 0.8571428571428571, 0.9285714285714286, 0.9285714285714286, 1.0, 0.9285714285714286, 1.0, 0.7857142857142857, 0.9285714285714286, 0.9285714285714286, 1.0, 0.8571428571428571, 0.7142857142857143, 0.9285714285714286, 0.8571428571428571, 1.0, 0.8571428571428571, 1.0, 0.8571428571428571, 0.9285714285714286, 0.8571428571428571]\n",
      "[0.8571428571428571, 0.7857142857142857, 0.7857142857142857, 0.8571428571428571, 0.6428571428571429, 0.8571428571428571, 0.9285714285714286, 1.0, 0.8571428571428571, 0.7857142857142857, 0.9285714285714286, 1.0, 0.7857142857142857, 1.0, 0.9285714285714286, 1.0, 1.0, 0.9285714285714286, 1.0, 1.0, 1.0, 0.7142857142857143, 1.0, 0.8571428571428571, 0.9285714285714286, 0.5714285714285714, 0.9285714285714286, 0.8666666666666667, 1.0, 0.9285714285714286, 0.8571428571428571, 1.0, 0.8571428571428571, 1.0, 0.7142857142857143, 0.8571428571428571, 0.7857142857142857, 0.8571428571428571, 0.8571428571428571, 0.7857142857142857, 0.7142857142857143, 0.7857142857142857, 0.7142857142857143, 0.8571428571428571, 0.7857142857142857, 1.0, 0.7857142857142857, 0.9285714285714286, 0.8571428571428571, 0.7857142857142857, 1.0, 0.9285714285714286, 0.9285714285714286, 0.9285714285714286, 1.0, 0.9285714285714286, 0.7857142857142857, 1.0, 0.7857142857142857, 0.9285714285714286, 0.8571428571428571, 0.9285714285714286, 0.9285714285714286, 1.0, 0.9285714285714286, 1.0, 0.7857142857142857, 0.9285714285714286, 0.9285714285714286, 1.0, 0.8571428571428571, 0.7142857142857143, 0.9285714285714286, 0.8571428571428571, 1.0, 0.8571428571428571, 1.0, 0.8571428571428571, 0.9285714285714286, 0.8571428571428571, 0.9285714285714286]\n",
      "[0.8571428571428571, 0.7857142857142857, 0.7857142857142857, 0.8571428571428571, 0.6428571428571429, 0.8571428571428571, 0.9285714285714286, 1.0, 0.8571428571428571, 0.7857142857142857, 0.9285714285714286, 1.0, 0.7857142857142857, 1.0, 0.9285714285714286, 1.0, 1.0, 0.9285714285714286, 1.0, 1.0, 1.0, 0.7142857142857143, 1.0, 0.8571428571428571, 0.9285714285714286, 0.5714285714285714, 0.9285714285714286, 0.8666666666666667, 1.0, 0.9285714285714286, 0.8571428571428571, 1.0, 0.8571428571428571, 1.0, 0.7142857142857143, 0.8571428571428571, 0.7857142857142857, 0.8571428571428571, 0.8571428571428571, 0.7857142857142857, 0.7142857142857143, 0.7857142857142857, 0.7142857142857143, 0.8571428571428571, 0.7857142857142857, 1.0, 0.7857142857142857, 0.9285714285714286, 0.8571428571428571, 0.7857142857142857, 1.0, 0.9285714285714286, 0.9285714285714286, 0.9285714285714286, 1.0, 0.9285714285714286, 0.7857142857142857, 1.0, 0.7857142857142857, 0.9285714285714286, 0.8571428571428571, 0.9285714285714286, 0.9285714285714286, 1.0, 0.9285714285714286, 1.0, 0.7857142857142857, 0.9285714285714286, 0.9285714285714286, 1.0, 0.8571428571428571, 0.7142857142857143, 0.9285714285714286, 0.8571428571428571, 1.0, 0.8571428571428571, 1.0, 0.8571428571428571, 0.9285714285714286, 0.8571428571428571, 0.9285714285714286, 1.0]\n",
      "[0.8571428571428571, 0.7857142857142857, 0.7857142857142857, 0.8571428571428571, 0.6428571428571429, 0.8571428571428571, 0.9285714285714286, 1.0, 0.8571428571428571, 0.7857142857142857, 0.9285714285714286, 1.0, 0.7857142857142857, 1.0, 0.9285714285714286, 1.0, 1.0, 0.9285714285714286, 1.0, 1.0, 1.0, 0.7142857142857143, 1.0, 0.8571428571428571, 0.9285714285714286, 0.5714285714285714, 0.9285714285714286, 0.8666666666666667, 1.0, 0.9285714285714286, 0.8571428571428571, 1.0, 0.8571428571428571, 1.0, 0.7142857142857143, 0.8571428571428571, 0.7857142857142857, 0.8571428571428571, 0.8571428571428571, 0.7857142857142857, 0.7142857142857143, 0.7857142857142857, 0.7142857142857143, 0.8571428571428571, 0.7857142857142857, 1.0, 0.7857142857142857, 0.9285714285714286, 0.8571428571428571, 0.7857142857142857, 1.0, 0.9285714285714286, 0.9285714285714286, 0.9285714285714286, 1.0, 0.9285714285714286, 0.7857142857142857, 1.0, 0.7857142857142857, 0.9285714285714286, 0.8571428571428571, 0.9285714285714286, 0.9285714285714286, 1.0, 0.9285714285714286, 1.0, 0.7857142857142857, 0.9285714285714286, 0.9285714285714286, 1.0, 0.8571428571428571, 0.7142857142857143, 0.9285714285714286, 0.8571428571428571, 1.0, 0.8571428571428571, 1.0, 0.8571428571428571, 0.9285714285714286, 0.8571428571428571, 0.9285714285714286, 1.0, 1.0]\n",
      "[0.8571428571428571, 0.7857142857142857, 0.7857142857142857, 0.8571428571428571, 0.6428571428571429, 0.8571428571428571, 0.9285714285714286, 1.0, 0.8571428571428571, 0.7857142857142857, 0.9285714285714286, 1.0, 0.7857142857142857, 1.0, 0.9285714285714286, 1.0, 1.0, 0.9285714285714286, 1.0, 1.0, 1.0, 0.7142857142857143, 1.0, 0.8571428571428571, 0.9285714285714286, 0.5714285714285714, 0.9285714285714286, 0.8666666666666667, 1.0, 0.9285714285714286, 0.8571428571428571, 1.0, 0.8571428571428571, 1.0, 0.7142857142857143, 0.8571428571428571, 0.7857142857142857, 0.8571428571428571, 0.8571428571428571, 0.7857142857142857, 0.7142857142857143, 0.7857142857142857, 0.7142857142857143, 0.8571428571428571, 0.7857142857142857, 1.0, 0.7857142857142857, 0.9285714285714286, 0.8571428571428571, 0.7857142857142857, 1.0, 0.9285714285714286, 0.9285714285714286, 0.9285714285714286, 1.0, 0.9285714285714286, 0.7857142857142857, 1.0, 0.7857142857142857, 0.9285714285714286, 0.8571428571428571, 0.9285714285714286, 0.9285714285714286, 1.0, 0.9285714285714286, 1.0, 0.7857142857142857, 0.9285714285714286, 0.9285714285714286, 1.0, 0.8571428571428571, 0.7142857142857143, 0.9285714285714286, 0.8571428571428571, 1.0, 0.8571428571428571, 1.0, 0.8571428571428571, 0.9285714285714286, 0.8571428571428571, 0.9285714285714286, 1.0, 1.0, 0.7857142857142857]\n",
      "[0.8571428571428571, 0.7857142857142857, 0.7857142857142857, 0.8571428571428571, 0.6428571428571429, 0.8571428571428571, 0.9285714285714286, 1.0, 0.8571428571428571, 0.7857142857142857, 0.9285714285714286, 1.0, 0.7857142857142857, 1.0, 0.9285714285714286, 1.0, 1.0, 0.9285714285714286, 1.0, 1.0, 1.0, 0.7142857142857143, 1.0, 0.8571428571428571, 0.9285714285714286, 0.5714285714285714, 0.9285714285714286, 0.8666666666666667, 1.0, 0.9285714285714286, 0.8571428571428571, 1.0, 0.8571428571428571, 1.0, 0.7142857142857143, 0.8571428571428571, 0.7857142857142857, 0.8571428571428571, 0.8571428571428571, 0.7857142857142857, 0.7142857142857143, 0.7857142857142857, 0.7142857142857143, 0.8571428571428571, 0.7857142857142857, 1.0, 0.7857142857142857, 0.9285714285714286, 0.8571428571428571, 0.7857142857142857, 1.0, 0.9285714285714286, 0.9285714285714286, 0.9285714285714286, 1.0, 0.9285714285714286, 0.7857142857142857, 1.0, 0.7857142857142857, 0.9285714285714286, 0.8571428571428571, 0.9285714285714286, 0.9285714285714286, 1.0, 0.9285714285714286, 1.0, 0.7857142857142857, 0.9285714285714286, 0.9285714285714286, 1.0, 0.8571428571428571, 0.7142857142857143, 0.9285714285714286, 0.8571428571428571, 1.0, 0.8571428571428571, 1.0, 0.8571428571428571, 0.9285714285714286, 0.8571428571428571, 0.9285714285714286, 1.0, 1.0, 0.7857142857142857, 0.7857142857142857]\n",
      "[0.8571428571428571, 0.7857142857142857, 0.7857142857142857, 0.8571428571428571, 0.6428571428571429, 0.8571428571428571, 0.9285714285714286, 1.0, 0.8571428571428571, 0.7857142857142857, 0.9285714285714286, 1.0, 0.7857142857142857, 1.0, 0.9285714285714286, 1.0, 1.0, 0.9285714285714286, 1.0, 1.0, 1.0, 0.7142857142857143, 1.0, 0.8571428571428571, 0.9285714285714286, 0.5714285714285714, 0.9285714285714286, 0.8666666666666667, 1.0, 0.9285714285714286, 0.8571428571428571, 1.0, 0.8571428571428571, 1.0, 0.7142857142857143, 0.8571428571428571, 0.7857142857142857, 0.8571428571428571, 0.8571428571428571, 0.7857142857142857, 0.7142857142857143, 0.7857142857142857, 0.7142857142857143, 0.8571428571428571, 0.7857142857142857, 1.0, 0.7857142857142857, 0.9285714285714286, 0.8571428571428571, 0.7857142857142857, 1.0, 0.9285714285714286, 0.9285714285714286, 0.9285714285714286, 1.0, 0.9285714285714286, 0.7857142857142857, 1.0, 0.7857142857142857, 0.9285714285714286, 0.8571428571428571, 0.9285714285714286, 0.9285714285714286, 1.0, 0.9285714285714286, 1.0, 0.7857142857142857, 0.9285714285714286, 0.9285714285714286, 1.0, 0.8571428571428571, 0.7142857142857143, 0.9285714285714286, 0.8571428571428571, 1.0, 0.8571428571428571, 1.0, 0.8571428571428571, 0.9285714285714286, 0.8571428571428571, 0.9285714285714286, 1.0, 1.0, 0.7857142857142857, 0.7857142857142857, 0.8571428571428571]\n",
      "[0.8571428571428571, 0.7857142857142857, 0.7857142857142857, 0.8571428571428571, 0.6428571428571429, 0.8571428571428571, 0.9285714285714286, 1.0, 0.8571428571428571, 0.7857142857142857, 0.9285714285714286, 1.0, 0.7857142857142857, 1.0, 0.9285714285714286, 1.0, 1.0, 0.9285714285714286, 1.0, 1.0, 1.0, 0.7142857142857143, 1.0, 0.8571428571428571, 0.9285714285714286, 0.5714285714285714, 0.9285714285714286, 0.8666666666666667, 1.0, 0.9285714285714286, 0.8571428571428571, 1.0, 0.8571428571428571, 1.0, 0.7142857142857143, 0.8571428571428571, 0.7857142857142857, 0.8571428571428571, 0.8571428571428571, 0.7857142857142857, 0.7142857142857143, 0.7857142857142857, 0.7142857142857143, 0.8571428571428571, 0.7857142857142857, 1.0, 0.7857142857142857, 0.9285714285714286, 0.8571428571428571, 0.7857142857142857, 1.0, 0.9285714285714286, 0.9285714285714286, 0.9285714285714286, 1.0, 0.9285714285714286, 0.7857142857142857, 1.0, 0.7857142857142857, 0.9285714285714286, 0.8571428571428571, 0.9285714285714286, 0.9285714285714286, 1.0, 0.9285714285714286, 1.0, 0.7857142857142857, 0.9285714285714286, 0.9285714285714286, 1.0, 0.8571428571428571, 0.7142857142857143, 0.9285714285714286, 0.8571428571428571, 1.0, 0.8571428571428571, 1.0, 0.8571428571428571, 0.9285714285714286, 0.8571428571428571, 0.9285714285714286, 1.0, 1.0, 0.7857142857142857, 0.7857142857142857, 0.8571428571428571, 1.0]\n",
      "[0.8571428571428571, 0.7857142857142857, 0.7857142857142857, 0.8571428571428571, 0.6428571428571429, 0.8571428571428571, 0.9285714285714286, 1.0, 0.8571428571428571, 0.7857142857142857, 0.9285714285714286, 1.0, 0.7857142857142857, 1.0, 0.9285714285714286, 1.0, 1.0, 0.9285714285714286, 1.0, 1.0, 1.0, 0.7142857142857143, 1.0, 0.8571428571428571, 0.9285714285714286, 0.5714285714285714, 0.9285714285714286, 0.8666666666666667, 1.0, 0.9285714285714286, 0.8571428571428571, 1.0, 0.8571428571428571, 1.0, 0.7142857142857143, 0.8571428571428571, 0.7857142857142857, 0.8571428571428571, 0.8571428571428571, 0.7857142857142857, 0.7142857142857143, 0.7857142857142857, 0.7142857142857143, 0.8571428571428571, 0.7857142857142857, 1.0, 0.7857142857142857, 0.9285714285714286, 0.8571428571428571, 0.7857142857142857, 1.0, 0.9285714285714286, 0.9285714285714286, 0.9285714285714286, 1.0, 0.9285714285714286, 0.7857142857142857, 1.0, 0.7857142857142857, 0.9285714285714286, 0.8571428571428571, 0.9285714285714286, 0.9285714285714286, 1.0, 0.9285714285714286, 1.0, 0.7857142857142857, 0.9285714285714286, 0.9285714285714286, 1.0, 0.8571428571428571, 0.7142857142857143, 0.9285714285714286, 0.8571428571428571, 1.0, 0.8571428571428571, 1.0, 0.8571428571428571, 0.9285714285714286, 0.8571428571428571, 0.9285714285714286, 1.0, 1.0, 0.7857142857142857, 0.7857142857142857, 0.8571428571428571, 1.0, 0.7142857142857143]\n",
      "[0.8571428571428571, 0.7857142857142857, 0.7857142857142857, 0.8571428571428571, 0.6428571428571429, 0.8571428571428571, 0.9285714285714286, 1.0, 0.8571428571428571, 0.7857142857142857, 0.9285714285714286, 1.0, 0.7857142857142857, 1.0, 0.9285714285714286, 1.0, 1.0, 0.9285714285714286, 1.0, 1.0, 1.0, 0.7142857142857143, 1.0, 0.8571428571428571, 0.9285714285714286, 0.5714285714285714, 0.9285714285714286, 0.8666666666666667, 1.0, 0.9285714285714286, 0.8571428571428571, 1.0, 0.8571428571428571, 1.0, 0.7142857142857143, 0.8571428571428571, 0.7857142857142857, 0.8571428571428571, 0.8571428571428571, 0.7857142857142857, 0.7142857142857143, 0.7857142857142857, 0.7142857142857143, 0.8571428571428571, 0.7857142857142857, 1.0, 0.7857142857142857, 0.9285714285714286, 0.8571428571428571, 0.7857142857142857, 1.0, 0.9285714285714286, 0.9285714285714286, 0.9285714285714286, 1.0, 0.9285714285714286, 0.7857142857142857, 1.0, 0.7857142857142857, 0.9285714285714286, 0.8571428571428571, 0.9285714285714286, 0.9285714285714286, 1.0, 0.9285714285714286, 1.0, 0.7857142857142857, 0.9285714285714286, 0.9285714285714286, 1.0, 0.8571428571428571, 0.7142857142857143, 0.9285714285714286, 0.8571428571428571, 1.0, 0.8571428571428571, 1.0, 0.8571428571428571, 0.9285714285714286, 0.8571428571428571, 0.9285714285714286, 1.0, 1.0, 0.7857142857142857, 0.7857142857142857, 0.8571428571428571, 1.0, 0.7142857142857143, 0.9285714285714286]\n",
      "[0.8571428571428571, 0.7857142857142857, 0.7857142857142857, 0.8571428571428571, 0.6428571428571429, 0.8571428571428571, 0.9285714285714286, 1.0, 0.8571428571428571, 0.7857142857142857, 0.9285714285714286, 1.0, 0.7857142857142857, 1.0, 0.9285714285714286, 1.0, 1.0, 0.9285714285714286, 1.0, 1.0, 1.0, 0.7142857142857143, 1.0, 0.8571428571428571, 0.9285714285714286, 0.5714285714285714, 0.9285714285714286, 0.8666666666666667, 1.0, 0.9285714285714286, 0.8571428571428571, 1.0, 0.8571428571428571, 1.0, 0.7142857142857143, 0.8571428571428571, 0.7857142857142857, 0.8571428571428571, 0.8571428571428571, 0.7857142857142857, 0.7142857142857143, 0.7857142857142857, 0.7142857142857143, 0.8571428571428571, 0.7857142857142857, 1.0, 0.7857142857142857, 0.9285714285714286, 0.8571428571428571, 0.7857142857142857, 1.0, 0.9285714285714286, 0.9285714285714286, 0.9285714285714286, 1.0, 0.9285714285714286, 0.7857142857142857, 1.0, 0.7857142857142857, 0.9285714285714286, 0.8571428571428571, 0.9285714285714286, 0.9285714285714286, 1.0, 0.9285714285714286, 1.0, 0.7857142857142857, 0.9285714285714286, 0.9285714285714286, 1.0, 0.8571428571428571, 0.7142857142857143, 0.9285714285714286, 0.8571428571428571, 1.0, 0.8571428571428571, 1.0, 0.8571428571428571, 0.9285714285714286, 0.8571428571428571, 0.9285714285714286, 1.0, 1.0, 0.7857142857142857, 0.7857142857142857, 0.8571428571428571, 1.0, 0.7142857142857143, 0.9285714285714286, 0.8571428571428571]\n",
      "[0.8571428571428571, 0.7857142857142857, 0.7857142857142857, 0.8571428571428571, 0.6428571428571429, 0.8571428571428571, 0.9285714285714286, 1.0, 0.8571428571428571, 0.7857142857142857, 0.9285714285714286, 1.0, 0.7857142857142857, 1.0, 0.9285714285714286, 1.0, 1.0, 0.9285714285714286, 1.0, 1.0, 1.0, 0.7142857142857143, 1.0, 0.8571428571428571, 0.9285714285714286, 0.5714285714285714, 0.9285714285714286, 0.8666666666666667, 1.0, 0.9285714285714286, 0.8571428571428571, 1.0, 0.8571428571428571, 1.0, 0.7142857142857143, 0.8571428571428571, 0.7857142857142857, 0.8571428571428571, 0.8571428571428571, 0.7857142857142857, 0.7142857142857143, 0.7857142857142857, 0.7142857142857143, 0.8571428571428571, 0.7857142857142857, 1.0, 0.7857142857142857, 0.9285714285714286, 0.8571428571428571, 0.7857142857142857, 1.0, 0.9285714285714286, 0.9285714285714286, 0.9285714285714286, 1.0, 0.9285714285714286, 0.7857142857142857, 1.0, 0.7857142857142857, 0.9285714285714286, 0.8571428571428571, 0.9285714285714286, 0.9285714285714286, 1.0, 0.9285714285714286, 1.0, 0.7857142857142857, 0.9285714285714286, 0.9285714285714286, 1.0, 0.8571428571428571, 0.7142857142857143, 0.9285714285714286, 0.8571428571428571, 1.0, 0.8571428571428571, 1.0, 0.8571428571428571, 0.9285714285714286, 0.8571428571428571, 0.9285714285714286, 1.0, 1.0, 0.7857142857142857, 0.7857142857142857, 0.8571428571428571, 1.0, 0.7142857142857143, 0.9285714285714286, 0.8571428571428571, 0.8571428571428571]\n",
      "[0.8571428571428571, 0.7857142857142857, 0.7857142857142857, 0.8571428571428571, 0.6428571428571429, 0.8571428571428571, 0.9285714285714286, 1.0, 0.8571428571428571, 0.7857142857142857, 0.9285714285714286, 1.0, 0.7857142857142857, 1.0, 0.9285714285714286, 1.0, 1.0, 0.9285714285714286, 1.0, 1.0, 1.0, 0.7142857142857143, 1.0, 0.8571428571428571, 0.9285714285714286, 0.5714285714285714, 0.9285714285714286, 0.8666666666666667, 1.0, 0.9285714285714286, 0.8571428571428571, 1.0, 0.8571428571428571, 1.0, 0.7142857142857143, 0.8571428571428571, 0.7857142857142857, 0.8571428571428571, 0.8571428571428571, 0.7857142857142857, 0.7142857142857143, 0.7857142857142857, 0.7142857142857143, 0.8571428571428571, 0.7857142857142857, 1.0, 0.7857142857142857, 0.9285714285714286, 0.8571428571428571, 0.7857142857142857, 1.0, 0.9285714285714286, 0.9285714285714286, 0.9285714285714286, 1.0, 0.9285714285714286, 0.7857142857142857, 1.0, 0.7857142857142857, 0.9285714285714286, 0.8571428571428571, 0.9285714285714286, 0.9285714285714286, 1.0, 0.9285714285714286, 1.0, 0.7857142857142857, 0.9285714285714286, 0.9285714285714286, 1.0, 0.8571428571428571, 0.7142857142857143, 0.9285714285714286, 0.8571428571428571, 1.0, 0.8571428571428571, 1.0, 0.8571428571428571, 0.9285714285714286, 0.8571428571428571, 0.9285714285714286, 1.0, 1.0, 0.7857142857142857, 0.7857142857142857, 0.8571428571428571, 1.0, 0.7142857142857143, 0.9285714285714286, 0.8571428571428571, 0.8571428571428571, 0.7857142857142857]\n",
      "[0.8571428571428571, 0.7857142857142857, 0.7857142857142857, 0.8571428571428571, 0.6428571428571429, 0.8571428571428571, 0.9285714285714286, 1.0, 0.8571428571428571, 0.7857142857142857, 0.9285714285714286, 1.0, 0.7857142857142857, 1.0, 0.9285714285714286, 1.0, 1.0, 0.9285714285714286, 1.0, 1.0, 1.0, 0.7142857142857143, 1.0, 0.8571428571428571, 0.9285714285714286, 0.5714285714285714, 0.9285714285714286, 0.8666666666666667, 1.0, 0.9285714285714286, 0.8571428571428571, 1.0, 0.8571428571428571, 1.0, 0.7142857142857143, 0.8571428571428571, 0.7857142857142857, 0.8571428571428571, 0.8571428571428571, 0.7857142857142857, 0.7142857142857143, 0.7857142857142857, 0.7142857142857143, 0.8571428571428571, 0.7857142857142857, 1.0, 0.7857142857142857, 0.9285714285714286, 0.8571428571428571, 0.7857142857142857, 1.0, 0.9285714285714286, 0.9285714285714286, 0.9285714285714286, 1.0, 0.9285714285714286, 0.7857142857142857, 1.0, 0.7857142857142857, 0.9285714285714286, 0.8571428571428571, 0.9285714285714286, 0.9285714285714286, 1.0, 0.9285714285714286, 1.0, 0.7857142857142857, 0.9285714285714286, 0.9285714285714286, 1.0, 0.8571428571428571, 0.7142857142857143, 0.9285714285714286, 0.8571428571428571, 1.0, 0.8571428571428571, 1.0, 0.8571428571428571, 0.9285714285714286, 0.8571428571428571, 0.9285714285714286, 1.0, 1.0, 0.7857142857142857, 0.7857142857142857, 0.8571428571428571, 1.0, 0.7142857142857143, 0.9285714285714286, 0.8571428571428571, 0.8571428571428571, 0.7857142857142857, 0.9285714285714286]\n",
      "[0.8571428571428571, 0.7857142857142857, 0.7857142857142857, 0.8571428571428571, 0.6428571428571429, 0.8571428571428571, 0.9285714285714286, 1.0, 0.8571428571428571, 0.7857142857142857, 0.9285714285714286, 1.0, 0.7857142857142857, 1.0, 0.9285714285714286, 1.0, 1.0, 0.9285714285714286, 1.0, 1.0, 1.0, 0.7142857142857143, 1.0, 0.8571428571428571, 0.9285714285714286, 0.5714285714285714, 0.9285714285714286, 0.8666666666666667, 1.0, 0.9285714285714286, 0.8571428571428571, 1.0, 0.8571428571428571, 1.0, 0.7142857142857143, 0.8571428571428571, 0.7857142857142857, 0.8571428571428571, 0.8571428571428571, 0.7857142857142857, 0.7142857142857143, 0.7857142857142857, 0.7142857142857143, 0.8571428571428571, 0.7857142857142857, 1.0, 0.7857142857142857, 0.9285714285714286, 0.8571428571428571, 0.7857142857142857, 1.0, 0.9285714285714286, 0.9285714285714286, 0.9285714285714286, 1.0, 0.9285714285714286, 0.7857142857142857, 1.0, 0.7857142857142857, 0.9285714285714286, 0.8571428571428571, 0.9285714285714286, 0.9285714285714286, 1.0, 0.9285714285714286, 1.0, 0.7857142857142857, 0.9285714285714286, 0.9285714285714286, 1.0, 0.8571428571428571, 0.7142857142857143, 0.9285714285714286, 0.8571428571428571, 1.0, 0.8571428571428571, 1.0, 0.8571428571428571, 0.9285714285714286, 0.8571428571428571, 0.9285714285714286, 1.0, 1.0, 0.7857142857142857, 0.7857142857142857, 0.8571428571428571, 1.0, 0.7142857142857143, 0.9285714285714286, 0.8571428571428571, 0.8571428571428571, 0.7857142857142857, 0.9285714285714286, 1.0]\n",
      "[0.8571428571428571, 0.7857142857142857, 0.7857142857142857, 0.8571428571428571, 0.6428571428571429, 0.8571428571428571, 0.9285714285714286, 1.0, 0.8571428571428571, 0.7857142857142857, 0.9285714285714286, 1.0, 0.7857142857142857, 1.0, 0.9285714285714286, 1.0, 1.0, 0.9285714285714286, 1.0, 1.0, 1.0, 0.7142857142857143, 1.0, 0.8571428571428571, 0.9285714285714286, 0.5714285714285714, 0.9285714285714286, 0.8666666666666667, 1.0, 0.9285714285714286, 0.8571428571428571, 1.0, 0.8571428571428571, 1.0, 0.7142857142857143, 0.8571428571428571, 0.7857142857142857, 0.8571428571428571, 0.8571428571428571, 0.7857142857142857, 0.7142857142857143, 0.7857142857142857, 0.7142857142857143, 0.8571428571428571, 0.7857142857142857, 1.0, 0.7857142857142857, 0.9285714285714286, 0.8571428571428571, 0.7857142857142857, 1.0, 0.9285714285714286, 0.9285714285714286, 0.9285714285714286, 1.0, 0.9285714285714286, 0.7857142857142857, 1.0, 0.7857142857142857, 0.9285714285714286, 0.8571428571428571, 0.9285714285714286, 0.9285714285714286, 1.0, 0.9285714285714286, 1.0, 0.7857142857142857, 0.9285714285714286, 0.9285714285714286, 1.0, 0.8571428571428571, 0.7142857142857143, 0.9285714285714286, 0.8571428571428571, 1.0, 0.8571428571428571, 1.0, 0.8571428571428571, 0.9285714285714286, 0.8571428571428571, 0.9285714285714286, 1.0, 1.0, 0.7857142857142857, 0.7857142857142857, 0.8571428571428571, 1.0, 0.7142857142857143, 0.9285714285714286, 0.8571428571428571, 0.8571428571428571, 0.7857142857142857, 0.9285714285714286, 1.0, 0.9285714285714286]\n",
      "[0.8571428571428571, 0.7857142857142857, 0.7857142857142857, 0.8571428571428571, 0.6428571428571429, 0.8571428571428571, 0.9285714285714286, 1.0, 0.8571428571428571, 0.7857142857142857, 0.9285714285714286, 1.0, 0.7857142857142857, 1.0, 0.9285714285714286, 1.0, 1.0, 0.9285714285714286, 1.0, 1.0, 1.0, 0.7142857142857143, 1.0, 0.8571428571428571, 0.9285714285714286, 0.5714285714285714, 0.9285714285714286, 0.8666666666666667, 1.0, 0.9285714285714286, 0.8571428571428571, 1.0, 0.8571428571428571, 1.0, 0.7142857142857143, 0.8571428571428571, 0.7857142857142857, 0.8571428571428571, 0.8571428571428571, 0.7857142857142857, 0.7142857142857143, 0.7857142857142857, 0.7142857142857143, 0.8571428571428571, 0.7857142857142857, 1.0, 0.7857142857142857, 0.9285714285714286, 0.8571428571428571, 0.7857142857142857, 1.0, 0.9285714285714286, 0.9285714285714286, 0.9285714285714286, 1.0, 0.9285714285714286, 0.7857142857142857, 1.0, 0.7857142857142857, 0.9285714285714286, 0.8571428571428571, 0.9285714285714286, 0.9285714285714286, 1.0, 0.9285714285714286, 1.0, 0.7857142857142857, 0.9285714285714286, 0.9285714285714286, 1.0, 0.8571428571428571, 0.7142857142857143, 0.9285714285714286, 0.8571428571428571, 1.0, 0.8571428571428571, 1.0, 0.8571428571428571, 0.9285714285714286, 0.8571428571428571, 0.9285714285714286, 1.0, 1.0, 0.7857142857142857, 0.7857142857142857, 0.8571428571428571, 1.0, 0.7142857142857143, 0.9285714285714286, 0.8571428571428571, 0.8571428571428571, 0.7857142857142857, 0.9285714285714286, 1.0, 0.9285714285714286, 1.0]\n",
      "[0.8571428571428571, 0.7857142857142857, 0.7857142857142857, 0.8571428571428571, 0.6428571428571429, 0.8571428571428571, 0.9285714285714286, 1.0, 0.8571428571428571, 0.7857142857142857, 0.9285714285714286, 1.0, 0.7857142857142857, 1.0, 0.9285714285714286, 1.0, 1.0, 0.9285714285714286, 1.0, 1.0, 1.0, 0.7142857142857143, 1.0, 0.8571428571428571, 0.9285714285714286, 0.5714285714285714, 0.9285714285714286, 0.8666666666666667, 1.0, 0.9285714285714286, 0.8571428571428571, 1.0, 0.8571428571428571, 1.0, 0.7142857142857143, 0.8571428571428571, 0.7857142857142857, 0.8571428571428571, 0.8571428571428571, 0.7857142857142857, 0.7142857142857143, 0.7857142857142857, 0.7142857142857143, 0.8571428571428571, 0.7857142857142857, 1.0, 0.7857142857142857, 0.9285714285714286, 0.8571428571428571, 0.7857142857142857, 1.0, 0.9285714285714286, 0.9285714285714286, 0.9285714285714286, 1.0, 0.9285714285714286, 0.7857142857142857, 1.0, 0.7857142857142857, 0.9285714285714286, 0.8571428571428571, 0.9285714285714286, 0.9285714285714286, 1.0, 0.9285714285714286, 1.0, 0.7857142857142857, 0.9285714285714286, 0.9285714285714286, 1.0, 0.8571428571428571, 0.7142857142857143, 0.9285714285714286, 0.8571428571428571, 1.0, 0.8571428571428571, 1.0, 0.8571428571428571, 0.9285714285714286, 0.8571428571428571, 0.9285714285714286, 1.0, 1.0, 0.7857142857142857, 0.7857142857142857, 0.8571428571428571, 1.0, 0.7142857142857143, 0.9285714285714286, 0.8571428571428571, 0.8571428571428571, 0.7857142857142857, 0.9285714285714286, 1.0, 0.9285714285714286, 1.0, 0.7142857142857143]\n",
      "[0.8571428571428571, 0.7857142857142857, 0.7857142857142857, 0.8571428571428571, 0.6428571428571429, 0.8571428571428571, 0.9285714285714286, 1.0, 0.8571428571428571, 0.7857142857142857, 0.9285714285714286, 1.0, 0.7857142857142857, 1.0, 0.9285714285714286, 1.0, 1.0, 0.9285714285714286, 1.0, 1.0, 1.0, 0.7142857142857143, 1.0, 0.8571428571428571, 0.9285714285714286, 0.5714285714285714, 0.9285714285714286, 0.8666666666666667, 1.0, 0.9285714285714286, 0.8571428571428571, 1.0, 0.8571428571428571, 1.0, 0.7142857142857143, 0.8571428571428571, 0.7857142857142857, 0.8571428571428571, 0.8571428571428571, 0.7857142857142857, 0.7142857142857143, 0.7857142857142857, 0.7142857142857143, 0.8571428571428571, 0.7857142857142857, 1.0, 0.7857142857142857, 0.9285714285714286, 0.8571428571428571, 0.7857142857142857, 1.0, 0.9285714285714286, 0.9285714285714286, 0.9285714285714286, 1.0, 0.9285714285714286, 0.7857142857142857, 1.0, 0.7857142857142857, 0.9285714285714286, 0.8571428571428571, 0.9285714285714286, 0.9285714285714286, 1.0, 0.9285714285714286, 1.0, 0.7857142857142857, 0.9285714285714286, 0.9285714285714286, 1.0, 0.8571428571428571, 0.7142857142857143, 0.9285714285714286, 0.8571428571428571, 1.0, 0.8571428571428571, 1.0, 0.8571428571428571, 0.9285714285714286, 0.8571428571428571, 0.9285714285714286, 1.0, 1.0, 0.7857142857142857, 0.7857142857142857, 0.8571428571428571, 1.0, 0.7142857142857143, 0.9285714285714286, 0.8571428571428571, 0.8571428571428571, 0.7857142857142857, 0.9285714285714286, 1.0, 0.9285714285714286, 1.0, 0.7142857142857143, 0.8571428571428571]\n",
      "[0.8571428571428571, 0.7857142857142857, 0.7857142857142857, 0.8571428571428571, 0.6428571428571429, 0.8571428571428571, 0.9285714285714286, 1.0, 0.8571428571428571, 0.7857142857142857, 0.9285714285714286, 1.0, 0.7857142857142857, 1.0, 0.9285714285714286, 1.0, 1.0, 0.9285714285714286, 1.0, 1.0, 1.0, 0.7142857142857143, 1.0, 0.8571428571428571, 0.9285714285714286, 0.5714285714285714, 0.9285714285714286, 0.8666666666666667, 1.0, 0.9285714285714286, 0.8571428571428571, 1.0, 0.8571428571428571, 1.0, 0.7142857142857143, 0.8571428571428571, 0.7857142857142857, 0.8571428571428571, 0.8571428571428571, 0.7857142857142857, 0.7142857142857143, 0.7857142857142857, 0.7142857142857143, 0.8571428571428571, 0.7857142857142857, 1.0, 0.7857142857142857, 0.9285714285714286, 0.8571428571428571, 0.7857142857142857, 1.0, 0.9285714285714286, 0.9285714285714286, 0.9285714285714286, 1.0, 0.9285714285714286, 0.7857142857142857, 1.0, 0.7857142857142857, 0.9285714285714286, 0.8571428571428571, 0.9285714285714286, 0.9285714285714286, 1.0, 0.9285714285714286, 1.0, 0.7857142857142857, 0.9285714285714286, 0.9285714285714286, 1.0, 0.8571428571428571, 0.7142857142857143, 0.9285714285714286, 0.8571428571428571, 1.0, 0.8571428571428571, 1.0, 0.8571428571428571, 0.9285714285714286, 0.8571428571428571, 0.9285714285714286, 1.0, 1.0, 0.7857142857142857, 0.7857142857142857, 0.8571428571428571, 1.0, 0.7142857142857143, 0.9285714285714286, 0.8571428571428571, 0.8571428571428571, 0.7857142857142857, 0.9285714285714286, 1.0, 0.9285714285714286, 1.0, 0.7142857142857143, 0.8571428571428571, 0.8666666666666667]\n",
      "[0.8571428571428571, 0.7857142857142857, 0.7857142857142857, 0.8571428571428571, 0.6428571428571429, 0.8571428571428571, 0.9285714285714286, 1.0, 0.8571428571428571, 0.7857142857142857, 0.9285714285714286, 1.0, 0.7857142857142857, 1.0, 0.9285714285714286, 1.0, 1.0, 0.9285714285714286, 1.0, 1.0, 1.0, 0.7142857142857143, 1.0, 0.8571428571428571, 0.9285714285714286, 0.5714285714285714, 0.9285714285714286, 0.8666666666666667, 1.0, 0.9285714285714286, 0.8571428571428571, 1.0, 0.8571428571428571, 1.0, 0.7142857142857143, 0.8571428571428571, 0.7857142857142857, 0.8571428571428571, 0.8571428571428571, 0.7857142857142857, 0.7142857142857143, 0.7857142857142857, 0.7142857142857143, 0.8571428571428571, 0.7857142857142857, 1.0, 0.7857142857142857, 0.9285714285714286, 0.8571428571428571, 0.7857142857142857, 1.0, 0.9285714285714286, 0.9285714285714286, 0.9285714285714286, 1.0, 0.9285714285714286, 0.7857142857142857, 1.0, 0.7857142857142857, 0.9285714285714286, 0.8571428571428571, 0.9285714285714286, 0.9285714285714286, 1.0, 0.9285714285714286, 1.0, 0.7857142857142857, 0.9285714285714286, 0.9285714285714286, 1.0, 0.8571428571428571, 0.7142857142857143, 0.9285714285714286, 0.8571428571428571, 1.0, 0.8571428571428571, 1.0, 0.8571428571428571, 0.9285714285714286, 0.8571428571428571, 0.9285714285714286, 1.0, 1.0, 0.7857142857142857, 0.7857142857142857, 0.8571428571428571, 1.0, 0.7142857142857143, 0.9285714285714286, 0.8571428571428571, 0.8571428571428571, 0.7857142857142857, 0.9285714285714286, 1.0, 0.9285714285714286, 1.0, 0.7142857142857143, 0.8571428571428571, 0.8666666666666667, 0.8571428571428571]\n",
      "[0.8571428571428571, 0.7857142857142857, 0.7857142857142857, 0.8571428571428571, 0.6428571428571429, 0.8571428571428571, 0.9285714285714286, 1.0, 0.8571428571428571, 0.7857142857142857, 0.9285714285714286, 1.0, 0.7857142857142857, 1.0, 0.9285714285714286, 1.0, 1.0, 0.9285714285714286, 1.0, 1.0, 1.0, 0.7142857142857143, 1.0, 0.8571428571428571, 0.9285714285714286, 0.5714285714285714, 0.9285714285714286, 0.8666666666666667, 1.0, 0.9285714285714286, 0.8571428571428571, 1.0, 0.8571428571428571, 1.0, 0.7142857142857143, 0.8571428571428571, 0.7857142857142857, 0.8571428571428571, 0.8571428571428571, 0.7857142857142857, 0.7142857142857143, 0.7857142857142857, 0.7142857142857143, 0.8571428571428571, 0.7857142857142857, 1.0, 0.7857142857142857, 0.9285714285714286, 0.8571428571428571, 0.7857142857142857, 1.0, 0.9285714285714286, 0.9285714285714286, 0.9285714285714286, 1.0, 0.9285714285714286, 0.7857142857142857, 1.0, 0.7857142857142857, 0.9285714285714286, 0.8571428571428571, 0.9285714285714286, 0.9285714285714286, 1.0, 0.9285714285714286, 1.0, 0.7857142857142857, 0.9285714285714286, 0.9285714285714286, 1.0, 0.8571428571428571, 0.7142857142857143, 0.9285714285714286, 0.8571428571428571, 1.0, 0.8571428571428571, 1.0, 0.8571428571428571, 0.9285714285714286, 0.8571428571428571, 0.9285714285714286, 1.0, 1.0, 0.7857142857142857, 0.7857142857142857, 0.8571428571428571, 1.0, 0.7142857142857143, 0.9285714285714286, 0.8571428571428571, 0.8571428571428571, 0.7857142857142857, 0.9285714285714286, 1.0, 0.9285714285714286, 1.0, 0.7142857142857143, 0.8571428571428571, 0.8666666666666667, 0.8571428571428571, 0.7142857142857143]\n",
      "[0.8571428571428571, 0.7857142857142857, 0.7857142857142857, 0.8571428571428571, 0.6428571428571429, 0.8571428571428571, 0.9285714285714286, 1.0, 0.8571428571428571, 0.7857142857142857, 0.9285714285714286, 1.0, 0.7857142857142857, 1.0, 0.9285714285714286, 1.0, 1.0, 0.9285714285714286, 1.0, 1.0, 1.0, 0.7142857142857143, 1.0, 0.8571428571428571, 0.9285714285714286, 0.5714285714285714, 0.9285714285714286, 0.8666666666666667, 1.0, 0.9285714285714286, 0.8571428571428571, 1.0, 0.8571428571428571, 1.0, 0.7142857142857143, 0.8571428571428571, 0.7857142857142857, 0.8571428571428571, 0.8571428571428571, 0.7857142857142857, 0.7142857142857143, 0.7857142857142857, 0.7142857142857143, 0.8571428571428571, 0.7857142857142857, 1.0, 0.7857142857142857, 0.9285714285714286, 0.8571428571428571, 0.7857142857142857, 1.0, 0.9285714285714286, 0.9285714285714286, 0.9285714285714286, 1.0, 0.9285714285714286, 0.7857142857142857, 1.0, 0.7857142857142857, 0.9285714285714286, 0.8571428571428571, 0.9285714285714286, 0.9285714285714286, 1.0, 0.9285714285714286, 1.0, 0.7857142857142857, 0.9285714285714286, 0.9285714285714286, 1.0, 0.8571428571428571, 0.7142857142857143, 0.9285714285714286, 0.8571428571428571, 1.0, 0.8571428571428571, 1.0, 0.8571428571428571, 0.9285714285714286, 0.8571428571428571, 0.9285714285714286, 1.0, 1.0, 0.7857142857142857, 0.7857142857142857, 0.8571428571428571, 1.0, 0.7142857142857143, 0.9285714285714286, 0.8571428571428571, 0.8571428571428571, 0.7857142857142857, 0.9285714285714286, 1.0, 0.9285714285714286, 1.0, 0.7142857142857143, 0.8571428571428571, 0.8666666666666667, 0.8571428571428571, 0.7142857142857143, 0.8571428571428571]\n",
      "[0.8571428571428571, 0.7857142857142857, 0.7857142857142857, 0.8571428571428571, 0.6428571428571429, 0.8571428571428571, 0.9285714285714286, 1.0, 0.8571428571428571, 0.7857142857142857, 0.9285714285714286, 1.0, 0.7857142857142857, 1.0, 0.9285714285714286, 1.0, 1.0, 0.9285714285714286, 1.0, 1.0, 1.0, 0.7142857142857143, 1.0, 0.8571428571428571, 0.9285714285714286, 0.5714285714285714, 0.9285714285714286, 0.8666666666666667, 1.0, 0.9285714285714286, 0.8571428571428571, 1.0, 0.8571428571428571, 1.0, 0.7142857142857143, 0.8571428571428571, 0.7857142857142857, 0.8571428571428571, 0.8571428571428571, 0.7857142857142857, 0.7142857142857143, 0.7857142857142857, 0.7142857142857143, 0.8571428571428571, 0.7857142857142857, 1.0, 0.7857142857142857, 0.9285714285714286, 0.8571428571428571, 0.7857142857142857, 1.0, 0.9285714285714286, 0.9285714285714286, 0.9285714285714286, 1.0, 0.9285714285714286, 0.7857142857142857, 1.0, 0.7857142857142857, 0.9285714285714286, 0.8571428571428571, 0.9285714285714286, 0.9285714285714286, 1.0, 0.9285714285714286, 1.0, 0.7857142857142857, 0.9285714285714286, 0.9285714285714286, 1.0, 0.8571428571428571, 0.7142857142857143, 0.9285714285714286, 0.8571428571428571, 1.0, 0.8571428571428571, 1.0, 0.8571428571428571, 0.9285714285714286, 0.8571428571428571, 0.9285714285714286, 1.0, 1.0, 0.7857142857142857, 0.7857142857142857, 0.8571428571428571, 1.0, 0.7142857142857143, 0.9285714285714286, 0.8571428571428571, 0.8571428571428571, 0.7857142857142857, 0.9285714285714286, 1.0, 0.9285714285714286, 1.0, 0.7142857142857143, 0.8571428571428571, 0.8666666666666667, 0.8571428571428571, 0.7142857142857143, 0.8571428571428571, 0.9285714285714286]\n",
      "[0.8571428571428571, 0.7857142857142857, 0.7857142857142857, 0.8571428571428571, 0.6428571428571429, 0.8571428571428571, 0.9285714285714286, 1.0, 0.8571428571428571, 0.7857142857142857, 0.9285714285714286, 1.0, 0.7857142857142857, 1.0, 0.9285714285714286, 1.0, 1.0, 0.9285714285714286, 1.0, 1.0, 1.0, 0.7142857142857143, 1.0, 0.8571428571428571, 0.9285714285714286, 0.5714285714285714, 0.9285714285714286, 0.8666666666666667, 1.0, 0.9285714285714286, 0.8571428571428571, 1.0, 0.8571428571428571, 1.0, 0.7142857142857143, 0.8571428571428571, 0.7857142857142857, 0.8571428571428571, 0.8571428571428571, 0.7857142857142857, 0.7142857142857143, 0.7857142857142857, 0.7142857142857143, 0.8571428571428571, 0.7857142857142857, 1.0, 0.7857142857142857, 0.9285714285714286, 0.8571428571428571, 0.7857142857142857, 1.0, 0.9285714285714286, 0.9285714285714286, 0.9285714285714286, 1.0, 0.9285714285714286, 0.7857142857142857, 1.0, 0.7857142857142857, 0.9285714285714286, 0.8571428571428571, 0.9285714285714286, 0.9285714285714286, 1.0, 0.9285714285714286, 1.0, 0.7857142857142857, 0.9285714285714286, 0.9285714285714286, 1.0, 0.8571428571428571, 0.7142857142857143, 0.9285714285714286, 0.8571428571428571, 1.0, 0.8571428571428571, 1.0, 0.8571428571428571, 0.9285714285714286, 0.8571428571428571, 0.9285714285714286, 1.0, 1.0, 0.7857142857142857, 0.7857142857142857, 0.8571428571428571, 1.0, 0.7142857142857143, 0.9285714285714286, 0.8571428571428571, 0.8571428571428571, 0.7857142857142857, 0.9285714285714286, 1.0, 0.9285714285714286, 1.0, 0.7142857142857143, 0.8571428571428571, 0.8666666666666667, 0.8571428571428571, 0.7142857142857143, 0.8571428571428571, 0.9285714285714286, 1.0]\n",
      "[0.8571428571428571, 0.7857142857142857, 0.7857142857142857, 0.8571428571428571, 0.6428571428571429, 0.8571428571428571, 0.9285714285714286, 1.0, 0.8571428571428571, 0.7857142857142857, 0.9285714285714286, 1.0, 0.7857142857142857, 1.0, 0.9285714285714286, 1.0, 1.0, 0.9285714285714286, 1.0, 1.0, 1.0, 0.7142857142857143, 1.0, 0.8571428571428571, 0.9285714285714286, 0.5714285714285714, 0.9285714285714286, 0.8666666666666667, 1.0, 0.9285714285714286, 0.8571428571428571, 1.0, 0.8571428571428571, 1.0, 0.7142857142857143, 0.8571428571428571, 0.7857142857142857, 0.8571428571428571, 0.8571428571428571, 0.7857142857142857, 0.7142857142857143, 0.7857142857142857, 0.7142857142857143, 0.8571428571428571, 0.7857142857142857, 1.0, 0.7857142857142857, 0.9285714285714286, 0.8571428571428571, 0.7857142857142857, 1.0, 0.9285714285714286, 0.9285714285714286, 0.9285714285714286, 1.0, 0.9285714285714286, 0.7857142857142857, 1.0, 0.7857142857142857, 0.9285714285714286, 0.8571428571428571, 0.9285714285714286, 0.9285714285714286, 1.0, 0.9285714285714286, 1.0, 0.7857142857142857, 0.9285714285714286, 0.9285714285714286, 1.0, 0.8571428571428571, 0.7142857142857143, 0.9285714285714286, 0.8571428571428571, 1.0, 0.8571428571428571, 1.0, 0.8571428571428571, 0.9285714285714286, 0.8571428571428571, 0.9285714285714286, 1.0, 1.0, 0.7857142857142857, 0.7857142857142857, 0.8571428571428571, 1.0, 0.7142857142857143, 0.9285714285714286, 0.8571428571428571, 0.8571428571428571, 0.7857142857142857, 0.9285714285714286, 1.0, 0.9285714285714286, 1.0, 0.7142857142857143, 0.8571428571428571, 0.8666666666666667, 0.8571428571428571, 0.7142857142857143, 0.8571428571428571, 0.9285714285714286, 1.0, 0.8571428571428571]\n",
      "[0.8571428571428571, 0.7857142857142857, 0.7857142857142857, 0.8571428571428571, 0.6428571428571429, 0.8571428571428571, 0.9285714285714286, 1.0, 0.8571428571428571, 0.7857142857142857, 0.9285714285714286, 1.0, 0.7857142857142857, 1.0, 0.9285714285714286, 1.0, 1.0, 0.9285714285714286, 1.0, 1.0, 1.0, 0.7142857142857143, 1.0, 0.8571428571428571, 0.9285714285714286, 0.5714285714285714, 0.9285714285714286, 0.8666666666666667, 1.0, 0.9285714285714286, 0.8571428571428571, 1.0, 0.8571428571428571, 1.0, 0.7142857142857143, 0.8571428571428571, 0.7857142857142857, 0.8571428571428571, 0.8571428571428571, 0.7857142857142857, 0.7142857142857143, 0.7857142857142857, 0.7142857142857143, 0.8571428571428571, 0.7857142857142857, 1.0, 0.7857142857142857, 0.9285714285714286, 0.8571428571428571, 0.7857142857142857, 1.0, 0.9285714285714286, 0.9285714285714286, 0.9285714285714286, 1.0, 0.9285714285714286, 0.7857142857142857, 1.0, 0.7857142857142857, 0.9285714285714286, 0.8571428571428571, 0.9285714285714286, 0.9285714285714286, 1.0, 0.9285714285714286, 1.0, 0.7857142857142857, 0.9285714285714286, 0.9285714285714286, 1.0, 0.8571428571428571, 0.7142857142857143, 0.9285714285714286, 0.8571428571428571, 1.0, 0.8571428571428571, 1.0, 0.8571428571428571, 0.9285714285714286, 0.8571428571428571, 0.9285714285714286, 1.0, 1.0, 0.7857142857142857, 0.7857142857142857, 0.8571428571428571, 1.0, 0.7142857142857143, 0.9285714285714286, 0.8571428571428571, 0.8571428571428571, 0.7857142857142857, 0.9285714285714286, 1.0, 0.9285714285714286, 1.0, 0.7142857142857143, 0.8571428571428571, 0.8666666666666667, 0.8571428571428571, 0.7142857142857143, 0.8571428571428571, 0.9285714285714286, 1.0, 0.8571428571428571, 0.9285714285714286]\n",
      "[0.8571428571428571, 0.7857142857142857, 0.7857142857142857, 0.8571428571428571, 0.6428571428571429, 0.8571428571428571, 0.9285714285714286, 1.0, 0.8571428571428571, 0.7857142857142857, 0.9285714285714286, 1.0, 0.7857142857142857, 1.0, 0.9285714285714286, 1.0, 1.0, 0.9285714285714286, 1.0, 1.0, 1.0, 0.7142857142857143, 1.0, 0.8571428571428571, 0.9285714285714286, 0.5714285714285714, 0.9285714285714286, 0.8666666666666667, 1.0, 0.9285714285714286, 0.8571428571428571, 1.0, 0.8571428571428571, 1.0, 0.7142857142857143, 0.8571428571428571, 0.7857142857142857, 0.8571428571428571, 0.8571428571428571, 0.7857142857142857, 0.7142857142857143, 0.7857142857142857, 0.7142857142857143, 0.8571428571428571, 0.7857142857142857, 1.0, 0.7857142857142857, 0.9285714285714286, 0.8571428571428571, 0.7857142857142857, 1.0, 0.9285714285714286, 0.9285714285714286, 0.9285714285714286, 1.0, 0.9285714285714286, 0.7857142857142857, 1.0, 0.7857142857142857, 0.9285714285714286, 0.8571428571428571, 0.9285714285714286, 0.9285714285714286, 1.0, 0.9285714285714286, 1.0, 0.7857142857142857, 0.9285714285714286, 0.9285714285714286, 1.0, 0.8571428571428571, 0.7142857142857143, 0.9285714285714286, 0.8571428571428571, 1.0, 0.8571428571428571, 1.0, 0.8571428571428571, 0.9285714285714286, 0.8571428571428571, 0.9285714285714286, 1.0, 1.0, 0.7857142857142857, 0.7857142857142857, 0.8571428571428571, 1.0, 0.7142857142857143, 0.9285714285714286, 0.8571428571428571, 0.8571428571428571, 0.7857142857142857, 0.9285714285714286, 1.0, 0.9285714285714286, 1.0, 0.7142857142857143, 0.8571428571428571, 0.8666666666666667, 0.8571428571428571, 0.7142857142857143, 0.8571428571428571, 0.9285714285714286, 1.0, 0.8571428571428571, 0.9285714285714286, 1.0]\n",
      "[0.8571428571428571, 0.7857142857142857, 0.7857142857142857, 0.8571428571428571, 0.6428571428571429, 0.8571428571428571, 0.9285714285714286, 1.0, 0.8571428571428571, 0.7857142857142857, 0.9285714285714286, 1.0, 0.7857142857142857, 1.0, 0.9285714285714286, 1.0, 1.0, 0.9285714285714286, 1.0, 1.0, 1.0, 0.7142857142857143, 1.0, 0.8571428571428571, 0.9285714285714286, 0.5714285714285714, 0.9285714285714286, 0.8666666666666667, 1.0, 0.9285714285714286, 0.8571428571428571, 1.0, 0.8571428571428571, 1.0, 0.7142857142857143, 0.8571428571428571, 0.7857142857142857, 0.8571428571428571, 0.8571428571428571, 0.7857142857142857, 0.7142857142857143, 0.7857142857142857, 0.7142857142857143, 0.8571428571428571, 0.7857142857142857, 1.0, 0.7857142857142857, 0.9285714285714286, 0.8571428571428571, 0.7857142857142857, 1.0, 0.9285714285714286, 0.9285714285714286, 0.9285714285714286, 1.0, 0.9285714285714286, 0.7857142857142857, 1.0, 0.7857142857142857, 0.9285714285714286, 0.8571428571428571, 0.9285714285714286, 0.9285714285714286, 1.0, 0.9285714285714286, 1.0, 0.7857142857142857, 0.9285714285714286, 0.9285714285714286, 1.0, 0.8571428571428571, 0.7142857142857143, 0.9285714285714286, 0.8571428571428571, 1.0, 0.8571428571428571, 1.0, 0.8571428571428571, 0.9285714285714286, 0.8571428571428571, 0.9285714285714286, 1.0, 1.0, 0.7857142857142857, 0.7857142857142857, 0.8571428571428571, 1.0, 0.7142857142857143, 0.9285714285714286, 0.8571428571428571, 0.8571428571428571, 0.7857142857142857, 0.9285714285714286, 1.0, 0.9285714285714286, 1.0, 0.7142857142857143, 0.8571428571428571, 0.8666666666666667, 0.8571428571428571, 0.7142857142857143, 0.8571428571428571, 0.9285714285714286, 1.0, 0.8571428571428571, 0.9285714285714286, 1.0, 0.8571428571428571]\n",
      "[0.8571428571428571, 0.7857142857142857, 0.7857142857142857, 0.8571428571428571, 0.6428571428571429, 0.8571428571428571, 0.9285714285714286, 1.0, 0.8571428571428571, 0.7857142857142857, 0.9285714285714286, 1.0, 0.7857142857142857, 1.0, 0.9285714285714286, 1.0, 1.0, 0.9285714285714286, 1.0, 1.0, 1.0, 0.7142857142857143, 1.0, 0.8571428571428571, 0.9285714285714286, 0.5714285714285714, 0.9285714285714286, 0.8666666666666667, 1.0, 0.9285714285714286, 0.8571428571428571, 1.0, 0.8571428571428571, 1.0, 0.7142857142857143, 0.8571428571428571, 0.7857142857142857, 0.8571428571428571, 0.8571428571428571, 0.7857142857142857, 0.7142857142857143, 0.7857142857142857, 0.7142857142857143, 0.8571428571428571, 0.7857142857142857, 1.0, 0.7857142857142857, 0.9285714285714286, 0.8571428571428571, 0.7857142857142857, 1.0, 0.9285714285714286, 0.9285714285714286, 0.9285714285714286, 1.0, 0.9285714285714286, 0.7857142857142857, 1.0, 0.7857142857142857, 0.9285714285714286, 0.8571428571428571, 0.9285714285714286, 0.9285714285714286, 1.0, 0.9285714285714286, 1.0, 0.7857142857142857, 0.9285714285714286, 0.9285714285714286, 1.0, 0.8571428571428571, 0.7142857142857143, 0.9285714285714286, 0.8571428571428571, 1.0, 0.8571428571428571, 1.0, 0.8571428571428571, 0.9285714285714286, 0.8571428571428571, 0.9285714285714286, 1.0, 1.0, 0.7857142857142857, 0.7857142857142857, 0.8571428571428571, 1.0, 0.7142857142857143, 0.9285714285714286, 0.8571428571428571, 0.8571428571428571, 0.7857142857142857, 0.9285714285714286, 1.0, 0.9285714285714286, 1.0, 0.7142857142857143, 0.8571428571428571, 0.8666666666666667, 0.8571428571428571, 0.7142857142857143, 0.8571428571428571, 0.9285714285714286, 1.0, 0.8571428571428571, 0.9285714285714286, 1.0, 0.8571428571428571, 0.8571428571428571]\n",
      "[0.8571428571428571, 0.7857142857142857, 0.7857142857142857, 0.8571428571428571, 0.6428571428571429, 0.8571428571428571, 0.9285714285714286, 1.0, 0.8571428571428571, 0.7857142857142857, 0.9285714285714286, 1.0, 0.7857142857142857, 1.0, 0.9285714285714286, 1.0, 1.0, 0.9285714285714286, 1.0, 1.0, 1.0, 0.7142857142857143, 1.0, 0.8571428571428571, 0.9285714285714286, 0.5714285714285714, 0.9285714285714286, 0.8666666666666667, 1.0, 0.9285714285714286, 0.8571428571428571, 1.0, 0.8571428571428571, 1.0, 0.7142857142857143, 0.8571428571428571, 0.7857142857142857, 0.8571428571428571, 0.8571428571428571, 0.7857142857142857, 0.7142857142857143, 0.7857142857142857, 0.7142857142857143, 0.8571428571428571, 0.7857142857142857, 1.0, 0.7857142857142857, 0.9285714285714286, 0.8571428571428571, 0.7857142857142857, 1.0, 0.9285714285714286, 0.9285714285714286, 0.9285714285714286, 1.0, 0.9285714285714286, 0.7857142857142857, 1.0, 0.7857142857142857, 0.9285714285714286, 0.8571428571428571, 0.9285714285714286, 0.9285714285714286, 1.0, 0.9285714285714286, 1.0, 0.7857142857142857, 0.9285714285714286, 0.9285714285714286, 1.0, 0.8571428571428571, 0.7142857142857143, 0.9285714285714286, 0.8571428571428571, 1.0, 0.8571428571428571, 1.0, 0.8571428571428571, 0.9285714285714286, 0.8571428571428571, 0.9285714285714286, 1.0, 1.0, 0.7857142857142857, 0.7857142857142857, 0.8571428571428571, 1.0, 0.7142857142857143, 0.9285714285714286, 0.8571428571428571, 0.8571428571428571, 0.7857142857142857, 0.9285714285714286, 1.0, 0.9285714285714286, 1.0, 0.7142857142857143, 0.8571428571428571, 0.8666666666666667, 0.8571428571428571, 0.7142857142857143, 0.8571428571428571, 0.9285714285714286, 1.0, 0.8571428571428571, 0.9285714285714286, 1.0, 0.8571428571428571, 0.8571428571428571, 0.8571428571428571]\n",
      "[0.8571428571428571, 0.7857142857142857, 0.7857142857142857, 0.8571428571428571, 0.6428571428571429, 0.8571428571428571, 0.9285714285714286, 1.0, 0.8571428571428571, 0.7857142857142857, 0.9285714285714286, 1.0, 0.7857142857142857, 1.0, 0.9285714285714286, 1.0, 1.0, 0.9285714285714286, 1.0, 1.0, 1.0, 0.7142857142857143, 1.0, 0.8571428571428571, 0.9285714285714286, 0.5714285714285714, 0.9285714285714286, 0.8666666666666667, 1.0, 0.9285714285714286, 0.8571428571428571, 1.0, 0.8571428571428571, 1.0, 0.7142857142857143, 0.8571428571428571, 0.7857142857142857, 0.8571428571428571, 0.8571428571428571, 0.7857142857142857, 0.7142857142857143, 0.7857142857142857, 0.7142857142857143, 0.8571428571428571, 0.7857142857142857, 1.0, 0.7857142857142857, 0.9285714285714286, 0.8571428571428571, 0.7857142857142857, 1.0, 0.9285714285714286, 0.9285714285714286, 0.9285714285714286, 1.0, 0.9285714285714286, 0.7857142857142857, 1.0, 0.7857142857142857, 0.9285714285714286, 0.8571428571428571, 0.9285714285714286, 0.9285714285714286, 1.0, 0.9285714285714286, 1.0, 0.7857142857142857, 0.9285714285714286, 0.9285714285714286, 1.0, 0.8571428571428571, 0.7142857142857143, 0.9285714285714286, 0.8571428571428571, 1.0, 0.8571428571428571, 1.0, 0.8571428571428571, 0.9285714285714286, 0.8571428571428571, 0.9285714285714286, 1.0, 1.0, 0.7857142857142857, 0.7857142857142857, 0.8571428571428571, 1.0, 0.7142857142857143, 0.9285714285714286, 0.8571428571428571, 0.8571428571428571, 0.7857142857142857, 0.9285714285714286, 1.0, 0.9285714285714286, 1.0, 0.7142857142857143, 0.8571428571428571, 0.8666666666666667, 0.8571428571428571, 0.7142857142857143, 0.8571428571428571, 0.9285714285714286, 1.0, 0.8571428571428571, 0.9285714285714286, 1.0, 0.8571428571428571, 0.8571428571428571, 0.8571428571428571, 0.9285714285714286]\n",
      "[0.8571428571428571, 0.7857142857142857, 0.7857142857142857, 0.8571428571428571, 0.6428571428571429, 0.8571428571428571, 0.9285714285714286, 1.0, 0.8571428571428571, 0.7857142857142857, 0.9285714285714286, 1.0, 0.7857142857142857, 1.0, 0.9285714285714286, 1.0, 1.0, 0.9285714285714286, 1.0, 1.0, 1.0, 0.7142857142857143, 1.0, 0.8571428571428571, 0.9285714285714286, 0.5714285714285714, 0.9285714285714286, 0.8666666666666667, 1.0, 0.9285714285714286, 0.8571428571428571, 1.0, 0.8571428571428571, 1.0, 0.7142857142857143, 0.8571428571428571, 0.7857142857142857, 0.8571428571428571, 0.8571428571428571, 0.7857142857142857, 0.7142857142857143, 0.7857142857142857, 0.7142857142857143, 0.8571428571428571, 0.7857142857142857, 1.0, 0.7857142857142857, 0.9285714285714286, 0.8571428571428571, 0.7857142857142857, 1.0, 0.9285714285714286, 0.9285714285714286, 0.9285714285714286, 1.0, 0.9285714285714286, 0.7857142857142857, 1.0, 0.7857142857142857, 0.9285714285714286, 0.8571428571428571, 0.9285714285714286, 0.9285714285714286, 1.0, 0.9285714285714286, 1.0, 0.7857142857142857, 0.9285714285714286, 0.9285714285714286, 1.0, 0.8571428571428571, 0.7142857142857143, 0.9285714285714286, 0.8571428571428571, 1.0, 0.8571428571428571, 1.0, 0.8571428571428571, 0.9285714285714286, 0.8571428571428571, 0.9285714285714286, 1.0, 1.0, 0.7857142857142857, 0.7857142857142857, 0.8571428571428571, 1.0, 0.7142857142857143, 0.9285714285714286, 0.8571428571428571, 0.8571428571428571, 0.7857142857142857, 0.9285714285714286, 1.0, 0.9285714285714286, 1.0, 0.7142857142857143, 0.8571428571428571, 0.8666666666666667, 0.8571428571428571, 0.7142857142857143, 0.8571428571428571, 0.9285714285714286, 1.0, 0.8571428571428571, 0.9285714285714286, 1.0, 0.8571428571428571, 0.8571428571428571, 0.8571428571428571, 0.9285714285714286, 0.9285714285714286]\n",
      "[0.8571428571428571, 0.7857142857142857, 0.7857142857142857, 0.8571428571428571, 0.6428571428571429, 0.8571428571428571, 0.9285714285714286, 1.0, 0.8571428571428571, 0.7857142857142857, 0.9285714285714286, 1.0, 0.7857142857142857, 1.0, 0.9285714285714286, 1.0, 1.0, 0.9285714285714286, 1.0, 1.0, 1.0, 0.7142857142857143, 1.0, 0.8571428571428571, 0.9285714285714286, 0.5714285714285714, 0.9285714285714286, 0.8666666666666667, 1.0, 0.9285714285714286, 0.8571428571428571, 1.0, 0.8571428571428571, 1.0, 0.7142857142857143, 0.8571428571428571, 0.7857142857142857, 0.8571428571428571, 0.8571428571428571, 0.7857142857142857, 0.7142857142857143, 0.7857142857142857, 0.7142857142857143, 0.8571428571428571, 0.7857142857142857, 1.0, 0.7857142857142857, 0.9285714285714286, 0.8571428571428571, 0.7857142857142857, 1.0, 0.9285714285714286, 0.9285714285714286, 0.9285714285714286, 1.0, 0.9285714285714286, 0.7857142857142857, 1.0, 0.7857142857142857, 0.9285714285714286, 0.8571428571428571, 0.9285714285714286, 0.9285714285714286, 1.0, 0.9285714285714286, 1.0, 0.7857142857142857, 0.9285714285714286, 0.9285714285714286, 1.0, 0.8571428571428571, 0.7142857142857143, 0.9285714285714286, 0.8571428571428571, 1.0, 0.8571428571428571, 1.0, 0.8571428571428571, 0.9285714285714286, 0.8571428571428571, 0.9285714285714286, 1.0, 1.0, 0.7857142857142857, 0.7857142857142857, 0.8571428571428571, 1.0, 0.7142857142857143, 0.9285714285714286, 0.8571428571428571, 0.8571428571428571, 0.7857142857142857, 0.9285714285714286, 1.0, 0.9285714285714286, 1.0, 0.7142857142857143, 0.8571428571428571, 0.8666666666666667, 0.8571428571428571, 0.7142857142857143, 0.8571428571428571, 0.9285714285714286, 1.0, 0.8571428571428571, 0.9285714285714286, 1.0, 0.8571428571428571, 0.8571428571428571, 0.8571428571428571, 0.9285714285714286, 0.9285714285714286, 0.7857142857142857]\n",
      "[0.8571428571428571, 0.7857142857142857, 0.7857142857142857, 0.8571428571428571, 0.6428571428571429, 0.8571428571428571, 0.9285714285714286, 1.0, 0.8571428571428571, 0.7857142857142857, 0.9285714285714286, 1.0, 0.7857142857142857, 1.0, 0.9285714285714286, 1.0, 1.0, 0.9285714285714286, 1.0, 1.0, 1.0, 0.7142857142857143, 1.0, 0.8571428571428571, 0.9285714285714286, 0.5714285714285714, 0.9285714285714286, 0.8666666666666667, 1.0, 0.9285714285714286, 0.8571428571428571, 1.0, 0.8571428571428571, 1.0, 0.7142857142857143, 0.8571428571428571, 0.7857142857142857, 0.8571428571428571, 0.8571428571428571, 0.7857142857142857, 0.7142857142857143, 0.7857142857142857, 0.7142857142857143, 0.8571428571428571, 0.7857142857142857, 1.0, 0.7857142857142857, 0.9285714285714286, 0.8571428571428571, 0.7857142857142857, 1.0, 0.9285714285714286, 0.9285714285714286, 0.9285714285714286, 1.0, 0.9285714285714286, 0.7857142857142857, 1.0, 0.7857142857142857, 0.9285714285714286, 0.8571428571428571, 0.9285714285714286, 0.9285714285714286, 1.0, 0.9285714285714286, 1.0, 0.7857142857142857, 0.9285714285714286, 0.9285714285714286, 1.0, 0.8571428571428571, 0.7142857142857143, 0.9285714285714286, 0.8571428571428571, 1.0, 0.8571428571428571, 1.0, 0.8571428571428571, 0.9285714285714286, 0.8571428571428571, 0.9285714285714286, 1.0, 1.0, 0.7857142857142857, 0.7857142857142857, 0.8571428571428571, 1.0, 0.7142857142857143, 0.9285714285714286, 0.8571428571428571, 0.8571428571428571, 0.7857142857142857, 0.9285714285714286, 1.0, 0.9285714285714286, 1.0, 0.7142857142857143, 0.8571428571428571, 0.8666666666666667, 0.8571428571428571, 0.7142857142857143, 0.8571428571428571, 0.9285714285714286, 1.0, 0.8571428571428571, 0.9285714285714286, 1.0, 0.8571428571428571, 0.8571428571428571, 0.8571428571428571, 0.9285714285714286, 0.9285714285714286, 0.7857142857142857, 0.8571428571428571]\n",
      "[0.8571428571428571, 0.7857142857142857, 0.7857142857142857, 0.8571428571428571, 0.6428571428571429, 0.8571428571428571, 0.9285714285714286, 1.0, 0.8571428571428571, 0.7857142857142857, 0.9285714285714286, 1.0, 0.7857142857142857, 1.0, 0.9285714285714286, 1.0, 1.0, 0.9285714285714286, 1.0, 1.0, 1.0, 0.7142857142857143, 1.0, 0.8571428571428571, 0.9285714285714286, 0.5714285714285714, 0.9285714285714286, 0.8666666666666667, 1.0, 0.9285714285714286, 0.8571428571428571, 1.0, 0.8571428571428571, 1.0, 0.7142857142857143, 0.8571428571428571, 0.7857142857142857, 0.8571428571428571, 0.8571428571428571, 0.7857142857142857, 0.7142857142857143, 0.7857142857142857, 0.7142857142857143, 0.8571428571428571, 0.7857142857142857, 1.0, 0.7857142857142857, 0.9285714285714286, 0.8571428571428571, 0.7857142857142857, 1.0, 0.9285714285714286, 0.9285714285714286, 0.9285714285714286, 1.0, 0.9285714285714286, 0.7857142857142857, 1.0, 0.7857142857142857, 0.9285714285714286, 0.8571428571428571, 0.9285714285714286, 0.9285714285714286, 1.0, 0.9285714285714286, 1.0, 0.7857142857142857, 0.9285714285714286, 0.9285714285714286, 1.0, 0.8571428571428571, 0.7142857142857143, 0.9285714285714286, 0.8571428571428571, 1.0, 0.8571428571428571, 1.0, 0.8571428571428571, 0.9285714285714286, 0.8571428571428571, 0.9285714285714286, 1.0, 1.0, 0.7857142857142857, 0.7857142857142857, 0.8571428571428571, 1.0, 0.7142857142857143, 0.9285714285714286, 0.8571428571428571, 0.8571428571428571, 0.7857142857142857, 0.9285714285714286, 1.0, 0.9285714285714286, 1.0, 0.7142857142857143, 0.8571428571428571, 0.8666666666666667, 0.8571428571428571, 0.7142857142857143, 0.8571428571428571, 0.9285714285714286, 1.0, 0.8571428571428571, 0.9285714285714286, 1.0, 0.8571428571428571, 0.8571428571428571, 0.8571428571428571, 0.9285714285714286, 0.9285714285714286, 0.7857142857142857, 0.8571428571428571, 0.8571428571428571]\n",
      "[0.8571428571428571, 0.7857142857142857, 0.7857142857142857, 0.8571428571428571, 0.6428571428571429, 0.8571428571428571, 0.9285714285714286, 1.0, 0.8571428571428571, 0.7857142857142857, 0.9285714285714286, 1.0, 0.7857142857142857, 1.0, 0.9285714285714286, 1.0, 1.0, 0.9285714285714286, 1.0, 1.0, 1.0, 0.7142857142857143, 1.0, 0.8571428571428571, 0.9285714285714286, 0.5714285714285714, 0.9285714285714286, 0.8666666666666667, 1.0, 0.9285714285714286, 0.8571428571428571, 1.0, 0.8571428571428571, 1.0, 0.7142857142857143, 0.8571428571428571, 0.7857142857142857, 0.8571428571428571, 0.8571428571428571, 0.7857142857142857, 0.7142857142857143, 0.7857142857142857, 0.7142857142857143, 0.8571428571428571, 0.7857142857142857, 1.0, 0.7857142857142857, 0.9285714285714286, 0.8571428571428571, 0.7857142857142857, 1.0, 0.9285714285714286, 0.9285714285714286, 0.9285714285714286, 1.0, 0.9285714285714286, 0.7857142857142857, 1.0, 0.7857142857142857, 0.9285714285714286, 0.8571428571428571, 0.9285714285714286, 0.9285714285714286, 1.0, 0.9285714285714286, 1.0, 0.7857142857142857, 0.9285714285714286, 0.9285714285714286, 1.0, 0.8571428571428571, 0.7142857142857143, 0.9285714285714286, 0.8571428571428571, 1.0, 0.8571428571428571, 1.0, 0.8571428571428571, 0.9285714285714286, 0.8571428571428571, 0.9285714285714286, 1.0, 1.0, 0.7857142857142857, 0.7857142857142857, 0.8571428571428571, 1.0, 0.7142857142857143, 0.9285714285714286, 0.8571428571428571, 0.8571428571428571, 0.7857142857142857, 0.9285714285714286, 1.0, 0.9285714285714286, 1.0, 0.7142857142857143, 0.8571428571428571, 0.8666666666666667, 0.8571428571428571, 0.7142857142857143, 0.8571428571428571, 0.9285714285714286, 1.0, 0.8571428571428571, 0.9285714285714286, 1.0, 0.8571428571428571, 0.8571428571428571, 0.8571428571428571, 0.9285714285714286, 0.9285714285714286, 0.7857142857142857, 0.8571428571428571, 0.8571428571428571, 1.0]\n",
      "[0.8571428571428571, 0.7857142857142857, 0.7857142857142857, 0.8571428571428571, 0.6428571428571429, 0.8571428571428571, 0.9285714285714286, 1.0, 0.8571428571428571, 0.7857142857142857, 0.9285714285714286, 1.0, 0.7857142857142857, 1.0, 0.9285714285714286, 1.0, 1.0, 0.9285714285714286, 1.0, 1.0, 1.0, 0.7142857142857143, 1.0, 0.8571428571428571, 0.9285714285714286, 0.5714285714285714, 0.9285714285714286, 0.8666666666666667, 1.0, 0.9285714285714286, 0.8571428571428571, 1.0, 0.8571428571428571, 1.0, 0.7142857142857143, 0.8571428571428571, 0.7857142857142857, 0.8571428571428571, 0.8571428571428571, 0.7857142857142857, 0.7142857142857143, 0.7857142857142857, 0.7142857142857143, 0.8571428571428571, 0.7857142857142857, 1.0, 0.7857142857142857, 0.9285714285714286, 0.8571428571428571, 0.7857142857142857, 1.0, 0.9285714285714286, 0.9285714285714286, 0.9285714285714286, 1.0, 0.9285714285714286, 0.7857142857142857, 1.0, 0.7857142857142857, 0.9285714285714286, 0.8571428571428571, 0.9285714285714286, 0.9285714285714286, 1.0, 0.9285714285714286, 1.0, 0.7857142857142857, 0.9285714285714286, 0.9285714285714286, 1.0, 0.8571428571428571, 0.7142857142857143, 0.9285714285714286, 0.8571428571428571, 1.0, 0.8571428571428571, 1.0, 0.8571428571428571, 0.9285714285714286, 0.8571428571428571, 0.9285714285714286, 1.0, 1.0, 0.7857142857142857, 0.7857142857142857, 0.8571428571428571, 1.0, 0.7142857142857143, 0.9285714285714286, 0.8571428571428571, 0.8571428571428571, 0.7857142857142857, 0.9285714285714286, 1.0, 0.9285714285714286, 1.0, 0.7142857142857143, 0.8571428571428571, 0.8666666666666667, 0.8571428571428571, 0.7142857142857143, 0.8571428571428571, 0.9285714285714286, 1.0, 0.8571428571428571, 0.9285714285714286, 1.0, 0.8571428571428571, 0.8571428571428571, 0.8571428571428571, 0.9285714285714286, 0.9285714285714286, 0.7857142857142857, 0.8571428571428571, 0.8571428571428571, 1.0, 0.8571428571428571]\n",
      "[0.8571428571428571, 0.7857142857142857, 0.7857142857142857, 0.8571428571428571, 0.6428571428571429, 0.8571428571428571, 0.9285714285714286, 1.0, 0.8571428571428571, 0.7857142857142857, 0.9285714285714286, 1.0, 0.7857142857142857, 1.0, 0.9285714285714286, 1.0, 1.0, 0.9285714285714286, 1.0, 1.0, 1.0, 0.7142857142857143, 1.0, 0.8571428571428571, 0.9285714285714286, 0.5714285714285714, 0.9285714285714286, 0.8666666666666667, 1.0, 0.9285714285714286, 0.8571428571428571, 1.0, 0.8571428571428571, 1.0, 0.7142857142857143, 0.8571428571428571, 0.7857142857142857, 0.8571428571428571, 0.8571428571428571, 0.7857142857142857, 0.7142857142857143, 0.7857142857142857, 0.7142857142857143, 0.8571428571428571, 0.7857142857142857, 1.0, 0.7857142857142857, 0.9285714285714286, 0.8571428571428571, 0.7857142857142857, 1.0, 0.9285714285714286, 0.9285714285714286, 0.9285714285714286, 1.0, 0.9285714285714286, 0.7857142857142857, 1.0, 0.7857142857142857, 0.9285714285714286, 0.8571428571428571, 0.9285714285714286, 0.9285714285714286, 1.0, 0.9285714285714286, 1.0, 0.7857142857142857, 0.9285714285714286, 0.9285714285714286, 1.0, 0.8571428571428571, 0.7142857142857143, 0.9285714285714286, 0.8571428571428571, 1.0, 0.8571428571428571, 1.0, 0.8571428571428571, 0.9285714285714286, 0.8571428571428571, 0.9285714285714286, 1.0, 1.0, 0.7857142857142857, 0.7857142857142857, 0.8571428571428571, 1.0, 0.7142857142857143, 0.9285714285714286, 0.8571428571428571, 0.8571428571428571, 0.7857142857142857, 0.9285714285714286, 1.0, 0.9285714285714286, 1.0, 0.7142857142857143, 0.8571428571428571, 0.8666666666666667, 0.8571428571428571, 0.7142857142857143, 0.8571428571428571, 0.9285714285714286, 1.0, 0.8571428571428571, 0.9285714285714286, 1.0, 0.8571428571428571, 0.8571428571428571, 0.8571428571428571, 0.9285714285714286, 0.9285714285714286, 0.7857142857142857, 0.8571428571428571, 0.8571428571428571, 1.0, 0.8571428571428571, 0.9285714285714286]\n",
      "[0.8571428571428571, 0.7857142857142857, 0.7857142857142857, 0.8571428571428571, 0.6428571428571429, 0.8571428571428571, 0.9285714285714286, 1.0, 0.8571428571428571, 0.7857142857142857, 0.9285714285714286, 1.0, 0.7857142857142857, 1.0, 0.9285714285714286, 1.0, 1.0, 0.9285714285714286, 1.0, 1.0, 1.0, 0.7142857142857143, 1.0, 0.8571428571428571, 0.9285714285714286, 0.5714285714285714, 0.9285714285714286, 0.8666666666666667, 1.0, 0.9285714285714286, 0.8571428571428571, 1.0, 0.8571428571428571, 1.0, 0.7142857142857143, 0.8571428571428571, 0.7857142857142857, 0.8571428571428571, 0.8571428571428571, 0.7857142857142857, 0.7142857142857143, 0.7857142857142857, 0.7142857142857143, 0.8571428571428571, 0.7857142857142857, 1.0, 0.7857142857142857, 0.9285714285714286, 0.8571428571428571, 0.7857142857142857, 1.0, 0.9285714285714286, 0.9285714285714286, 0.9285714285714286, 1.0, 0.9285714285714286, 0.7857142857142857, 1.0, 0.7857142857142857, 0.9285714285714286, 0.8571428571428571, 0.9285714285714286, 0.9285714285714286, 1.0, 0.9285714285714286, 1.0, 0.7857142857142857, 0.9285714285714286, 0.9285714285714286, 1.0, 0.8571428571428571, 0.7142857142857143, 0.9285714285714286, 0.8571428571428571, 1.0, 0.8571428571428571, 1.0, 0.8571428571428571, 0.9285714285714286, 0.8571428571428571, 0.9285714285714286, 1.0, 1.0, 0.7857142857142857, 0.7857142857142857, 0.8571428571428571, 1.0, 0.7142857142857143, 0.9285714285714286, 0.8571428571428571, 0.8571428571428571, 0.7857142857142857, 0.9285714285714286, 1.0, 0.9285714285714286, 1.0, 0.7142857142857143, 0.8571428571428571, 0.8666666666666667, 0.8571428571428571, 0.7142857142857143, 0.8571428571428571, 0.9285714285714286, 1.0, 0.8571428571428571, 0.9285714285714286, 1.0, 0.8571428571428571, 0.8571428571428571, 0.8571428571428571, 0.9285714285714286, 0.9285714285714286, 0.7857142857142857, 0.8571428571428571, 0.8571428571428571, 1.0, 0.8571428571428571, 0.9285714285714286, 1.0]\n",
      "[0.8571428571428571, 0.7857142857142857, 0.7857142857142857, 0.8571428571428571, 0.6428571428571429, 0.8571428571428571, 0.9285714285714286, 1.0, 0.8571428571428571, 0.7857142857142857, 0.9285714285714286, 1.0, 0.7857142857142857, 1.0, 0.9285714285714286, 1.0, 1.0, 0.9285714285714286, 1.0, 1.0, 1.0, 0.7142857142857143, 1.0, 0.8571428571428571, 0.9285714285714286, 0.5714285714285714, 0.9285714285714286, 0.8666666666666667, 1.0, 0.9285714285714286, 0.8571428571428571, 1.0, 0.8571428571428571, 1.0, 0.7142857142857143, 0.8571428571428571, 0.7857142857142857, 0.8571428571428571, 0.8571428571428571, 0.7857142857142857, 0.7142857142857143, 0.7857142857142857, 0.7142857142857143, 0.8571428571428571, 0.7857142857142857, 1.0, 0.7857142857142857, 0.9285714285714286, 0.8571428571428571, 0.7857142857142857, 1.0, 0.9285714285714286, 0.9285714285714286, 0.9285714285714286, 1.0, 0.9285714285714286, 0.7857142857142857, 1.0, 0.7857142857142857, 0.9285714285714286, 0.8571428571428571, 0.9285714285714286, 0.9285714285714286, 1.0, 0.9285714285714286, 1.0, 0.7857142857142857, 0.9285714285714286, 0.9285714285714286, 1.0, 0.8571428571428571, 0.7142857142857143, 0.9285714285714286, 0.8571428571428571, 1.0, 0.8571428571428571, 1.0, 0.8571428571428571, 0.9285714285714286, 0.8571428571428571, 0.9285714285714286, 1.0, 1.0, 0.7857142857142857, 0.7857142857142857, 0.8571428571428571, 1.0, 0.7142857142857143, 0.9285714285714286, 0.8571428571428571, 0.8571428571428571, 0.7857142857142857, 0.9285714285714286, 1.0, 0.9285714285714286, 1.0, 0.7142857142857143, 0.8571428571428571, 0.8666666666666667, 0.8571428571428571, 0.7142857142857143, 0.8571428571428571, 0.9285714285714286, 1.0, 0.8571428571428571, 0.9285714285714286, 1.0, 0.8571428571428571, 0.8571428571428571, 0.8571428571428571, 0.9285714285714286, 0.9285714285714286, 0.7857142857142857, 0.8571428571428571, 0.8571428571428571, 1.0, 0.8571428571428571, 0.9285714285714286, 1.0, 0.8571428571428571]\n",
      "[0.8571428571428571, 0.7857142857142857, 0.7857142857142857, 0.8571428571428571, 0.6428571428571429, 0.8571428571428571, 0.9285714285714286, 1.0, 0.8571428571428571, 0.7857142857142857, 0.9285714285714286, 1.0, 0.7857142857142857, 1.0, 0.9285714285714286, 1.0, 1.0, 0.9285714285714286, 1.0, 1.0, 1.0, 0.7142857142857143, 1.0, 0.8571428571428571, 0.9285714285714286, 0.5714285714285714, 0.9285714285714286, 0.8666666666666667, 1.0, 0.9285714285714286, 0.8571428571428571, 1.0, 0.8571428571428571, 1.0, 0.7142857142857143, 0.8571428571428571, 0.7857142857142857, 0.8571428571428571, 0.8571428571428571, 0.7857142857142857, 0.7142857142857143, 0.7857142857142857, 0.7142857142857143, 0.8571428571428571, 0.7857142857142857, 1.0, 0.7857142857142857, 0.9285714285714286, 0.8571428571428571, 0.7857142857142857, 1.0, 0.9285714285714286, 0.9285714285714286, 0.9285714285714286, 1.0, 0.9285714285714286, 0.7857142857142857, 1.0, 0.7857142857142857, 0.9285714285714286, 0.8571428571428571, 0.9285714285714286, 0.9285714285714286, 1.0, 0.9285714285714286, 1.0, 0.7857142857142857, 0.9285714285714286, 0.9285714285714286, 1.0, 0.8571428571428571, 0.7142857142857143, 0.9285714285714286, 0.8571428571428571, 1.0, 0.8571428571428571, 1.0, 0.8571428571428571, 0.9285714285714286, 0.8571428571428571, 0.9285714285714286, 1.0, 1.0, 0.7857142857142857, 0.7857142857142857, 0.8571428571428571, 1.0, 0.7142857142857143, 0.9285714285714286, 0.8571428571428571, 0.8571428571428571, 0.7857142857142857, 0.9285714285714286, 1.0, 0.9285714285714286, 1.0, 0.7142857142857143, 0.8571428571428571, 0.8666666666666667, 0.8571428571428571, 0.7142857142857143, 0.8571428571428571, 0.9285714285714286, 1.0, 0.8571428571428571, 0.9285714285714286, 1.0, 0.8571428571428571, 0.8571428571428571, 0.8571428571428571, 0.9285714285714286, 0.9285714285714286, 0.7857142857142857, 0.8571428571428571, 0.8571428571428571, 1.0, 0.8571428571428571, 0.9285714285714286, 1.0, 0.8571428571428571, 0.8571428571428571]\n",
      "[0.8571428571428571, 0.7857142857142857, 0.7857142857142857, 0.8571428571428571, 0.6428571428571429, 0.8571428571428571, 0.9285714285714286, 1.0, 0.8571428571428571, 0.7857142857142857, 0.9285714285714286, 1.0, 0.7857142857142857, 1.0, 0.9285714285714286, 1.0, 1.0, 0.9285714285714286, 1.0, 1.0, 1.0, 0.7142857142857143, 1.0, 0.8571428571428571, 0.9285714285714286, 0.5714285714285714, 0.9285714285714286, 0.8666666666666667, 1.0, 0.9285714285714286, 0.8571428571428571, 1.0, 0.8571428571428571, 1.0, 0.7142857142857143, 0.8571428571428571, 0.7857142857142857, 0.8571428571428571, 0.8571428571428571, 0.7857142857142857, 0.7142857142857143, 0.7857142857142857, 0.7142857142857143, 0.8571428571428571, 0.7857142857142857, 1.0, 0.7857142857142857, 0.9285714285714286, 0.8571428571428571, 0.7857142857142857, 1.0, 0.9285714285714286, 0.9285714285714286, 0.9285714285714286, 1.0, 0.9285714285714286, 0.7857142857142857, 1.0, 0.7857142857142857, 0.9285714285714286, 0.8571428571428571, 0.9285714285714286, 0.9285714285714286, 1.0, 0.9285714285714286, 1.0, 0.7857142857142857, 0.9285714285714286, 0.9285714285714286, 1.0, 0.8571428571428571, 0.7142857142857143, 0.9285714285714286, 0.8571428571428571, 1.0, 0.8571428571428571, 1.0, 0.8571428571428571, 0.9285714285714286, 0.8571428571428571, 0.9285714285714286, 1.0, 1.0, 0.7857142857142857, 0.7857142857142857, 0.8571428571428571, 1.0, 0.7142857142857143, 0.9285714285714286, 0.8571428571428571, 0.8571428571428571, 0.7857142857142857, 0.9285714285714286, 1.0, 0.9285714285714286, 1.0, 0.7142857142857143, 0.8571428571428571, 0.8666666666666667, 0.8571428571428571, 0.7142857142857143, 0.8571428571428571, 0.9285714285714286, 1.0, 0.8571428571428571, 0.9285714285714286, 1.0, 0.8571428571428571, 0.8571428571428571, 0.8571428571428571, 0.9285714285714286, 0.9285714285714286, 0.7857142857142857, 0.8571428571428571, 0.8571428571428571, 1.0, 0.8571428571428571, 0.9285714285714286, 1.0, 0.8571428571428571, 0.8571428571428571, 0.7857142857142857]\n",
      "[0.8571428571428571, 0.7857142857142857, 0.7857142857142857, 0.8571428571428571, 0.6428571428571429, 0.8571428571428571, 0.9285714285714286, 1.0, 0.8571428571428571, 0.7857142857142857, 0.9285714285714286, 1.0, 0.7857142857142857, 1.0, 0.9285714285714286, 1.0, 1.0, 0.9285714285714286, 1.0, 1.0, 1.0, 0.7142857142857143, 1.0, 0.8571428571428571, 0.9285714285714286, 0.5714285714285714, 0.9285714285714286, 0.8666666666666667, 1.0, 0.9285714285714286, 0.8571428571428571, 1.0, 0.8571428571428571, 1.0, 0.7142857142857143, 0.8571428571428571, 0.7857142857142857, 0.8571428571428571, 0.8571428571428571, 0.7857142857142857, 0.7142857142857143, 0.7857142857142857, 0.7142857142857143, 0.8571428571428571, 0.7857142857142857, 1.0, 0.7857142857142857, 0.9285714285714286, 0.8571428571428571, 0.7857142857142857, 1.0, 0.9285714285714286, 0.9285714285714286, 0.9285714285714286, 1.0, 0.9285714285714286, 0.7857142857142857, 1.0, 0.7857142857142857, 0.9285714285714286, 0.8571428571428571, 0.9285714285714286, 0.9285714285714286, 1.0, 0.9285714285714286, 1.0, 0.7857142857142857, 0.9285714285714286, 0.9285714285714286, 1.0, 0.8571428571428571, 0.7142857142857143, 0.9285714285714286, 0.8571428571428571, 1.0, 0.8571428571428571, 1.0, 0.8571428571428571, 0.9285714285714286, 0.8571428571428571, 0.9285714285714286, 1.0, 1.0, 0.7857142857142857, 0.7857142857142857, 0.8571428571428571, 1.0, 0.7142857142857143, 0.9285714285714286, 0.8571428571428571, 0.8571428571428571, 0.7857142857142857, 0.9285714285714286, 1.0, 0.9285714285714286, 1.0, 0.7142857142857143, 0.8571428571428571, 0.8666666666666667, 0.8571428571428571, 0.7142857142857143, 0.8571428571428571, 0.9285714285714286, 1.0, 0.8571428571428571, 0.9285714285714286, 1.0, 0.8571428571428571, 0.8571428571428571, 0.8571428571428571, 0.9285714285714286, 0.9285714285714286, 0.7857142857142857, 0.8571428571428571, 0.8571428571428571, 1.0, 0.8571428571428571, 0.9285714285714286, 1.0, 0.8571428571428571, 0.8571428571428571, 0.7857142857142857, 0.8571428571428571]\n",
      "[0.8571428571428571, 0.7857142857142857, 0.7857142857142857, 0.8571428571428571, 0.6428571428571429, 0.8571428571428571, 0.9285714285714286, 1.0, 0.8571428571428571, 0.7857142857142857, 0.9285714285714286, 1.0, 0.7857142857142857, 1.0, 0.9285714285714286, 1.0, 1.0, 0.9285714285714286, 1.0, 1.0, 1.0, 0.7142857142857143, 1.0, 0.8571428571428571, 0.9285714285714286, 0.5714285714285714, 0.9285714285714286, 0.8666666666666667, 1.0, 0.9285714285714286, 0.8571428571428571, 1.0, 0.8571428571428571, 1.0, 0.7142857142857143, 0.8571428571428571, 0.7857142857142857, 0.8571428571428571, 0.8571428571428571, 0.7857142857142857, 0.7142857142857143, 0.7857142857142857, 0.7142857142857143, 0.8571428571428571, 0.7857142857142857, 1.0, 0.7857142857142857, 0.9285714285714286, 0.8571428571428571, 0.7857142857142857, 1.0, 0.9285714285714286, 0.9285714285714286, 0.9285714285714286, 1.0, 0.9285714285714286, 0.7857142857142857, 1.0, 0.7857142857142857, 0.9285714285714286, 0.8571428571428571, 0.9285714285714286, 0.9285714285714286, 1.0, 0.9285714285714286, 1.0, 0.7857142857142857, 0.9285714285714286, 0.9285714285714286, 1.0, 0.8571428571428571, 0.7142857142857143, 0.9285714285714286, 0.8571428571428571, 1.0, 0.8571428571428571, 1.0, 0.8571428571428571, 0.9285714285714286, 0.8571428571428571, 0.9285714285714286, 1.0, 1.0, 0.7857142857142857, 0.7857142857142857, 0.8571428571428571, 1.0, 0.7142857142857143, 0.9285714285714286, 0.8571428571428571, 0.8571428571428571, 0.7857142857142857, 0.9285714285714286, 1.0, 0.9285714285714286, 1.0, 0.7142857142857143, 0.8571428571428571, 0.8666666666666667, 0.8571428571428571, 0.7142857142857143, 0.8571428571428571, 0.9285714285714286, 1.0, 0.8571428571428571, 0.9285714285714286, 1.0, 0.8571428571428571, 0.8571428571428571, 0.8571428571428571, 0.9285714285714286, 0.9285714285714286, 0.7857142857142857, 0.8571428571428571, 0.8571428571428571, 1.0, 0.8571428571428571, 0.9285714285714286, 1.0, 0.8571428571428571, 0.8571428571428571, 0.7857142857142857, 0.8571428571428571, 1.0]\n",
      "[0.8571428571428571, 0.7857142857142857, 0.7857142857142857, 0.8571428571428571, 0.6428571428571429, 0.8571428571428571, 0.9285714285714286, 1.0, 0.8571428571428571, 0.7857142857142857, 0.9285714285714286, 1.0, 0.7857142857142857, 1.0, 0.9285714285714286, 1.0, 1.0, 0.9285714285714286, 1.0, 1.0, 1.0, 0.7142857142857143, 1.0, 0.8571428571428571, 0.9285714285714286, 0.5714285714285714, 0.9285714285714286, 0.8666666666666667, 1.0, 0.9285714285714286, 0.8571428571428571, 1.0, 0.8571428571428571, 1.0, 0.7142857142857143, 0.8571428571428571, 0.7857142857142857, 0.8571428571428571, 0.8571428571428571, 0.7857142857142857, 0.7142857142857143, 0.7857142857142857, 0.7142857142857143, 0.8571428571428571, 0.7857142857142857, 1.0, 0.7857142857142857, 0.9285714285714286, 0.8571428571428571, 0.7857142857142857, 1.0, 0.9285714285714286, 0.9285714285714286, 0.9285714285714286, 1.0, 0.9285714285714286, 0.7857142857142857, 1.0, 0.7857142857142857, 0.9285714285714286, 0.8571428571428571, 0.9285714285714286, 0.9285714285714286, 1.0, 0.9285714285714286, 1.0, 0.7857142857142857, 0.9285714285714286, 0.9285714285714286, 1.0, 0.8571428571428571, 0.7142857142857143, 0.9285714285714286, 0.8571428571428571, 1.0, 0.8571428571428571, 1.0, 0.8571428571428571, 0.9285714285714286, 0.8571428571428571, 0.9285714285714286, 1.0, 1.0, 0.7857142857142857, 0.7857142857142857, 0.8571428571428571, 1.0, 0.7142857142857143, 0.9285714285714286, 0.8571428571428571, 0.8571428571428571, 0.7857142857142857, 0.9285714285714286, 1.0, 0.9285714285714286, 1.0, 0.7142857142857143, 0.8571428571428571, 0.8666666666666667, 0.8571428571428571, 0.7142857142857143, 0.8571428571428571, 0.9285714285714286, 1.0, 0.8571428571428571, 0.9285714285714286, 1.0, 0.8571428571428571, 0.8571428571428571, 0.8571428571428571, 0.9285714285714286, 0.9285714285714286, 0.7857142857142857, 0.8571428571428571, 0.8571428571428571, 1.0, 0.8571428571428571, 0.9285714285714286, 1.0, 0.8571428571428571, 0.8571428571428571, 0.7857142857142857, 0.8571428571428571, 1.0, 0.9285714285714286]\n",
      "[0.8571428571428571, 0.7857142857142857, 0.7857142857142857, 0.8571428571428571, 0.6428571428571429, 0.8571428571428571, 0.9285714285714286, 1.0, 0.8571428571428571, 0.7857142857142857, 0.9285714285714286, 1.0, 0.7857142857142857, 1.0, 0.9285714285714286, 1.0, 1.0, 0.9285714285714286, 1.0, 1.0, 1.0, 0.7142857142857143, 1.0, 0.8571428571428571, 0.9285714285714286, 0.5714285714285714, 0.9285714285714286, 0.8666666666666667, 1.0, 0.9285714285714286, 0.8571428571428571, 1.0, 0.8571428571428571, 1.0, 0.7142857142857143, 0.8571428571428571, 0.7857142857142857, 0.8571428571428571, 0.8571428571428571, 0.7857142857142857, 0.7142857142857143, 0.7857142857142857, 0.7142857142857143, 0.8571428571428571, 0.7857142857142857, 1.0, 0.7857142857142857, 0.9285714285714286, 0.8571428571428571, 0.7857142857142857, 1.0, 0.9285714285714286, 0.9285714285714286, 0.9285714285714286, 1.0, 0.9285714285714286, 0.7857142857142857, 1.0, 0.7857142857142857, 0.9285714285714286, 0.8571428571428571, 0.9285714285714286, 0.9285714285714286, 1.0, 0.9285714285714286, 1.0, 0.7857142857142857, 0.9285714285714286, 0.9285714285714286, 1.0, 0.8571428571428571, 0.7142857142857143, 0.9285714285714286, 0.8571428571428571, 1.0, 0.8571428571428571, 1.0, 0.8571428571428571, 0.9285714285714286, 0.8571428571428571, 0.9285714285714286, 1.0, 1.0, 0.7857142857142857, 0.7857142857142857, 0.8571428571428571, 1.0, 0.7142857142857143, 0.9285714285714286, 0.8571428571428571, 0.8571428571428571, 0.7857142857142857, 0.9285714285714286, 1.0, 0.9285714285714286, 1.0, 0.7142857142857143, 0.8571428571428571, 0.8666666666666667, 0.8571428571428571, 0.7142857142857143, 0.8571428571428571, 0.9285714285714286, 1.0, 0.8571428571428571, 0.9285714285714286, 1.0, 0.8571428571428571, 0.8571428571428571, 0.8571428571428571, 0.9285714285714286, 0.9285714285714286, 0.7857142857142857, 0.8571428571428571, 0.8571428571428571, 1.0, 0.8571428571428571, 0.9285714285714286, 1.0, 0.8571428571428571, 0.8571428571428571, 0.7857142857142857, 0.8571428571428571, 1.0, 0.9285714285714286, 0.8333333333333334]\n",
      "[0.8571428571428571, 0.7857142857142857, 0.7857142857142857, 0.8571428571428571, 0.6428571428571429, 0.8571428571428571, 0.9285714285714286, 1.0, 0.8571428571428571, 0.7857142857142857, 0.9285714285714286, 1.0, 0.7857142857142857, 1.0, 0.9285714285714286, 1.0, 1.0, 0.9285714285714286, 1.0, 1.0, 1.0, 0.7142857142857143, 1.0, 0.8571428571428571, 0.9285714285714286, 0.5714285714285714, 0.9285714285714286, 0.8666666666666667, 1.0, 0.9285714285714286, 0.8571428571428571, 1.0, 0.8571428571428571, 1.0, 0.7142857142857143, 0.8571428571428571, 0.7857142857142857, 0.8571428571428571, 0.8571428571428571, 0.7857142857142857, 0.7142857142857143, 0.7857142857142857, 0.7142857142857143, 0.8571428571428571, 0.7857142857142857, 1.0, 0.7857142857142857, 0.9285714285714286, 0.8571428571428571, 0.7857142857142857, 1.0, 0.9285714285714286, 0.9285714285714286, 0.9285714285714286, 1.0, 0.9285714285714286, 0.7857142857142857, 1.0, 0.7857142857142857, 0.9285714285714286, 0.8571428571428571, 0.9285714285714286, 0.9285714285714286, 1.0, 0.9285714285714286, 1.0, 0.7857142857142857, 0.9285714285714286, 0.9285714285714286, 1.0, 0.8571428571428571, 0.7142857142857143, 0.9285714285714286, 0.8571428571428571, 1.0, 0.8571428571428571, 1.0, 0.8571428571428571, 0.9285714285714286, 0.8571428571428571, 0.9285714285714286, 1.0, 1.0, 0.7857142857142857, 0.7857142857142857, 0.8571428571428571, 1.0, 0.7142857142857143, 0.9285714285714286, 0.8571428571428571, 0.8571428571428571, 0.7857142857142857, 0.9285714285714286, 1.0, 0.9285714285714286, 1.0, 0.7142857142857143, 0.8571428571428571, 0.8666666666666667, 0.8571428571428571, 0.7142857142857143, 0.8571428571428571, 0.9285714285714286, 1.0, 0.8571428571428571, 0.9285714285714286, 1.0, 0.8571428571428571, 0.8571428571428571, 0.8571428571428571, 0.9285714285714286, 0.9285714285714286, 0.7857142857142857, 0.8571428571428571, 0.8571428571428571, 1.0, 0.8571428571428571, 0.9285714285714286, 1.0, 0.8571428571428571, 0.8571428571428571, 0.7857142857142857, 0.8571428571428571, 1.0, 0.9285714285714286, 0.8333333333333334, 0.9285714285714286]\n",
      "[0.8571428571428571, 0.7857142857142857, 0.7857142857142857, 0.8571428571428571, 0.6428571428571429, 0.8571428571428571, 0.9285714285714286, 1.0, 0.8571428571428571, 0.7857142857142857, 0.9285714285714286, 1.0, 0.7857142857142857, 1.0, 0.9285714285714286, 1.0, 1.0, 0.9285714285714286, 1.0, 1.0, 1.0, 0.7142857142857143, 1.0, 0.8571428571428571, 0.9285714285714286, 0.5714285714285714, 0.9285714285714286, 0.8666666666666667, 1.0, 0.9285714285714286, 0.8571428571428571, 1.0, 0.8571428571428571, 1.0, 0.7142857142857143, 0.8571428571428571, 0.7857142857142857, 0.8571428571428571, 0.8571428571428571, 0.7857142857142857, 0.7142857142857143, 0.7857142857142857, 0.7142857142857143, 0.8571428571428571, 0.7857142857142857, 1.0, 0.7857142857142857, 0.9285714285714286, 0.8571428571428571, 0.7857142857142857, 1.0, 0.9285714285714286, 0.9285714285714286, 0.9285714285714286, 1.0, 0.9285714285714286, 0.7857142857142857, 1.0, 0.7857142857142857, 0.9285714285714286, 0.8571428571428571, 0.9285714285714286, 0.9285714285714286, 1.0, 0.9285714285714286, 1.0, 0.7857142857142857, 0.9285714285714286, 0.9285714285714286, 1.0, 0.8571428571428571, 0.7142857142857143, 0.9285714285714286, 0.8571428571428571, 1.0, 0.8571428571428571, 1.0, 0.8571428571428571, 0.9285714285714286, 0.8571428571428571, 0.9285714285714286, 1.0, 1.0, 0.7857142857142857, 0.7857142857142857, 0.8571428571428571, 1.0, 0.7142857142857143, 0.9285714285714286, 0.8571428571428571, 0.8571428571428571, 0.7857142857142857, 0.9285714285714286, 1.0, 0.9285714285714286, 1.0, 0.7142857142857143, 0.8571428571428571, 0.8666666666666667, 0.8571428571428571, 0.7142857142857143, 0.8571428571428571, 0.9285714285714286, 1.0, 0.8571428571428571, 0.9285714285714286, 1.0, 0.8571428571428571, 0.8571428571428571, 0.8571428571428571, 0.9285714285714286, 0.9285714285714286, 0.7857142857142857, 0.8571428571428571, 0.8571428571428571, 1.0, 0.8571428571428571, 0.9285714285714286, 1.0, 0.8571428571428571, 0.8571428571428571, 0.7857142857142857, 0.8571428571428571, 1.0, 0.9285714285714286, 0.8333333333333334, 0.9285714285714286, 0.9285714285714286]\n",
      "[0.8571428571428571, 0.7857142857142857, 0.7857142857142857, 0.8571428571428571, 0.6428571428571429, 0.8571428571428571, 0.9285714285714286, 1.0, 0.8571428571428571, 0.7857142857142857, 0.9285714285714286, 1.0, 0.7857142857142857, 1.0, 0.9285714285714286, 1.0, 1.0, 0.9285714285714286, 1.0, 1.0, 1.0, 0.7142857142857143, 1.0, 0.8571428571428571, 0.9285714285714286, 0.5714285714285714, 0.9285714285714286, 0.8666666666666667, 1.0, 0.9285714285714286, 0.8571428571428571, 1.0, 0.8571428571428571, 1.0, 0.7142857142857143, 0.8571428571428571, 0.7857142857142857, 0.8571428571428571, 0.8571428571428571, 0.7857142857142857, 0.7142857142857143, 0.7857142857142857, 0.7142857142857143, 0.8571428571428571, 0.7857142857142857, 1.0, 0.7857142857142857, 0.9285714285714286, 0.8571428571428571, 0.7857142857142857, 1.0, 0.9285714285714286, 0.9285714285714286, 0.9285714285714286, 1.0, 0.9285714285714286, 0.7857142857142857, 1.0, 0.7857142857142857, 0.9285714285714286, 0.8571428571428571, 0.9285714285714286, 0.9285714285714286, 1.0, 0.9285714285714286, 1.0, 0.7857142857142857, 0.9285714285714286, 0.9285714285714286, 1.0, 0.8571428571428571, 0.7142857142857143, 0.9285714285714286, 0.8571428571428571, 1.0, 0.8571428571428571, 1.0, 0.8571428571428571, 0.9285714285714286, 0.8571428571428571, 0.9285714285714286, 1.0, 1.0, 0.7857142857142857, 0.7857142857142857, 0.8571428571428571, 1.0, 0.7142857142857143, 0.9285714285714286, 0.8571428571428571, 0.8571428571428571, 0.7857142857142857, 0.9285714285714286, 1.0, 0.9285714285714286, 1.0, 0.7142857142857143, 0.8571428571428571, 0.8666666666666667, 0.8571428571428571, 0.7142857142857143, 0.8571428571428571, 0.9285714285714286, 1.0, 0.8571428571428571, 0.9285714285714286, 1.0, 0.8571428571428571, 0.8571428571428571, 0.8571428571428571, 0.9285714285714286, 0.9285714285714286, 0.7857142857142857, 0.8571428571428571, 0.8571428571428571, 1.0, 0.8571428571428571, 0.9285714285714286, 1.0, 0.8571428571428571, 0.8571428571428571, 0.7857142857142857, 0.8571428571428571, 1.0, 0.9285714285714286, 0.8333333333333334, 0.9285714285714286, 0.9285714285714286, 0.8571428571428571]\n",
      "[0.8571428571428571, 0.7857142857142857, 0.7857142857142857, 0.8571428571428571, 0.6428571428571429, 0.8571428571428571, 0.9285714285714286, 1.0, 0.8571428571428571, 0.7857142857142857, 0.9285714285714286, 1.0, 0.7857142857142857, 1.0, 0.9285714285714286, 1.0, 1.0, 0.9285714285714286, 1.0, 1.0, 1.0, 0.7142857142857143, 1.0, 0.8571428571428571, 0.9285714285714286, 0.5714285714285714, 0.9285714285714286, 0.8666666666666667, 1.0, 0.9285714285714286, 0.8571428571428571, 1.0, 0.8571428571428571, 1.0, 0.7142857142857143, 0.8571428571428571, 0.7857142857142857, 0.8571428571428571, 0.8571428571428571, 0.7857142857142857, 0.7142857142857143, 0.7857142857142857, 0.7142857142857143, 0.8571428571428571, 0.7857142857142857, 1.0, 0.7857142857142857, 0.9285714285714286, 0.8571428571428571, 0.7857142857142857, 1.0, 0.9285714285714286, 0.9285714285714286, 0.9285714285714286, 1.0, 0.9285714285714286, 0.7857142857142857, 1.0, 0.7857142857142857, 0.9285714285714286, 0.8571428571428571, 0.9285714285714286, 0.9285714285714286, 1.0, 0.9285714285714286, 1.0, 0.7857142857142857, 0.9285714285714286, 0.9285714285714286, 1.0, 0.8571428571428571, 0.7142857142857143, 0.9285714285714286, 0.8571428571428571, 1.0, 0.8571428571428571, 1.0, 0.8571428571428571, 0.9285714285714286, 0.8571428571428571, 0.9285714285714286, 1.0, 1.0, 0.7857142857142857, 0.7857142857142857, 0.8571428571428571, 1.0, 0.7142857142857143, 0.9285714285714286, 0.8571428571428571, 0.8571428571428571, 0.7857142857142857, 0.9285714285714286, 1.0, 0.9285714285714286, 1.0, 0.7142857142857143, 0.8571428571428571, 0.8666666666666667, 0.8571428571428571, 0.7142857142857143, 0.8571428571428571, 0.9285714285714286, 1.0, 0.8571428571428571, 0.9285714285714286, 1.0, 0.8571428571428571, 0.8571428571428571, 0.8571428571428571, 0.9285714285714286, 0.9285714285714286, 0.7857142857142857, 0.8571428571428571, 0.8571428571428571, 1.0, 0.8571428571428571, 0.9285714285714286, 1.0, 0.8571428571428571, 0.8571428571428571, 0.7857142857142857, 0.8571428571428571, 1.0, 0.9285714285714286, 0.8333333333333334, 0.9285714285714286, 0.9285714285714286, 0.8571428571428571, 1.0]\n",
      "[0.8571428571428571, 0.7857142857142857, 0.7857142857142857, 0.8571428571428571, 0.6428571428571429, 0.8571428571428571, 0.9285714285714286, 1.0, 0.8571428571428571, 0.7857142857142857, 0.9285714285714286, 1.0, 0.7857142857142857, 1.0, 0.9285714285714286, 1.0, 1.0, 0.9285714285714286, 1.0, 1.0, 1.0, 0.7142857142857143, 1.0, 0.8571428571428571, 0.9285714285714286, 0.5714285714285714, 0.9285714285714286, 0.8666666666666667, 1.0, 0.9285714285714286, 0.8571428571428571, 1.0, 0.8571428571428571, 1.0, 0.7142857142857143, 0.8571428571428571, 0.7857142857142857, 0.8571428571428571, 0.8571428571428571, 0.7857142857142857, 0.7142857142857143, 0.7857142857142857, 0.7142857142857143, 0.8571428571428571, 0.7857142857142857, 1.0, 0.7857142857142857, 0.9285714285714286, 0.8571428571428571, 0.7857142857142857, 1.0, 0.9285714285714286, 0.9285714285714286, 0.9285714285714286, 1.0, 0.9285714285714286, 0.7857142857142857, 1.0, 0.7857142857142857, 0.9285714285714286, 0.8571428571428571, 0.9285714285714286, 0.9285714285714286, 1.0, 0.9285714285714286, 1.0, 0.7857142857142857, 0.9285714285714286, 0.9285714285714286, 1.0, 0.8571428571428571, 0.7142857142857143, 0.9285714285714286, 0.8571428571428571, 1.0, 0.8571428571428571, 1.0, 0.8571428571428571, 0.9285714285714286, 0.8571428571428571, 0.9285714285714286, 1.0, 1.0, 0.7857142857142857, 0.7857142857142857, 0.8571428571428571, 1.0, 0.7142857142857143, 0.9285714285714286, 0.8571428571428571, 0.8571428571428571, 0.7857142857142857, 0.9285714285714286, 1.0, 0.9285714285714286, 1.0, 0.7142857142857143, 0.8571428571428571, 0.8666666666666667, 0.8571428571428571, 0.7142857142857143, 0.8571428571428571, 0.9285714285714286, 1.0, 0.8571428571428571, 0.9285714285714286, 1.0, 0.8571428571428571, 0.8571428571428571, 0.8571428571428571, 0.9285714285714286, 0.9285714285714286, 0.7857142857142857, 0.8571428571428571, 0.8571428571428571, 1.0, 0.8571428571428571, 0.9285714285714286, 1.0, 0.8571428571428571, 0.8571428571428571, 0.7857142857142857, 0.8571428571428571, 1.0, 0.9285714285714286, 0.8333333333333334, 0.9285714285714286, 0.9285714285714286, 0.8571428571428571, 1.0, 1.0]\n",
      "[0.8571428571428571, 0.7857142857142857, 0.7857142857142857, 0.8571428571428571, 0.6428571428571429, 0.8571428571428571, 0.9285714285714286, 1.0, 0.8571428571428571, 0.7857142857142857, 0.9285714285714286, 1.0, 0.7857142857142857, 1.0, 0.9285714285714286, 1.0, 1.0, 0.9285714285714286, 1.0, 1.0, 1.0, 0.7142857142857143, 1.0, 0.8571428571428571, 0.9285714285714286, 0.5714285714285714, 0.9285714285714286, 0.8666666666666667, 1.0, 0.9285714285714286, 0.8571428571428571, 1.0, 0.8571428571428571, 1.0, 0.7142857142857143, 0.8571428571428571, 0.7857142857142857, 0.8571428571428571, 0.8571428571428571, 0.7857142857142857, 0.7142857142857143, 0.7857142857142857, 0.7142857142857143, 0.8571428571428571, 0.7857142857142857, 1.0, 0.7857142857142857, 0.9285714285714286, 0.8571428571428571, 0.7857142857142857, 1.0, 0.9285714285714286, 0.9285714285714286, 0.9285714285714286, 1.0, 0.9285714285714286, 0.7857142857142857, 1.0, 0.7857142857142857, 0.9285714285714286, 0.8571428571428571, 0.9285714285714286, 0.9285714285714286, 1.0, 0.9285714285714286, 1.0, 0.7857142857142857, 0.9285714285714286, 0.9285714285714286, 1.0, 0.8571428571428571, 0.7142857142857143, 0.9285714285714286, 0.8571428571428571, 1.0, 0.8571428571428571, 1.0, 0.8571428571428571, 0.9285714285714286, 0.8571428571428571, 0.9285714285714286, 1.0, 1.0, 0.7857142857142857, 0.7857142857142857, 0.8571428571428571, 1.0, 0.7142857142857143, 0.9285714285714286, 0.8571428571428571, 0.8571428571428571, 0.7857142857142857, 0.9285714285714286, 1.0, 0.9285714285714286, 1.0, 0.7142857142857143, 0.8571428571428571, 0.8666666666666667, 0.8571428571428571, 0.7142857142857143, 0.8571428571428571, 0.9285714285714286, 1.0, 0.8571428571428571, 0.9285714285714286, 1.0, 0.8571428571428571, 0.8571428571428571, 0.8571428571428571, 0.9285714285714286, 0.9285714285714286, 0.7857142857142857, 0.8571428571428571, 0.8571428571428571, 1.0, 0.8571428571428571, 0.9285714285714286, 1.0, 0.8571428571428571, 0.8571428571428571, 0.7857142857142857, 0.8571428571428571, 1.0, 0.9285714285714286, 0.8333333333333334, 0.9285714285714286, 0.9285714285714286, 0.8571428571428571, 1.0, 1.0, 0.8571428571428571]\n",
      "[0.8571428571428571, 0.7857142857142857, 0.7857142857142857, 0.8571428571428571, 0.6428571428571429, 0.8571428571428571, 0.9285714285714286, 1.0, 0.8571428571428571, 0.7857142857142857, 0.9285714285714286, 1.0, 0.7857142857142857, 1.0, 0.9285714285714286, 1.0, 1.0, 0.9285714285714286, 1.0, 1.0, 1.0, 0.7142857142857143, 1.0, 0.8571428571428571, 0.9285714285714286, 0.5714285714285714, 0.9285714285714286, 0.8666666666666667, 1.0, 0.9285714285714286, 0.8571428571428571, 1.0, 0.8571428571428571, 1.0, 0.7142857142857143, 0.8571428571428571, 0.7857142857142857, 0.8571428571428571, 0.8571428571428571, 0.7857142857142857, 0.7142857142857143, 0.7857142857142857, 0.7142857142857143, 0.8571428571428571, 0.7857142857142857, 1.0, 0.7857142857142857, 0.9285714285714286, 0.8571428571428571, 0.7857142857142857, 1.0, 0.9285714285714286, 0.9285714285714286, 0.9285714285714286, 1.0, 0.9285714285714286, 0.7857142857142857, 1.0, 0.7857142857142857, 0.9285714285714286, 0.8571428571428571, 0.9285714285714286, 0.9285714285714286, 1.0, 0.9285714285714286, 1.0, 0.7857142857142857, 0.9285714285714286, 0.9285714285714286, 1.0, 0.8571428571428571, 0.7142857142857143, 0.9285714285714286, 0.8571428571428571, 1.0, 0.8571428571428571, 1.0, 0.8571428571428571, 0.9285714285714286, 0.8571428571428571, 0.9285714285714286, 1.0, 1.0, 0.7857142857142857, 0.7857142857142857, 0.8571428571428571, 1.0, 0.7142857142857143, 0.9285714285714286, 0.8571428571428571, 0.8571428571428571, 0.7857142857142857, 0.9285714285714286, 1.0, 0.9285714285714286, 1.0, 0.7142857142857143, 0.8571428571428571, 0.8666666666666667, 0.8571428571428571, 0.7142857142857143, 0.8571428571428571, 0.9285714285714286, 1.0, 0.8571428571428571, 0.9285714285714286, 1.0, 0.8571428571428571, 0.8571428571428571, 0.8571428571428571, 0.9285714285714286, 0.9285714285714286, 0.7857142857142857, 0.8571428571428571, 0.8571428571428571, 1.0, 0.8571428571428571, 0.9285714285714286, 1.0, 0.8571428571428571, 0.8571428571428571, 0.7857142857142857, 0.8571428571428571, 1.0, 0.9285714285714286, 0.8333333333333334, 0.9285714285714286, 0.9285714285714286, 0.8571428571428571, 1.0, 1.0, 0.8571428571428571, 0.7142857142857143]\n",
      "[0.8571428571428571, 0.7857142857142857, 0.7857142857142857, 0.8571428571428571, 0.6428571428571429, 0.8571428571428571, 0.9285714285714286, 1.0, 0.8571428571428571, 0.7857142857142857, 0.9285714285714286, 1.0, 0.7857142857142857, 1.0, 0.9285714285714286, 1.0, 1.0, 0.9285714285714286, 1.0, 1.0, 1.0, 0.7142857142857143, 1.0, 0.8571428571428571, 0.9285714285714286, 0.5714285714285714, 0.9285714285714286, 0.8666666666666667, 1.0, 0.9285714285714286, 0.8571428571428571, 1.0, 0.8571428571428571, 1.0, 0.7142857142857143, 0.8571428571428571, 0.7857142857142857, 0.8571428571428571, 0.8571428571428571, 0.7857142857142857, 0.7142857142857143, 0.7857142857142857, 0.7142857142857143, 0.8571428571428571, 0.7857142857142857, 1.0, 0.7857142857142857, 0.9285714285714286, 0.8571428571428571, 0.7857142857142857, 1.0, 0.9285714285714286, 0.9285714285714286, 0.9285714285714286, 1.0, 0.9285714285714286, 0.7857142857142857, 1.0, 0.7857142857142857, 0.9285714285714286, 0.8571428571428571, 0.9285714285714286, 0.9285714285714286, 1.0, 0.9285714285714286, 1.0, 0.7857142857142857, 0.9285714285714286, 0.9285714285714286, 1.0, 0.8571428571428571, 0.7142857142857143, 0.9285714285714286, 0.8571428571428571, 1.0, 0.8571428571428571, 1.0, 0.8571428571428571, 0.9285714285714286, 0.8571428571428571, 0.9285714285714286, 1.0, 1.0, 0.7857142857142857, 0.7857142857142857, 0.8571428571428571, 1.0, 0.7142857142857143, 0.9285714285714286, 0.8571428571428571, 0.8571428571428571, 0.7857142857142857, 0.9285714285714286, 1.0, 0.9285714285714286, 1.0, 0.7142857142857143, 0.8571428571428571, 0.8666666666666667, 0.8571428571428571, 0.7142857142857143, 0.8571428571428571, 0.9285714285714286, 1.0, 0.8571428571428571, 0.9285714285714286, 1.0, 0.8571428571428571, 0.8571428571428571, 0.8571428571428571, 0.9285714285714286, 0.9285714285714286, 0.7857142857142857, 0.8571428571428571, 0.8571428571428571, 1.0, 0.8571428571428571, 0.9285714285714286, 1.0, 0.8571428571428571, 0.8571428571428571, 0.7857142857142857, 0.8571428571428571, 1.0, 0.9285714285714286, 0.8333333333333334, 0.9285714285714286, 0.9285714285714286, 0.8571428571428571, 1.0, 1.0, 0.8571428571428571, 0.7142857142857143, 0.6428571428571429]\n",
      "[0.8571428571428571, 0.7857142857142857, 0.7857142857142857, 0.8571428571428571, 0.6428571428571429, 0.8571428571428571, 0.9285714285714286, 1.0, 0.8571428571428571, 0.7857142857142857, 0.9285714285714286, 1.0, 0.7857142857142857, 1.0, 0.9285714285714286, 1.0, 1.0, 0.9285714285714286, 1.0, 1.0, 1.0, 0.7142857142857143, 1.0, 0.8571428571428571, 0.9285714285714286, 0.5714285714285714, 0.9285714285714286, 0.8666666666666667, 1.0, 0.9285714285714286, 0.8571428571428571, 1.0, 0.8571428571428571, 1.0, 0.7142857142857143, 0.8571428571428571, 0.7857142857142857, 0.8571428571428571, 0.8571428571428571, 0.7857142857142857, 0.7142857142857143, 0.7857142857142857, 0.7142857142857143, 0.8571428571428571, 0.7857142857142857, 1.0, 0.7857142857142857, 0.9285714285714286, 0.8571428571428571, 0.7857142857142857, 1.0, 0.9285714285714286, 0.9285714285714286, 0.9285714285714286, 1.0, 0.9285714285714286, 0.7857142857142857, 1.0, 0.7857142857142857, 0.9285714285714286, 0.8571428571428571, 0.9285714285714286, 0.9285714285714286, 1.0, 0.9285714285714286, 1.0, 0.7857142857142857, 0.9285714285714286, 0.9285714285714286, 1.0, 0.8571428571428571, 0.7142857142857143, 0.9285714285714286, 0.8571428571428571, 1.0, 0.8571428571428571, 1.0, 0.8571428571428571, 0.9285714285714286, 0.8571428571428571, 0.9285714285714286, 1.0, 1.0, 0.7857142857142857, 0.7857142857142857, 0.8571428571428571, 1.0, 0.7142857142857143, 0.9285714285714286, 0.8571428571428571, 0.8571428571428571, 0.7857142857142857, 0.9285714285714286, 1.0, 0.9285714285714286, 1.0, 0.7142857142857143, 0.8571428571428571, 0.8666666666666667, 0.8571428571428571, 0.7142857142857143, 0.8571428571428571, 0.9285714285714286, 1.0, 0.8571428571428571, 0.9285714285714286, 1.0, 0.8571428571428571, 0.8571428571428571, 0.8571428571428571, 0.9285714285714286, 0.9285714285714286, 0.7857142857142857, 0.8571428571428571, 0.8571428571428571, 1.0, 0.8571428571428571, 0.9285714285714286, 1.0, 0.8571428571428571, 0.8571428571428571, 0.7857142857142857, 0.8571428571428571, 1.0, 0.9285714285714286, 0.8333333333333334, 0.9285714285714286, 0.9285714285714286, 0.8571428571428571, 1.0, 1.0, 0.8571428571428571, 0.7142857142857143, 0.6428571428571429, 0.6428571428571429]\n",
      "[0.8571428571428571, 0.7857142857142857, 0.7857142857142857, 0.8571428571428571, 0.6428571428571429, 0.8571428571428571, 0.9285714285714286, 1.0, 0.8571428571428571, 0.7857142857142857, 0.9285714285714286, 1.0, 0.7857142857142857, 1.0, 0.9285714285714286, 1.0, 1.0, 0.9285714285714286, 1.0, 1.0, 1.0, 0.7142857142857143, 1.0, 0.8571428571428571, 0.9285714285714286, 0.5714285714285714, 0.9285714285714286, 0.8666666666666667, 1.0, 0.9285714285714286, 0.8571428571428571, 1.0, 0.8571428571428571, 1.0, 0.7142857142857143, 0.8571428571428571, 0.7857142857142857, 0.8571428571428571, 0.8571428571428571, 0.7857142857142857, 0.7142857142857143, 0.7857142857142857, 0.7142857142857143, 0.8571428571428571, 0.7857142857142857, 1.0, 0.7857142857142857, 0.9285714285714286, 0.8571428571428571, 0.7857142857142857, 1.0, 0.9285714285714286, 0.9285714285714286, 0.9285714285714286, 1.0, 0.9285714285714286, 0.7857142857142857, 1.0, 0.7857142857142857, 0.9285714285714286, 0.8571428571428571, 0.9285714285714286, 0.9285714285714286, 1.0, 0.9285714285714286, 1.0, 0.7857142857142857, 0.9285714285714286, 0.9285714285714286, 1.0, 0.8571428571428571, 0.7142857142857143, 0.9285714285714286, 0.8571428571428571, 1.0, 0.8571428571428571, 1.0, 0.8571428571428571, 0.9285714285714286, 0.8571428571428571, 0.9285714285714286, 1.0, 1.0, 0.7857142857142857, 0.7857142857142857, 0.8571428571428571, 1.0, 0.7142857142857143, 0.9285714285714286, 0.8571428571428571, 0.8571428571428571, 0.7857142857142857, 0.9285714285714286, 1.0, 0.9285714285714286, 1.0, 0.7142857142857143, 0.8571428571428571, 0.8666666666666667, 0.8571428571428571, 0.7142857142857143, 0.8571428571428571, 0.9285714285714286, 1.0, 0.8571428571428571, 0.9285714285714286, 1.0, 0.8571428571428571, 0.8571428571428571, 0.8571428571428571, 0.9285714285714286, 0.9285714285714286, 0.7857142857142857, 0.8571428571428571, 0.8571428571428571, 1.0, 0.8571428571428571, 0.9285714285714286, 1.0, 0.8571428571428571, 0.8571428571428571, 0.7857142857142857, 0.8571428571428571, 1.0, 0.9285714285714286, 0.8333333333333334, 0.9285714285714286, 0.9285714285714286, 0.8571428571428571, 1.0, 1.0, 0.8571428571428571, 0.7142857142857143, 0.6428571428571429, 0.6428571428571429, 0.6428571428571429]\n",
      "[0.8571428571428571, 0.7857142857142857, 0.7857142857142857, 0.8571428571428571, 0.6428571428571429, 0.8571428571428571, 0.9285714285714286, 1.0, 0.8571428571428571, 0.7857142857142857, 0.9285714285714286, 1.0, 0.7857142857142857, 1.0, 0.9285714285714286, 1.0, 1.0, 0.9285714285714286, 1.0, 1.0, 1.0, 0.7142857142857143, 1.0, 0.8571428571428571, 0.9285714285714286, 0.5714285714285714, 0.9285714285714286, 0.8666666666666667, 1.0, 0.9285714285714286, 0.8571428571428571, 1.0, 0.8571428571428571, 1.0, 0.7142857142857143, 0.8571428571428571, 0.7857142857142857, 0.8571428571428571, 0.8571428571428571, 0.7857142857142857, 0.7142857142857143, 0.7857142857142857, 0.7142857142857143, 0.8571428571428571, 0.7857142857142857, 1.0, 0.7857142857142857, 0.9285714285714286, 0.8571428571428571, 0.7857142857142857, 1.0, 0.9285714285714286, 0.9285714285714286, 0.9285714285714286, 1.0, 0.9285714285714286, 0.7857142857142857, 1.0, 0.7857142857142857, 0.9285714285714286, 0.8571428571428571, 0.9285714285714286, 0.9285714285714286, 1.0, 0.9285714285714286, 1.0, 0.7857142857142857, 0.9285714285714286, 0.9285714285714286, 1.0, 0.8571428571428571, 0.7142857142857143, 0.9285714285714286, 0.8571428571428571, 1.0, 0.8571428571428571, 1.0, 0.8571428571428571, 0.9285714285714286, 0.8571428571428571, 0.9285714285714286, 1.0, 1.0, 0.7857142857142857, 0.7857142857142857, 0.8571428571428571, 1.0, 0.7142857142857143, 0.9285714285714286, 0.8571428571428571, 0.8571428571428571, 0.7857142857142857, 0.9285714285714286, 1.0, 0.9285714285714286, 1.0, 0.7142857142857143, 0.8571428571428571, 0.8666666666666667, 0.8571428571428571, 0.7142857142857143, 0.8571428571428571, 0.9285714285714286, 1.0, 0.8571428571428571, 0.9285714285714286, 1.0, 0.8571428571428571, 0.8571428571428571, 0.8571428571428571, 0.9285714285714286, 0.9285714285714286, 0.7857142857142857, 0.8571428571428571, 0.8571428571428571, 1.0, 0.8571428571428571, 0.9285714285714286, 1.0, 0.8571428571428571, 0.8571428571428571, 0.7857142857142857, 0.8571428571428571, 1.0, 0.9285714285714286, 0.8333333333333334, 0.9285714285714286, 0.9285714285714286, 0.8571428571428571, 1.0, 1.0, 0.8571428571428571, 0.7142857142857143, 0.6428571428571429, 0.6428571428571429, 0.6428571428571429, 0.8571428571428571]\n",
      "[0.8571428571428571, 0.7857142857142857, 0.7857142857142857, 0.8571428571428571, 0.6428571428571429, 0.8571428571428571, 0.9285714285714286, 1.0, 0.8571428571428571, 0.7857142857142857, 0.9285714285714286, 1.0, 0.7857142857142857, 1.0, 0.9285714285714286, 1.0, 1.0, 0.9285714285714286, 1.0, 1.0, 1.0, 0.7142857142857143, 1.0, 0.8571428571428571, 0.9285714285714286, 0.5714285714285714, 0.9285714285714286, 0.8666666666666667, 1.0, 0.9285714285714286, 0.8571428571428571, 1.0, 0.8571428571428571, 1.0, 0.7142857142857143, 0.8571428571428571, 0.7857142857142857, 0.8571428571428571, 0.8571428571428571, 0.7857142857142857, 0.7142857142857143, 0.7857142857142857, 0.7142857142857143, 0.8571428571428571, 0.7857142857142857, 1.0, 0.7857142857142857, 0.9285714285714286, 0.8571428571428571, 0.7857142857142857, 1.0, 0.9285714285714286, 0.9285714285714286, 0.9285714285714286, 1.0, 0.9285714285714286, 0.7857142857142857, 1.0, 0.7857142857142857, 0.9285714285714286, 0.8571428571428571, 0.9285714285714286, 0.9285714285714286, 1.0, 0.9285714285714286, 1.0, 0.7857142857142857, 0.9285714285714286, 0.9285714285714286, 1.0, 0.8571428571428571, 0.7142857142857143, 0.9285714285714286, 0.8571428571428571, 1.0, 0.8571428571428571, 1.0, 0.8571428571428571, 0.9285714285714286, 0.8571428571428571, 0.9285714285714286, 1.0, 1.0, 0.7857142857142857, 0.7857142857142857, 0.8571428571428571, 1.0, 0.7142857142857143, 0.9285714285714286, 0.8571428571428571, 0.8571428571428571, 0.7857142857142857, 0.9285714285714286, 1.0, 0.9285714285714286, 1.0, 0.7142857142857143, 0.8571428571428571, 0.8666666666666667, 0.8571428571428571, 0.7142857142857143, 0.8571428571428571, 0.9285714285714286, 1.0, 0.8571428571428571, 0.9285714285714286, 1.0, 0.8571428571428571, 0.8571428571428571, 0.8571428571428571, 0.9285714285714286, 0.9285714285714286, 0.7857142857142857, 0.8571428571428571, 0.8571428571428571, 1.0, 0.8571428571428571, 0.9285714285714286, 1.0, 0.8571428571428571, 0.8571428571428571, 0.7857142857142857, 0.8571428571428571, 1.0, 0.9285714285714286, 0.8333333333333334, 0.9285714285714286, 0.9285714285714286, 0.8571428571428571, 1.0, 1.0, 0.8571428571428571, 0.7142857142857143, 0.6428571428571429, 0.6428571428571429, 0.6428571428571429, 0.8571428571428571, 0.8571428571428571]\n",
      "[0.8571428571428571, 0.7857142857142857, 0.7857142857142857, 0.8571428571428571, 0.6428571428571429, 0.8571428571428571, 0.9285714285714286, 1.0, 0.8571428571428571, 0.7857142857142857, 0.9285714285714286, 1.0, 0.7857142857142857, 1.0, 0.9285714285714286, 1.0, 1.0, 0.9285714285714286, 1.0, 1.0, 1.0, 0.7142857142857143, 1.0, 0.8571428571428571, 0.9285714285714286, 0.5714285714285714, 0.9285714285714286, 0.8666666666666667, 1.0, 0.9285714285714286, 0.8571428571428571, 1.0, 0.8571428571428571, 1.0, 0.7142857142857143, 0.8571428571428571, 0.7857142857142857, 0.8571428571428571, 0.8571428571428571, 0.7857142857142857, 0.7142857142857143, 0.7857142857142857, 0.7142857142857143, 0.8571428571428571, 0.7857142857142857, 1.0, 0.7857142857142857, 0.9285714285714286, 0.8571428571428571, 0.7857142857142857, 1.0, 0.9285714285714286, 0.9285714285714286, 0.9285714285714286, 1.0, 0.9285714285714286, 0.7857142857142857, 1.0, 0.7857142857142857, 0.9285714285714286, 0.8571428571428571, 0.9285714285714286, 0.9285714285714286, 1.0, 0.9285714285714286, 1.0, 0.7857142857142857, 0.9285714285714286, 0.9285714285714286, 1.0, 0.8571428571428571, 0.7142857142857143, 0.9285714285714286, 0.8571428571428571, 1.0, 0.8571428571428571, 1.0, 0.8571428571428571, 0.9285714285714286, 0.8571428571428571, 0.9285714285714286, 1.0, 1.0, 0.7857142857142857, 0.7857142857142857, 0.8571428571428571, 1.0, 0.7142857142857143, 0.9285714285714286, 0.8571428571428571, 0.8571428571428571, 0.7857142857142857, 0.9285714285714286, 1.0, 0.9285714285714286, 1.0, 0.7142857142857143, 0.8571428571428571, 0.8666666666666667, 0.8571428571428571, 0.7142857142857143, 0.8571428571428571, 0.9285714285714286, 1.0, 0.8571428571428571, 0.9285714285714286, 1.0, 0.8571428571428571, 0.8571428571428571, 0.8571428571428571, 0.9285714285714286, 0.9285714285714286, 0.7857142857142857, 0.8571428571428571, 0.8571428571428571, 1.0, 0.8571428571428571, 0.9285714285714286, 1.0, 0.8571428571428571, 0.8571428571428571, 0.7857142857142857, 0.8571428571428571, 1.0, 0.9285714285714286, 0.8333333333333334, 0.9285714285714286, 0.9285714285714286, 0.8571428571428571, 1.0, 1.0, 0.8571428571428571, 0.7142857142857143, 0.6428571428571429, 0.6428571428571429, 0.6428571428571429, 0.8571428571428571, 0.8571428571428571, 1.0]\n",
      "[0.8571428571428571, 0.7857142857142857, 0.7857142857142857, 0.8571428571428571, 0.6428571428571429, 0.8571428571428571, 0.9285714285714286, 1.0, 0.8571428571428571, 0.7857142857142857, 0.9285714285714286, 1.0, 0.7857142857142857, 1.0, 0.9285714285714286, 1.0, 1.0, 0.9285714285714286, 1.0, 1.0, 1.0, 0.7142857142857143, 1.0, 0.8571428571428571, 0.9285714285714286, 0.5714285714285714, 0.9285714285714286, 0.8666666666666667, 1.0, 0.9285714285714286, 0.8571428571428571, 1.0, 0.8571428571428571, 1.0, 0.7142857142857143, 0.8571428571428571, 0.7857142857142857, 0.8571428571428571, 0.8571428571428571, 0.7857142857142857, 0.7142857142857143, 0.7857142857142857, 0.7142857142857143, 0.8571428571428571, 0.7857142857142857, 1.0, 0.7857142857142857, 0.9285714285714286, 0.8571428571428571, 0.7857142857142857, 1.0, 0.9285714285714286, 0.9285714285714286, 0.9285714285714286, 1.0, 0.9285714285714286, 0.7857142857142857, 1.0, 0.7857142857142857, 0.9285714285714286, 0.8571428571428571, 0.9285714285714286, 0.9285714285714286, 1.0, 0.9285714285714286, 1.0, 0.7857142857142857, 0.9285714285714286, 0.9285714285714286, 1.0, 0.8571428571428571, 0.7142857142857143, 0.9285714285714286, 0.8571428571428571, 1.0, 0.8571428571428571, 1.0, 0.8571428571428571, 0.9285714285714286, 0.8571428571428571, 0.9285714285714286, 1.0, 1.0, 0.7857142857142857, 0.7857142857142857, 0.8571428571428571, 1.0, 0.7142857142857143, 0.9285714285714286, 0.8571428571428571, 0.8571428571428571, 0.7857142857142857, 0.9285714285714286, 1.0, 0.9285714285714286, 1.0, 0.7142857142857143, 0.8571428571428571, 0.8666666666666667, 0.8571428571428571, 0.7142857142857143, 0.8571428571428571, 0.9285714285714286, 1.0, 0.8571428571428571, 0.9285714285714286, 1.0, 0.8571428571428571, 0.8571428571428571, 0.8571428571428571, 0.9285714285714286, 0.9285714285714286, 0.7857142857142857, 0.8571428571428571, 0.8571428571428571, 1.0, 0.8571428571428571, 0.9285714285714286, 1.0, 0.8571428571428571, 0.8571428571428571, 0.7857142857142857, 0.8571428571428571, 1.0, 0.9285714285714286, 0.8333333333333334, 0.9285714285714286, 0.9285714285714286, 0.8571428571428571, 1.0, 1.0, 0.8571428571428571, 0.7142857142857143, 0.6428571428571429, 0.6428571428571429, 0.6428571428571429, 0.8571428571428571, 0.8571428571428571, 1.0, 0.7142857142857143]\n",
      "[0.8571428571428571, 0.7857142857142857, 0.7857142857142857, 0.8571428571428571, 0.6428571428571429, 0.8571428571428571, 0.9285714285714286, 1.0, 0.8571428571428571, 0.7857142857142857, 0.9285714285714286, 1.0, 0.7857142857142857, 1.0, 0.9285714285714286, 1.0, 1.0, 0.9285714285714286, 1.0, 1.0, 1.0, 0.7142857142857143, 1.0, 0.8571428571428571, 0.9285714285714286, 0.5714285714285714, 0.9285714285714286, 0.8666666666666667, 1.0, 0.9285714285714286, 0.8571428571428571, 1.0, 0.8571428571428571, 1.0, 0.7142857142857143, 0.8571428571428571, 0.7857142857142857, 0.8571428571428571, 0.8571428571428571, 0.7857142857142857, 0.7142857142857143, 0.7857142857142857, 0.7142857142857143, 0.8571428571428571, 0.7857142857142857, 1.0, 0.7857142857142857, 0.9285714285714286, 0.8571428571428571, 0.7857142857142857, 1.0, 0.9285714285714286, 0.9285714285714286, 0.9285714285714286, 1.0, 0.9285714285714286, 0.7857142857142857, 1.0, 0.7857142857142857, 0.9285714285714286, 0.8571428571428571, 0.9285714285714286, 0.9285714285714286, 1.0, 0.9285714285714286, 1.0, 0.7857142857142857, 0.9285714285714286, 0.9285714285714286, 1.0, 0.8571428571428571, 0.7142857142857143, 0.9285714285714286, 0.8571428571428571, 1.0, 0.8571428571428571, 1.0, 0.8571428571428571, 0.9285714285714286, 0.8571428571428571, 0.9285714285714286, 1.0, 1.0, 0.7857142857142857, 0.7857142857142857, 0.8571428571428571, 1.0, 0.7142857142857143, 0.9285714285714286, 0.8571428571428571, 0.8571428571428571, 0.7857142857142857, 0.9285714285714286, 1.0, 0.9285714285714286, 1.0, 0.7142857142857143, 0.8571428571428571, 0.8666666666666667, 0.8571428571428571, 0.7142857142857143, 0.8571428571428571, 0.9285714285714286, 1.0, 0.8571428571428571, 0.9285714285714286, 1.0, 0.8571428571428571, 0.8571428571428571, 0.8571428571428571, 0.9285714285714286, 0.9285714285714286, 0.7857142857142857, 0.8571428571428571, 0.8571428571428571, 1.0, 0.8571428571428571, 0.9285714285714286, 1.0, 0.8571428571428571, 0.8571428571428571, 0.7857142857142857, 0.8571428571428571, 1.0, 0.9285714285714286, 0.8333333333333334, 0.9285714285714286, 0.9285714285714286, 0.8571428571428571, 1.0, 1.0, 0.8571428571428571, 0.7142857142857143, 0.6428571428571429, 0.6428571428571429, 0.6428571428571429, 0.8571428571428571, 0.8571428571428571, 1.0, 0.7142857142857143, 0.7857142857142857]\n",
      "[0.8571428571428571, 0.7857142857142857, 0.7857142857142857, 0.8571428571428571, 0.6428571428571429, 0.8571428571428571, 0.9285714285714286, 1.0, 0.8571428571428571, 0.7857142857142857, 0.9285714285714286, 1.0, 0.7857142857142857, 1.0, 0.9285714285714286, 1.0, 1.0, 0.9285714285714286, 1.0, 1.0, 1.0, 0.7142857142857143, 1.0, 0.8571428571428571, 0.9285714285714286, 0.5714285714285714, 0.9285714285714286, 0.8666666666666667, 1.0, 0.9285714285714286, 0.8571428571428571, 1.0, 0.8571428571428571, 1.0, 0.7142857142857143, 0.8571428571428571, 0.7857142857142857, 0.8571428571428571, 0.8571428571428571, 0.7857142857142857, 0.7142857142857143, 0.7857142857142857, 0.7142857142857143, 0.8571428571428571, 0.7857142857142857, 1.0, 0.7857142857142857, 0.9285714285714286, 0.8571428571428571, 0.7857142857142857, 1.0, 0.9285714285714286, 0.9285714285714286, 0.9285714285714286, 1.0, 0.9285714285714286, 0.7857142857142857, 1.0, 0.7857142857142857, 0.9285714285714286, 0.8571428571428571, 0.9285714285714286, 0.9285714285714286, 1.0, 0.9285714285714286, 1.0, 0.7857142857142857, 0.9285714285714286, 0.9285714285714286, 1.0, 0.8571428571428571, 0.7142857142857143, 0.9285714285714286, 0.8571428571428571, 1.0, 0.8571428571428571, 1.0, 0.8571428571428571, 0.9285714285714286, 0.8571428571428571, 0.9285714285714286, 1.0, 1.0, 0.7857142857142857, 0.7857142857142857, 0.8571428571428571, 1.0, 0.7142857142857143, 0.9285714285714286, 0.8571428571428571, 0.8571428571428571, 0.7857142857142857, 0.9285714285714286, 1.0, 0.9285714285714286, 1.0, 0.7142857142857143, 0.8571428571428571, 0.8666666666666667, 0.8571428571428571, 0.7142857142857143, 0.8571428571428571, 0.9285714285714286, 1.0, 0.8571428571428571, 0.9285714285714286, 1.0, 0.8571428571428571, 0.8571428571428571, 0.8571428571428571, 0.9285714285714286, 0.9285714285714286, 0.7857142857142857, 0.8571428571428571, 0.8571428571428571, 1.0, 0.8571428571428571, 0.9285714285714286, 1.0, 0.8571428571428571, 0.8571428571428571, 0.7857142857142857, 0.8571428571428571, 1.0, 0.9285714285714286, 0.8333333333333334, 0.9285714285714286, 0.9285714285714286, 0.8571428571428571, 1.0, 1.0, 0.8571428571428571, 0.7142857142857143, 0.6428571428571429, 0.6428571428571429, 0.6428571428571429, 0.8571428571428571, 0.8571428571428571, 1.0, 0.7142857142857143, 0.7857142857142857, 0.6428571428571429]\n",
      "[0.8571428571428571, 0.7857142857142857, 0.7857142857142857, 0.8571428571428571, 0.6428571428571429, 0.8571428571428571, 0.9285714285714286, 1.0, 0.8571428571428571, 0.7857142857142857, 0.9285714285714286, 1.0, 0.7857142857142857, 1.0, 0.9285714285714286, 1.0, 1.0, 0.9285714285714286, 1.0, 1.0, 1.0, 0.7142857142857143, 1.0, 0.8571428571428571, 0.9285714285714286, 0.5714285714285714, 0.9285714285714286, 0.8666666666666667, 1.0, 0.9285714285714286, 0.8571428571428571, 1.0, 0.8571428571428571, 1.0, 0.7142857142857143, 0.8571428571428571, 0.7857142857142857, 0.8571428571428571, 0.8571428571428571, 0.7857142857142857, 0.7142857142857143, 0.7857142857142857, 0.7142857142857143, 0.8571428571428571, 0.7857142857142857, 1.0, 0.7857142857142857, 0.9285714285714286, 0.8571428571428571, 0.7857142857142857, 1.0, 0.9285714285714286, 0.9285714285714286, 0.9285714285714286, 1.0, 0.9285714285714286, 0.7857142857142857, 1.0, 0.7857142857142857, 0.9285714285714286, 0.8571428571428571, 0.9285714285714286, 0.9285714285714286, 1.0, 0.9285714285714286, 1.0, 0.7857142857142857, 0.9285714285714286, 0.9285714285714286, 1.0, 0.8571428571428571, 0.7142857142857143, 0.9285714285714286, 0.8571428571428571, 1.0, 0.8571428571428571, 1.0, 0.8571428571428571, 0.9285714285714286, 0.8571428571428571, 0.9285714285714286, 1.0, 1.0, 0.7857142857142857, 0.7857142857142857, 0.8571428571428571, 1.0, 0.7142857142857143, 0.9285714285714286, 0.8571428571428571, 0.8571428571428571, 0.7857142857142857, 0.9285714285714286, 1.0, 0.9285714285714286, 1.0, 0.7142857142857143, 0.8571428571428571, 0.8666666666666667, 0.8571428571428571, 0.7142857142857143, 0.8571428571428571, 0.9285714285714286, 1.0, 0.8571428571428571, 0.9285714285714286, 1.0, 0.8571428571428571, 0.8571428571428571, 0.8571428571428571, 0.9285714285714286, 0.9285714285714286, 0.7857142857142857, 0.8571428571428571, 0.8571428571428571, 1.0, 0.8571428571428571, 0.9285714285714286, 1.0, 0.8571428571428571, 0.8571428571428571, 0.7857142857142857, 0.8571428571428571, 1.0, 0.9285714285714286, 0.8333333333333334, 0.9285714285714286, 0.9285714285714286, 0.8571428571428571, 1.0, 1.0, 0.8571428571428571, 0.7142857142857143, 0.6428571428571429, 0.6428571428571429, 0.6428571428571429, 0.8571428571428571, 0.8571428571428571, 1.0, 0.7142857142857143, 0.7857142857142857, 0.6428571428571429, 0.7857142857142857]\n",
      "[0.8571428571428571, 0.7857142857142857, 0.7857142857142857, 0.8571428571428571, 0.6428571428571429, 0.8571428571428571, 0.9285714285714286, 1.0, 0.8571428571428571, 0.7857142857142857, 0.9285714285714286, 1.0, 0.7857142857142857, 1.0, 0.9285714285714286, 1.0, 1.0, 0.9285714285714286, 1.0, 1.0, 1.0, 0.7142857142857143, 1.0, 0.8571428571428571, 0.9285714285714286, 0.5714285714285714, 0.9285714285714286, 0.8666666666666667, 1.0, 0.9285714285714286, 0.8571428571428571, 1.0, 0.8571428571428571, 1.0, 0.7142857142857143, 0.8571428571428571, 0.7857142857142857, 0.8571428571428571, 0.8571428571428571, 0.7857142857142857, 0.7142857142857143, 0.7857142857142857, 0.7142857142857143, 0.8571428571428571, 0.7857142857142857, 1.0, 0.7857142857142857, 0.9285714285714286, 0.8571428571428571, 0.7857142857142857, 1.0, 0.9285714285714286, 0.9285714285714286, 0.9285714285714286, 1.0, 0.9285714285714286, 0.7857142857142857, 1.0, 0.7857142857142857, 0.9285714285714286, 0.8571428571428571, 0.9285714285714286, 0.9285714285714286, 1.0, 0.9285714285714286, 1.0, 0.7857142857142857, 0.9285714285714286, 0.9285714285714286, 1.0, 0.8571428571428571, 0.7142857142857143, 0.9285714285714286, 0.8571428571428571, 1.0, 0.8571428571428571, 1.0, 0.8571428571428571, 0.9285714285714286, 0.8571428571428571, 0.9285714285714286, 1.0, 1.0, 0.7857142857142857, 0.7857142857142857, 0.8571428571428571, 1.0, 0.7142857142857143, 0.9285714285714286, 0.8571428571428571, 0.8571428571428571, 0.7857142857142857, 0.9285714285714286, 1.0, 0.9285714285714286, 1.0, 0.7142857142857143, 0.8571428571428571, 0.8666666666666667, 0.8571428571428571, 0.7142857142857143, 0.8571428571428571, 0.9285714285714286, 1.0, 0.8571428571428571, 0.9285714285714286, 1.0, 0.8571428571428571, 0.8571428571428571, 0.8571428571428571, 0.9285714285714286, 0.9285714285714286, 0.7857142857142857, 0.8571428571428571, 0.8571428571428571, 1.0, 0.8571428571428571, 0.9285714285714286, 1.0, 0.8571428571428571, 0.8571428571428571, 0.7857142857142857, 0.8571428571428571, 1.0, 0.9285714285714286, 0.8333333333333334, 0.9285714285714286, 0.9285714285714286, 0.8571428571428571, 1.0, 1.0, 0.8571428571428571, 0.7142857142857143, 0.6428571428571429, 0.6428571428571429, 0.6428571428571429, 0.8571428571428571, 0.8571428571428571, 1.0, 0.7142857142857143, 0.7857142857142857, 0.6428571428571429, 0.7857142857142857, 0.9285714285714286]\n",
      "[0.8571428571428571, 0.7857142857142857, 0.7857142857142857, 0.8571428571428571, 0.6428571428571429, 0.8571428571428571, 0.9285714285714286, 1.0, 0.8571428571428571, 0.7857142857142857, 0.9285714285714286, 1.0, 0.7857142857142857, 1.0, 0.9285714285714286, 1.0, 1.0, 0.9285714285714286, 1.0, 1.0, 1.0, 0.7142857142857143, 1.0, 0.8571428571428571, 0.9285714285714286, 0.5714285714285714, 0.9285714285714286, 0.8666666666666667, 1.0, 0.9285714285714286, 0.8571428571428571, 1.0, 0.8571428571428571, 1.0, 0.7142857142857143, 0.8571428571428571, 0.7857142857142857, 0.8571428571428571, 0.8571428571428571, 0.7857142857142857, 0.7142857142857143, 0.7857142857142857, 0.7142857142857143, 0.8571428571428571, 0.7857142857142857, 1.0, 0.7857142857142857, 0.9285714285714286, 0.8571428571428571, 0.7857142857142857, 1.0, 0.9285714285714286, 0.9285714285714286, 0.9285714285714286, 1.0, 0.9285714285714286, 0.7857142857142857, 1.0, 0.7857142857142857, 0.9285714285714286, 0.8571428571428571, 0.9285714285714286, 0.9285714285714286, 1.0, 0.9285714285714286, 1.0, 0.7857142857142857, 0.9285714285714286, 0.9285714285714286, 1.0, 0.8571428571428571, 0.7142857142857143, 0.9285714285714286, 0.8571428571428571, 1.0, 0.8571428571428571, 1.0, 0.8571428571428571, 0.9285714285714286, 0.8571428571428571, 0.9285714285714286, 1.0, 1.0, 0.7857142857142857, 0.7857142857142857, 0.8571428571428571, 1.0, 0.7142857142857143, 0.9285714285714286, 0.8571428571428571, 0.8571428571428571, 0.7857142857142857, 0.9285714285714286, 1.0, 0.9285714285714286, 1.0, 0.7142857142857143, 0.8571428571428571, 0.8666666666666667, 0.8571428571428571, 0.7142857142857143, 0.8571428571428571, 0.9285714285714286, 1.0, 0.8571428571428571, 0.9285714285714286, 1.0, 0.8571428571428571, 0.8571428571428571, 0.8571428571428571, 0.9285714285714286, 0.9285714285714286, 0.7857142857142857, 0.8571428571428571, 0.8571428571428571, 1.0, 0.8571428571428571, 0.9285714285714286, 1.0, 0.8571428571428571, 0.8571428571428571, 0.7857142857142857, 0.8571428571428571, 1.0, 0.9285714285714286, 0.8333333333333334, 0.9285714285714286, 0.9285714285714286, 0.8571428571428571, 1.0, 1.0, 0.8571428571428571, 0.7142857142857143, 0.6428571428571429, 0.6428571428571429, 0.6428571428571429, 0.8571428571428571, 0.8571428571428571, 1.0, 0.7142857142857143, 0.7857142857142857, 0.6428571428571429, 0.7857142857142857, 0.9285714285714286, 0.9285714285714286]\n",
      "[0.8571428571428571, 0.7857142857142857, 0.7857142857142857, 0.8571428571428571, 0.6428571428571429, 0.8571428571428571, 0.9285714285714286, 1.0, 0.8571428571428571, 0.7857142857142857, 0.9285714285714286, 1.0, 0.7857142857142857, 1.0, 0.9285714285714286, 1.0, 1.0, 0.9285714285714286, 1.0, 1.0, 1.0, 0.7142857142857143, 1.0, 0.8571428571428571, 0.9285714285714286, 0.5714285714285714, 0.9285714285714286, 0.8666666666666667, 1.0, 0.9285714285714286, 0.8571428571428571, 1.0, 0.8571428571428571, 1.0, 0.7142857142857143, 0.8571428571428571, 0.7857142857142857, 0.8571428571428571, 0.8571428571428571, 0.7857142857142857, 0.7142857142857143, 0.7857142857142857, 0.7142857142857143, 0.8571428571428571, 0.7857142857142857, 1.0, 0.7857142857142857, 0.9285714285714286, 0.8571428571428571, 0.7857142857142857, 1.0, 0.9285714285714286, 0.9285714285714286, 0.9285714285714286, 1.0, 0.9285714285714286, 0.7857142857142857, 1.0, 0.7857142857142857, 0.9285714285714286, 0.8571428571428571, 0.9285714285714286, 0.9285714285714286, 1.0, 0.9285714285714286, 1.0, 0.7857142857142857, 0.9285714285714286, 0.9285714285714286, 1.0, 0.8571428571428571, 0.7142857142857143, 0.9285714285714286, 0.8571428571428571, 1.0, 0.8571428571428571, 1.0, 0.8571428571428571, 0.9285714285714286, 0.8571428571428571, 0.9285714285714286, 1.0, 1.0, 0.7857142857142857, 0.7857142857142857, 0.8571428571428571, 1.0, 0.7142857142857143, 0.9285714285714286, 0.8571428571428571, 0.8571428571428571, 0.7857142857142857, 0.9285714285714286, 1.0, 0.9285714285714286, 1.0, 0.7142857142857143, 0.8571428571428571, 0.8666666666666667, 0.8571428571428571, 0.7142857142857143, 0.8571428571428571, 0.9285714285714286, 1.0, 0.8571428571428571, 0.9285714285714286, 1.0, 0.8571428571428571, 0.8571428571428571, 0.8571428571428571, 0.9285714285714286, 0.9285714285714286, 0.7857142857142857, 0.8571428571428571, 0.8571428571428571, 1.0, 0.8571428571428571, 0.9285714285714286, 1.0, 0.8571428571428571, 0.8571428571428571, 0.7857142857142857, 0.8571428571428571, 1.0, 0.9285714285714286, 0.8333333333333334, 0.9285714285714286, 0.9285714285714286, 0.8571428571428571, 1.0, 1.0, 0.8571428571428571, 0.7142857142857143, 0.6428571428571429, 0.6428571428571429, 0.6428571428571429, 0.8571428571428571, 0.8571428571428571, 1.0, 0.7142857142857143, 0.7857142857142857, 0.6428571428571429, 0.7857142857142857, 0.9285714285714286, 0.9285714285714286, 0.8571428571428571]\n",
      "[0.8571428571428571, 0.7857142857142857, 0.7857142857142857, 0.8571428571428571, 0.6428571428571429, 0.8571428571428571, 0.9285714285714286, 1.0, 0.8571428571428571, 0.7857142857142857, 0.9285714285714286, 1.0, 0.7857142857142857, 1.0, 0.9285714285714286, 1.0, 1.0, 0.9285714285714286, 1.0, 1.0, 1.0, 0.7142857142857143, 1.0, 0.8571428571428571, 0.9285714285714286, 0.5714285714285714, 0.9285714285714286, 0.8666666666666667, 1.0, 0.9285714285714286, 0.8571428571428571, 1.0, 0.8571428571428571, 1.0, 0.7142857142857143, 0.8571428571428571, 0.7857142857142857, 0.8571428571428571, 0.8571428571428571, 0.7857142857142857, 0.7142857142857143, 0.7857142857142857, 0.7142857142857143, 0.8571428571428571, 0.7857142857142857, 1.0, 0.7857142857142857, 0.9285714285714286, 0.8571428571428571, 0.7857142857142857, 1.0, 0.9285714285714286, 0.9285714285714286, 0.9285714285714286, 1.0, 0.9285714285714286, 0.7857142857142857, 1.0, 0.7857142857142857, 0.9285714285714286, 0.8571428571428571, 0.9285714285714286, 0.9285714285714286, 1.0, 0.9285714285714286, 1.0, 0.7857142857142857, 0.9285714285714286, 0.9285714285714286, 1.0, 0.8571428571428571, 0.7142857142857143, 0.9285714285714286, 0.8571428571428571, 1.0, 0.8571428571428571, 1.0, 0.8571428571428571, 0.9285714285714286, 0.8571428571428571, 0.9285714285714286, 1.0, 1.0, 0.7857142857142857, 0.7857142857142857, 0.8571428571428571, 1.0, 0.7142857142857143, 0.9285714285714286, 0.8571428571428571, 0.8571428571428571, 0.7857142857142857, 0.9285714285714286, 1.0, 0.9285714285714286, 1.0, 0.7142857142857143, 0.8571428571428571, 0.8666666666666667, 0.8571428571428571, 0.7142857142857143, 0.8571428571428571, 0.9285714285714286, 1.0, 0.8571428571428571, 0.9285714285714286, 1.0, 0.8571428571428571, 0.8571428571428571, 0.8571428571428571, 0.9285714285714286, 0.9285714285714286, 0.7857142857142857, 0.8571428571428571, 0.8571428571428571, 1.0, 0.8571428571428571, 0.9285714285714286, 1.0, 0.8571428571428571, 0.8571428571428571, 0.7857142857142857, 0.8571428571428571, 1.0, 0.9285714285714286, 0.8333333333333334, 0.9285714285714286, 0.9285714285714286, 0.8571428571428571, 1.0, 1.0, 0.8571428571428571, 0.7142857142857143, 0.6428571428571429, 0.6428571428571429, 0.6428571428571429, 0.8571428571428571, 0.8571428571428571, 1.0, 0.7142857142857143, 0.7857142857142857, 0.6428571428571429, 0.7857142857142857, 0.9285714285714286, 0.9285714285714286, 0.8571428571428571, 0.9285714285714286]\n",
      "[0.8571428571428571, 0.7857142857142857, 0.7857142857142857, 0.8571428571428571, 0.6428571428571429, 0.8571428571428571, 0.9285714285714286, 1.0, 0.8571428571428571, 0.7857142857142857, 0.9285714285714286, 1.0, 0.7857142857142857, 1.0, 0.9285714285714286, 1.0, 1.0, 0.9285714285714286, 1.0, 1.0, 1.0, 0.7142857142857143, 1.0, 0.8571428571428571, 0.9285714285714286, 0.5714285714285714, 0.9285714285714286, 0.8666666666666667, 1.0, 0.9285714285714286, 0.8571428571428571, 1.0, 0.8571428571428571, 1.0, 0.7142857142857143, 0.8571428571428571, 0.7857142857142857, 0.8571428571428571, 0.8571428571428571, 0.7857142857142857, 0.7142857142857143, 0.7857142857142857, 0.7142857142857143, 0.8571428571428571, 0.7857142857142857, 1.0, 0.7857142857142857, 0.9285714285714286, 0.8571428571428571, 0.7857142857142857, 1.0, 0.9285714285714286, 0.9285714285714286, 0.9285714285714286, 1.0, 0.9285714285714286, 0.7857142857142857, 1.0, 0.7857142857142857, 0.9285714285714286, 0.8571428571428571, 0.9285714285714286, 0.9285714285714286, 1.0, 0.9285714285714286, 1.0, 0.7857142857142857, 0.9285714285714286, 0.9285714285714286, 1.0, 0.8571428571428571, 0.7142857142857143, 0.9285714285714286, 0.8571428571428571, 1.0, 0.8571428571428571, 1.0, 0.8571428571428571, 0.9285714285714286, 0.8571428571428571, 0.9285714285714286, 1.0, 1.0, 0.7857142857142857, 0.7857142857142857, 0.8571428571428571, 1.0, 0.7142857142857143, 0.9285714285714286, 0.8571428571428571, 0.8571428571428571, 0.7857142857142857, 0.9285714285714286, 1.0, 0.9285714285714286, 1.0, 0.7142857142857143, 0.8571428571428571, 0.8666666666666667, 0.8571428571428571, 0.7142857142857143, 0.8571428571428571, 0.9285714285714286, 1.0, 0.8571428571428571, 0.9285714285714286, 1.0, 0.8571428571428571, 0.8571428571428571, 0.8571428571428571, 0.9285714285714286, 0.9285714285714286, 0.7857142857142857, 0.8571428571428571, 0.8571428571428571, 1.0, 0.8571428571428571, 0.9285714285714286, 1.0, 0.8571428571428571, 0.8571428571428571, 0.7857142857142857, 0.8571428571428571, 1.0, 0.9285714285714286, 0.8333333333333334, 0.9285714285714286, 0.9285714285714286, 0.8571428571428571, 1.0, 1.0, 0.8571428571428571, 0.7142857142857143, 0.6428571428571429, 0.6428571428571429, 0.6428571428571429, 0.8571428571428571, 0.8571428571428571, 1.0, 0.7142857142857143, 0.7857142857142857, 0.6428571428571429, 0.7857142857142857, 0.9285714285714286, 0.9285714285714286, 0.8571428571428571, 0.9285714285714286, 0.8571428571428571]\n",
      "[0.8571428571428571, 0.7857142857142857, 0.7857142857142857, 0.8571428571428571, 0.6428571428571429, 0.8571428571428571, 0.9285714285714286, 1.0, 0.8571428571428571, 0.7857142857142857, 0.9285714285714286, 1.0, 0.7857142857142857, 1.0, 0.9285714285714286, 1.0, 1.0, 0.9285714285714286, 1.0, 1.0, 1.0, 0.7142857142857143, 1.0, 0.8571428571428571, 0.9285714285714286, 0.5714285714285714, 0.9285714285714286, 0.8666666666666667, 1.0, 0.9285714285714286, 0.8571428571428571, 1.0, 0.8571428571428571, 1.0, 0.7142857142857143, 0.8571428571428571, 0.7857142857142857, 0.8571428571428571, 0.8571428571428571, 0.7857142857142857, 0.7142857142857143, 0.7857142857142857, 0.7142857142857143, 0.8571428571428571, 0.7857142857142857, 1.0, 0.7857142857142857, 0.9285714285714286, 0.8571428571428571, 0.7857142857142857, 1.0, 0.9285714285714286, 0.9285714285714286, 0.9285714285714286, 1.0, 0.9285714285714286, 0.7857142857142857, 1.0, 0.7857142857142857, 0.9285714285714286, 0.8571428571428571, 0.9285714285714286, 0.9285714285714286, 1.0, 0.9285714285714286, 1.0, 0.7857142857142857, 0.9285714285714286, 0.9285714285714286, 1.0, 0.8571428571428571, 0.7142857142857143, 0.9285714285714286, 0.8571428571428571, 1.0, 0.8571428571428571, 1.0, 0.8571428571428571, 0.9285714285714286, 0.8571428571428571, 0.9285714285714286, 1.0, 1.0, 0.7857142857142857, 0.7857142857142857, 0.8571428571428571, 1.0, 0.7142857142857143, 0.9285714285714286, 0.8571428571428571, 0.8571428571428571, 0.7857142857142857, 0.9285714285714286, 1.0, 0.9285714285714286, 1.0, 0.7142857142857143, 0.8571428571428571, 0.8666666666666667, 0.8571428571428571, 0.7142857142857143, 0.8571428571428571, 0.9285714285714286, 1.0, 0.8571428571428571, 0.9285714285714286, 1.0, 0.8571428571428571, 0.8571428571428571, 0.8571428571428571, 0.9285714285714286, 0.9285714285714286, 0.7857142857142857, 0.8571428571428571, 0.8571428571428571, 1.0, 0.8571428571428571, 0.9285714285714286, 1.0, 0.8571428571428571, 0.8571428571428571, 0.7857142857142857, 0.8571428571428571, 1.0, 0.9285714285714286, 0.8333333333333334, 0.9285714285714286, 0.9285714285714286, 0.8571428571428571, 1.0, 1.0, 0.8571428571428571, 0.7142857142857143, 0.6428571428571429, 0.6428571428571429, 0.6428571428571429, 0.8571428571428571, 0.8571428571428571, 1.0, 0.7142857142857143, 0.7857142857142857, 0.6428571428571429, 0.7857142857142857, 0.9285714285714286, 0.9285714285714286, 0.8571428571428571, 0.9285714285714286, 0.8571428571428571, 0.9285714285714286]\n",
      "[0.8571428571428571, 0.7857142857142857, 0.7857142857142857, 0.8571428571428571, 0.6428571428571429, 0.8571428571428571, 0.9285714285714286, 1.0, 0.8571428571428571, 0.7857142857142857, 0.9285714285714286, 1.0, 0.7857142857142857, 1.0, 0.9285714285714286, 1.0, 1.0, 0.9285714285714286, 1.0, 1.0, 1.0, 0.7142857142857143, 1.0, 0.8571428571428571, 0.9285714285714286, 0.5714285714285714, 0.9285714285714286, 0.8666666666666667, 1.0, 0.9285714285714286, 0.8571428571428571, 1.0, 0.8571428571428571, 1.0, 0.7142857142857143, 0.8571428571428571, 0.7857142857142857, 0.8571428571428571, 0.8571428571428571, 0.7857142857142857, 0.7142857142857143, 0.7857142857142857, 0.7142857142857143, 0.8571428571428571, 0.7857142857142857, 1.0, 0.7857142857142857, 0.9285714285714286, 0.8571428571428571, 0.7857142857142857, 1.0, 0.9285714285714286, 0.9285714285714286, 0.9285714285714286, 1.0, 0.9285714285714286, 0.7857142857142857, 1.0, 0.7857142857142857, 0.9285714285714286, 0.8571428571428571, 0.9285714285714286, 0.9285714285714286, 1.0, 0.9285714285714286, 1.0, 0.7857142857142857, 0.9285714285714286, 0.9285714285714286, 1.0, 0.8571428571428571, 0.7142857142857143, 0.9285714285714286, 0.8571428571428571, 1.0, 0.8571428571428571, 1.0, 0.8571428571428571, 0.9285714285714286, 0.8571428571428571, 0.9285714285714286, 1.0, 1.0, 0.7857142857142857, 0.7857142857142857, 0.8571428571428571, 1.0, 0.7142857142857143, 0.9285714285714286, 0.8571428571428571, 0.8571428571428571, 0.7857142857142857, 0.9285714285714286, 1.0, 0.9285714285714286, 1.0, 0.7142857142857143, 0.8571428571428571, 0.8666666666666667, 0.8571428571428571, 0.7142857142857143, 0.8571428571428571, 0.9285714285714286, 1.0, 0.8571428571428571, 0.9285714285714286, 1.0, 0.8571428571428571, 0.8571428571428571, 0.8571428571428571, 0.9285714285714286, 0.9285714285714286, 0.7857142857142857, 0.8571428571428571, 0.8571428571428571, 1.0, 0.8571428571428571, 0.9285714285714286, 1.0, 0.8571428571428571, 0.8571428571428571, 0.7857142857142857, 0.8571428571428571, 1.0, 0.9285714285714286, 0.8333333333333334, 0.9285714285714286, 0.9285714285714286, 0.8571428571428571, 1.0, 1.0, 0.8571428571428571, 0.7142857142857143, 0.6428571428571429, 0.6428571428571429, 0.6428571428571429, 0.8571428571428571, 0.8571428571428571, 1.0, 0.7142857142857143, 0.7857142857142857, 0.6428571428571429, 0.7857142857142857, 0.9285714285714286, 0.9285714285714286, 0.8571428571428571, 0.9285714285714286, 0.8571428571428571, 0.9285714285714286, 0.7857142857142857]\n",
      "[0.8571428571428571, 0.7857142857142857, 0.7857142857142857, 0.8571428571428571, 0.6428571428571429, 0.8571428571428571, 0.9285714285714286, 1.0, 0.8571428571428571, 0.7857142857142857, 0.9285714285714286, 1.0, 0.7857142857142857, 1.0, 0.9285714285714286, 1.0, 1.0, 0.9285714285714286, 1.0, 1.0, 1.0, 0.7142857142857143, 1.0, 0.8571428571428571, 0.9285714285714286, 0.5714285714285714, 0.9285714285714286, 0.8666666666666667, 1.0, 0.9285714285714286, 0.8571428571428571, 1.0, 0.8571428571428571, 1.0, 0.7142857142857143, 0.8571428571428571, 0.7857142857142857, 0.8571428571428571, 0.8571428571428571, 0.7857142857142857, 0.7142857142857143, 0.7857142857142857, 0.7142857142857143, 0.8571428571428571, 0.7857142857142857, 1.0, 0.7857142857142857, 0.9285714285714286, 0.8571428571428571, 0.7857142857142857, 1.0, 0.9285714285714286, 0.9285714285714286, 0.9285714285714286, 1.0, 0.9285714285714286, 0.7857142857142857, 1.0, 0.7857142857142857, 0.9285714285714286, 0.8571428571428571, 0.9285714285714286, 0.9285714285714286, 1.0, 0.9285714285714286, 1.0, 0.7857142857142857, 0.9285714285714286, 0.9285714285714286, 1.0, 0.8571428571428571, 0.7142857142857143, 0.9285714285714286, 0.8571428571428571, 1.0, 0.8571428571428571, 1.0, 0.8571428571428571, 0.9285714285714286, 0.8571428571428571, 0.9285714285714286, 1.0, 1.0, 0.7857142857142857, 0.7857142857142857, 0.8571428571428571, 1.0, 0.7142857142857143, 0.9285714285714286, 0.8571428571428571, 0.8571428571428571, 0.7857142857142857, 0.9285714285714286, 1.0, 0.9285714285714286, 1.0, 0.7142857142857143, 0.8571428571428571, 0.8666666666666667, 0.8571428571428571, 0.7142857142857143, 0.8571428571428571, 0.9285714285714286, 1.0, 0.8571428571428571, 0.9285714285714286, 1.0, 0.8571428571428571, 0.8571428571428571, 0.8571428571428571, 0.9285714285714286, 0.9285714285714286, 0.7857142857142857, 0.8571428571428571, 0.8571428571428571, 1.0, 0.8571428571428571, 0.9285714285714286, 1.0, 0.8571428571428571, 0.8571428571428571, 0.7857142857142857, 0.8571428571428571, 1.0, 0.9285714285714286, 0.8333333333333334, 0.9285714285714286, 0.9285714285714286, 0.8571428571428571, 1.0, 1.0, 0.8571428571428571, 0.7142857142857143, 0.6428571428571429, 0.6428571428571429, 0.6428571428571429, 0.8571428571428571, 0.8571428571428571, 1.0, 0.7142857142857143, 0.7857142857142857, 0.6428571428571429, 0.7857142857142857, 0.9285714285714286, 0.9285714285714286, 0.8571428571428571, 0.9285714285714286, 0.8571428571428571, 0.9285714285714286, 0.7857142857142857, 0.7857142857142857]\n",
      "[0.8571428571428571, 0.7857142857142857, 0.7857142857142857, 0.8571428571428571, 0.6428571428571429, 0.8571428571428571, 0.9285714285714286, 1.0, 0.8571428571428571, 0.7857142857142857, 0.9285714285714286, 1.0, 0.7857142857142857, 1.0, 0.9285714285714286, 1.0, 1.0, 0.9285714285714286, 1.0, 1.0, 1.0, 0.7142857142857143, 1.0, 0.8571428571428571, 0.9285714285714286, 0.5714285714285714, 0.9285714285714286, 0.8666666666666667, 1.0, 0.9285714285714286, 0.8571428571428571, 1.0, 0.8571428571428571, 1.0, 0.7142857142857143, 0.8571428571428571, 0.7857142857142857, 0.8571428571428571, 0.8571428571428571, 0.7857142857142857, 0.7142857142857143, 0.7857142857142857, 0.7142857142857143, 0.8571428571428571, 0.7857142857142857, 1.0, 0.7857142857142857, 0.9285714285714286, 0.8571428571428571, 0.7857142857142857, 1.0, 0.9285714285714286, 0.9285714285714286, 0.9285714285714286, 1.0, 0.9285714285714286, 0.7857142857142857, 1.0, 0.7857142857142857, 0.9285714285714286, 0.8571428571428571, 0.9285714285714286, 0.9285714285714286, 1.0, 0.9285714285714286, 1.0, 0.7857142857142857, 0.9285714285714286, 0.9285714285714286, 1.0, 0.8571428571428571, 0.7142857142857143, 0.9285714285714286, 0.8571428571428571, 1.0, 0.8571428571428571, 1.0, 0.8571428571428571, 0.9285714285714286, 0.8571428571428571, 0.9285714285714286, 1.0, 1.0, 0.7857142857142857, 0.7857142857142857, 0.8571428571428571, 1.0, 0.7142857142857143, 0.9285714285714286, 0.8571428571428571, 0.8571428571428571, 0.7857142857142857, 0.9285714285714286, 1.0, 0.9285714285714286, 1.0, 0.7142857142857143, 0.8571428571428571, 0.8666666666666667, 0.8571428571428571, 0.7142857142857143, 0.8571428571428571, 0.9285714285714286, 1.0, 0.8571428571428571, 0.9285714285714286, 1.0, 0.8571428571428571, 0.8571428571428571, 0.8571428571428571, 0.9285714285714286, 0.9285714285714286, 0.7857142857142857, 0.8571428571428571, 0.8571428571428571, 1.0, 0.8571428571428571, 0.9285714285714286, 1.0, 0.8571428571428571, 0.8571428571428571, 0.7857142857142857, 0.8571428571428571, 1.0, 0.9285714285714286, 0.8333333333333334, 0.9285714285714286, 0.9285714285714286, 0.8571428571428571, 1.0, 1.0, 0.8571428571428571, 0.7142857142857143, 0.6428571428571429, 0.6428571428571429, 0.6428571428571429, 0.8571428571428571, 0.8571428571428571, 1.0, 0.7142857142857143, 0.7857142857142857, 0.6428571428571429, 0.7857142857142857, 0.9285714285714286, 0.9285714285714286, 0.8571428571428571, 0.9285714285714286, 0.8571428571428571, 0.9285714285714286, 0.7857142857142857, 0.7857142857142857, 0.7142857142857143]\n",
      "[0.8571428571428571, 0.7857142857142857, 0.7857142857142857, 0.8571428571428571, 0.6428571428571429, 0.8571428571428571, 0.9285714285714286, 1.0, 0.8571428571428571, 0.7857142857142857, 0.9285714285714286, 1.0, 0.7857142857142857, 1.0, 0.9285714285714286, 1.0, 1.0, 0.9285714285714286, 1.0, 1.0, 1.0, 0.7142857142857143, 1.0, 0.8571428571428571, 0.9285714285714286, 0.5714285714285714, 0.9285714285714286, 0.8666666666666667, 1.0, 0.9285714285714286, 0.8571428571428571, 1.0, 0.8571428571428571, 1.0, 0.7142857142857143, 0.8571428571428571, 0.7857142857142857, 0.8571428571428571, 0.8571428571428571, 0.7857142857142857, 0.7142857142857143, 0.7857142857142857, 0.7142857142857143, 0.8571428571428571, 0.7857142857142857, 1.0, 0.7857142857142857, 0.9285714285714286, 0.8571428571428571, 0.7857142857142857, 1.0, 0.9285714285714286, 0.9285714285714286, 0.9285714285714286, 1.0, 0.9285714285714286, 0.7857142857142857, 1.0, 0.7857142857142857, 0.9285714285714286, 0.8571428571428571, 0.9285714285714286, 0.9285714285714286, 1.0, 0.9285714285714286, 1.0, 0.7857142857142857, 0.9285714285714286, 0.9285714285714286, 1.0, 0.8571428571428571, 0.7142857142857143, 0.9285714285714286, 0.8571428571428571, 1.0, 0.8571428571428571, 1.0, 0.8571428571428571, 0.9285714285714286, 0.8571428571428571, 0.9285714285714286, 1.0, 1.0, 0.7857142857142857, 0.7857142857142857, 0.8571428571428571, 1.0, 0.7142857142857143, 0.9285714285714286, 0.8571428571428571, 0.8571428571428571, 0.7857142857142857, 0.9285714285714286, 1.0, 0.9285714285714286, 1.0, 0.7142857142857143, 0.8571428571428571, 0.8666666666666667, 0.8571428571428571, 0.7142857142857143, 0.8571428571428571, 0.9285714285714286, 1.0, 0.8571428571428571, 0.9285714285714286, 1.0, 0.8571428571428571, 0.8571428571428571, 0.8571428571428571, 0.9285714285714286, 0.9285714285714286, 0.7857142857142857, 0.8571428571428571, 0.8571428571428571, 1.0, 0.8571428571428571, 0.9285714285714286, 1.0, 0.8571428571428571, 0.8571428571428571, 0.7857142857142857, 0.8571428571428571, 1.0, 0.9285714285714286, 0.8333333333333334, 0.9285714285714286, 0.9285714285714286, 0.8571428571428571, 1.0, 1.0, 0.8571428571428571, 0.7142857142857143, 0.6428571428571429, 0.6428571428571429, 0.6428571428571429, 0.8571428571428571, 0.8571428571428571, 1.0, 0.7142857142857143, 0.7857142857142857, 0.6428571428571429, 0.7857142857142857, 0.9285714285714286, 0.9285714285714286, 0.8571428571428571, 0.9285714285714286, 0.8571428571428571, 0.9285714285714286, 0.7857142857142857, 0.7857142857142857, 0.7142857142857143, 1.0]\n",
      "[0.8571428571428571, 0.7857142857142857, 0.7857142857142857, 0.8571428571428571, 0.6428571428571429, 0.8571428571428571, 0.9285714285714286, 1.0, 0.8571428571428571, 0.7857142857142857, 0.9285714285714286, 1.0, 0.7857142857142857, 1.0, 0.9285714285714286, 1.0, 1.0, 0.9285714285714286, 1.0, 1.0, 1.0, 0.7142857142857143, 1.0, 0.8571428571428571, 0.9285714285714286, 0.5714285714285714, 0.9285714285714286, 0.8666666666666667, 1.0, 0.9285714285714286, 0.8571428571428571, 1.0, 0.8571428571428571, 1.0, 0.7142857142857143, 0.8571428571428571, 0.7857142857142857, 0.8571428571428571, 0.8571428571428571, 0.7857142857142857, 0.7142857142857143, 0.7857142857142857, 0.7142857142857143, 0.8571428571428571, 0.7857142857142857, 1.0, 0.7857142857142857, 0.9285714285714286, 0.8571428571428571, 0.7857142857142857, 1.0, 0.9285714285714286, 0.9285714285714286, 0.9285714285714286, 1.0, 0.9285714285714286, 0.7857142857142857, 1.0, 0.7857142857142857, 0.9285714285714286, 0.8571428571428571, 0.9285714285714286, 0.9285714285714286, 1.0, 0.9285714285714286, 1.0, 0.7857142857142857, 0.9285714285714286, 0.9285714285714286, 1.0, 0.8571428571428571, 0.7142857142857143, 0.9285714285714286, 0.8571428571428571, 1.0, 0.8571428571428571, 1.0, 0.8571428571428571, 0.9285714285714286, 0.8571428571428571, 0.9285714285714286, 1.0, 1.0, 0.7857142857142857, 0.7857142857142857, 0.8571428571428571, 1.0, 0.7142857142857143, 0.9285714285714286, 0.8571428571428571, 0.8571428571428571, 0.7857142857142857, 0.9285714285714286, 1.0, 0.9285714285714286, 1.0, 0.7142857142857143, 0.8571428571428571, 0.8666666666666667, 0.8571428571428571, 0.7142857142857143, 0.8571428571428571, 0.9285714285714286, 1.0, 0.8571428571428571, 0.9285714285714286, 1.0, 0.8571428571428571, 0.8571428571428571, 0.8571428571428571, 0.9285714285714286, 0.9285714285714286, 0.7857142857142857, 0.8571428571428571, 0.8571428571428571, 1.0, 0.8571428571428571, 0.9285714285714286, 1.0, 0.8571428571428571, 0.8571428571428571, 0.7857142857142857, 0.8571428571428571, 1.0, 0.9285714285714286, 0.8333333333333334, 0.9285714285714286, 0.9285714285714286, 0.8571428571428571, 1.0, 1.0, 0.8571428571428571, 0.7142857142857143, 0.6428571428571429, 0.6428571428571429, 0.6428571428571429, 0.8571428571428571, 0.8571428571428571, 1.0, 0.7142857142857143, 0.7857142857142857, 0.6428571428571429, 0.7857142857142857, 0.9285714285714286, 0.9285714285714286, 0.8571428571428571, 0.9285714285714286, 0.8571428571428571, 0.9285714285714286, 0.7857142857142857, 0.7857142857142857, 0.7142857142857143, 1.0, 0.9285714285714286]\n"
     ]
    }
   ],
   "source": [
    "rhyme_nonstop_counts = []\n",
    "for i, poem in enumerate(separated_rhyme_words):\n",
    "    xx = [tok for tok in poem if len(tok.lower())>1 and (tok.lower() not in stop_words)]\n",
    "    thiscount = (len(xx) / rhyme_counts[i])\n",
    "    rhyme_nonstop_counts.append(thiscount)"
   ]
  },
  {
   "cell_type": "code",
   "execution_count": 163,
   "metadata": {},
   "outputs": [
    {
     "data": {
      "text/plain": [
       "(0.0, 1.0)"
      ]
     },
     "execution_count": 163,
     "metadata": {},
     "output_type": "execute_result"
    },
    {
     "data": {
      "image/png": "[encoded data removed]",
      "text/plain": [
       "<Figure size 432x288 with 1 Axes>"
      ]
     },
     "metadata": {
      "needs_background": "light"
     },
     "output_type": "display_data"
    }
   ],
   "source": [
    "\n",
    "fig1, ax1 = plt.subplots()\n",
    "ax1.set_title('Box Plot of Proportions of Non-Stop-Words \\nusing rhymed words in all sonnets', size = 22)\n",
    "ax1.boxplot(rhyme_nonstop_counts)\n",
    "plt.ylim([0,1])"
   ]
  },
  {
   "cell_type": "code",
   "execution_count": 164,
   "metadata": {},
   "outputs": [
    {
     "data": {
      "text/plain": [
       "(0.0, 50.0)"
      ]
     },
     "execution_count": 164,
     "metadata": {},
     "output_type": "execute_result"
    },
    {
     "data": {
      "image/png": "[encoded data removed]",
      "text/plain": [
       "<Figure size 432x288 with 1 Axes>"
      ]
     },
     "metadata": {
      "needs_background": "light"
     },
     "output_type": "display_data"
    }
   ],
   "source": [
    "import matplotlib.pyplot as plt\n",
    "\n",
    "# An \"interface\" to matplotlib.axes.Axes.hist() method\n",
    "n, bins, patches = plt.hist(x=rhyme_nonstop_counts, bins='auto', color='blue')\n",
    "plt.grid(axis='y', alpha=0.75)\n",
    "plt.xlabel('% of Non-stop-words')\n",
    "plt.ylabel('Counts of such Sonnets')\n",
    "plt.title('Histogram of Non-Stop-Words Proportions of Rhyming Words', size = 22)\n",
    "maxfreq = n.max()\n",
    "# Set a clean upper y-axis limit.\n",
    "plt.ylim(ymax=np.ceil(maxfreq / 10) * 10 if maxfreq % 10 else maxfreq + 10)"
   ]
  },
  {
   "cell_type": "code",
   "execution_count": null,
   "metadata": {},
   "outputs": [],
   "source": []
  },
  {
   "cell_type": "code",
   "execution_count": 166,
   "metadata": {},
   "outputs": [
    {
     "ename": "ImportError",
     "evalue": "cannot import name 'hold' from 'pylab' (C:\\Users\\NoahDiekemper\\Anaconda3\\lib\\site-packages\\pylab.py)",
     "output_type": "error",
     "traceback": [
      "\u001b[1;31m---------------------------------------------------------------------------\u001b[0m",
      "\u001b[1;31mImportError\u001b[0m                               Traceback (most recent call last)",
      "\u001b[1;32m<ipython-input-166-1f67f30ed188>\u001b[0m in \u001b[0;36m<module>\u001b[1;34m\u001b[0m\n\u001b[1;32m----> 1\u001b[1;33m \u001b[1;32mfrom\u001b[0m \u001b[0mpylab\u001b[0m \u001b[1;32mimport\u001b[0m \u001b[0mplot\u001b[0m\u001b[1;33m,\u001b[0m \u001b[0mshow\u001b[0m\u001b[1;33m,\u001b[0m \u001b[0msavefig\u001b[0m\u001b[1;33m,\u001b[0m \u001b[0mxlim\u001b[0m\u001b[1;33m,\u001b[0m \u001b[0mfigure\u001b[0m\u001b[1;33m,\u001b[0m \u001b[0mhold\u001b[0m\u001b[1;33m,\u001b[0m \u001b[0mylim\u001b[0m\u001b[1;33m,\u001b[0m \u001b[0mlegend\u001b[0m\u001b[1;33m,\u001b[0m \u001b[0mboxplot\u001b[0m\u001b[1;33m,\u001b[0m \u001b[0msetp\u001b[0m\u001b[1;33m,\u001b[0m \u001b[0maxes\u001b[0m\u001b[1;33m\u001b[0m\u001b[1;33m\u001b[0m\u001b[0m\n\u001b[0m\u001b[0;32m      2\u001b[0m \u001b[1;33m\u001b[0m\u001b[0m\n\u001b[0;32m      3\u001b[0m \u001b[1;31m# function for setting the colors of the box plots pairs\u001b[0m\u001b[1;33m\u001b[0m\u001b[1;33m\u001b[0m\u001b[1;33m\u001b[0m\u001b[0m\n\u001b[0;32m      4\u001b[0m \u001b[1;32mdef\u001b[0m \u001b[0msetBoxColors\u001b[0m\u001b[1;33m(\u001b[0m\u001b[0mbp\u001b[0m\u001b[1;33m)\u001b[0m\u001b[1;33m:\u001b[0m\u001b[1;33m\u001b[0m\u001b[1;33m\u001b[0m\u001b[0m\n\u001b[0;32m      5\u001b[0m     \u001b[0msetp\u001b[0m\u001b[1;33m(\u001b[0m\u001b[0mbp\u001b[0m\u001b[1;33m[\u001b[0m\u001b[1;34m'boxes'\u001b[0m\u001b[1;33m]\u001b[0m\u001b[1;33m[\u001b[0m\u001b[1;36m0\u001b[0m\u001b[1;33m]\u001b[0m\u001b[1;33m,\u001b[0m \u001b[0mcolor\u001b[0m\u001b[1;33m=\u001b[0m\u001b[1;34m'blue'\u001b[0m\u001b[1;33m)\u001b[0m\u001b[1;33m\u001b[0m\u001b[1;33m\u001b[0m\u001b[0m\n",
      "\u001b[1;31mImportError\u001b[0m: cannot import name 'hold' from 'pylab' (C:\\Users\\NoahDiekemper\\Anaconda3\\lib\\site-packages\\pylab.py)"
     ]
    }
   ],
   "source": [
    "from pylab import plot, show, savefig, xlim, figure, hold, ylim, legend, boxplot, setp, axes\n",
    "\n",
    "# function for setting the colors of the box plots pairs\n",
    "def setBoxColors(bp):\n",
    "    setp(bp['boxes'][0], color='blue')\n",
    "    setp(bp['caps'][0], color='blue')\n",
    "    setp(bp['caps'][1], color='blue')\n",
    "    setp(bp['whiskers'][0], color='blue')\n",
    "    setp(bp['whiskers'][1], color='blue')\n",
    "    setp(bp['fliers'][0], color='blue')\n",
    "    setp(bp['fliers'][1], color='blue')\n",
    "    setp(bp['medians'][0], color='blue')\n",
    "\n",
    "    setp(bp['boxes'][1], color='red')\n",
    "    setp(bp['caps'][2], color='red')\n",
    "    setp(bp['caps'][3], color='red')\n",
    "    setp(bp['whiskers'][2], color='red')\n",
    "    setp(bp['whiskers'][3], color='red')\n",
    "    setp(bp['fliers'][2], color='red')\n",
    "    setp(bp['fliers'][3], color='red')\n",
    "    setp(bp['medians'][1], color='red')\n",
    "\n",
    "# Some fake data to plot\n",
    "A= [[1, 2, 5,],  [7, 2]]\n",
    "B = [[5, 7, 2, 2, 5], [7, 2, 5]]\n",
    "C = [[3,2,5,7], [6, 7, 3]]\n",
    "\n",
    "fig = figure()\n",
    "ax = axes()\n",
    "hold(True)\n",
    "\n",
    "# first boxplot pair\n",
    "bp = boxplot(A, positions = [1, 2], widths = 0.6)\n",
    "setBoxColors(bp)\n",
    "\n",
    "# second boxplot pair\n",
    "bp = boxplot(B, positions = [4, 5], widths = 0.6)\n",
    "setBoxColors(bp)\n",
    "\n",
    "# thrid boxplot pair\n",
    "bp = boxplot(C, positions = [7, 8], widths = 0.6)\n",
    "setBoxColors(bp)\n",
    "\n",
    "# set axes limits and labels\n",
    "xlim(0,9)\n",
    "ylim(0,9)\n",
    "ax.set_xticklabels(['A', 'B', 'C'])\n",
    "ax.set_xticks([1.5, 4.5, 7.5])\n",
    "\n",
    "# draw temporary red and blue lines and use them to create a legend\n",
    "hB, = plot([1,1],'b-')\n",
    "hR, = plot([1,1],'r-')\n",
    "legend((hB, hR),('Apples', 'Oranges'))\n",
    "hB.set_visible(False)\n",
    "hR.set_visible(False)\n",
    "\n",
    "savefig('boxcompare.png')\n",
    "show()"
   ]
  },
  {
   "cell_type": "code",
   "execution_count": null,
   "metadata": {},
   "outputs": [],
   "source": []
  },
  {
   "cell_type": "code",
   "execution_count": null,
   "metadata": {},
   "outputs": [],
   "source": []
  },
  {
   "cell_type": "code",
   "execution_count": null,
   "metadata": {},
   "outputs": [],
   "source": []
  },
  {
   "cell_type": "code",
   "execution_count": null,
   "metadata": {},
   "outputs": [],
   "source": []
  },
  {
   "cell_type": "code",
   "execution_count": null,
   "metadata": {},
   "outputs": [],
   "source": []
  },
  {
   "cell_type": "code",
   "execution_count": null,
   "metadata": {},
   "outputs": [],
   "source": []
  },
  {
   "cell_type": "code",
   "execution_count": 109,
   "metadata": {},
   "outputs": [
    {
     "data": {
      "text/plain": [
       "[('and', 489),\n",
       " ('the', 444),\n",
       " ('to', 409),\n",
       " ('of', 371),\n",
       " ('my', 364),\n",
       " ('i', 344),\n",
       " ('in', 323),\n",
       " ('that', 320),\n",
       " ('thy', 266),\n",
       " ('thou', 235),\n",
       " ('with', 181),\n",
       " ('not', 177),\n",
       " ('for', 171),\n",
       " ('is', 169),\n",
       " ('but', 164),\n",
       " ('me', 164),\n",
       " ('a', 163),\n",
       " ('thee', 162),\n",
       " ('love', 162),\n",
       " ('so', 145)]"
      ]
     },
     "execution_count": 109,
     "metadata": {},
     "output_type": "execute_result"
    }
   ],
   "source": [
    "countall = Counter(all_words)\n",
    "sorted(countall.items(), key=lambda pair: pair[1], reverse=True)[:20]"
   ]
  },
  {
   "cell_type": "code",
   "execution_count": 110,
   "metadata": {},
   "outputs": [
    {
     "data": {
      "text/plain": [
       "[('thy', 266),\n",
       " ('love', 162),\n",
       " ('eyes', 55),\n",
       " ('sweet', 55),\n",
       " ('time', 53),\n",
       " ('beauty', 52),\n",
       " ('art', 51),\n",
       " ('yet', 50),\n",
       " ('heart', 50),\n",
       " ('fair', 43),\n",
       " ('make', 43),\n",
       " ('one', 43),\n",
       " ('hath', 43),\n",
       " ('still', 41),\n",
       " ('eye', 38),\n",
       " ('true', 37),\n",
       " ('see', 35),\n",
       " ('loves', 35),\n",
       " ('like', 34),\n",
       " ('though', 33)]"
      ]
     },
     "execution_count": 110,
     "metadata": {},
     "output_type": "execute_result"
    }
   ],
   "source": [
    "countclean = Counter(clean_tokens)\n",
    "sorted(countclean.items(), key=lambda pair: pair[1], reverse=True)[:20]"
   ]
  },
  {
   "cell_type": "code",
   "execution_count": 111,
   "metadata": {},
   "outputs": [
    {
     "data": {
      "text/plain": [
       "[('thee', 48),\n",
       " ('me', 33),\n",
       " ('be', 22),\n",
       " ('heart', 17),\n",
       " ('sight', 16),\n",
       " ('eyes', 14),\n",
       " ('time', 14),\n",
       " ('love', 14),\n",
       " ('alone', 12),\n",
       " ('away', 12),\n",
       " ('night', 12),\n",
       " ('you', 12),\n",
       " ('still', 11),\n",
       " ('day', 11),\n",
       " ('so', 11),\n",
       " ('part', 11),\n",
       " ('days', 10),\n",
       " ('art', 10),\n",
       " ('will', 10),\n",
       " ('state', 10)]"
      ]
     },
     "execution_count": 111,
     "metadata": {},
     "output_type": "execute_result"
    }
   ],
   "source": [
    "countallrhymes = Counter(rhymed_words)\n",
    "sorted(countallrhymes.items(), key=lambda pair: pair[1], reverse=True)[:20]"
   ]
  },
  {
   "cell_type": "code",
   "execution_count": 112,
   "metadata": {},
   "outputs": [
    {
     "data": {
      "text/plain": [
       "[('heart', 17),\n",
       " ('sight', 16),\n",
       " ('eyes', 14),\n",
       " ('time', 14),\n",
       " ('love', 14),\n",
       " ('alone', 12),\n",
       " ('away', 12),\n",
       " ('night', 12),\n",
       " ('still', 11),\n",
       " ('day', 11),\n",
       " ('part', 11),\n",
       " ('days', 10),\n",
       " ('art', 10),\n",
       " ('state', 10),\n",
       " ('lie', 10),\n",
       " ('show', 10),\n",
       " ('see', 9),\n",
       " ('mind', 9),\n",
       " ('prove', 9),\n",
       " ('decay', 9)]"
      ]
     },
     "execution_count": 112,
     "metadata": {},
     "output_type": "execute_result"
    }
   ],
   "source": [
    "countrhymes = Counter(clean_rhymes)\n",
    "sorted(countrhymes.items(), key=lambda pair: pair[1], reverse=True)[:20]"
   ]
  },
  {
   "cell_type": "code",
   "execution_count": 113,
   "metadata": {},
   "outputs": [
    {
     "data": {
      "text/plain": [
       "[('and', 489),\n",
       " ('the', 444),\n",
       " ('to', 409),\n",
       " ('of', 371),\n",
       " ('my', 364),\n",
       " ('i', 342),\n",
       " ('in', 323),\n",
       " ('that', 320),\n",
       " ('thy', 266),\n",
       " ('thou', 235),\n",
       " ('with', 181),\n",
       " ('not', 173),\n",
       " ('for', 171),\n",
       " ('but', 164),\n",
       " ('is', 164),\n",
       " ('a', 163),\n",
       " ('love', 148),\n",
       " ('so', 134),\n",
       " ('me', 131),\n",
       " ('as', 121)]"
      ]
     },
     "execution_count": 113,
     "metadata": {},
     "output_type": "execute_result"
    }
   ],
   "source": [
    "countallunrhymes = Counter(unrhymed_words)\n",
    "sorted(countallunrhymes.items(), key=lambda pair: pair[1], reverse=True)[:20]"
   ]
  },
  {
   "cell_type": "code",
   "execution_count": 72,
   "metadata": {},
   "outputs": [
    {
     "data": {
      "text/plain": [
       "[('thy', 266),\n",
       " ('thou', 235),\n",
       " ('love', 148),\n",
       " ('thee', 114),\n",
       " ('doth', 88),\n",
       " ('shall', 59),\n",
       " ('mine', 55),\n",
       " ('sweet', 52),\n",
       " ('beauty', 52),\n",
       " ('yet', 50),\n",
       " ('hath', 43),\n",
       " ('art', 41),\n",
       " ('eyes', 41),\n",
       " ('time', 39),\n",
       " ('make', 39),\n",
       " ('thine', 37),\n",
       " ('fair', 37),\n",
       " ('one', 36),\n",
       " ('loves', 35),\n",
       " ('like', 34)]"
      ]
     },
     "execution_count": 72,
     "metadata": {},
     "output_type": "execute_result"
    }
   ],
   "source": [
    "countunrhymes = Counter(clean_unrhymes)\n",
    "sorted(countunrhymes.items(), key=lambda pair: pair[1], reverse=True)[:20]"
   ]
  },
  {
   "cell_type": "code",
   "execution_count": 66,
   "metadata": {},
   "outputs": [],
   "source": [
    "from collections import defaultdict \n",
    "# Function to return a default \n",
    "# values for keys that is not \n",
    "# present \n",
    "def def_value(): \n",
    "    return (\"NADA\", 0)"
   ]
  },
  {
   "cell_type": "code",
   "execution_count": null,
   "metadata": {},
   "outputs": [],
   "source": [
    "# now we want the most common words for each rhyming sound\n",
    "\n",
    "all_sounds = [x[0] for x in rhymesoundsfreq.items()]\n",
    "all_sounds"
   ]
  },
  {
   "cell_type": "code",
   "execution_count": null,
   "metadata": {},
   "outputs": [],
   "source": [
    "common_rhyme_sounds['hello']"
   ]
  },
  {
   "cell_type": "code",
   "execution_count": null,
   "metadata": {},
   "outputs": [],
   "source": [
    "common_rhyme_sounds = defaultdict(def_value) \n",
    "\n",
    "for each in countallrhymes.items():\n",
    "    if each[1] > common_rhyme_sounds[each[0]][1]:\n",
    "        common_rhyme_sounds[each[0]] = each\n",
    "    elif each[1] == common_rhyme_sounds[each[0]][1]:\n",
    "        print(\"There is a tie at \", each, \" and \", common_rhyme_sounds[each[0]])"
   ]
  },
  {
   "cell_type": "code",
   "execution_count": null,
   "metadata": {},
   "outputs": [],
   "source": [
    "for each in common_rhyme_sounds.keys():\n",
    "    print(common_rhyme_sounds[each])"
   ]
  },
  {
   "cell_type": "code",
   "execution_count": null,
   "metadata": {},
   "outputs": [],
   "source": []
  },
  {
   "cell_type": "code",
   "execution_count": null,
   "metadata": {},
   "outputs": [],
   "source": [
    "for word in rhymed_words:\n",
    "    "
   ]
  },
  {
   "cell_type": "code",
   "execution_count": null,
   "metadata": {},
   "outputs": [],
   "source": [
    "rhymesoundsfreq.items()"
   ]
  },
  {
   "cell_type": "code",
   "execution_count": null,
   "metadata": {},
   "outputs": [],
   "source": []
  },
  {
   "cell_type": "code",
   "execution_count": null,
   "metadata": {},
   "outputs": [],
   "source": [
    "rhymesoundsfreq.items()"
   ]
  },
  {
   "cell_type": "code",
   "execution_count": null,
   "metadata": {},
   "outputs": [],
   "source": [
    "rhymingtuples"
   ]
  },
  {
   "cell_type": "code",
   "execution_count": null,
   "metadata": {},
   "outputs": [],
   "source": [
    "# so let's just look at the words: \n",
    "rhymedpairs = [x[2:] for x in rhymingtuples]\n",
    "# and let's consider all the words together,\n",
    "# how often they appear: \n",
    "rhymedwords = [t for sublist in rhymedpairs for t in sublist]\n",
    "rhymedwords"
   ]
  },
  {
   "cell_type": "code",
   "execution_count": null,
   "metadata": {},
   "outputs": [],
   "source": [
    "wordsfreq = Counter(rhymedwords)\n",
    "wordsfreq"
   ]
  },
  {
   "cell_type": "code",
   "execution_count": null,
   "metadata": {},
   "outputs": [],
   "source": [
    "sortedwordsfreq = sorted(wordsfreq.items(), key=lambda pair: pair[1], reverse=True)"
   ]
  },
  {
   "cell_type": "code",
   "execution_count": null,
   "metadata": {},
   "outputs": [],
   "source": [
    "sortedwordsfreq = [x for x in sortedwordsfreq if x[1] > 9]\n",
    "sortedwordsfreq"
   ]
  },
  {
   "cell_type": "code",
   "execution_count": null,
   "metadata": {},
   "outputs": [],
   "source": [
    "swf_labels = [x[0] for x in sortedwordsfreq]\n",
    "swf_tallies = [x[1] for x in sortedwordsfreq]\n",
    "print(swf_labels)\n",
    "print(swf_tallies)"
   ]
  },
  {
   "cell_type": "code",
   "execution_count": null,
   "metadata": {},
   "outputs": [],
   "source": [
    "fig = plt.figure()\n",
    "ax = fig.add_axes([0,0,1,1])\n",
    "\n",
    "ax.bar(swf_labels,swf_tallies)\n",
    "plt.xticks(rotation=45)\n",
    "\n",
    "ax = sns.barplot(y= swf_tallies, x = swf_labels, palette=(\"Blues_d\"))\n",
    "\n",
    "# set the labels\n",
    "ax.set_title('Prevalence of Top Words Ending Lines')\n",
    "ax.set_ylabel('Number of Appearances')\n",
    "ax.set_xlabel('Words')\n",
    "\n",
    "figure(num=None, figsize=(12, 10), dpi=100, facecolor='w', edgecolor='k')\n",
    "\n",
    "plt.show()"
   ]
  },
  {
   "cell_type": "code",
   "execution_count": null,
   "metadata": {},
   "outputs": [],
   "source": [
    "# let's grab the commonest examples from all the sounds: \n",
    "rhymingtuples\n",
    "thephonics = [x[1] for x in rhymingtuples]\n",
    "uniquephonics = list(set(thephonics))\n",
    "uniquephonics"
   ]
  },
  {
   "cell_type": "code",
   "execution_count": null,
   "metadata": {},
   "outputs": [],
   "source": [
    "wordinstances = []\n",
    "for sound in uniquephonics:\n",
    "    # for now, our method is to include both words if they rhyme\n",
    "    # if they do not, we just take the first word, \n",
    "        # since it's the sound we've recorded\n",
    "        # regardless of whether it or the second sound is the changed one\n",
    "        # and we ignore the second one altogether\n",
    "        # one solution could be to expand rhyming typles\n",
    "        # so that they contain separate sounds\n",
    "        # from the function just returning both sounds and a bool\n",
    "        # altogether\n",
    "    relevant = [x[2] for x in rhymingtuples if x[1] == sound]\n",
    "    relevant_b = [x[3] for x in rhymingtuples if ((x[1] == sound) & (x[0]==1))]\n",
    "    relevant.extend(relevant_b)\n",
    "    wordinstances.append([sound, relevant])"
   ]
  },
  {
   "cell_type": "code",
   "execution_count": null,
   "metadata": {},
   "outputs": [],
   "source": [
    "wordinstances"
   ]
  },
  {
   "cell_type": "code",
   "execution_count": null,
   "metadata": {},
   "outputs": [],
   "source": [
    "wordinstancecounter = [(x[0], Counter(x[1])) for x in wordinstances]\n",
    "wordinstancecounter"
   ]
  },
  {
   "cell_type": "code",
   "execution_count": null,
   "metadata": {},
   "outputs": [],
   "source": [
    "wordinstancecounter[0][1].most_common(1)"
   ]
  },
  {
   "cell_type": "code",
   "execution_count": null,
   "metadata": {},
   "outputs": [],
   "source": [
    "phonicsexamples = [(x[0], x[1].most_common(1)[0][0]) for x in wordinstancecounter]\n",
    "phonicsexamples"
   ]
  },
  {
   "cell_type": "code",
   "execution_count": null,
   "metadata": {},
   "outputs": [],
   "source": [
    "phonic_example_dict=dict() \n",
    "\n",
    "for phonic, example in phonicsexamples: \n",
    "    phonic_example_dict[phonic] = example\n",
    "print(phonic_example_dict) "
   ]
  },
  {
   "cell_type": "code",
   "execution_count": null,
   "metadata": {},
   "outputs": [],
   "source": [
    "new_cs_labels = [phonic_example_dict[x] for x in cs_labels]\n",
    "new_cs_labels"
   ]
  },
  {
   "cell_type": "code",
   "execution_count": null,
   "metadata": {},
   "outputs": [],
   "source": [
    "fig = plt.figure()\n",
    "ax = fig.add_axes([0,0,1,1])\n",
    "\n",
    "ax.bar(new_cs_labels,cs_tallies)\n",
    "plt.xticks(rotation=45)\n",
    "\n",
    "ax = sns.barplot(y= cs_tallies, x = new_cs_labels, palette=(\"Blues_d\"))\n",
    "\n",
    "# set the labels\n",
    "ax.set_title('Prevalence of Top 20 Sounds in Sonnet Rhymes')\n",
    "ax.set_ylabel('Number of Appearances')\n",
    "ax.set_xlabel('The Most Common Word of that Rhyming Group')\n",
    "\n",
    "figure(num=None, figsize=(20, 10), dpi=100, facecolor='w', edgecolor='k')\n",
    "\n",
    "plt.show()"
   ]
  },
  {
   "cell_type": "code",
   "execution_count": null,
   "metadata": {},
   "outputs": [],
   "source": [
    "N = len(new_cs_labels)\n",
    "\n",
    "plt.xticks(range(N), rotation=45)\n",
    "\n",
    "ax = sns.barplot(y= cs_tallies, x = new_cs_labels, palette=(\"Blues_d\"))\n",
    "\n",
    "ax.plot(figsize=(20,10))\n",
    "\n",
    "#plt.xticks() # add loads of ticks\n",
    "plt.grid()\n",
    "\n",
    "plt.gca().margins(x=0)\n",
    "plt.gcf().canvas.draw()\n",
    "tl = plt.gca().get_xticklabels()\n",
    "maxsize = max([t.get_window_extent().width for t in tl])\n",
    "m = .1 # inch margin\n",
    "s = maxsize/plt.gcf().dpi*N+2*m\n",
    "margin = m/plt.gcf().get_size_inches()[0]\n",
    "\n",
    "plt.gcf().subplots_adjust(left=margin, right=1.-margin)\n",
    "plt.gcf().set_size_inches(s, 2*plt.gcf().get_size_inches()[1])\n",
    "\n",
    "# set the labels\n",
    "ax.set_title('Prevalence of Top 20 Sounds in Sonnet Rhymes', fontsize=30)\n",
    "ax.set_ylabel('Number of Appearances', fontsize=30)\n",
    "ax.set_xlabel('The Most Common Word of that Rhyming Group', fontsize=30)\n",
    "\n",
    "plt.show()"
   ]
  },
  {
   "cell_type": "code",
   "execution_count": null,
   "metadata": {},
   "outputs": [],
   "source": [
    "countallrhymes = Counter(rhymed_words)\n",
    "sorted(countallrhymes.items(), key=lambda pair: pair[1], reverse=True)"
   ]
  },
  {
   "cell_type": "code",
   "execution_count": null,
   "metadata": {},
   "outputs": [],
   "source": [
    "allrhymeslist = sorted(countallrhymes.items(), key=lambda pair: pair[1], reverse=True)\n",
    "toptwentywords = [x[0] for x in allrhymeslist][:20]\n",
    "toptwentycounts = [x[1] for x in allrhymeslist][:20]"
   ]
  },
  {
   "cell_type": "code",
   "execution_count": null,
   "metadata": {},
   "outputs": [],
   "source": [
    "fig = plt.figure()\n",
    "ax = fig.add_axes([0,0,1,1])\n",
    "\n",
    "ax.bar(toptwentywords,toptwentycounts)\n",
    "plt.xticks(rotation=45)\n",
    "\n",
    "ax = sns.barplot(y= toptwentycounts, x = toptwentywords, palette=(\"Blues_d\"))\n",
    "\n",
    "# set the labels\n",
    "ax.set_title('Prevalence of Top 20 Words Rhymed in the Sonnets', fontsize=15)\n",
    "ax.set_ylabel('Number of Appearances', fontsize=15)\n",
    "#ax.set_xlabel('The Most Common Word of that Rhyming Group', fontsize=30)\n",
    "\n",
    "figure(num=None, figsize=(20, 10), dpi=100, facecolor='w', edgecolor='k')\n",
    "\n",
    "plt.show()"
   ]
  },
  {
   "cell_type": "code",
   "execution_count": null,
   "metadata": {},
   "outputs": [],
   "source": [
    "N = len(toptwentywords)\n",
    "\n",
    "plt.xticks(range(N), rotation=45)\n",
    "\n",
    "ax = sns.barplot(y= toptwentycounts, x = toptwentywords, palette=(\"Blues_d\"))\n",
    "\n",
    "ax.plot(figsize=(20,10))\n",
    "\n",
    "#plt.xticks() # add loads of ticks\n",
    "plt.grid()\n",
    "\n",
    "plt.gca().margins(x=0)\n",
    "plt.gcf().canvas.draw()\n",
    "tl = plt.gca().get_xticklabels()\n",
    "maxsize = max([t.get_window_extent().width for t in tl])\n",
    "m = .1 # inch margin\n",
    "s = maxsize/plt.gcf().dpi*N+2*m\n",
    "margin = m/plt.gcf().get_size_inches()[0]\n",
    "\n",
    "plt.gcf().subplots_adjust(left=margin, right=1.-margin)\n",
    "plt.gcf().set_size_inches(s, 2*plt.gcf().get_size_inches()[1])\n",
    "\n",
    "# set the labels\n",
    "ax.set_title('Prevalence of Top 20 Words Rhymed in the Sonnets', fontsize=30)\n",
    "ax.set_ylabel('Number of Appearances', fontsize=30)\n",
    "#ax.set_xlabel('The Most Common Word of that Rhyming Group', fontsize=30)\n",
    "\n",
    "plt.show()"
   ]
  },
  {
   "cell_type": "code",
   "execution_count": null,
   "metadata": {},
   "outputs": [],
   "source": []
  }
 ],
 "metadata": {
  "kernelspec": {
   "display_name": "Python 3",
   "language": "python",
   "name": "python3"
  },
  "language_info": {
   "codemirror_mode": {
    "name": "ipython",
    "version": 3
   },
   "file_extension": ".py",
   "mimetype": "text/x-python",
   "name": "python",
   "nbconvert_exporter": "python",
   "pygments_lexer": "ipython3",
   "version": "3.7.9"
  }
 },
 "nbformat": 4,
 "nbformat_minor": 4
}
