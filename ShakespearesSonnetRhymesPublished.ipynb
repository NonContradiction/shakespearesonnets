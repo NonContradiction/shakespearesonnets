{
 "cells": [
  {
   "cell_type": "markdown",
   "metadata": {},
   "source": [
    "# Chapter 0\n",
    "Imports and preliminary work"
   ]
  },
  {
   "cell_type": "code",
   "execution_count": 1,
   "metadata": {},
   "outputs": [],
   "source": [
    "# for the urls for our text importing\n",
    "from bs4 import BeautifulSoup\n",
    "import urllib.request\n",
    "\n",
    "# we'll need this for the median function: \n",
    "import statistics\n",
    "\n",
    "# for looking at amiss words: \n",
    "from collections import Counter "
   ]
  },
  {
   "cell_type": "code",
   "execution_count": 2,
   "metadata": {},
   "outputs": [],
   "source": [
    "from scipy.stats import chisquare"
   ]
  },
  {
   "cell_type": "code",
   "execution_count": 3,
   "metadata": {},
   "outputs": [],
   "source": [
    "# and for graphing: \n",
    "import seaborn as sns\n",
    "import matplotlib.pyplot as plt\n",
    "from matplotlib.pyplot import figure\n",
    "import matplotlib\n",
    "import matplotlib.cm\n",
    "import matplotlib.colors\n",
    "import numpy as np"
   ]
  },
  {
   "cell_type": "code",
   "execution_count": 4,
   "metadata": {},
   "outputs": [
    {
     "name": "stderr",
     "output_type": "stream",
     "text": [
      "[nltk_data] Downloading package cmudict to\n",
      "[nltk_data]     C:\\Users\\NoahDiekemper\\AppData\\Roaming\\nltk_data...\n",
      "[nltk_data]   Package cmudict is already up-to-date!\n"
     ]
    }
   ],
   "source": [
    "# here's some nlp imports and prelim work: \n",
    "\n",
    "# for the nlp, of course\n",
    "import nltk\n",
    "nltk.download('cmudict')\n",
    "import re\n",
    "\n",
    "from nltk.tokenize import word_tokenize \n",
    "from string import punctuation\n",
    "\n",
    "# of course we'll make heavy use of this: \n",
    "mypunc = list(punctuation)\n",
    "# and a unique constraint for this dataset: \n",
    "mypunc.append('--')\n",
    "\n",
    "#print(mypunc)"
   ]
  },
  {
   "cell_type": "code",
   "execution_count": 5,
   "metadata": {},
   "outputs": [],
   "source": [
    "# some cred to this fellow for the initial get-go:\n",
    "# https://stackoverflow.com/questions/25714531/find-rhyme-using-nltk-in-python\n",
    "\n",
    "# preparatory: \n",
    "thedict = nltk.corpus.cmudict.dict()"
   ]
  },
  {
   "cell_type": "code",
   "execution_count": 6,
   "metadata": {},
   "outputs": [],
   "source": [
    "# what counts as a rhyme depends on vowels\n",
    "# we use this reference for cues: \n",
    "# https://www.nltk.org/_modules/nltk/corpus/reader/cmudict.html\n",
    "# and otherwise hardcode this manually: \n",
    "\n",
    "myvowels = ['AA', 'AH', 'AW', 'AE', 'AO', 'AY', \n",
    "         'EH', 'EY', 'ER', # the ER is perhaps controversial \n",
    "          # but I am convinced that the words here encoded with it as a final phoneme\n",
    "          # all rhyme\n",
    "          # e.g. occur and sir\n",
    "         'IH', 'IY', 'OW', 'OY', 'UH', 'UW']"
   ]
  },
  {
   "cell_type": "code",
   "execution_count": 7,
   "metadata": {},
   "outputs": [],
   "source": [
    "# here we define our rhyme-testing function: \n",
    "\n",
    "def test_rhyme(word_a = 'move', word_b = 'love'):\n",
    "    # let's return a playfully named bool \n",
    "    orange = 0\n",
    "    # and this dictionary is case-sensitive so . . .\n",
    "    word_a = word_a.lower()\n",
    "    word_b = word_b.lower()\n",
    "    # we try the first word\n",
    "    try:\n",
    "        syll_a = thedict[word_a]\n",
    "    except KeyError:\n",
    "        fix_a = 'thedict[\\'%s\\'] = thedict[\\'%s\\']' % (word_a, word_a)\n",
    "        print(fix_a)\n",
    "        return word_a\n",
    "    # we try the second word\n",
    "    try:\n",
    "        syll_b = thedict[word_b]\n",
    "    except KeyError:\n",
    "        fix_b = 'thedict[\\'%s\\'] = thedict[\\'%s\\']' % (word_b, word_b)\n",
    "        print(fix_b)\n",
    "        return word_b\n",
    "    # do they rhyme?\n",
    "    for pron_a in syll_a:\n",
    "        # english needs the final vowel sounds to match\n",
    "        # for a word to rhyme\n",
    "        # hence: \n",
    "        vowel = 0\n",
    "        jk = 1\n",
    "        # we search from the end of the word backwards\n",
    "        # looking for the final vowel sound\n",
    "        while (vowel == 0):\n",
    "            if \" \".join(re.findall(\"[a-zA-Z]+\", pron_a[-jk])) in myvowels:\n",
    "                vowel = 1\n",
    "            else:\n",
    "                jk += 1\n",
    "        # and now we carry on\n",
    "        # looking for any homophonic ending that a and b share: \n",
    "        for pron_b in syll_b:\n",
    "            presumptive = 1\n",
    "            # and here we test each phoneme separately \n",
    "            # and set our sub-bool to false and break it if any one fails: \n",
    "            for i in range(jk):\n",
    "                myindex = i + 1\n",
    "                if (\" \".join(re.findall(\"[a-zA-Z]+\", pron_a[-myindex]))  != \" \".join(re.findall(\"[a-zA-Z]+\", pron_b[-myindex])) ):\n",
    "                    presumptive = 0\n",
    "                    break\n",
    "            if presumptive == 1:\n",
    "                orange = 1\n",
    "                break\n",
    "    # and we return our bool\n",
    "    return orange"
   ]
  },
  {
   "cell_type": "code",
   "execution_count": 8,
   "metadata": {},
   "outputs": [
    {
     "name": "stdout",
     "output_type": "stream",
     "text": [
      "0\n",
      "0\n",
      "0\n",
      "1\n",
      "1\n",
      "1\n",
      "0\n",
      "1\n",
      "1\n"
     ]
    }
   ],
   "source": [
    "# test cases: expecting results 000 111 0 11\n",
    "\n",
    "# don't rhyme these days: \n",
    "print(test_rhyme('love', 'move'))\n",
    "print(test_rhyme('loved', 'moved'))\n",
    "print(test_rhyme('loved', 'proved'))\n",
    "\n",
    "# can still rhyme with the animal\n",
    "print(test_rhyme('love', 'dove'))\n",
    "\n",
    "# rhyme bc of their last sound only\n",
    "print(test_rhyme('how', 'now'))\n",
    "print(test_rhyme('now', 'cow'))\n",
    "\n",
    "# don't\n",
    "print(test_rhyme('brown', 'cow'))\n",
    "\n",
    "# but do\n",
    "print(test_rhyme('brown', 'crown'))\n",
    "print(test_rhyme('free', 'legacy'))"
   ]
  },
  {
   "cell_type": "markdown",
   "metadata": {},
   "source": [
    "# Chapter 1: Supplanting Rhyme Data, Getting Sonnet Texts\n",
    "In which we hardcode how a sonnet is supposed to rhyme and write basic web code to fetch the texts for us."
   ]
  },
  {
   "cell_type": "code",
   "execution_count": 9,
   "metadata": {},
   "outputs": [],
   "source": [
    "# we use a dict to tell our code\n",
    "# which lines of a sonnet are meant to rhyme with which\n",
    "sonnet_dict={}\n",
    "sonnet_dict[0] = 2\n",
    "sonnet_dict[1] = 3\n",
    "sonnet_dict[4] = 6\n",
    "sonnet_dict[5] = 7\n",
    "sonnet_dict[8] = 10\n",
    "sonnet_dict[9] = 11\n",
    "sonnet_dict[12] = 13"
   ]
  },
  {
   "cell_type": "code",
   "execution_count": 10,
   "metadata": {},
   "outputs": [],
   "source": [
    "# \"sonnet\" 126 is just a bunch (6) of rhyming couplets\n",
    "# so we account for that here\n",
    "dozen_dict = {}\n",
    "dozen_dict[0] = 1\n",
    "dozen_dict[2] = 3\n",
    "dozen_dict[4] = 5\n",
    "dozen_dict[6] = 7\n",
    "dozen_dict[8] = 9\n",
    "dozen_dict[10] = 11"
   ]
  },
  {
   "cell_type": "code",
   "execution_count": 11,
   "metadata": {},
   "outputs": [],
   "source": [
    "# sonnet 99 is irregular\n",
    "# so we take that into account here\n",
    "nena_dict = {}\n",
    "nena_dict[0] = 2\n",
    "nena_dict[1] = 3\n",
    "nena_dict[2] = 4\n",
    "nena_dict[5] = 7\n",
    "nena_dict[6] = 8\n",
    "nena_dict[9] = 11\n",
    "nena_dict[10] = 12\n",
    "nena_dict[13] = 14"
   ]
  },
  {
   "cell_type": "code",
   "execution_count": 12,
   "metadata": {},
   "outputs": [],
   "source": [
    "# here are the relics of obsolete entries \n",
    "# that weren't in NLTK's dictionary at all\n",
    "# that I pseudo-manually updated\n",
    "# with words that rhyme with them\n",
    "\n",
    "# broken into multiple cells merely for readability\n",
    "\n",
    "thedict['renewest'] =        thedict['newest']\n",
    "thedict['self-killed'] =     thedict['killed']\n",
    "thedict['unprovident'] =     thedict['provident']\n",
    "thedict['ruinate'] =         thedict['ate']\n",
    "thedict['bestowest'] =       thedict['west']"
   ]
  },
  {
   "cell_type": "code",
   "execution_count": 13,
   "metadata": {},
   "outputs": [],
   "source": [
    "thedict['convertest'] =      thedict['test']\n",
    "thedict['untrimmd'] =        thedict['trimmed']\n",
    "thedict['growest'] =         thedict['west']\n",
    "thedict['amazeth'] =         thedict['death']\n",
    "thedict['a-doting'] =        thedict['doting']\n",
    "thedict['stelled'] =         thedict['felled']\n",
    "thedict['toild'] =           thedict['toiled']\n",
    "thedict['embassage'] =       thedict['ridge']\n",
    "thedict['oer'] =             thedict['oar']\n",
    "thedict['re-survey'] =       thedict['survey']\n",
    "thedict['equipage'] =        thedict['page']\n",
    "thedict['staineth'] =        thedict['death']\n",
    "thedict['invocate'] =        thedict['mate']\n",
    "thedict['deceivest'] =       thedict['vest']\n",
    "thedict['refusest'] =        thedict['zest']\n",
    "thedict['forbear'] =         thedict['bear']"
   ]
  },
  {
   "cell_type": "code",
   "execution_count": 14,
   "metadata": {},
   "outputs": [],
   "source": [
    "thedict['unrespected'] =     thedict['respected']\n",
    "thedict['recured'] =         thedict['recurred']\n",
    "thedict['impanneled'] =      thedict['paneled']\n",
    "thedict['uprear'] =          thedict['rear']\n",
    "thedict['offence'] =         thedict['offense']\n",
    "thedict['wilful-slow'] =     thedict['slow']\n",
    "thedict['carcanet'] =        thedict['net']\n",
    "thedict['allayd'] =          thedict['allayed']\n",
    "thedict['nought'] =          thedict['ought']\n",
    "thedict['cheque'] =          thedict['check']\n",
    "thedict['crownd'] =          thedict['crowned']\n",
    "thedict['oer-worn'] =        thedict['worn']\n",
    "thedict['down-razed'] =      thedict['razed']\n",
    "thedict['alack'] =           thedict['lack']\n",
    "thedict['jollity'] =         thedict['quality']"
   ]
  },
  {
   "cell_type": "code",
   "execution_count": 15,
   "metadata": {},
   "outputs": [],
   "source": [
    "thedict['strumpeted'] =      thedict['trumpeted']\n",
    "thedict['impiety'] =         thedict['piety']\n",
    "thedict['outworn'] =         thedict['worn']\n",
    "thedict['crownd'] =          thedict['crowned']\n",
    "thedict['anon'] =            thedict['on']\n",
    "thedict['niggarding'] =      thedict['building']\n",
    "thedict['decayd'] =          thedict['decayed']\n",
    "thedict['oer-read'] =        thedict['read']\n",
    "thedict['oerlook'] =         thedict['look']\n",
    "thedict['inhearse'] =        thedict['rehearse']\n",
    "thedict['swerving'] =        thedict['serving']\n",
    "thedict['attainted'] =       thedict['tainted']"
   ]
  },
  {
   "cell_type": "code",
   "execution_count": 16,
   "metadata": {},
   "outputs": [],
   "source": [
    "thedict['offence'] =         thedict['offense']\n",
    "thedict['after-loss'] =      thedict['loss']\n",
    "thedict['wantonness'] =      thedict['dress']\n",
    "thedict['deemd'] =           thedict['deemed']\n",
    "thedict['intermixd'] =       thedict['intermixed']\n",
    "thedict['esteeming'] =       thedict['teaming']\n",
    "thedict['burnd'] =           thedict['burned']\n",
    "thedict['dial-hand'] =       thedict['hand']\n",
    "thedict['unbred'] =          thedict['bred']\n",
    "thedict['wights'] =          thedict['nights']\n",
    "thedict['prefiguring'] =     thedict['figuring']\n",
    "thedict['staind'] =          thedict['stained']\n",
    "thedict['renewd'] =          thedict['renewed']\n",
    "thedict['greeing'] =         thedict['agreeing']"
   ]
  },
  {
   "cell_type": "code",
   "execution_count": 17,
   "metadata": {},
   "outputs": [],
   "source": [
    "thedict['incertainty'] =     thedict['certainty']\n",
    "thedict['meetness'] =        thedict['happiness']\n",
    "thedict['tenderd'] =         thedict['tendered']\n",
    "thedict['deemd'] =           thedict['deemed']\n",
    "thedict['gatherd'] =         thedict['gathered']\n",
    "thedict['honouring'] =       thedict['honoring']\n",
    "thedict['savour'] =          thedict['savor']\n",
    "thedict['growst'] =          thedict['most']\n",
    "thedict['swayst'] =          thedict['waist']\n",
    "thedict['gaol'] =            thedict['jail']\n",
    "thedict['overplus'] =        thedict['plus']\n",
    "thedict['fulfil'] =          thedict['fulfill']\n",
    "thedict['reproving'] =       thedict['proving']\n",
    "thedict['aright'] =          thedict['right']\n",
    "thedict['new-fired'] =       thedict['fired']"
   ]
  },
  {
   "cell_type": "code",
   "execution_count": 18,
   "metadata": {},
   "outputs": [],
   "source": [
    "thedict['viewest'] = thedict['west']\n",
    "thedict['departest'] = thedict['test']\n",
    "thedict['dimmd'] = thedict['dimmed']\n",
    "thedict['owest'] = thedict['west']\n",
    "thedict['gazeth'] = thedict['death']\n",
    "thedict['foild'] = thedict['foiled']\n",
    "thedict['vassalage'] = thedict['ledge']\n",
    "thedict['disdaineth'] = thedict['death']\n",
    "thedict['receivest'] = thedict['vest']\n",
    "thedict['usest'] = thedict['zest']"
   ]
  },
  {
   "cell_type": "code",
   "execution_count": 19,
   "metadata": {},
   "outputs": [],
   "source": [
    "thedict['esteemd'] = thedict['esteemed']\n",
    "thedict['fixd'] = thedict['fixed']\n",
    "thedict['turnd'] = thedict['turned']\n",
    "thedict['reignd'] = thedict['reigned']\n",
    "thedict['rememberd'] = thedict['remembered']\n",
    "thedict['esteemd'] = thedict['esteemed']\n",
    "thedict['unfatherd'] = thedict['bothered']\n",
    "thedict['favour'] = thedict['favor']\n",
    "thedict['showst'] = thedict['most']\n",
    "thedict['playst'] = thedict['waist']"
   ]
  },
  {
   "cell_type": "markdown",
   "metadata": {},
   "source": [
    "### Webscraping"
   ]
  },
  {
   "cell_type": "code",
   "execution_count": 20,
   "metadata": {},
   "outputs": [],
   "source": [
    "# and here's the hard-coded part\n",
    "# where we gather our sonnets\n",
    "\n",
    "# first we collect all the links from a web reference page: \n",
    "\n",
    "sonnetlinks=[]\n",
    "html_page = urllib.request.urlopen(\"http://shakespeare.mit.edu/Poetry/sonnets.html\")\n",
    "soup = BeautifulSoup(html_page, \"html.parser\")\n",
    "for link in soup.findAll('a'):\n",
    "    # and some particular scrubbing: \n",
    "    if 'amazon' not in link.get('href'):\n",
    "        sonnetlinks.append('http://shakespeare.mit.edu/Poetry/' + link.get('href'))"
   ]
  },
  {
   "cell_type": "code",
   "execution_count": 21,
   "metadata": {},
   "outputs": [],
   "source": [
    "# and here we actually grab the text of them: \n",
    "\n",
    "def get_sonnet_text(mylink):\n",
    "    html_page = urllib.request.urlopen(mylink)\n",
    "    soup = BeautifulSoup(html_page, \"html.parser\")\n",
    "    foundit = soup.text\n",
    "    #print(foundit)\n",
    "    return foundit\n",
    "\n",
    "sonnettexts = []\n",
    "for x in sonnetlinks:\n",
    "    sonnettexts.append(get_sonnet_text(x))"
   ]
  },
  {
   "cell_type": "code",
   "execution_count": 22,
   "metadata": {},
   "outputs": [],
   "source": [
    "# we strike the empty lines \n",
    "# and also the 'Sonnet x' title headings\n",
    "sonnets = []\n",
    "for each_sonnet in sonnettexts:\n",
    "    working_sonnet = each_sonnet.split('\\n')\n",
    "    ourlines = [x for x in working_sonnet if x != '']\n",
    "    ourlines = [x for x in ourlines if 'sonnet' not in x.lower()]\n",
    "    sonnets.append(ourlines)"
   ]
  },
  {
   "cell_type": "code",
   "execution_count": 23,
   "metadata": {},
   "outputs": [
    {
     "data": {
      "text/plain": [
       "['How can I then return in happy plight,',\n",
       " \"That am debarr'd the benefit of rest?\",\n",
       " \"When day's oppression is not eased by night,\",\n",
       " \"But day by night, and night by day, oppress'd?\",\n",
       " \"And each, though enemies to either's reign,\",\n",
       " 'Do in consent shake hands to torture me;',\n",
       " 'The one by toil, the other to complain',\n",
       " 'How far I toil, still farther off from thee.',\n",
       " 'I tell the day, to please them thou art bright',\n",
       " 'And dost him grace when clouds do blot the heaven:',\n",
       " \"So flatter I the swart-complexion'd night,\",\n",
       " \"When sparkling stars twire not thou gild'st the even.\",\n",
       " 'But day doth daily draw my sorrows longer',\n",
       " \"  And night doth nightly make grief's strength\",\n",
       " '  \\tseem stronger.']"
      ]
     },
     "execution_count": 23,
     "metadata": {},
     "output_type": "execute_result"
    }
   ],
   "source": [
    "sonnets[27]"
   ]
  },
  {
   "cell_type": "code",
   "execution_count": 24,
   "metadata": {},
   "outputs": [],
   "source": [
    "# and here's the part where we turn our sonnets\n",
    "# into lists of lines of separate words\n",
    "sonnets_tokenized=[]\n",
    "for sonnet in sonnets:\n",
    "    sonnet_tokens = []\n",
    "    for line in sonnet: \n",
    "        thisline = line.replace(\"'\", \"\")\n",
    "        tokens = [x for x in word_tokenize(thisline) if x not in mypunc]\n",
    "        # this is only a band-aid\n",
    "            # fixed more minutely above, \n",
    "            # with the new dictionary entries\n",
    "        # but it addresses the most common issue with axing all single quotes in this text\n",
    "        tokens = [x.replace(\"lld\", \"lled\") for x in tokens]\n",
    "        tokens = [x.replace(\"rrd\", \"rred\") for x in tokens]\n",
    "        tokens = [x.replace(\"ssd\", \"ssed\") for x in tokens]\n",
    "        tokens = [x.replace(\"rmd\", \"rmed\") for x in tokens]\n",
    "        # and we don't care about capitalization for these purposes\n",
    "        tokens = [x.lower() for x in tokens]\n",
    "        #print(tokens)\n",
    "        sonnet_tokens.append(tokens)\n",
    "    sonnets_tokenized.append(sonnet_tokens)"
   ]
  },
  {
   "cell_type": "markdown",
   "metadata": {},
   "source": [
    "The formatting on Sonnet 27 is weird for whatever reason, so we fix that here: "
   ]
  },
  {
   "cell_type": "code",
   "execution_count": 25,
   "metadata": {},
   "outputs": [
    {
     "data": {
      "text/plain": [
       "['and', 'night', 'doth', 'nightly', 'make', 'griefs', 'strength']"
      ]
     },
     "execution_count": 25,
     "metadata": {},
     "output_type": "execute_result"
    }
   ],
   "source": [
    "sonnets_tokenized[27][-2]"
   ]
  },
  {
   "cell_type": "code",
   "execution_count": 26,
   "metadata": {},
   "outputs": [],
   "source": [
    "sonnets_tokenized[27][-2].extend(sonnets_tokenized[27][-1])"
   ]
  },
  {
   "cell_type": "code",
   "execution_count": 27,
   "metadata": {},
   "outputs": [
    {
     "data": {
      "text/plain": [
       "[['how', 'can', 'i', 'then', 'return', 'in', 'happy', 'plight'],\n",
       " ['that', 'am', 'debarred', 'the', 'benefit', 'of', 'rest'],\n",
       " ['when', 'days', 'oppression', 'is', 'not', 'eased', 'by', 'night'],\n",
       " ['but', 'day', 'by', 'night', 'and', 'night', 'by', 'day', 'oppressed'],\n",
       " ['and', 'each', 'though', 'enemies', 'to', 'eithers', 'reign'],\n",
       " ['do', 'in', 'consent', 'shake', 'hands', 'to', 'torture', 'me'],\n",
       " ['the', 'one', 'by', 'toil', 'the', 'other', 'to', 'complain'],\n",
       " ['how', 'far', 'i', 'toil', 'still', 'farther', 'off', 'from', 'thee'],\n",
       " ['i', 'tell', 'the', 'day', 'to', 'please', 'them', 'thou', 'art', 'bright'],\n",
       " ['and',\n",
       "  'dost',\n",
       "  'him',\n",
       "  'grace',\n",
       "  'when',\n",
       "  'clouds',\n",
       "  'do',\n",
       "  'blot',\n",
       "  'the',\n",
       "  'heaven'],\n",
       " ['so', 'flatter', 'i', 'the', 'swart-complexiond', 'night'],\n",
       " ['when',\n",
       "  'sparkling',\n",
       "  'stars',\n",
       "  'twire',\n",
       "  'not',\n",
       "  'thou',\n",
       "  'gildst',\n",
       "  'the',\n",
       "  'even'],\n",
       " ['but', 'day', 'doth', 'daily', 'draw', 'my', 'sorrows', 'longer'],\n",
       " ['and',\n",
       "  'night',\n",
       "  'doth',\n",
       "  'nightly',\n",
       "  'make',\n",
       "  'griefs',\n",
       "  'strength',\n",
       "  'seem',\n",
       "  'stronger']]"
      ]
     },
     "execution_count": 27,
     "metadata": {},
     "output_type": "execute_result"
    }
   ],
   "source": [
    "sonnets_tokenized[27] = sonnets_tokenized[27][:-1]\n",
    "sonnets_tokenized[27]"
   ]
  },
  {
   "cell_type": "markdown",
   "metadata": {},
   "source": [
    "# Chapter II: Looking for Anomalies"
   ]
  },
  {
   "cell_type": "code",
   "execution_count": 28,
   "metadata": {},
   "outputs": [],
   "source": [
    "# and we look for the pairs of lines\n",
    "# that don't rhyme\n",
    "\n",
    "anomalies=[]\n",
    "sonnet_tallies = []\n",
    "for i, sonnet in enumerate(sonnets_tokenized):\n",
    "    \n",
    "    sonnet_rhymes=[]\n",
    "\n",
    "    # so we have 3 different cases \n",
    "    # literally bc of the 2 irregular poems here\n",
    "    \n",
    "    if len(sonnet) == 14:\n",
    "        for index in list(sonnet_dict.keys()):\n",
    "            word_a = sonnet[sonnet_dict[index]][-1]\n",
    "            word_b = sonnet[index][-1]\n",
    "            dothey = test_rhyme(word_a, word_b)\n",
    "            # we note whether a pair rhymes or not\n",
    "            sonnet_rhymes.append(dothey)\n",
    "            if dothey == 0:\n",
    "                # and if not, append the info to the anomalies\n",
    "                anomalies.append([i, index, sonnet_dict[index], word_a, word_b])\n",
    "        sonnet_tallies.append(sonnet_rhymes)\n",
    "    elif len(sonnet) == 12:\n",
    "        for index in list(dozen_dict.keys()):\n",
    "            word_a = sonnet[dozen_dict[index]][-1]\n",
    "            word_b = sonnet[index][-1]\n",
    "            dothey = test_rhyme(word_a, word_b)\n",
    "            sonnet_rhymes.append(dothey)\n",
    "            if dothey == 0:\n",
    "                anomalies.append([i, index, dozen_dict[index], word_a, word_b])\n",
    "        sonnet_tallies.append(sonnet_rhymes)\n",
    "    elif len(sonnet) == 15:\n",
    "        for index in list(nena_dict.keys()):\n",
    "            word_a = sonnet[nena_dict[index]][-1]\n",
    "            word_b = sonnet[index][-1]\n",
    "            dothey = test_rhyme(word_a, word_b)\n",
    "            sonnet_rhymes.append(dothey)\n",
    "            if dothey == 0:\n",
    "                anomalies.append([i, index, nena_dict[index], word_a, word_b])\n",
    "        sonnet_tallies.append(sonnet_rhymes)\n",
    "    else:\n",
    "        print(\"Huh!!\", i, sonnet)\n",
    "#print(anomalies)\n",
    "#print(sonnet_tallies)"
   ]
  },
  {
   "cell_type": "markdown",
   "metadata": {},
   "source": [
    "So, some questions to ask of our data: "
   ]
  },
  {
   "cell_type": "code",
   "execution_count": 29,
   "metadata": {},
   "outputs": [
    {
     "name": "stdout",
     "output_type": "stream",
     "text": [
      "How many rhymes were attempted?\n",
      "1078\n"
     ]
    }
   ],
   "source": [
    "print(\"How many rhymes were attempted?\")\n",
    "print(sum([len(x) for x in sonnet_tallies]))"
   ]
  },
  {
   "cell_type": "code",
   "execution_count": 30,
   "metadata": {},
   "outputs": [
    {
     "name": "stdout",
     "output_type": "stream",
     "text": [
      "How many fail?\n",
      "161\n"
     ]
    }
   ],
   "source": [
    "print(\"How many fail?\")\n",
    "print(len(anomalies))"
   ]
  },
  {
   "cell_type": "markdown",
   "metadata": {},
   "source": [
    "\"Only about 15% of the individual rhymes that Shakespeare wrote into his collection fail.\""
   ]
  },
  {
   "cell_type": "code",
   "execution_count": 31,
   "metadata": {},
   "outputs": [
    {
     "name": "stdout",
     "output_type": "stream",
     "text": [
      "What percent % is that?\n",
      "0.14935064935064934\n"
     ]
    }
   ],
   "source": [
    "print(\"What percent % is that?\")\n",
    "print(len(anomalies)/sum([len(x) for x in sonnet_tallies]))"
   ]
  },
  {
   "cell_type": "code",
   "execution_count": 32,
   "metadata": {},
   "outputs": [],
   "source": [
    "# so we tally up the rhymes that still work . . .\n",
    "accuracies = [sum(x)/len(x) for x in sonnet_tallies]\n",
    "#print(accuracies)"
   ]
  },
  {
   "cell_type": "code",
   "execution_count": 33,
   "metadata": {},
   "outputs": [
    {
     "data": {
      "text/plain": [
       "Counter({0.7142857142857143: 28,\n",
       "         0.8571428571428571: 69,\n",
       "         0.5714285714285714: 8,\n",
       "         1.0: 46,\n",
       "         0.42857142857142855: 3})"
      ]
     },
     "execution_count": 33,
     "metadata": {},
     "output_type": "execute_result"
    }
   ],
   "source": [
    "# so what is the breakdown of % failure by sonnet?\n",
    "myc = Counter(accuracies)\n",
    "myc"
   ]
  },
  {
   "cell_type": "code",
   "execution_count": 34,
   "metadata": {},
   "outputs": [
    {
     "data": {
      "text/plain": [
       "[(0.8571428571428571, 69),\n",
       " (1.0, 46),\n",
       " (0.7142857142857143, 28),\n",
       " (0.5714285714285714, 8),\n",
       " (0.42857142857142855, 3)]"
      ]
     },
     "execution_count": 34,
     "metadata": {},
     "output_type": "execute_result"
    }
   ],
   "source": [
    "# can we order those by frequency?\n",
    "inorder = myc.most_common(6)\n",
    "orderedlist = [x for x in inorder]\n",
    "orderedlist"
   ]
  },
  {
   "cell_type": "markdown",
   "metadata": {},
   "source": [
    "\"The tragedy is that they are sufficiently spread out that 70% of his sonnets have some sort of infection.\""
   ]
  },
  {
   "cell_type": "code",
   "execution_count": 35,
   "metadata": {},
   "outputs": [
    {
     "name": "stdout",
     "output_type": "stream",
     "text": [
      "So how many register as imperfect?\n",
      "108\n",
      "0.7012987012987013\n"
     ]
    }
   ],
   "source": [
    "print(\"So how many register as imperfect?\")\n",
    "print(len(accuracies) - myc[1.0])\n",
    "print((len(accuracies) - myc[1.0])/154)"
   ]
  },
  {
   "cell_type": "markdown",
   "metadata": {},
   "source": [
    "So what % *of sonnets* have which rates of failure? Here are the %s sorted by decreasing success rate: "
   ]
  },
  {
   "cell_type": "markdown",
   "metadata": {},
   "source": [
    "\"45%―nearly half―of Shakespeare’s sonnets suffer one lone lapse, while another 30% of them have endured completely intact.\""
   ]
  },
  {
   "cell_type": "code",
   "execution_count": 36,
   "metadata": {},
   "outputs": [
    {
     "data": {
      "text/plain": [
       "[0.2987012987012987,\n",
       " 0.44805194805194803,\n",
       " 0.18181818181818182,\n",
       " 0.05194805194805195,\n",
       " 0.01948051948051948]"
      ]
     },
     "execution_count": 36,
     "metadata": {},
     "output_type": "execute_result"
    }
   ],
   "source": [
    "percent_working = [x for x in myc]\n",
    "the_counts = [myc[x] for x in myc]\n",
    "zipped_lists = zip(percent_working, the_counts)\n",
    "sorted_zipped_lists = sorted(zipped_lists, reverse=True)\n",
    "sorted_list1 = [element/154 for _, element in sorted_zipped_lists]\n",
    "sorted_list1"
   ]
  },
  {
   "cell_type": "markdown",
   "metadata": {},
   "source": [
    ". . . and here is the same question sorted by decreasing size of that category: "
   ]
  },
  {
   "cell_type": "code",
   "execution_count": 37,
   "metadata": {},
   "outputs": [
    {
     "data": {
      "text/plain": [
       "[0.44805194805194803,\n",
       " 0.2987012987012987,\n",
       " 0.18181818181818182,\n",
       " 0.05194805194805195,\n",
       " 0.01948051948051948]"
      ]
     },
     "execution_count": 37,
     "metadata": {},
     "output_type": "execute_result"
    }
   ],
   "source": [
    "[x[1]/154 for x in orderedlist]"
   ]
  },
  {
   "cell_type": "markdown",
   "metadata": {},
   "source": [
    "And here is our histogram!!"
   ]
  },
  {
   "cell_type": "code",
   "execution_count": 38,
   "metadata": {},
   "outputs": [
    {
     "data": {
      "image/png": "[encoded data removed]",
      "text/plain": [
       "<Figure size 432x288 with 1 Axes>"
      ]
     },
     "metadata": {
      "needs_background": "light"
     },
     "output_type": "display_data"
    }
   ],
   "source": [
    "# and we graph them\n",
    "\n",
    "ax = sns.histplot(accuracies)\n",
    "ax.set_xlim(0.05, 1.05)\n",
    "ax.set_title(\"Histogram of Sonnets by Percent of Rhymes that Still Work \\n\",\n",
    "            fontsize=18)\n",
    "\n",
    "ax.set_xlabel(\"Percent of Rhymes that Still Work\")\n",
    "ax.set_ylabel(\"Number of Sonnets with that % of Rhymes\")\n",
    "myxlabels=[str(round(x*100, 1))+'%' for x in list(set(accuracies))]\n",
    "plt.xticks(ticks=list(set(accuracies)), labels=myxlabels, rotation=45)\n",
    "plt.show()"
   ]
  },
  {
   "cell_type": "markdown",
   "metadata": {},
   "source": [
    "Now, which individual words are giving us so much trouble?"
   ]
  },
  {
   "cell_type": "code",
   "execution_count": 39,
   "metadata": {},
   "outputs": [
    {
     "name": "stdout",
     "output_type": "stream",
     "text": [
      "[('love', 13), ('alone', 9), ('prove', 9), ('gone', 6), ('are', 6), ('one', 5), ('eye', 5), ('tongue', 5), ('come', 4), ('wrong', 4), ('moan', 4), ('spent', 4), ('argument', 4), ('memory', 3), ('bear', 3), ('tomb', 3), ('blood', 3), ('dead', 3), ('forth', 3), ('worth', 3), ('care', 3), ('is', 3), ('near', 3), ('where', 3), ('doom', 3), ('die', 2), ('was', 2), ('majesty', 2), ('age', 2), ('were', 2), ('counterfeit', 2), ('song', 2), ('buried', 2), ('even', 2), ('heaven', 2), ('past', 2), ('invent', 2), ('desert', 2), ('amiss', 2), ('remedy', 2), ('approve', 2), ('appear', 2), ('dumb', 2), ('affords', 2), ('words', 2), ('good', 2), ('there', 2), ('fiend', 2)]\n",
      "Wall time: 4.5 ms\n"
     ]
    }
   ],
   "source": [
    "%%time\n",
    "\n",
    "justthewordsmaam = [x[-2:] for x in anomalies]\n",
    "#print(justthewordsmaam)\n",
    "\n",
    "words = [item for sublist in justthewordsmaam for item in sublist]\n",
    "#print(words)\n",
    "\n",
    "d = Counter(words)\n",
    "#print(d)\n",
    "\n",
    "sordidwords = sorted(d.items(), key=lambda pair: pair[1], reverse=True)\n",
    "commonsordid = [x for x in sordidwords if x[1] > 1]\n",
    "print(commonsordid)"
   ]
  },
  {
   "cell_type": "markdown",
   "metadata": {},
   "source": [
    "How many different rhyme-pairs are failing?"
   ]
  },
  {
   "cell_type": "code",
   "execution_count": 40,
   "metadata": {},
   "outputs": [
    {
     "name": "stdout",
     "output_type": "stream",
     "text": [
      "How many rhyme pairs now fail?\n",
      "129\n",
      "And how many total failures are there, again?\n",
      "161\n",
      "[(('love', 'prove'), 9), (('alone', 'gone'), 4), (('alone', 'one'), 4), (('forth', 'worth'), 3), (('are', 'care'), 3), (('argument', 'spent'), 3), (('tongue', 'wrong'), 3), (('come', 'doom'), 3), (('song', 'tongue'), 2), (('even', 'heaven'), 2), (('gone', 'moan'), 2), (('amiss', 'is'), 2), (('approve', 'love'), 2), (('dumb', 'tomb'), 2), (('affords', 'words'), 2), (('blood', 'good'), 2)]\n"
     ]
    }
   ],
   "source": [
    "mypairs=[]\n",
    "for x in justthewordsmaam:\n",
    "    y = [each.lower() for each in x]\n",
    "    y.sort()\n",
    "    y = tuple(y)\n",
    "    mypairs.append(y)\n",
    "nonrhymes = Counter(mypairs)\n",
    "print(\"How many rhyme pairs now fail?\")\n",
    "print(len(list(nonrhymes.keys())))\n",
    "\n",
    "print(\"And how many total failures are there, again?\")\n",
    "print(len(anomalies))\n",
    "\n",
    "sordidpairs = sorted(nonrhymes.items(), key=lambda pair: pair[1], reverse=True)\n",
    "commonpairs = [x for x in sordidpairs if x[1] > 1]\n",
    "print(commonpairs)"
   ]
  },
  {
   "cell_type": "code",
   "execution_count": 41,
   "metadata": {},
   "outputs": [
    {
     "name": "stdout",
     "output_type": "stream",
     "text": [
      "Wait, how many have 'love'?\n",
      "[('love', 'prove'), ('love', 'move'), ('approve', 'love'), ('love', 'remove')]\n"
     ]
    }
   ],
   "source": [
    "print(\"Wait, how many have 'love'?\")\n",
    "print([x for x in list(nonrhymes.keys()) if 'love' in x])"
   ]
  },
  {
   "cell_type": "code",
   "execution_count": 42,
   "metadata": {},
   "outputs": [
    {
     "name": "stdout",
     "output_type": "stream",
     "text": [
      "What aboud loved with a D?\n",
      "[('loved', 'proved')]\n"
     ]
    }
   ],
   "source": [
    "print(\"What aboud loved with a D?\")\n",
    "print([x for x in list(nonrhymes.keys()) if 'loved' in x])"
   ]
  },
  {
   "cell_type": "code",
   "execution_count": 43,
   "metadata": {},
   "outputs": [
    {
     "name": "stdout",
     "output_type": "stream",
     "text": [
      "And that shows up how many times?\n",
      "1\n"
     ]
    }
   ],
   "source": [
    "print(\"And that shows up how many times?\")\n",
    "print(nonrhymes[('loved', 'proved')])"
   ]
  },
  {
   "cell_type": "markdown",
   "metadata": {},
   "source": [
    "More questions to ask of the sonnets: "
   ]
  },
  {
   "cell_type": "code",
   "execution_count": 44,
   "metadata": {},
   "outputs": [
    {
     "data": {
      "text/plain": [
       "Counter({7: 152, 8: 1, 6: 1})"
      ]
     },
     "execution_count": 44,
     "metadata": {},
     "output_type": "execute_result"
    }
   ],
   "source": [
    "sonn_rhymes = [len(x) for x in sonnet_tallies]\n",
    "Counter(sonn_rhymes)"
   ]
  },
  {
   "cell_type": "code",
   "execution_count": 45,
   "metadata": {},
   "outputs": [
    {
     "name": "stdout",
     "output_type": "stream",
     "text": [
      "This many are still intact:  46\n",
      "Their indices are:  [9, 11, 20, 21, 22, 24, 40, 41, 43, 51, 57, 58, 65, 68, 69, 73, 77, 82, 87, 88, 92, 96, 98, 99, 104, 108, 111, 113, 114, 118, 119, 120, 122, 125, 126, 127, 128, 129, 130, 131, 134, 135, 141, 143, 148, 150]\n"
     ]
    }
   ],
   "source": [
    "# and here we ask for the normal sonnet indices \n",
    "# of the ones which are still intact\n",
    "# we add 1 because Python indexes from 0 while Shakespeare does not\n",
    "good_indices = [i+1 for i, x in enumerate(sonnet_tallies) if 0 not in x]\n",
    "print(\"This many are still intact: \", len(good_indices))\n",
    "print(\"Their indices are: \", good_indices)\n",
    "# oh look, number 130."
   ]
  },
  {
   "cell_type": "code",
   "execution_count": 46,
   "metadata": {},
   "outputs": [
    {
     "name": "stdout",
     "output_type": "stream",
     "text": [
      "This many have one issue:  69\n",
      "Their indices are:  [2, 3, 4, 5, 6, 8, 10, 12, 14, 16, 18, 23, 26, 27, 28, 29, 32, 33, 35, 36, 37, 42, 44, 48, 50, 53, 54, 55, 56, 59, 60, 62, 63, 64, 67, 70, 71, 75, 76, 80, 81, 83, 84, 85, 89, 90, 91, 93, 95, 100, 101, 103, 106, 109, 110, 115, 117, 121, 124, 137, 138, 139, 140, 142, 144, 146, 149, 152, 153]\n"
     ]
    }
   ],
   "source": [
    "# which have one error?\n",
    "one_indices = [i+1 for i, x in enumerate(sonnet_tallies) if x.count(0)==1]\n",
    "print(\"This many have one issue: \", len(one_indices))\n",
    "print(\"Their indices are: \", one_indices)"
   ]
  },
  {
   "cell_type": "code",
   "execution_count": 47,
   "metadata": {},
   "outputs": [
    {
     "name": "stdout",
     "output_type": "stream",
     "text": [
      "This many have two issues:  28\n",
      "Their indices are:  [1, 13, 15, 19, 25, 30, 31, 34, 38, 39, 45, 46, 47, 52, 74, 78, 79, 86, 97, 102, 112, 123, 132, 133, 136, 145, 147, 151]\n"
     ]
    }
   ],
   "source": [
    "# which have two?\n",
    "twoindices = [i+1 for i, x in enumerate(sonnet_tallies) if x.count(0)==2]\n",
    "print(\"This many have two issues: \", len(twoindices))\n",
    "print(\"Their indices are: \", twoindices)\n",
    "# oh look, number 130."
   ]
  },
  {
   "cell_type": "code",
   "execution_count": 48,
   "metadata": {},
   "outputs": [
    {
     "name": "stdout",
     "output_type": "stream",
     "text": [
      "This many have three issues:  8\n",
      "Their indices are:  [7, 17, 61, 66, 94, 105, 107, 116]\n"
     ]
    }
   ],
   "source": [
    "# which have three?\n",
    "three_indices = [i+1 for i, x in enumerate(sonnet_tallies) if x.count(0)==3]\n",
    "print(\"This many have three issues: \", len(three_indices))\n",
    "print(\"Their indices are: \", three_indices)\n",
    "# oh look, number 130."
   ]
  },
  {
   "cell_type": "code",
   "execution_count": 49,
   "metadata": {},
   "outputs": [
    {
     "name": "stdout",
     "output_type": "stream",
     "text": [
      "This many have four issues:  3\n",
      "Their indices are:  [49, 72, 154]\n"
     ]
    }
   ],
   "source": [
    "# which have 4?\n",
    "four_indices = [i+1 for i, x in enumerate(sonnet_tallies) if x.count(0)==4]\n",
    "print(\"This many have four issues: \", len(four_indices))\n",
    "print(\"Their indices are: \", four_indices)\n",
    "# oh look, number 130."
   ]
  },
  {
   "cell_type": "code",
   "execution_count": 50,
   "metadata": {},
   "outputs": [
    {
     "name": "stdout",
     "output_type": "stream",
     "text": [
      "This many have five issues:  0\n",
      "Their indices are:  []\n"
     ]
    }
   ],
   "source": [
    "# and they cap out here: \n",
    "five_indices = [i+1 for i, x in enumerate(sonnet_tallies) if x.count(0)==5]\n",
    "print(\"This many have five issues: \", len(five_indices))\n",
    "print(\"Their indices are: \", five_indices)"
   ]
  },
  {
   "cell_type": "markdown",
   "metadata": {},
   "source": [
    "# Chapter III: The Rhymes"
   ]
  },
  {
   "cell_type": "code",
   "execution_count": 51,
   "metadata": {},
   "outputs": [],
   "source": [
    "# here we define a rhyme-sound-returning function: \n",
    "# it's possible we won't actually need this\n",
    "# unless we want to streamline code for a different corollary\n",
    "\n",
    "def rhyme_sound(word_a = 'move'):\n",
    "\n",
    "    # and this dictionary is case-sensitive so . . .\n",
    "    word_a = word_a.lower()\n",
    "    \n",
    "    # we try the first word\n",
    "    try:\n",
    "        syll_a = thedict[word_a]\n",
    "    except KeyError:\n",
    "        fix_a = 'thedict[\\'%s\\'] = thedict[\\'%s\\']' % (word_a, word_a)\n",
    "        print(fix_a)\n",
    "        return word_a\n",
    "    \n",
    "    # and what sound is it?\n",
    "    for pron_a in syll_a:\n",
    "        # english needs the final vowel sounds to match\n",
    "        # for a word to rhyme\n",
    "        # hence: \n",
    "        vowel = 0\n",
    "        jk = 1\n",
    "        # we search from the end of the word backwards\n",
    "        # looking for the final vowel sound\n",
    "        finalsound = \"\"\n",
    "        \n",
    "        while (vowel == 0):\n",
    "            finalsound = \" \".join(re.findall(\"[a-zA-Z]+\", pron_a[-jk])) + finalsound\n",
    "            if \" \".join(re.findall(\"[a-zA-Z]+\", pron_a[-jk])) in myvowels:\n",
    "                vowel = 1\n",
    "            else:\n",
    "                jk += 1\n",
    "                \n",
    "        \n",
    "        return finalsound"
   ]
  },
  {
   "cell_type": "code",
   "execution_count": 52,
   "metadata": {},
   "outputs": [
    {
     "name": "stdout",
     "output_type": "stream",
     "text": [
      "UWV\n",
      "AHV\n",
      "AHV\n",
      "AHV\n",
      "UWDH\n",
      "UWV\n",
      "EHD\n",
      "EHD\n",
      "EHD\n",
      "IYD\n",
      "EHD\n",
      "IYD\n"
     ]
    }
   ],
   "source": [
    "print(rhyme_sound('move'))\n",
    "print(rhyme_sound('love'))\n",
    "print(rhyme_sound('dove'))\n",
    "print(rhyme_sound('of'))\n",
    "print(rhyme_sound('smooth'))\n",
    "print(rhyme_sound('behoove'))\n",
    "print(rhyme_sound('read'))\n",
    "print(rhyme_sound('lead'))\n",
    "print(rhyme_sound('led'))\n",
    "print(rhyme_sound('mead'))\n",
    "print(rhyme_sound('said'))\n",
    "print(rhyme_sound('seed'))"
   ]
  },
  {
   "cell_type": "code",
   "execution_count": 53,
   "metadata": {},
   "outputs": [],
   "source": [
    "# here we define our rhyme-testing function: \n",
    "\n",
    "def test_rhyme_sound(word_a = 'move', word_b = 'love'):\n",
    "    # let's return a playfully named bool \n",
    "    orange = 0\n",
    "\n",
    "    # and this dictionary is case-sensitive so . . .\n",
    "    word_a = word_a.lower()\n",
    "    word_b = word_b.lower()\n",
    "    \n",
    "    # we try the first word\n",
    "    try:\n",
    "        syll_a = thedict[word_a]\n",
    "    except KeyError:\n",
    "        fix_a = 'thedict[\\'%s\\'] = thedict[\\'%s\\']' % (word_a, word_a)\n",
    "        print(fix_a)\n",
    "        return word_a\n",
    "    # we try the second word\n",
    "    try:\n",
    "        syll_b = thedict[word_b]\n",
    "    except KeyError:\n",
    "        fix_b = 'thedict[\\'%s\\'] = thedict[\\'%s\\']' % (word_b, word_b)\n",
    "        print(fix_b)\n",
    "        return word_b\n",
    "    \n",
    "    # do they rhyme?\n",
    "    for pron_a in syll_a:\n",
    "        # english needs the final vowel sounds to match\n",
    "        # for a word to rhyme\n",
    "        # hence: \n",
    "        vowel = 0\n",
    "        jk = 1\n",
    "        # we search from the end of the word backwards\n",
    "        # looking for the final vowel sound\n",
    "        while (vowel == 0):\n",
    "            if \" \".join(re.findall(\"[a-zA-Z]+\", pron_a[-jk])) in myvowels:\n",
    "                vowel = 1\n",
    "            else:\n",
    "                jk += 1\n",
    "        # and now we carry on\n",
    "        # looking for any homophonic ending that a and b share: \n",
    "        for pron_b in syll_b:\n",
    "            presumptive = 1\n",
    "            # and here we test each phoneme separately \n",
    "            # and set our sub-bool to false and break it if any one fails: \n",
    "            for i in range(jk):\n",
    "                myindex = i + 1\n",
    "                if (\" \".join(re.findall(\"[a-zA-Z]+\", pron_a[-myindex]))  != \" \".join(re.findall(\"[a-zA-Z]+\", pron_b[-myindex])) ):\n",
    "                    presumptive = 0\n",
    "                    break                   \n",
    "            if presumptive == 1:\n",
    "                orange = 1\n",
    "                finalsound = \"\"\n",
    "                vowel = 0\n",
    "                mn = 1\n",
    "                while (vowel == 0):\n",
    "                    finalsound = \" \".join(re.findall(\"[a-zA-Z]+\", pron_a[-mn])) + finalsound\n",
    "                    if \" \".join(re.findall(\"[a-zA-Z]+\", pron_a[-mn])) in myvowels:\n",
    "                        vowel = 1\n",
    "                    else:\n",
    "                        mn += 1\n",
    "                break\n",
    "    if orange == 0:\n",
    "        finalsound = \"\"\n",
    "        vowel = 0\n",
    "        mn = 1\n",
    "        while (vowel == 0):\n",
    "            finalsound = \" \".join(re.findall(\"[a-zA-Z]+\", pron_a[-mn])) + finalsound\n",
    "            if \" \".join(re.findall(\"[a-zA-Z]+\", pron_a[-mn])) in myvowels:\n",
    "                vowel = 1\n",
    "            else:\n",
    "                mn += 1\n",
    "    # and we return our bool and our sound\n",
    "    return orange, finalsound"
   ]
  },
  {
   "cell_type": "code",
   "execution_count": 54,
   "metadata": {},
   "outputs": [
    {
     "name": "stdout",
     "output_type": "stream",
     "text": [
      "(1, 'IYD')\n",
      "(1, 'EHD')\n",
      "(1, 'IYD')\n"
     ]
    }
   ],
   "source": [
    "# some test cases\n",
    "\n",
    "print(test_rhyme_sound('lead', 'read'))\n",
    "print(test_rhyme_sound('lead', 'bed'))\n",
    "print(test_rhyme_sound('mead', 'read'))"
   ]
  },
  {
   "cell_type": "code",
   "execution_count": 55,
   "metadata": {},
   "outputs": [
    {
     "name": "stdout",
     "output_type": "stream",
     "text": [
      "1\n",
      "IYD\n"
     ]
    }
   ],
   "source": [
    "# some more test cases \n",
    "\n",
    "dothey, thesound = test_rhyme_sound('lead', 'read')\n",
    "print(dothey)\n",
    "print(thesound)"
   ]
  },
  {
   "cell_type": "code",
   "execution_count": 56,
   "metadata": {},
   "outputs": [],
   "source": [
    "rhymingtuples=[]\n",
    "\n",
    "for i, sonnet in enumerate(sonnets_tokenized):\n",
    "    \n",
    "    #sonnet_rhymes=[]\n",
    "    \n",
    "    if len(sonnet) == 14:\n",
    "        for index in list(sonnet_dict.keys()):\n",
    "            word_a = sonnet[sonnet_dict[index]][-1]\n",
    "            word_b = sonnet[index][-1]\n",
    "            \n",
    "            dothey, thesound = test_rhyme_sound(word_a, word_b)\n",
    "            rhymingtuples.append([dothey, thesound, word_a, word_b])\n",
    "    elif len(sonnet) == 12:\n",
    "        for index in list(dozen_dict.keys()):\n",
    "\n",
    "            word_a = sonnet[dozen_dict[index]][-1]\n",
    "            word_b = sonnet[index][-1]\n",
    "            dothey, thesound = test_rhyme_sound(word_a, word_b)\n",
    "            rhymingtuples.append([dothey, thesound, word_a, word_b])\n",
    "\n",
    "    elif len(sonnet) == 15:\n",
    "        for index in list(nena_dict.keys()):\n",
    "\n",
    "            word_a = sonnet[nena_dict[index]][-1]\n",
    "            word_b = sonnet[index][-1]\n",
    "            dothey, thesound = test_rhyme_sound(word_a, word_b)\n",
    "            rhymingtuples.append([dothey, thesound, word_a, word_b])\n",
    "    else:\n",
    "        print(\"Huh!!\", i, sonnet)\n",
    "        "
   ]
  },
  {
   "cell_type": "code",
   "execution_count": 57,
   "metadata": {},
   "outputs": [
    {
     "name": "stdout",
     "output_type": "stream",
     "text": [
      "1078\n"
     ]
    }
   ],
   "source": [
    "print(len(rhymingtuples))"
   ]
  },
  {
   "cell_type": "code",
   "execution_count": 58,
   "metadata": {},
   "outputs": [
    {
     "data": {
      "text/plain": [
       "[[1, 'IYS', 'decease', 'increase'],\n",
       " [0, 'IY', 'memory', 'die'],\n",
       " [1, 'AYZ', 'lies', 'eyes'],\n",
       " [1, 'UWL', 'cruel', 'fuel'],\n",
       " [0, 'EHNT', 'content', 'ornament']]"
      ]
     },
     "execution_count": 58,
     "metadata": {},
     "output_type": "execute_result"
    }
   ],
   "source": [
    "rhymingtuples[:5]"
   ]
  },
  {
   "cell_type": "code",
   "execution_count": 59,
   "metadata": {},
   "outputs": [
    {
     "data": {
      "text/plain": [
       "['IYS', 'IY', 'AYZ', 'UWL', 'EHNT']"
      ]
     },
     "execution_count": 59,
     "metadata": {},
     "output_type": "execute_result"
    }
   ],
   "source": [
    "rhymingsounds = [x[1] for x in rhymingtuples]\n",
    "rhymingsounds[:5]"
   ]
  },
  {
   "cell_type": "code",
   "execution_count": 60,
   "metadata": {},
   "outputs": [],
   "source": [
    "rhymesoundsfreq = Counter(rhymingsounds)\n",
    "#rhymesoundsfreq"
   ]
  },
  {
   "cell_type": "code",
   "execution_count": 61,
   "metadata": {},
   "outputs": [
    {
     "data": {
      "text/plain": [
       "194"
      ]
     },
     "execution_count": 61,
     "metadata": {},
     "output_type": "execute_result"
    }
   ],
   "source": [
    "len(rhymesoundsfreq.items())"
   ]
  },
  {
   "cell_type": "code",
   "execution_count": 62,
   "metadata": {},
   "outputs": [
    {
     "data": {
      "text/plain": [
       "[('IY', 98),\n",
       " ('AYT', 39),\n",
       " ('EY', 34),\n",
       " ('ER', 31),\n",
       " ('OW', 28),\n",
       " ('UW', 25),\n",
       " ('IHNG', 24),\n",
       " ('EHR', 23),\n",
       " ('IHL', 22),\n",
       " ('AART', 21),\n",
       " ('EYT', 20),\n",
       " ('EHST', 20),\n",
       " ('AYD', 19),\n",
       " ('AHN', 18),\n",
       " ('OWN', 17),\n",
       " ('AYND', 16),\n",
       " ('EHND', 15),\n",
       " ('AYZ', 14),\n",
       " ('AYM', 14),\n",
       " ('EYN', 14),\n",
       " ('EYS', 13),\n",
       " ('AY', 13),\n",
       " ('AOR', 13),\n",
       " ('EHL', 12),\n",
       " ('AW', 11),\n",
       " ('OWLD', 11),\n",
       " ('EHNT', 10),\n",
       " ('EYZ', 10),\n",
       " ('AYN', 10),\n",
       " ('EYM', 9),\n",
       " ('EHD', 9),\n",
       " ('IHR', 9),\n",
       " ('UWM', 8),\n",
       " ('IHT', 8),\n",
       " ('UWV', 8),\n",
       " ('AONG', 8),\n",
       " ('IHD', 8),\n",
       " ('UWZ', 7),\n",
       " ('IHV', 7),\n",
       " ('EYK', 7),\n",
       " ('EHNS', 7),\n",
       " ('OWZ', 7),\n",
       " ('EHN', 7),\n",
       " ('EYD', 7),\n",
       " ('ERS', 7),\n",
       " ('IYN', 7),\n",
       " ('AEND', 7),\n",
       " ('IHZ', 6),\n",
       " ('EYJH', 6),\n",
       " ('IYD', 6),\n",
       " ('EYST', 6),\n",
       " ('AHV', 6),\n",
       " ('IYDZ', 6),\n",
       " ('UWTH', 6),\n",
       " ('IYS', 5),\n",
       " ('AYF', 5),\n",
       " ('EHKT', 5),\n",
       " ('AOT', 5),\n",
       " ('AORT', 5),\n",
       " ('AOL', 5),\n",
       " ('UHK', 5),\n",
       " ('AHS', 5),\n",
       " ('AWND', 5),\n",
       " ('AORN', 5),\n",
       " ('AAT', 5),\n",
       " ('ERD', 5),\n",
       " ('AHST', 4),\n",
       " ('AOZ', 4),\n",
       " ('IYT', 4),\n",
       " ('IYP', 4),\n",
       " ('IHN', 4),\n",
       " ('IYF', 4),\n",
       " ('AOS', 4),\n",
       " ('IHS', 4),\n",
       " ('AED', 4),\n",
       " ('IYM', 4),\n",
       " ('AEK', 4),\n",
       " ('EYNJH', 4),\n",
       " ('AON', 3),\n",
       " ('IYV', 3),\n",
       " ('IHTS', 3),\n",
       " ('AHNT', 3),\n",
       " ('AHD', 3),\n",
       " ('AHNG', 3),\n",
       " ('EHTH', 3),\n",
       " ('OWST', 3),\n",
       " ('UHRD', 3),\n",
       " ('EHT', 3),\n",
       " ('EHNTS', 3),\n",
       " ('AWT', 3),\n",
       " ('ERTH', 3),\n",
       " ('AHNS', 3),\n",
       " ('OWT', 3),\n",
       " ('EHS', 3),\n",
       " ('AHL', 3),\n",
       " ('IYZ', 3),\n",
       " ('UWL', 2),\n",
       " ('EHLD', 2),\n",
       " ('IHJH', 2),\n",
       " ('AAR', 2),\n",
       " ('AWNDZ', 2),\n",
       " ('AYV', 2),\n",
       " ('ERZ', 2),\n",
       " ('AARTS', 2),\n",
       " ('OWP', 2),\n",
       " ('IHNGZ', 2),\n",
       " ('IYK', 2),\n",
       " ('EYV', 2),\n",
       " ('AYLD', 2),\n",
       " ('EYNZ', 2),\n",
       " ('IHST', 2),\n",
       " ('UWT', 2),\n",
       " ('AORDZ', 2),\n",
       " ('IYMD', 2),\n",
       " ('OWL', 2),\n",
       " ('AECH', 2),\n",
       " ('AYNDZ', 2),\n",
       " ('IYKS', 2),\n",
       " ('IHRZ', 2),\n",
       " ('AOST', 2),\n",
       " ('EHFT', 1),\n",
       " ('IHLD', 1),\n",
       " ('OY', 1),\n",
       " ('IHSH', 1),\n",
       " ('IYVZ', 1),\n",
       " ('IHRD', 1),\n",
       " ('AHK', 1),\n",
       " ('ERT', 1),\n",
       " ('AYNZ', 1),\n",
       " ('IHMD', 1),\n",
       " ('IYTS', 1),\n",
       " ('EHMZ', 1),\n",
       " ('AARZ', 1),\n",
       " ('OYLD', 1),\n",
       " ('UWVD', 1),\n",
       " ('AYRD', 1),\n",
       " ('IYST', 1),\n",
       " ('OWK', 1),\n",
       " ('AYST', 1),\n",
       " ('AORTH', 1),\n",
       " ('EYLD', 1),\n",
       " ('AHND', 1),\n",
       " ('AHM', 1),\n",
       " ('EHKTS', 1),\n",
       " ('ERN', 1),\n",
       " ('AWR', 1),\n",
       " ('EHK', 1),\n",
       " ('AWNT', 1),\n",
       " ('EYZD', 1),\n",
       " ('AHLD', 1),\n",
       " ('AARJHD', 1),\n",
       " ('AENG', 1),\n",
       " ('AYR', 1),\n",
       " ('AYL', 1),\n",
       " ('AORD', 1),\n",
       " ('AYZD', 1),\n",
       " ('UWZD', 1),\n",
       " ('IHSHT', 1),\n",
       " ('AOLT', 1),\n",
       " ('AORS', 1),\n",
       " ('AONGZ', 1),\n",
       " ('EHJH', 1),\n",
       " ('IHM', 1),\n",
       " ('EHLZ', 1),\n",
       " ('OWTH', 1),\n",
       " ('EHNDZ', 1),\n",
       " ('IHKST', 1),\n",
       " ('ERND', 1),\n",
       " ('IYVD', 1),\n",
       " ('AYTS', 1),\n",
       " ('AYBZ', 1),\n",
       " ('AHT', 1),\n",
       " ('EYNJHD', 1),\n",
       " ('EYND', 1),\n",
       " ('UWD', 1),\n",
       " ('IHNGK', 1),\n",
       " ('AHP', 1),\n",
       " ('AARK', 1),\n",
       " ('AHVD', 1),\n",
       " ('AWN', 1),\n",
       " ('ERJH', 1),\n",
       " ('IYL', 1),\n",
       " ('AOLZ', 1),\n",
       " ('IHK', 1),\n",
       " ('OWS', 1),\n",
       " ('IHPS', 1),\n",
       " ('AARD', 1),\n",
       " ('EYL', 1),\n",
       " ('UHKS', 1),\n",
       " ('AEN', 1),\n",
       " ('IYND', 1),\n",
       " ('EHPT', 1),\n",
       " ('UHR', 1),\n",
       " ('AARMD', 1)]"
      ]
     },
     "execution_count": 62,
     "metadata": {},
     "output_type": "execute_result"
    }
   ],
   "source": [
    "sorted(rhymesoundsfreq.items(), key=lambda pair: pair[1], reverse=True)"
   ]
  },
  {
   "cell_type": "code",
   "execution_count": 63,
   "metadata": {},
   "outputs": [
    {
     "data": {
      "text/plain": [
       "194"
      ]
     },
     "execution_count": 63,
     "metadata": {},
     "output_type": "execute_result"
    }
   ],
   "source": [
    "# how many different/unique rhyming sounds appear?\n",
    "len(rhymesoundsfreq.items())"
   ]
  },
  {
   "cell_type": "code",
   "execution_count": 64,
   "metadata": {},
   "outputs": [
    {
     "data": {
      "text/plain": [
       "2.0"
      ]
     },
     "execution_count": 64,
     "metadata": {},
     "output_type": "execute_result"
    }
   ],
   "source": [
    "# what is the median number of times\n",
    "# that a rhyming sound gets used?\n",
    "\n",
    "all_tallies = [x[1] for x in rhymesoundsfreq.items()]\n",
    "statistics.median(all_tallies)"
   ]
  },
  {
   "cell_type": "code",
   "execution_count": 65,
   "metadata": {},
   "outputs": [
    {
     "data": {
      "text/plain": [
       "[('IY', 98),\n",
       " ('AYT', 39),\n",
       " ('EY', 34),\n",
       " ('ER', 31),\n",
       " ('OW', 28),\n",
       " ('UW', 25),\n",
       " ('IHNG', 24),\n",
       " ('EHR', 23),\n",
       " ('IHL', 22),\n",
       " ('AART', 21)]"
      ]
     },
     "execution_count": 65,
     "metadata": {},
     "output_type": "execute_result"
    }
   ],
   "source": [
    "# so which sounds are the most common? \n",
    "\n",
    "common_sounds = rhymesoundsfreq.most_common(20)\n",
    "common_sounds[:10]"
   ]
  },
  {
   "cell_type": "code",
   "execution_count": 66,
   "metadata": {},
   "outputs": [
    {
     "name": "stdout",
     "output_type": "stream",
     "text": [
      "['IY', 'AYT', 'EY', 'ER', 'OW', 'UW', 'IHNG', 'EHR', 'IHL', 'AART', 'EYT', 'EHST', 'AYD', 'AHN', 'OWN', 'AYND', 'EHND', 'AYZ', 'AYM', 'EYN']\n",
      "[98, 39, 34, 31, 28, 25, 24, 23, 22, 21, 20, 20, 19, 18, 17, 16, 15, 14, 14, 14]\n"
     ]
    }
   ],
   "source": [
    "# we separate the halves of our list of tuples\n",
    "# for easy use in a plot\n",
    "\n",
    "cs_labels = [x[0] for x in common_sounds]\n",
    "cs_tallies = [x[1] for x in common_sounds]\n",
    "print(cs_labels)\n",
    "print(cs_tallies)"
   ]
  },
  {
   "cell_type": "code",
   "execution_count": 67,
   "metadata": {},
   "outputs": [
    {
     "name": "stdout",
     "output_type": "stream",
     "text": [
      "1078\n",
      "And we expect approximately  1078\n"
     ]
    }
   ],
   "source": [
    "print(sum([x[1] for x in rhymesoundsfreq.items()]))\n",
    "print(\"And we expect approximately \", 7*154)"
   ]
  },
  {
   "cell_type": "code",
   "execution_count": 68,
   "metadata": {},
   "outputs": [
    {
     "data": {
      "image/png": "[encoded data removed]",
      "text/plain": [
       "<Figure size 432x288 with 1 Axes>"
      ]
     },
     "metadata": {
      "needs_background": "light"
     },
     "output_type": "display_data"
    },
    {
     "data": {
      "text/plain": [
       "<Figure size 1200x1000 with 0 Axes>"
      ]
     },
     "metadata": {},
     "output_type": "display_data"
    }
   ],
   "source": [
    "fig = plt.figure()\n",
    "ax = fig.add_axes([0,0,1,1])\n",
    "\n",
    "ax.bar(cs_labels,cs_tallies)\n",
    "plt.xticks(rotation=45)\n",
    "\n",
    "ax = sns.barplot(y= cs_tallies, x = cs_labels, palette=(\"Blues_d\"))\n",
    "\n",
    "# set the labels\n",
    "ax.set_title('Prevalence of Top 20 Sounds in Sonnet Rhymes')\n",
    "ax.set_ylabel('Number of Appearances')\n",
    "ax.set_xlabel('Phonics')\n",
    "\n",
    "figure(num=None, figsize=(12, 10), dpi=100, facecolor='w', edgecolor='k')\n",
    "\n",
    "plt.show()"
   ]
  },
  {
   "cell_type": "code",
   "execution_count": 69,
   "metadata": {},
   "outputs": [
    {
     "data": {
      "image/png": "[encoded data removed]",
      "text/plain": [
       "<Figure size 432x288 with 1 Axes>"
      ]
     },
     "metadata": {
      "needs_background": "light"
     },
     "output_type": "display_data"
    },
    {
     "data": {
      "text/plain": [
       "<Figure size 1200x1000 with 0 Axes>"
      ]
     },
     "metadata": {},
     "output_type": "display_data"
    }
   ],
   "source": [
    "fig = plt.figure()\n",
    "#ax = fig.add_axes([0,0,1,1])\n",
    "\n",
    "ax.bar(cs_labels,cs_tallies)\n",
    "plt.xticks(rotation=45)\n",
    "cs_percentz = [100*x/len(rhymingtuples) for x in cs_tallies]\n",
    "ax = sns.barplot(y = cs_percentz, x = cs_labels, palette=(\"Blues_d\"))\n",
    "\n",
    "# set the labels\n",
    "ax.set_title('Prevalence of Top 20 Sounds in Sonnet Rhymes')\n",
    "ax.set_ylabel('Percent of Appearances')\n",
    "ax.set_xlabel('Phonics')\n",
    "\n",
    "figure(num=None, figsize=(12, 10), dpi=100, facecolor='w', edgecolor='k')\n",
    "\n",
    "plt.show()"
   ]
  },
  {
   "cell_type": "markdown",
   "metadata": {},
   "source": [
    "# Chapter IV: Word Frequencies"
   ]
  },
  {
   "cell_type": "code",
   "execution_count": 70,
   "metadata": {},
   "outputs": [
    {
     "data": {
      "text/plain": [
       "['decease',\n",
       " 'increase',\n",
       " 'memory',\n",
       " 'die',\n",
       " 'lies',\n",
       " 'eyes',\n",
       " 'cruel',\n",
       " 'fuel',\n",
       " 'content',\n",
       " 'ornament',\n",
       " 'niggarding',\n",
       " 'spring',\n",
       " 'thee',\n",
       " 'be',\n",
       " 'now',\n",
       " 'brow',\n",
       " 'held',\n",
       " 'field',\n",
       " 'eyes',\n",
       " 'lies']"
      ]
     },
     "execution_count": 70,
     "metadata": {},
     "output_type": "execute_result"
    }
   ],
   "source": [
    "# so let's just look at the words: \n",
    "rhymedpairs = [x[2:] for x in rhymingtuples]\n",
    "# and let's consider all the words together,\n",
    "# how often they appear: \n",
    "rhymedwords = [t for sublist in rhymedpairs for t in sublist]\n",
    "rhymedwords[:20]"
   ]
  },
  {
   "cell_type": "code",
   "execution_count": 71,
   "metadata": {},
   "outputs": [
    {
     "name": "stdout",
     "output_type": "stream",
     "text": [
      "2156\n"
     ]
    }
   ],
   "source": [
    "print(len(rhymedwords))"
   ]
  },
  {
   "cell_type": "code",
   "execution_count": 72,
   "metadata": {},
   "outputs": [
    {
     "data": {
      "text/plain": [
       "[('thee', 48),\n",
       " ('me', 33),\n",
       " ('be', 22),\n",
       " ('heart', 17),\n",
       " ('sight', 16),\n",
       " ('eyes', 14),\n",
       " ('time', 14),\n",
       " ('love', 14),\n",
       " ('alone', 12),\n",
       " ('away', 12),\n",
       " ('night', 12),\n",
       " ('you', 12),\n",
       " ('still', 11),\n",
       " ('day', 11),\n",
       " ('so', 11),\n",
       " ('part', 11),\n",
       " ('days', 10),\n",
       " ('art', 10),\n",
       " ('will', 10),\n",
       " ('state', 10),\n",
       " ('lie', 10),\n",
       " ('show', 10)]"
      ]
     },
     "execution_count": 72,
     "metadata": {},
     "output_type": "execute_result"
    }
   ],
   "source": [
    "wordsfreq = Counter(rhymedwords)\n",
    "sortedwordsfreq = sorted(wordsfreq.items(), key=lambda pair: pair[1], reverse=True)\n",
    "sortedwordslots = [x for x in sortedwordsfreq if x[1] > 9]\n",
    "sortedwordslots"
   ]
  },
  {
   "cell_type": "code",
   "execution_count": 73,
   "metadata": {},
   "outputs": [
    {
     "name": "stdout",
     "output_type": "stream",
     "text": [
      "['thee', 'me', 'be', 'heart', 'sight', 'eyes', 'time', 'love', 'alone', 'away', 'night', 'you', 'still', 'day', 'so', 'part', 'days', 'art', 'will', 'state', 'lie', 'show']\n",
      "[48, 33, 22, 17, 16, 14, 14, 14, 12, 12, 12, 12, 11, 11, 11, 11, 10, 10, 10, 10, 10, 10]\n"
     ]
    }
   ],
   "source": [
    "swf_labels = [x[0] for x in sortedwordslots]\n",
    "swf_tallies = [x[1] for x in sortedwordslots]\n",
    "print(swf_labels)\n",
    "print(swf_tallies)"
   ]
  },
  {
   "cell_type": "code",
   "execution_count": 75,
   "metadata": {},
   "outputs": [
    {
     "data": {
      "image/png": "[encoded data removed]",
      "text/plain": [
       "<Figure size 432x288 with 1 Axes>"
      ]
     },
     "metadata": {
      "needs_background": "light"
     },
     "output_type": "display_data"
    },
    {
     "data": {
      "text/plain": [
       "<Figure size 1200x1000 with 0 Axes>"
      ]
     },
     "metadata": {},
     "output_type": "display_data"
    }
   ],
   "source": [
    "fig = plt.figure()\n",
    "ax = fig.add_axes([0,0,1,1])\n",
    "ax.bar(swf_labels,swf_tallies)\n",
    "plt.xticks(rotation=45)\n",
    "\n",
    "#expplt = sns.cubehelix_palette(start=8, rot=0, dark=0, light=.95, reverse=True, as_cmap=True)\n",
    "expplt = sns.light_palette(\"indigo\", as_cmap=True, reverse = True)\n",
    "plt.cm.register_cmap(\"mycolormap\", expplt)\n",
    "cpal = sns.color_palette(\"mycolormap\", n_colors=len(swf_labels))\n",
    "ax = sns.barplot(y= swf_tallies, x = swf_labels, palette=cpal)\n",
    "\n",
    "# set the labels\n",
    "ax.set_title('Prevalence of Words That Most Frequently End Lines/Rhyme')\n",
    "ax.set_ylabel('Number of Appearances')\n",
    "ax.set_xlabel('Words')\n",
    "\n",
    "figure(num=None, figsize=(12, 10), dpi=100, facecolor='w', edgecolor='k')\n",
    "\n",
    "plt.show()"
   ]
  },
  {
   "cell_type": "code",
   "execution_count": 76,
   "metadata": {},
   "outputs": [
    {
     "name": "stdout",
     "output_type": "stream",
     "text": [
      "How many *different* words did he use to end lines?\n",
      "1024\n",
      "And what was the median usage of such words?\n",
      "1.0\n"
     ]
    }
   ],
   "source": [
    "print(\"How many *different* words did he use to end lines?\")\n",
    "print(len(wordsfreq.keys()))\n",
    "\n",
    "print(\"And what was the median usage of such words?\")\n",
    "word_tallies = [x[1] for x in wordsfreq.items()]\n",
    "print(statistics.median(word_tallies))"
   ]
  },
  {
   "cell_type": "code",
   "execution_count": 77,
   "metadata": {},
   "outputs": [
    {
     "name": "stdout",
     "output_type": "stream",
     "text": [
      "So how many are used exactly once to end a line?\n",
      "673\n",
      "Out of how many unique line-ending words, again?\n",
      "1024\n",
      "So what % is that?\n",
      "0.6572265625\n"
     ]
    }
   ],
   "source": [
    "print(\"So how many are used exactly once to end a line?\")\n",
    "print(len([x[1] for x in sortedwordsfreq if x[1] == 1]))\n",
    "print(\"Out of how many unique line-ending words, again?\")\n",
    "print(len(sortedwordsfreq))\n",
    "print(\"So what % is that?\")\n",
    "print((len([x[1] for x in sortedwordsfreq if x[1] == 1]))/len(sortedwordsfreq))"
   ]
  },
  {
   "cell_type": "markdown",
   "metadata": {},
   "source": [
    "# Chapter V: Contingency Analysis \n",
    "Demonstrating \"If you’re wondering whether final couplets happened to fare better or worse than any of the quatrains, generally, the answer is: not really. Within the sonnets, the now-slant rhymes show up fairly “vertically” spread out between the three quatrains and the final couplet. Across the collection, 15% of rhymes now fail while 85% still work; grouping all the rhymes attempted in those four categories we find “success rates” between 82% and 88%, variation readily explained by random chance.\""
   ]
  },
  {
   "cell_type": "markdown",
   "metadata": {},
   "source": [
    "We eliminate the two irregular sonnets from our  analysis."
   ]
  },
  {
   "cell_type": "code",
   "execution_count": 78,
   "metadata": {},
   "outputs": [
    {
     "name": "stdout",
     "output_type": "stream",
     "text": [
      "14\n",
      "14\n"
     ]
    }
   ],
   "source": [
    "normal_tokenized = sonnets_tokenized\n",
    "normal_tokenized.pop(125)\n",
    "normal_tokenized.pop(98)\n",
    "# and double check that it worked: \n",
    "print(max([len(x) for x in normal_tokenized]))\n",
    "print(min([len(x) for x in normal_tokenized]))"
   ]
  },
  {
   "cell_type": "markdown",
   "metadata": {},
   "source": [
    "### Couplets: "
   ]
  },
  {
   "cell_type": "code",
   "execution_count": 79,
   "metadata": {},
   "outputs": [
    {
     "data": {
      "text/plain": [
       "[[['pity', 'the', 'world', 'or', 'else', 'this', 'glutton', 'be'],\n",
       "  ['to', 'eat', 'the', 'worlds', 'due', 'by', 'the', 'grave', 'and', 'thee']],\n",
       " [['this', 'were', 'to', 'be', 'new', 'made', 'when', 'thou', 'art', 'old'],\n",
       "  ['and',\n",
       "   'see',\n",
       "   'thy',\n",
       "   'blood',\n",
       "   'warm',\n",
       "   'when',\n",
       "   'thou',\n",
       "   'feelst',\n",
       "   'it',\n",
       "   'cold']],\n",
       " [['but', 'if', 'thou', 'live', 'rememberd', 'not', 'to', 'be'],\n",
       "  ['die', 'single', 'and', 'thine', 'image', 'dies', 'with', 'thee']],\n",
       " [['thy', 'unused', 'beauty', 'must', 'be', 'tombd', 'with', 'thee'],\n",
       "  ['which', 'used', 'lives', 'th', 'executor', 'to', 'be']],\n",
       " [['but', 'flowers', 'distilled', 'though', 'they', 'with', 'winter', 'meet'],\n",
       "  ['leese',\n",
       "   'but',\n",
       "   'their',\n",
       "   'show',\n",
       "   'their',\n",
       "   'substance',\n",
       "   'still',\n",
       "   'lives',\n",
       "   'sweet']]]"
      ]
     },
     "execution_count": 79,
     "metadata": {},
     "output_type": "execute_result"
    }
   ],
   "source": [
    "couplet_tokens = [x[-2:] for x in normal_tokenized]\n",
    "couplet_tokens[:5]"
   ]
  },
  {
   "cell_type": "code",
   "execution_count": 80,
   "metadata": {},
   "outputs": [],
   "source": [
    "# and we look for the pairs of lines\n",
    "# that don't rhyme\n",
    "couplet_rhymes = []\n",
    "couplet_anomalies=[]\n",
    "for i, couplet in enumerate(couplet_tokens):\n",
    "\n",
    "    word_a = couplet[0][-1]\n",
    "    word_b = couplet[1][-1]\n",
    "    dothey = test_rhyme(word_a, word_b)\n",
    "    # we note whether a pair rhymes or not\n",
    "    couplet_rhymes.append(dothey)\n",
    "    if dothey == 0:\n",
    "        # and if not, append the info to the anomalies\n",
    "        couplet_anomalies.append([i, word_a, word_b])"
   ]
  },
  {
   "cell_type": "code",
   "execution_count": 81,
   "metadata": {},
   "outputs": [
    {
     "data": {
      "text/plain": [
       "[[6, 'noon', 'son'],\n",
       " [18, 'wrong', 'young'],\n",
       " [24, 'beloved', 'removed'],\n",
       " [31, 'prove', 'love'],\n",
       " [33, 'sheds', 'deeds'],\n",
       " [41, 'one', 'alone'],\n",
       " [60, 'elsewhere', 'near'],\n",
       " [65, 'gone', 'alone'],\n",
       " [70, 'moan', 'gone'],\n",
       " [71, 'forth', 'worth'],\n",
       " [77, 'advance', 'ignorance'],\n",
       " [94, 'privilege', 'edge'],\n",
       " [100, 'tongue', 'song'],\n",
       " [103, 'alone', 'one'],\n",
       " [105, 'monument', 'spent'],\n",
       " [114, 'proved', 'loved'],\n",
       " [115, 'prove', 'love'],\n",
       " [134, 'erred', 'transferred'],\n",
       " [151, 'prove', 'love']]"
      ]
     },
     "execution_count": 81,
     "metadata": {},
     "output_type": "execute_result"
    }
   ],
   "source": [
    "couplet_anomalies"
   ]
  },
  {
   "cell_type": "code",
   "execution_count": 82,
   "metadata": {},
   "outputs": [
    {
     "data": {
      "text/plain": [
       "0.125"
      ]
     },
     "execution_count": 82,
     "metadata": {},
     "output_type": "execute_result"
    }
   ],
   "source": [
    "1 - sum(couplet_rhymes)/len(couplet_rhymes)"
   ]
  },
  {
   "cell_type": "markdown",
   "metadata": {},
   "source": [
    "### Q1"
   ]
  },
  {
   "cell_type": "code",
   "execution_count": 83,
   "metadata": {},
   "outputs": [
    {
     "data": {
      "text/plain": [
       "[[['from', 'fairest', 'creatures', 'we', 'desire', 'increase'],\n",
       "  ['that', 'thereby', 'beautys', 'rose', 'might', 'never', 'die'],\n",
       "  ['but', 'as', 'the', 'riper', 'should', 'by', 'time', 'decease'],\n",
       "  ['his', 'tender', 'heir', 'might', 'bear', 'his', 'memory']],\n",
       " [['when', 'forty', 'winters', 'shall', 'beseige', 'thy', 'brow'],\n",
       "  ['and', 'dig', 'deep', 'trenches', 'in', 'thy', 'beautys', 'field'],\n",
       "  ['thy', 'youths', 'proud', 'livery', 'so', 'gazed', 'on', 'now'],\n",
       "  ['will', 'be', 'a', 'tatterd', 'weed', 'of', 'small', 'worth', 'held']],\n",
       " [['look',\n",
       "   'in',\n",
       "   'thy',\n",
       "   'glass',\n",
       "   'and',\n",
       "   'tell',\n",
       "   'the',\n",
       "   'face',\n",
       "   'thou',\n",
       "   'viewest'],\n",
       "  ['now', 'is', 'the', 'time', 'that', 'face', 'should', 'form', 'another'],\n",
       "  ['whose', 'fresh', 'repair', 'if', 'now', 'thou', 'not', 'renewest'],\n",
       "  ['thou', 'dost', 'beguile', 'the', 'world', 'unbless', 'some', 'mother']],\n",
       " [['unthrifty', 'loveliness', 'why', 'dost', 'thou', 'spend'],\n",
       "  ['upon', 'thyself', 'thy', 'beautys', 'legacy'],\n",
       "  ['natures', 'bequest', 'gives', 'nothing', 'but', 'doth', 'lend'],\n",
       "  ['and', 'being', 'frank', 'she', 'lends', 'to', 'those', 'are', 'free']],\n",
       " [['those', 'hours', 'that', 'with', 'gentle', 'work', 'did', 'frame'],\n",
       "  ['the', 'lovely', 'gaze', 'where', 'every', 'eye', 'doth', 'dwell'],\n",
       "  ['will', 'play', 'the', 'tyrants', 'to', 'the', 'very', 'same'],\n",
       "  ['and', 'that', 'unfair', 'which', 'fairly', 'doth', 'excel']]]"
      ]
     },
     "execution_count": 83,
     "metadata": {},
     "output_type": "execute_result"
    }
   ],
   "source": [
    "qone_tokens = [x[:4] for x in normal_tokenized]\n",
    "qone_tokens[:5]"
   ]
  },
  {
   "cell_type": "code",
   "execution_count": 84,
   "metadata": {},
   "outputs": [],
   "source": [
    "# and we look for the pairs of lines\n",
    "# that don't rhyme\n",
    "qone_rhymes = []\n",
    "qone_anomalies=[]\n",
    "for i, couplet in enumerate(qone_tokens):\n",
    "\n",
    "    word_a = couplet[0][-1]\n",
    "    word_b = couplet[1][-1]\n",
    "    word_c = couplet[2][-1]\n",
    "    word_d = couplet[3][-1]\n",
    "    dothey = test_rhyme(word_a, word_c)\n",
    "    dothey2 = test_rhyme(word_b, word_d)\n",
    "    # we note whether a pair rhymes or not\n",
    "    qone_rhymes.append(dothey)\n",
    "    qone_rhymes.append(dothey2)\n",
    "    if dothey == 0:\n",
    "        # and if not, append the info to the anomalies\n",
    "        qone_anomalies.append([i, word_a, word_c])\n",
    "    if dothey2 == 0:\n",
    "        # and if not, append the info to the anomalies\n",
    "        qone_anomalies.append([i, word_b, word_d])"
   ]
  },
  {
   "cell_type": "code",
   "execution_count": 85,
   "metadata": {},
   "outputs": [
    {
     "data": {
      "text/plain": [
       "[[0, 'die', 'memory'],\n",
       " [1, 'field', 'held'],\n",
       " [2, 'viewest', 'renewest'],\n",
       " [6, 'eye', 'majesty'],\n",
       " [12, 'are', 'prepare'],\n",
       " [14, 'moment', 'comment'],\n",
       " [16, 'come', 'tomb'],\n",
       " [16, 'deserts', 'parts'],\n",
       " [17, 'temperate', 'date'],\n",
       " [18, 'brood', 'blood'],\n",
       " [25, 'vassalage', 'embassage'],\n",
       " [26, 'tired', 'expired'],\n",
       " [29, 'past', 'waste'],\n",
       " [30, 'dead', 'buried'],\n",
       " [32, 'eye', 'alchemy'],\n",
       " [35, 'one', 'alone'],\n",
       " [37, 'invent', 'excellent'],\n",
       " [45, 'war', 'bar'],\n",
       " [51, 'key', 'survey'],\n",
       " [54, 'monuments', 'contents'],\n",
       " [55, 'said', 'allayd'],\n",
       " [58, 'is', 'amiss'],\n",
       " [61, 'eye', 'remedy'],\n",
       " [63, 'defaced', 'down-razed'],\n",
       " [65, 'cry', 'jollity'],\n",
       " [66, 'live', 'achieve'],\n",
       " [71, 'love', 'prove'],\n",
       " [73, 'arrest', 'interest'],\n",
       " [93, 'none', 'stone'],\n",
       " [96, 'been', 'seen'],\n",
       " [96, 'year', 'where'],\n",
       " [100, 'appear', 'where'],\n",
       " [101, 'forth', 'worth'],\n",
       " [105, 'come', 'doom'],\n",
       " [108, 'there', 'dear'],\n",
       " [114, 'love', 'remove'],\n",
       " [133, 'near', 'there'],\n",
       " [135, 'lies', 'subtleties'],\n",
       " [136, 'wrong', 'tongue'],\n",
       " [148, 'is', 'amiss'],\n",
       " [148, 'love', 'prove']]"
      ]
     },
     "execution_count": 85,
     "metadata": {},
     "output_type": "execute_result"
    }
   ],
   "source": [
    "qone_anomalies"
   ]
  },
  {
   "cell_type": "code",
   "execution_count": 86,
   "metadata": {},
   "outputs": [
    {
     "data": {
      "text/plain": [
       "0.13486842105263153"
      ]
     },
     "execution_count": 86,
     "metadata": {},
     "output_type": "execute_result"
    }
   ],
   "source": [
    "1 - sum(qone_rhymes)/len(qone_rhymes)"
   ]
  },
  {
   "cell_type": "markdown",
   "metadata": {},
   "source": [
    "### Q2"
   ]
  },
  {
   "cell_type": "code",
   "execution_count": 87,
   "metadata": {},
   "outputs": [
    {
     "data": {
      "text/plain": [
       "[[['but', 'thou', 'contracted', 'to', 'thine', 'own', 'bright', 'eyes'],\n",
       "  ['feedst', 'thy', 'lightst', 'flame', 'with', 'self-substantial', 'fuel'],\n",
       "  ['making', 'a', 'famine', 'where', 'abundance', 'lies'],\n",
       "  ['thyself', 'thy', 'foe', 'to', 'thy', 'sweet', 'self', 'too', 'cruel']],\n",
       " [['then', 'being', 'askd', 'where', 'all', 'thy', 'beauty', 'lies'],\n",
       "  ['where', 'all', 'the', 'treasure', 'of', 'thy', 'lusty', 'days'],\n",
       "  ['to', 'say', 'within', 'thine', 'own', 'deep-sunken', 'eyes'],\n",
       "  ['were', 'an', 'all-eating', 'shame', 'and', 'thriftless', 'praise']],\n",
       " [['for', 'where', 'is', 'she', 'so', 'fair', 'whose', 'uneard', 'womb'],\n",
       "  ['disdains', 'the', 'tillage', 'of', 'thy', 'husbandry'],\n",
       "  ['or', 'who', 'is', 'he', 'so', 'fond', 'will', 'be', 'the', 'tomb'],\n",
       "  ['of', 'his', 'self-love', 'to', 'stop', 'posterity']],\n",
       " [['then', 'beauteous', 'niggard', 'why', 'dost', 'thou', 'abuse'],\n",
       "  ['the', 'bounteous', 'largess', 'given', 'thee', 'to', 'give'],\n",
       "  ['profitless', 'usurer', 'why', 'dost', 'thou', 'use'],\n",
       "  ['so', 'great', 'a', 'sum', 'of', 'sums', 'yet', 'canst', 'not', 'live']],\n",
       " [['for', 'never-resting', 'time', 'leads', 'summer', 'on'],\n",
       "  ['to', 'hideous', 'winter', 'and', 'confounds', 'him', 'there'],\n",
       "  ['sap',\n",
       "   'chequed',\n",
       "   'with',\n",
       "   'frost',\n",
       "   'and',\n",
       "   'lusty',\n",
       "   'leaves',\n",
       "   'quite',\n",
       "   'gone'],\n",
       "  ['beauty', 'oersnowd', 'and', 'bareness', 'every', 'where']]]"
      ]
     },
     "execution_count": 87,
     "metadata": {},
     "output_type": "execute_result"
    }
   ],
   "source": [
    "qtwo_tokens = [x[4:8] for x in normal_tokenized]\n",
    "qtwo_tokens[:5]"
   ]
  },
  {
   "cell_type": "code",
   "execution_count": 88,
   "metadata": {},
   "outputs": [],
   "source": [
    "# and we look for the pairs of lines\n",
    "# that don't rhyme\n",
    "qtwo_rhymes = []\n",
    "qtwo_anomalies=[]\n",
    "for i, couplet in enumerate(qtwo_tokens):\n",
    "\n",
    "    word_a = couplet[0][-1]\n",
    "    word_b = couplet[1][-1]\n",
    "    word_c = couplet[2][-1]\n",
    "    word_d = couplet[3][-1]\n",
    "    dothey = test_rhyme(word_a, word_c)\n",
    "    dothey2 = test_rhyme(word_b, word_d)\n",
    "    # we note whether a pair rhymes or not\n",
    "    qtwo_rhymes.append(dothey)\n",
    "    qtwo_rhymes.append(dothey2)\n",
    "    if dothey == 0:\n",
    "        # and if not, append the info to the anomalies\n",
    "        qtwo_anomalies.append([i, word_a, word_c])\n",
    "    if dothey2 == 0:\n",
    "        # and if not, append the info to the anomalies\n",
    "        qtwo_anomalies.append([i, word_b, word_d])"
   ]
  },
  {
   "cell_type": "code",
   "execution_count": 89,
   "metadata": {},
   "outputs": [
    {
     "data": {
      "text/plain": [
       "[[5, 'loan', 'one'],\n",
       " [6, 'age', 'pilgrimage'],\n",
       " [7, 'ear', 'bear'],\n",
       " [11, 'herd', 'beard'],\n",
       " [12, 'were', 'bear'],\n",
       " [14, 'sky', 'memory'],\n",
       " [15, 'unset', 'counterfeit'],\n",
       " [24, 'spread', 'buried'],\n",
       " [28, 'possessed', 'least'],\n",
       " [33, 'break', 'speak'],\n",
       " [34, 'compare', 'are'],\n",
       " [38, 'one', 'alone'],\n",
       " [44, 'gone', 'alone'],\n",
       " [46, 'feast', 'guest'],\n",
       " [47, 'are', 'care'],\n",
       " [48, 'pass', 'was'],\n",
       " [48, 'eye', 'gravity'],\n",
       " [51, 'rare', 'are'],\n",
       " [52, 'counterfeit', 'set'],\n",
       " [53, 'dye', 'wantonly'],\n",
       " [60, 'pry', 'jealousy'],\n",
       " [65, 'strumpeted', 'disabled'],\n",
       " [69, 'approve', 'love'],\n",
       " [71, 'desert', 'impart'],\n",
       " [74, 'anon', 'alone'],\n",
       " [77, 'fly', 'majesty'],\n",
       " [78, 'argument', 'invent'],\n",
       " [79, 'bear', 'appear'],\n",
       " [80, 'have', 'grave'],\n",
       " [84, 'words', 'affords'],\n",
       " [85, 'dead', 'astonished'],\n",
       " [92, 'eye', 'history'],\n",
       " [93, 'expense', 'excellence'],\n",
       " [98, 'spent', 'argument'],\n",
       " [105, 'presage', 'age'],\n",
       " [110, 'tongue', 'wrong'],\n",
       " [113, 'accidents', 'intents'],\n",
       " [119, 'blood', 'good'],\n",
       " [121, 'admire', 'desire'],\n",
       " [122, 'accident', 'discontent'],\n",
       " [129, 'heaven', 'even'],\n",
       " [129, 'east', 'west'],\n",
       " [130, 'engrossed', 'crossed'],\n",
       " [133, 'love', 'prove'],\n",
       " [137, 'were', 'near'],\n",
       " [139, 'ornaments', 'rents'],\n",
       " [142, 'come', 'doom'],\n",
       " [143, 'lease', 'excess'],\n",
       " [144, 'love', 'approve'],\n",
       " [146, 'upon', 'moan'],\n",
       " [149, 'most', 'lost'],\n",
       " [150, 'love', 'prove'],\n",
       " [151, 'warmed', 'disarmed']]"
      ]
     },
     "execution_count": 89,
     "metadata": {},
     "output_type": "execute_result"
    }
   ],
   "source": [
    "qtwo_anomalies"
   ]
  },
  {
   "cell_type": "code",
   "execution_count": 90,
   "metadata": {},
   "outputs": [
    {
     "data": {
      "text/plain": [
       "0.17434210526315785"
      ]
     },
     "execution_count": 90,
     "metadata": {},
     "output_type": "execute_result"
    }
   ],
   "source": [
    "1 - sum(qtwo_rhymes)/len(qtwo_rhymes)"
   ]
  },
  {
   "cell_type": "markdown",
   "metadata": {},
   "source": [
    "### Q3"
   ]
  },
  {
   "cell_type": "code",
   "execution_count": 91,
   "metadata": {},
   "outputs": [
    {
     "data": {
      "text/plain": [
       "[[['thou', 'that', 'art', 'now', 'the', 'worlds', 'fresh', 'ornament'],\n",
       "  ['and', 'only', 'herald', 'to', 'the', 'gaudy', 'spring'],\n",
       "  ['within', 'thine', 'own', 'bud', 'buriest', 'thy', 'content'],\n",
       "  ['and', 'tender', 'churl', 'makest', 'waste', 'in', 'niggarding']],\n",
       " [['how', 'much', 'more', 'praise', 'deserved', 'thy', 'beautys', 'use'],\n",
       "  ['if', 'thou', 'couldst', 'answer', 'this', 'fair', 'child', 'of', 'mine'],\n",
       "  ['shall', 'sum', 'my', 'count', 'and', 'make', 'my', 'old', 'excuse'],\n",
       "  ['proving', 'his', 'beauty', 'by', 'succession', 'thine']],\n",
       " [['thou', 'art', 'thy', 'mothers', 'glass', 'and', 'she', 'in', 'thee'],\n",
       "  ['calls', 'back', 'the', 'lovely', 'april', 'of', 'her', 'prime'],\n",
       "  ['so', 'thou', 'through', 'windows', 'of', 'thine', 'age', 'shall', 'see'],\n",
       "  ['despite', 'of', 'wrinkles', 'this', 'thy', 'golden', 'time']],\n",
       " [['for', 'having', 'traffic', 'with', 'thyself', 'alone'],\n",
       "  ['thou', 'of', 'thyself', 'thy', 'sweet', 'self', 'dost', 'deceive'],\n",
       "  ['then', 'how', 'when', 'nature', 'calls', 'thee', 'to', 'be', 'gone'],\n",
       "  ['what', 'acceptable', 'audit', 'canst', 'thou', 'leave']],\n",
       " [['then', 'were', 'not', 'summers', 'distillation', 'left'],\n",
       "  ['a', 'liquid', 'prisoner', 'pent', 'in', 'walls', 'of', 'glass'],\n",
       "  ['beautys', 'effect', 'with', 'beauty', 'were', 'bereft'],\n",
       "  ['nor', 'it', 'nor', 'no', 'remembrance', 'what', 'it', 'was']]]"
      ]
     },
     "execution_count": 91,
     "metadata": {},
     "output_type": "execute_result"
    }
   ],
   "source": [
    "qthr_tokens = [x[8:12] for x in normal_tokenized]\n",
    "qthr_tokens[:5]"
   ]
  },
  {
   "cell_type": "code",
   "execution_count": 92,
   "metadata": {},
   "outputs": [],
   "source": [
    "# and we look for the pairs of lines\n",
    "# that don't rhyme\n",
    "qthr_rhymes = []\n",
    "qthr_anomalies=[]\n",
    "for i, couplet in enumerate(qthr_tokens):\n",
    "\n",
    "    word_a = couplet[0][-1]\n",
    "    word_b = couplet[1][-1]\n",
    "    word_c = couplet[2][-1]\n",
    "    word_d = couplet[3][-1]\n",
    "    dothey = test_rhyme(word_a, word_c)\n",
    "    dothey2 = test_rhyme(word_b, word_d)\n",
    "    # we note whether a pair rhymes or not\n",
    "    qthr_rhymes.append(dothey)\n",
    "    qthr_rhymes.append(dothey2)\n",
    "    if dothey == 0:\n",
    "        # and if not, append the info to the anomalies\n",
    "        qthr_anomalies.append([i, word_a, word_c])\n",
    "    if dothey2 == 0:\n",
    "        # and if not, append the info to the anomalies\n",
    "        qthr_anomalies.append([i, word_b, word_d])"
   ]
  },
  {
   "cell_type": "code",
   "execution_count": 93,
   "metadata": {},
   "outputs": [
    {
     "data": {
      "text/plain": [
       "[[0, 'ornament', 'content'],\n",
       " [3, 'alone', 'gone'],\n",
       " [4, 'glass', 'was'],\n",
       " [9, 'love', 'prove'],\n",
       " [13, 'art', 'convert'],\n",
       " [16, 'tongue', 'song'],\n",
       " [22, 'eloquence', 'recompense'],\n",
       " [27, 'heaven', 'even'],\n",
       " [29, 'foregone', 'moan'],\n",
       " [30, 'gone', 'alone'],\n",
       " [36, 'despised', 'sufficed'],\n",
       " [37, 'worth', 'forth'],\n",
       " [38, 'prove', 'love'],\n",
       " [43, 'gone', 'moan'],\n",
       " [44, 'recured', 'assured'],\n",
       " [45, 'impanneled', 'determined'],\n",
       " [46, 'love', 'move'],\n",
       " [48, 'here', 'uprear'],\n",
       " [48, 'desert', 'part'],\n",
       " [49, 'on', 'groan'],\n",
       " [59, 'brow', 'mow'],\n",
       " [60, 'great', 'defeat'],\n",
       " [62, 'fortify', 'memory'],\n",
       " [71, 'this', 'is'],\n",
       " [73, 'dead', 'remembered'],\n",
       " [75, 'argument', 'spent'],\n",
       " [78, 'word', 'afford'],\n",
       " [82, 'dumb', 'tomb'],\n",
       " [83, 'clear', 'where'],\n",
       " [85, 'intelligence', 'thence'],\n",
       " [88, 'tongue', 'wrong'],\n",
       " [89, 'last', 'taste'],\n",
       " [90, 'cost', 'boast'],\n",
       " [93, 'die', 'dignity'],\n",
       " [99, 'dumb', 'tomb'],\n",
       " [103, 'argument', 'spent'],\n",
       " [103, 'words', 'affords'],\n",
       " [104, 'prophecies', 'eyes'],\n",
       " [107, 'blood', 'good'],\n",
       " [110, 'care', 'are'],\n",
       " [114, 'come', 'doom'],\n",
       " [121, 'past', 'haste'],\n",
       " [130, 'ward', 'guard'],\n",
       " [141, 'fiend', 'friend'],\n",
       " [142, 'end', 'fiend'],\n",
       " [144, 'care', 'are'],\n",
       " [151, 'by', 'remedy'],\n",
       " [151, 'perpetual', 'thrall']]"
      ]
     },
     "execution_count": 93,
     "metadata": {},
     "output_type": "execute_result"
    }
   ],
   "source": [
    "qthr_anomalies"
   ]
  },
  {
   "cell_type": "code",
   "execution_count": 94,
   "metadata": {},
   "outputs": [
    {
     "data": {
      "text/plain": [
       "0.1578947368421053"
      ]
     },
     "execution_count": 94,
     "metadata": {},
     "output_type": "execute_result"
    }
   ],
   "source": [
    "1 - sum(qthr_rhymes)/len(qthr_rhymes)"
   ]
  },
  {
   "cell_type": "code",
   "execution_count": 95,
   "metadata": {},
   "outputs": [
    {
     "data": {
      "text/plain": [
       "0.8486842105263158"
      ]
     },
     "execution_count": 95,
     "metadata": {},
     "output_type": "execute_result"
    }
   ],
   "source": [
    "genstat = (sum(couplet_rhymes) + sum(qone_rhymes) + sum(qtwo_rhymes) + sum(qthr_rhymes)) / (len(couplet_rhymes) + len(qone_rhymes) + len(qtwo_rhymes) + len(qthr_rhymes))\n",
    "genstat"
   ]
  },
  {
   "cell_type": "code",
   "execution_count": 96,
   "metadata": {},
   "outputs": [
    {
     "data": {
      "text/plain": [
       "[133, 263, 251, 256]"
      ]
     },
     "execution_count": 96,
     "metadata": {},
     "output_type": "execute_result"
    }
   ],
   "source": [
    "theobsvs = [sum(couplet_rhymes), sum(qone_rhymes), sum(qtwo_rhymes), sum(qthr_rhymes)]\n",
    "theobsvs"
   ]
  },
  {
   "cell_type": "code",
   "execution_count": 97,
   "metadata": {},
   "outputs": [
    {
     "data": {
      "text/plain": [
       "[129.0, 258.0, 258.0, 258.0]"
      ]
     },
     "execution_count": 97,
     "metadata": {},
     "output_type": "execute_result"
    }
   ],
   "source": [
    "totals = [len(couplet_rhymes), len(qone_rhymes), len(qtwo_rhymes), len(qthr_rhymes)]\n",
    "expected = [genstat *  x for x in totals]\n",
    "expected"
   ]
  },
  {
   "cell_type": "code",
   "execution_count": 98,
   "metadata": {},
   "outputs": [
    {
     "data": {
      "text/plain": [
       "Power_divergenceResult(statistic=0.4263565891472868, pvalue=0.9347456052794686)"
      ]
     },
     "execution_count": 98,
     "metadata": {},
     "output_type": "execute_result"
    }
   ],
   "source": [
    "chisquare(theobsvs, expected)"
   ]
  },
  {
   "cell_type": "code",
   "execution_count": 99,
   "metadata": {},
   "outputs": [
    {
     "data": {
      "text/plain": [
       "[0.875, 0.8651315789473685, 0.8256578947368421, 0.8421052631578947]"
      ]
     },
     "execution_count": 99,
     "metadata": {},
     "output_type": "execute_result"
    }
   ],
   "source": [
    "stuff = [couplet_rhymes, qone_rhymes, qtwo_rhymes, qthr_rhymes]\n",
    "success = [sum(x)/len(x) for x in stuff]\n",
    "success"
   ]
  },
  {
   "cell_type": "code",
   "execution_count": null,
   "metadata": {},
   "outputs": [],
   "source": []
  },
  {
   "cell_type": "code",
   "execution_count": null,
   "metadata": {},
   "outputs": [],
   "source": []
  },
  {
   "cell_type": "code",
   "execution_count": null,
   "metadata": {},
   "outputs": [],
   "source": []
  }
 ],
 "metadata": {
  "kernelspec": {
   "display_name": "Python 3",
   "language": "python",
   "name": "python3"
  },
  "language_info": {
   "codemirror_mode": {
    "name": "ipython",
    "version": 3
   },
   "file_extension": ".py",
   "mimetype": "text/x-python",
   "name": "python",
   "nbconvert_exporter": "python",
   "pygments_lexer": "ipython3",
   "version": "3.8.5"
  }
 },
 "nbformat": 4,
 "nbformat_minor": 4
}
